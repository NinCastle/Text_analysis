{
 "cells": [
  {
   "cell_type": "markdown",
   "metadata": {},
   "source": [
    "https://ratsgo.github.io/machine%20learning/2017/04/08/apriori/  \n",
    "https://hackability.kr/entry/Data-Mining-12-Apriori-Algorithm-Frequent-Itemset  \n",
    "https://hamait.tistory.com/743  \n",
    "https://ordo.tistory.com/89  \n",
    "https://ordo.tistory.com/93  \n",
    "하기 내용은 상기 링크들을 정리한것"
   ]
  },
  {
   "cell_type": "markdown",
   "metadata": {},
   "source": [
    "# Apriori(어프라이어) algorithm"
   ]
  },
  {
   "cell_type": "markdown",
   "metadata": {},
   "source": [
    "## 알고리즘 개요 및 예제 데이터"
   ]
  },
  {
   "cell_type": "markdown",
   "metadata": {},
   "source": [
    "연관규칙분석이란 어떤 두 아이템 집합이 빈번히 발생하는가를 알려주는 일련의 규칙들을 생성하는 알고리즘이다.   \n",
    "상품판매에 대한 예를 이용하여 설명한다.  \n",
    "  \n",
    "|ID|item|\n",
    "|---|---|\n",
    "|1|달걀, 라면, 참치캔|\n",
    "|2|라면, 햇반|\n",
    "|3|라면, 콜라|\n",
    "|4|달걀, 라면, 햇반|\n",
    "|5|달걀, 콜라|\n",
    "|6|라면, 콜라|\n",
    "|7|라면, 햇반|\n",
    "|8|달걀, 라면, 콜라, 참치캔|\n",
    "|9|달걀, 라면, 콜라|\n",
    "|10|양파|"
   ]
  },
  {
   "cell_type": "markdown",
   "metadata": {},
   "source": [
    "위의 판매 표를 희소행렬(sprase matrix, 대부분의 값이 0의 값을 갖는 행렬)로 변환한다.  \n",
    "  \n",
    "|ID|달걀|라면|참치캔|햇반|콜라|양파|\n",
    "|---|---|---|---|---|---|---|\n",
    "|1|1|1|1|0|0|0|\n",
    "|2|0|1|0|0|1|0|\n",
    "|3|0|1|0|0|0|1|\n",
    "|4|1|1|0|0|1|0|\n",
    "|5|1|0|0|0|0|1|\n",
    "|6|0|1|0|0|0|1|\n",
    "|7|0|1|0|0|1|0|\n",
    "|8|1|1|1|0|0|1|\n",
    "|9|1|1|0|0|0|1|\n",
    "|10|0|0|0|0|0|1|"
   ]
  },
  {
   "cell_type": "markdown",
   "metadata": {},
   "source": [
    "## 규칙 및 규칙의 효용성 지표  \n",
    "\n",
    "이제 생성된 데이터를 가지고 규칙을 생성한다.  \n",
    "* 규칙(Example)\n",
    "> 첫번째 고객의 데이터만을 이용하였을 경우  \n",
    "    * 달걀을 구매하는 사람은 라면도 함께 산다,  \n",
    "    * 달걀과 라면을 사먹는 사람은 참치캔도 산다,  \n",
    "    * 참치캔을 구매하는 사람은 계란도 함께 산다.\n",
    "    \n",
    "* 용어정의  \n",
    "조건절(Antcedent)는 위 예시의 규칙에서 '만일~라면'에 해당하는 부분이다.  \n",
    "결과절(Conseqent)는 그 뒷부분에 해당하는 내용이다. \n",
    "아이템 집합(Item set)이란 조건절 또는 결과절을 구성하는 아이템들의 집합이다.  \n"
   ]
  },
  {
   "cell_type": "markdown",
   "metadata": {},
   "source": [
    "그렇다면 어떤 규칙이 가장 좋은 규칙인지를 알려주는 지표를 알아야 하며 내용은 다음과 같다.\n",
    "* 지지도(Support)  \n",
    "* 신뢰도(confidence)\n",
    "* 향상도(lift)   \n",
    "  \n",
    "가 있다."
   ]
  },
  {
   "cell_type": "markdown",
   "metadata": {},
   "source": [
    "**빈발 아이템 집합을 판별할 때 사용**하는 '지지도'는 아래와 같이 '조건절이 일어날 확률'로 정의한다.\n",
    "$$\n",
    "For\\;\\;the\\;\\;rule\\;\\;A\\;\\;\\rightarrow\\;\\;B,\\\\\n",
    "support(A) = P(A)\n",
    "$$"
   ]
  },
  {
   "cell_type": "markdown",
   "metadata": {},
   "source": [
    "**아이템 집합 간의 연관성 강도를 측정하는 데 사용**되는 '신뢰도'는 아래와 같이 조건절이 주어졌을 때 결과절이 일어날 조건부확률로 정의한다.  \n",
    "$$\n",
    "confidence(A\\rightarrow B) = \\frac{P(A, B)}{P(A)}\n",
    "$$"
   ]
  },
  {
   "cell_type": "markdown",
   "metadata": {},
   "source": [
    "**생성된 규칙이 실제 효용가치가 있는지를 판별**하는데 사용되는 '향상도'는 아래와 같이 조건절과 결과절이 서로 독립일때와 비교해 두 사건이 동시에 얼마나 발생하는지 비율로 나타낸다.  \n",
    "$$\n",
    "lift(A \\rightarrow B) = \\frac{P(A, B)}{P(A) \\cdot P(B)}\n",
    "$$"
   ]
  },
  {
   "cell_type": "markdown",
   "metadata": {},
   "source": [
    "즉, 향상도가 1이 라면 조건절과 결과절은 서로 독립임을 뜻하며, 규칙 사이에 유의미한 연관성이 없다는 것으로 받아드리면 된다.  \n",
    "향상도가 2라면 두 사건이 독립이라는 것을 가정했을 경우에 비해 2배 긍정적인 연관관계를 나타낸다는 뜻이다.  \n",
    "  \n",
    "규칙의 효용성은 지지도, 신뢰도, 향상도 세 가지를 모두 반영해 평가하게 된다.  \n",
    "임의의 규칙1이 규칙2보다 효과적인 규칙이라는 이야기를 하려면 세 지표 모두 큰 경우에만 긍정할 수 있다."
   ]
  },
  {
   "cell_type": "markdown",
   "metadata": {},
   "source": [
    "## 규칙생성"
   ]
  },
  {
   "cell_type": "markdown",
   "metadata": {},
   "source": [
    "규칙을 생성할 경우 가능한 모든 경우의 수를 탐색하여 지지도, 신뢰도, 향상도가 높은 규칙들을 찾아내는 방식이 가장 이상적이다.  \n",
    "하지만 아이템 수가 증가할 수록 계산에 소요되는 시간이 기하급수적으로 증가하게되며,  \n",
    "아이템이 n개일 떄 탐색해야할 모든 경우의수 $n \\times (n-1)$이기 때문에 빈발집합(frequent item sets)만을 고려하여 연관 규칙을 생성하는 A priori algorithm이 제안되었다.   \n",
    "  \n",
    "핵심 아이디어는 다음과 같다.  \n",
    "예를들어 아이템 집합 $\\{A\\}$의 지지도, 즉 $P(A) = 0.1$로 나타났다고 가정했을때\n",
    "* $\\{A, B\\}$와 $\\{A, B, C\\}$의 지지도는 아무리 높아도 $0.1$을 넘지 못한다."
   ]
  },
  {
   "cell_type": "code",
   "execution_count": null,
   "metadata": {},
   "outputs": [],
   "source": []
  }
 ],
 "metadata": {
  "kernelspec": {
   "display_name": "text3.5",
   "language": "python",
   "name": "text3.5"
  },
  "language_info": {
   "codemirror_mode": {
    "name": "ipython",
    "version": 3
   },
   "file_extension": ".py",
   "mimetype": "text/x-python",
   "name": "python",
   "nbconvert_exporter": "python",
   "pygments_lexer": "ipython3",
   "version": "3.5.6"
  }
 },
 "nbformat": 4,
 "nbformat_minor": 2
}
