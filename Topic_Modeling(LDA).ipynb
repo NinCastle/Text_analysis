{
 "cells": [
  {
   "cell_type": "markdown",
   "metadata": {},
   "source": [
    "[ratsgo's blog](https://ratsgo.github.io/from%20frequency%20to%20semantics/2017/06/01/LDA/)  \n",
    "[EnGear](http://www.engear.net/wp/topic-modeling-gensimpython/)  \n",
    "[컴언-Ngram](http://blog.ilkyu.kr/entry/%EC%96%B8%EC%96%B4-%EB%AA%A8%EB%8D%B8%EB%A7%81-ngram)  \n",
    "[LOVIT x DATA SCIENCE-lemmatization](https://lovit.github.io/nlp/2018/06/07/lemmatizer/)  \n",
    "하기 내용은 상기 링크를 정리한것."
   ]
  },
  {
   "cell_type": "markdown",
   "metadata": {},
   "source": [
    "# Topic Modeling(Latent dirichlet Allocation)"
   ]
  },
  {
   "cell_type": "code",
   "execution_count": 1,
   "metadata": {},
   "outputs": [
    {
     "name": "stdout",
     "output_type": "stream",
     "text": [
      "[nltk_data] Downloading package stopwords to C:\\Users\\Andrew\\AppData\\L\n",
      "[nltk_data]     ocal\\conda\\conda\\envs\\text3.5\\nltk_data...\n",
      "[nltk_data]   Package stopwords is already up-to-date!\n"
     ]
    },
    {
     "data": {
      "text/plain": [
       "True"
      ]
     },
     "execution_count": 1,
     "metadata": {},
     "output_type": "execute_result"
    }
   ],
   "source": [
    "import nltk; nltk.download('stopwords')"
   ]
  },
  {
   "cell_type": "code",
   "execution_count": 2,
   "metadata": {},
   "outputs": [],
   "source": [
    "# !python -m spacy download en"
   ]
  },
  {
   "cell_type": "code",
   "execution_count": 1,
   "metadata": {},
   "outputs": [],
   "source": [
    "import re\n",
    "import numpy as np\n",
    "import pandas as pd\n",
    "from pprint import pprint"
   ]
  },
  {
   "cell_type": "code",
   "execution_count": 2,
   "metadata": {},
   "outputs": [
    {
     "name": "stderr",
     "output_type": "stream",
     "text": [
      "C:\\Users\\Andrew\\AppData\\Local\\conda\\conda\\envs\\text3.5\\lib\\site-packages\\gensim\\utils.py:1197: UserWarning: detected Windows; aliasing chunkize to chunkize_serial\n",
      "  warnings.warn(\"detected Windows; aliasing chunkize to chunkize_serial\")\n"
     ]
    }
   ],
   "source": [
    "# gensim\n",
    "import gensim\n",
    "import gensim.corpora as corpora\n",
    "from gensim.utils import simple_preprocess\n",
    "from gensim.models import CoherenceModel\n",
    "\n",
    "# spacy for lemmatization\n",
    "import spacy\n",
    "\n",
    "# Plotting tools\n",
    "import pyLDAvis\n",
    "import pyLDAvis.gensim # don't skip this\n",
    "import matplotlib.pyplot as plt\n",
    "\n",
    "%matplotlib inline\n",
    "\n",
    "# Enable logging for gensim - optional\n",
    "import logging\n",
    "logging.basicConfig(format='%(asctime)s : %(levelname)s : %(message)s', level = logging.ERROR)\n",
    "\n",
    "import warnings\n",
    "warnings.filterwarnings(\"ignore\", category=DeprecationWarning)"
   ]
  },
  {
   "cell_type": "code",
   "execution_count": 3,
   "metadata": {},
   "outputs": [],
   "source": [
    "# 불용단어 로딩\n",
    "# NLTK stop words\n",
    "from nltk.corpus import stopwords\n",
    "stop_words = stopwords.words('english')\n",
    "stop_words.extend(['from', 'subject', 're', 'edu', 'use'])"
   ]
  },
  {
   "cell_type": "code",
   "execution_count": 4,
   "metadata": {},
   "outputs": [
    {
     "name": "stdout",
     "output_type": "stream",
     "text": [
      "['rec.autos' 'comp.sys.mac.hardware' 'rec.motorcycles' 'misc.forsale'\n",
      " 'comp.os.ms-windows.misc' 'alt.atheism' 'comp.graphics'\n",
      " 'rec.sport.baseball' 'rec.sport.hockey' 'sci.electronics' 'sci.space'\n",
      " 'talk.politics.misc' 'sci.med' 'talk.politics.mideast'\n",
      " 'soc.religion.christian' 'comp.windows.x' 'comp.sys.ibm.pc.hardware'\n",
      " 'talk.politics.guns' 'talk.religion.misc' 'sci.crypt']\n"
     ]
    },
    {
     "data": {
      "text/html": [
       "<div>\n",
       "<style scoped>\n",
       "    .dataframe tbody tr th:only-of-type {\n",
       "        vertical-align: middle;\n",
       "    }\n",
       "\n",
       "    .dataframe tbody tr th {\n",
       "        vertical-align: top;\n",
       "    }\n",
       "\n",
       "    .dataframe thead th {\n",
       "        text-align: right;\n",
       "    }\n",
       "</style>\n",
       "<table border=\"1\" class=\"dataframe\">\n",
       "  <thead>\n",
       "    <tr style=\"text-align: right;\">\n",
       "      <th></th>\n",
       "      <th>content</th>\n",
       "      <th>target</th>\n",
       "      <th>target_names</th>\n",
       "    </tr>\n",
       "  </thead>\n",
       "  <tbody>\n",
       "    <tr>\n",
       "      <th>9995</th>\n",
       "      <td>From: sanjay@kin.lap.upenn.edu (Sanjay Sinha)\\...</td>\n",
       "      <td>8</td>\n",
       "      <td>rec.motorcycles</td>\n",
       "    </tr>\n",
       "    <tr>\n",
       "      <th>9996</th>\n",
       "      <td>Organization: Central Michigan University\\nFro...</td>\n",
       "      <td>7</td>\n",
       "      <td>rec.autos</td>\n",
       "    </tr>\n",
       "    <tr>\n",
       "      <th>9997</th>\n",
       "      <td>From: cr292@cleveland.Freenet.Edu (Jim Schenk)...</td>\n",
       "      <td>10</td>\n",
       "      <td>rec.sport.hockey</td>\n",
       "    </tr>\n",
       "    <tr>\n",
       "      <th>9998</th>\n",
       "      <td>From: wbdst+@pitt.edu (William B Dwinnell)\\nSu...</td>\n",
       "      <td>1</td>\n",
       "      <td>comp.graphics</td>\n",
       "    </tr>\n",
       "    <tr>\n",
       "      <th>9999</th>\n",
       "      <td>From: ehung@ampex.com (Eric Hung)\\nSubject: Re...</td>\n",
       "      <td>3</td>\n",
       "      <td>comp.sys.ibm.pc.hardware</td>\n",
       "    </tr>\n",
       "  </tbody>\n",
       "</table>\n",
       "</div>"
      ],
      "text/plain": [
       "                                                content  target  \\\n",
       "9995  From: sanjay@kin.lap.upenn.edu (Sanjay Sinha)\\...       8   \n",
       "9996  Organization: Central Michigan University\\nFro...       7   \n",
       "9997  From: cr292@cleveland.Freenet.Edu (Jim Schenk)...      10   \n",
       "9998  From: wbdst+@pitt.edu (William B Dwinnell)\\nSu...       1   \n",
       "9999  From: ehung@ampex.com (Eric Hung)\\nSubject: Re...       3   \n",
       "\n",
       "                  target_names  \n",
       "9995           rec.motorcycles  \n",
       "9996                 rec.autos  \n",
       "9997          rec.sport.hockey  \n",
       "9998             comp.graphics  \n",
       "9999  comp.sys.ibm.pc.hardware  "
      ]
     },
     "execution_count": 4,
     "metadata": {},
     "output_type": "execute_result"
    }
   ],
   "source": [
    "df = pd.read_json('https://raw.githubusercontent.com/selva86/datasets/master/newsgroups.json')\n",
    "print(df.target_names.unique())\n",
    "df.tail()"
   ]
  },
  {
   "cell_type": "code",
   "execution_count": 5,
   "metadata": {
    "scrolled": false
   },
   "outputs": [
    {
     "name": "stdout",
     "output_type": "stream",
     "text": [
      "['From: (wheres my thing) Subject: WHAT car is this!? Nntp-Posting-Host: '\n",
      " 'rac3.wam.umd.edu Organization: University of Maryland, College Park Lines: '\n",
      " '15 I was wondering if anyone out there could enlighten me on this car I saw '\n",
      " 'the other day. It was a 2-door sports car, looked to be from the late 60s/ '\n",
      " 'early 70s. It was called a Bricklin. The doors were really small. In '\n",
      " 'addition, the front bumper was separate from the rest of the body. This is '\n",
      " 'all I know. If anyone can tellme a model name, engine specs, years of '\n",
      " 'production, where this car is made, history, or whatever info you have on '\n",
      " 'this funky looking car, please e-mail. Thanks, - IL ---- brought to you by '\n",
      " 'your neighborhood Lerxst ---- ']\n"
     ]
    }
   ],
   "source": [
    "# Convert to list\n",
    "data = df.content.values.tolist()\n",
    "# type(data)\n",
    "# Remove Emails\n",
    "data = [re.sub('\\S*@\\S*\\s?', '', sent) for sent in data]\n",
    "\n",
    "# Remove new line characters(공백제거)\n",
    "data = [re.sub('\\s+', ' ', sent) for sent in data]\n",
    "\n",
    "# Remove distracting single quotes\n",
    "data = [re.sub(\"\\'\", \"\", sent) for sent in data]\n",
    "\n",
    "pprint(data[:1])"
   ]
  },
  {
   "cell_type": "markdown",
   "metadata": {},
   "source": [
    "## 단어 토큰화(형태소 분할)"
   ]
  },
  {
   "cell_type": "code",
   "execution_count": 6,
   "metadata": {},
   "outputs": [
    {
     "name": "stdout",
     "output_type": "stream",
     "text": [
      "[['from', 'wheres', 'my', 'thing', 'subject', 'what', 'car', 'is', 'this', 'nntp', 'posting', 'host', 'rac', 'wam', 'umd', 'edu', 'organization', 'university', 'of', 'maryland', 'college', 'park', 'lines', 'was', 'wondering', 'if', 'anyone', 'out', 'there', 'could', 'enlighten', 'me', 'on', 'this', 'car', 'saw', 'the', 'other', 'day', 'it', 'was', 'door', 'sports', 'car', 'looked', 'to', 'be', 'from', 'the', 'late', 'early', 'it', 'was', 'called', 'bricklin', 'the', 'doors', 'were', 'really', 'small', 'in', 'addition', 'the', 'front', 'bumper', 'was', 'separate', 'from', 'the', 'rest', 'of', 'the', 'body', 'this', 'is', 'all', 'know', 'if', 'anyone', 'can', 'tellme', 'model', 'name', 'engine', 'specs', 'years', 'of', 'production', 'where', 'this', 'car', 'is', 'made', 'history', 'or', 'whatever', 'info', 'you', 'have', 'on', 'this', 'funky', 'looking', 'car', 'please', 'mail', 'thanks', 'il', 'brought', 'to', 'you', 'by', 'your', 'neighborhood', 'lerxst']]\n"
     ]
    }
   ],
   "source": [
    "def sent_to_words(sentences):\n",
    "    for sentence in sentences:\n",
    "        yield(gensim.utils.simple_preprocess(str(sentence), deacc=True)) # deacc = True removes punctuations\n",
    "\n",
    "data_words = list(sent_to_words(data))\n",
    "\n",
    "print(data_words[:1])"
   ]
  },
  {
   "cell_type": "markdown",
   "metadata": {},
   "source": [
    "## Bigram과 Trigram모델 만들기"
   ]
  },
  {
   "cell_type": "code",
   "execution_count": 7,
   "metadata": {},
   "outputs": [
    {
     "name": "stderr",
     "output_type": "stream",
     "text": [
      "C:\\Users\\Andrew\\AppData\\Local\\conda\\conda\\envs\\text3.5\\lib\\site-packages\\gensim\\models\\phrases.py:494: UserWarning: For a faster implementation, use the gensim.models.phrases.Phraser class\n",
      "  warnings.warn(\"For a faster implementation, use the gensim.models.phrases.Phraser class\")\n"
     ]
    }
   ],
   "source": [
    "# Build the bigram and trigram models\n",
    "bigram = gensim.models.Phrases(data_words, min_count=5, threshold=100) # higher threshold fewer phrases.\n",
    "trigram = gensim.models.Phrases(bigram[data_words], threshold=100)"
   ]
  },
  {
   "cell_type": "code",
   "execution_count": 8,
   "metadata": {},
   "outputs": [
    {
     "name": "stderr",
     "output_type": "stream",
     "text": [
      "C:\\Users\\Andrew\\AppData\\Local\\conda\\conda\\envs\\text3.5\\lib\\site-packages\\gensim\\models\\phrases.py:494: UserWarning: For a faster implementation, use the gensim.models.phrases.Phraser class\n",
      "  warnings.warn(\"For a faster implementation, use the gensim.models.phrases.Phraser class\")\n"
     ]
    },
    {
     "data": {
      "text/plain": [
       "['c', 'a', 'r']"
      ]
     },
     "execution_count": 8,
     "metadata": {},
     "output_type": "execute_result"
    }
   ],
   "source": [
    "bigram['car']"
   ]
  },
  {
   "cell_type": "code",
   "execution_count": 9,
   "metadata": {},
   "outputs": [],
   "source": [
    "# Faster way to get a sentence clubbed as a trigram/bigram\n",
    "bigram_mod = gensim.models.phrases.Phraser(bigram)\n",
    "trigram_mod = gensim.models.phrases.Phraser(trigram)"
   ]
  },
  {
   "cell_type": "code",
   "execution_count": 10,
   "metadata": {},
   "outputs": [
    {
     "name": "stdout",
     "output_type": "stream",
     "text": [
      "['from', 'wheres', 'my', 'thing', 'subject', 'what', 'car', 'is', 'this', 'nntp_posting_host', 'rac_wam_umd_edu', 'organization', 'university', 'of', 'maryland_college_park', 'lines', 'was', 'wondering', 'if', 'anyone', 'out', 'there', 'could', 'enlighten', 'me', 'on', 'this', 'car', 'saw', 'the', 'other', 'day', 'it', 'was', 'door', 'sports', 'car', 'looked', 'to', 'be', 'from', 'the', 'late', 'early', 'it', 'was', 'called', 'bricklin', 'the', 'doors', 'were', 'really', 'small', 'in', 'addition', 'the', 'front_bumper', 'was', 'separate', 'from', 'the', 'rest', 'of', 'the', 'body', 'this', 'is', 'all', 'know', 'if', 'anyone', 'can', 'tellme', 'model', 'name', 'engine', 'specs', 'years', 'of', 'production', 'where', 'this', 'car', 'is', 'made', 'history', 'or', 'whatever', 'info', 'you', 'have', 'on', 'this', 'funky', 'looking', 'car', 'please', 'mail', 'thanks', 'il', 'brought', 'to', 'you', 'by', 'your', 'neighborhood', 'lerxst']\n"
     ]
    }
   ],
   "source": [
    "# See trigram example\n",
    "print(trigram_mod[bigram_mod[data_words[0]]])"
   ]
  },
  {
   "cell_type": "markdown",
   "metadata": {},
   "source": [
    "## 불용단어 제거"
   ]
  },
  {
   "cell_type": "code",
   "execution_count": 11,
   "metadata": {},
   "outputs": [],
   "source": [
    "def remove_stopwords(texts):\n",
    "    return [[word for word in simple_preprocess(str(doc)) if word not in stop_words] for doc in texts]"
   ]
  },
  {
   "cell_type": "code",
   "execution_count": 12,
   "metadata": {},
   "outputs": [],
   "source": [
    "def make_bigrams(texts):\n",
    "    return [bigram_mod[doc] for doc in texts]"
   ]
  },
  {
   "cell_type": "code",
   "execution_count": 13,
   "metadata": {},
   "outputs": [],
   "source": [
    "def make_trigram(texts):\n",
    "    return [trigram_mod[bigram_mod[doc]] for doc in texts]"
   ]
  },
  {
   "cell_type": "markdown",
   "metadata": {},
   "source": [
    "### 단어 원형 복원(lemmatization)\n",
    "> studies = studi + es  \n",
    "studying = study + ing"
   ]
  },
  {
   "cell_type": "code",
   "execution_count": 14,
   "metadata": {},
   "outputs": [],
   "source": [
    "def lemmatization(texts, allowed_postags=['NOUN', 'ADJ', 'VERB', 'ADV']):\n",
    "    \"\"\"\n",
    "    https://spacy.io/api/annotation\n",
    "    \"\"\"\n",
    "    texts_out = []\n",
    "    for sent in texts:\n",
    "        doc = nlp(\" \".join(sent))\n",
    "        texts_out.append([token.lemma_ for token in doc if token.pos_ in allowed_postags])\n",
    "    return texts_out"
   ]
  },
  {
   "cell_type": "markdown",
   "metadata": {},
   "source": [
    "함수 실행 파트"
   ]
  },
  {
   "cell_type": "code",
   "execution_count": 15,
   "metadata": {},
   "outputs": [],
   "source": [
    "# Remove Stop Words\n",
    "data_words_nostops = remove_stopwords(data_words)\n",
    "\n",
    "# Form Bigrams\n",
    "data_words_bigrams = make_bigrams(data_words_nostops)\n",
    "\n",
    "# Initialize spacy 'en' model, keeping only tagger component (for efficiency)\n",
    "# python -m spacy download en\n",
    "nlp = spacy.load('en', disable=['parser', 'ner'])\n",
    "\n",
    "# Do  lemmatization keeping only noun, adj, vb, adv\n",
    "data_lemmatized = lemmatization(data_words_bigrams, allowed_postags=['NOUN', 'ADJ', 'VERB', 'ADV'])"
   ]
  },
  {
   "cell_type": "code",
   "execution_count": 16,
   "metadata": {},
   "outputs": [
    {
     "name": "stdout",
     "output_type": "stream",
     "text": [
      "[['where', 's', 'thing', 'car', 'nntp_post', 'host', 'rac_wam', 'umd', 'organization', 'university', 'maryland_college', 'park', 'line', 'wonder', 'anyone', 'could', 'enlighten', 'car', 'see', 'day', 'door', 'sport', 'car', 'look', 'late', 'early', 'call', 'bricklin', 'door', 'really', 'small', 'addition', 'front_bumper', 'separate', 'rest', 'body', 'know', 'anyone', 'tellme', 'model', 'name', 'engine', 'spec', 'year', 'production', 'car', 'make', 'history', 'whatev', 'info', 'funky', 'look', 'car', 'mail', 'thank', 'bring', 'neighborhood', 'lerxst']]\n"
     ]
    }
   ],
   "source": [
    "print(data_lemmatized[:1])"
   ]
  },
  {
   "cell_type": "markdown",
   "metadata": {},
   "source": [
    "## 토픽 모델에 필요한 사전과 코퍼스 생성하기"
   ]
  },
  {
   "cell_type": "markdown",
   "metadata": {},
   "source": [
    "LDA의 주요 입력값 코드를 생성할 것인데 그 두 가지 값은 사전(id2word)과 copus이다."
   ]
  },
  {
   "cell_type": "code",
   "execution_count": 17,
   "metadata": {},
   "outputs": [],
   "source": [
    "# Create Dictionary\n",
    "id2word = corpora.Dictionary(data_lemmatized)\n",
    "\n",
    "# Create Corpus\n",
    "texts = data_lemmatized"
   ]
  },
  {
   "cell_type": "code",
   "execution_count": 18,
   "metadata": {},
   "outputs": [
    {
     "data": {
      "text/plain": [
       "<gensim.corpora.dictionary.Dictionary at 0x26d86c4bf28>"
      ]
     },
     "execution_count": 18,
     "metadata": {},
     "output_type": "execute_result"
    }
   ],
   "source": [
    "id2word"
   ]
  },
  {
   "cell_type": "code",
   "execution_count": 19,
   "metadata": {},
   "outputs": [],
   "source": [
    "# texts"
   ]
  },
  {
   "cell_type": "code",
   "execution_count": 20,
   "metadata": {},
   "outputs": [
    {
     "data": {
      "text/plain": [
       "[(0, 1),\n",
       " (1, 2),\n",
       " (2, 1),\n",
       " (3, 1),\n",
       " (4, 1),\n",
       " (5, 1),\n",
       " (6, 5),\n",
       " (7, 1),\n",
       " (8, 1),\n",
       " (9, 2),\n",
       " (10, 1),\n",
       " (11, 1),\n",
       " (12, 1),\n",
       " (13, 1),\n",
       " (14, 1),\n",
       " (15, 1),\n",
       " (16, 1),\n",
       " (17, 1),\n",
       " (18, 1),\n",
       " (19, 1),\n",
       " (20, 1),\n",
       " (21, 1),\n",
       " (22, 2),\n",
       " (23, 1),\n",
       " (24, 1),\n",
       " (25, 1),\n",
       " (26, 1),\n",
       " (27, 1),\n",
       " (28, 1),\n",
       " (29, 1),\n",
       " (30, 1),\n",
       " (31, 1),\n",
       " (32, 1),\n",
       " (33, 1),\n",
       " (34, 1),\n",
       " (35, 1),\n",
       " (36, 1),\n",
       " (37, 1),\n",
       " (38, 1),\n",
       " (39, 1),\n",
       " (40, 1),\n",
       " (41, 1),\n",
       " (42, 1),\n",
       " (43, 1),\n",
       " (44, 1),\n",
       " (45, 1),\n",
       " (46, 1),\n",
       " (47, 1),\n",
       " (48, 1),\n",
       " (49, 1),\n",
       " (50, 1)]"
      ]
     },
     "execution_count": 20,
     "metadata": {},
     "output_type": "execute_result"
    }
   ],
   "source": [
    "id2word.doc2bow(texts[0])"
   ]
  },
  {
   "cell_type": "code",
   "execution_count": 21,
   "metadata": {},
   "outputs": [
    {
     "data": {
      "text/plain": [
       "list"
      ]
     },
     "execution_count": 21,
     "metadata": {},
     "output_type": "execute_result"
    }
   ],
   "source": [
    "type(id2word.doc2bow(texts[0]))"
   ]
  },
  {
   "cell_type": "code",
   "execution_count": 22,
   "metadata": {},
   "outputs": [
    {
     "data": {
      "text/plain": [
       "tuple"
      ]
     },
     "execution_count": 22,
     "metadata": {},
     "output_type": "execute_result"
    }
   ],
   "source": [
    "type(id2word.doc2bow(texts[0])[0])"
   ]
  },
  {
   "cell_type": "code",
   "execution_count": 23,
   "metadata": {},
   "outputs": [],
   "source": [
    "# Term Document Frequency\n",
    "corpus = [id2word.doc2bow(text) for text in texts]"
   ]
  },
  {
   "cell_type": "code",
   "execution_count": 24,
   "metadata": {},
   "outputs": [
    {
     "name": "stdout",
     "output_type": "stream",
     "text": [
      "[[(0, 1), (1, 2), (2, 1), (3, 1), (4, 1), (5, 1), (6, 5), (7, 1), (8, 1), (9, 2), (10, 1), (11, 1), (12, 1), (13, 1), (14, 1), (15, 1), (16, 1), (17, 1), (18, 1), (19, 1), (20, 1), (21, 1), (22, 2), (23, 1), (24, 1), (25, 1), (26, 1), (27, 1), (28, 1), (29, 1), (30, 1), (31, 1), (32, 1), (33, 1), (34, 1), (35, 1), (36, 1), (37, 1), (38, 1), (39, 1), (40, 1), (41, 1), (42, 1), (43, 1), (44, 1), (45, 1), (46, 1), (47, 1), (48, 1), (49, 1), (50, 1)]]\n"
     ]
    }
   ],
   "source": [
    "# view\n",
    "print(corpus[:1])"
   ]
  },
  {
   "cell_type": "markdown",
   "metadata": {},
   "source": [
    "Gensim은 문서의 각 단어들마다 유니크한 ID를 생성한다.  \n",
    "위의 튜플은 (word_id, word_frequency)이 매핑되어 있다.  \n",
    "이것이 LDA모델의 입력으로 사용된다.  \n",
    "아래는 아이디에 따른 단어를 확인해볼 수 있다."
   ]
  },
  {
   "cell_type": "code",
   "execution_count": 25,
   "metadata": {},
   "outputs": [
    {
     "data": {
      "text/plain": [
       "'addition'"
      ]
     },
     "execution_count": 25,
     "metadata": {},
     "output_type": "execute_result"
    }
   ],
   "source": [
    "id2word[0]"
   ]
  },
  {
   "cell_type": "markdown",
   "metadata": {},
   "source": [
    "또는 사람이 이해 가능한 형태의 코퍼스를 생성할 수 있다.   \n",
    "(단어, 빈도 수)"
   ]
  },
  {
   "cell_type": "code",
   "execution_count": 26,
   "metadata": {},
   "outputs": [
    {
     "data": {
      "text/plain": [
       "[[('addition', 1),\n",
       "  ('anyone', 2),\n",
       "  ('body', 1),\n",
       "  ('bricklin', 1),\n",
       "  ('bring', 1),\n",
       "  ('call', 1),\n",
       "  ('car', 5),\n",
       "  ('could', 1),\n",
       "  ('day', 1),\n",
       "  ('door', 2),\n",
       "  ('early', 1),\n",
       "  ('engine', 1),\n",
       "  ('enlighten', 1),\n",
       "  ('front_bumper', 1),\n",
       "  ('funky', 1),\n",
       "  ('history', 1),\n",
       "  ('host', 1),\n",
       "  ('info', 1),\n",
       "  ('know', 1),\n",
       "  ('late', 1),\n",
       "  ('lerxst', 1),\n",
       "  ('line', 1),\n",
       "  ('look', 2),\n",
       "  ('mail', 1),\n",
       "  ('make', 1),\n",
       "  ('maryland_college', 1),\n",
       "  ('model', 1),\n",
       "  ('name', 1),\n",
       "  ('neighborhood', 1),\n",
       "  ('nntp_post', 1),\n",
       "  ('organization', 1),\n",
       "  ('park', 1),\n",
       "  ('production', 1),\n",
       "  ('rac_wam', 1),\n",
       "  ('really', 1),\n",
       "  ('rest', 1),\n",
       "  ('s', 1),\n",
       "  ('see', 1),\n",
       "  ('separate', 1),\n",
       "  ('small', 1),\n",
       "  ('spec', 1),\n",
       "  ('sport', 1),\n",
       "  ('tellme', 1),\n",
       "  ('thank', 1),\n",
       "  ('thing', 1),\n",
       "  ('umd', 1),\n",
       "  ('university', 1),\n",
       "  ('whatev', 1),\n",
       "  ('where', 1),\n",
       "  ('wonder', 1),\n",
       "  ('year', 1)]]"
      ]
     },
     "execution_count": 26,
     "metadata": {},
     "output_type": "execute_result"
    }
   ],
   "source": [
    "# Human readable format of corpus (term-frequency)\n",
    "\n",
    "[[(id2word[id], freq) for id, freq in cp] for cp in corpus[:1]]"
   ]
  },
  {
   "cell_type": "markdown",
   "metadata": {},
   "source": [
    "## 토픽 모델 생성"
   ]
  },
  {
   "cell_type": "markdown",
   "metadata": {},
   "source": [
    "LDA모델 훈련을 위해서는 Copus, 사전, 토픽 개수를 제공해야한다.  \n",
    "그 외에도, 알파와 에타는 토픽의 희소성에 영향을 주는 하이퍼파라미터 이다.  \n",
    "Gensim docs에 따르면 기본값은 모두 '1.0/num_topics'을 기본값으로 사용한다.  <br>\n",
    "<br>\n",
    "chunksize는 각 훈련 chunk에서 사용할 문서의 수이다.   \n",
    "update_every는 모델 매개변수를 업데이트 해야하는 빈도를 결정하고,  \n",
    "passes는 총 훈련 과정 수를 결정한다.  "
   ]
  },
  {
   "cell_type": "markdown",
   "metadata": {},
   "source": [
    "https://radimrehurek.com/gensim/models/ldamodel.html"
   ]
  },
  {
   "cell_type": "code",
   "execution_count": 27,
   "metadata": {},
   "outputs": [],
   "source": [
    "# Build LDA model\n",
    "lda_model = gensim.models.ldamodel.LdaModel(corpus=corpus,\n",
    "                                            id2word=id2word, \n",
    "                                            num_topics = 20, \n",
    "                                            random_state = 100, \n",
    "                                            update_every=1,\n",
    "                                            chunksize=100,\n",
    "                                            passes=10,\n",
    "                                            alpha='auto',\n",
    "                                            per_word_topics=True)"
   ]
  },
  {
   "cell_type": "markdown",
   "metadata": {},
   "source": [
    "## LDA 모델의 토픽 보기\n",
    "위의 LDA모델은 각 토픽이 키워드의 조합이고,  \n",
    "각 키워드가 토픽에 일정한 가중치를 부여하는 20개의 주제로 구성된다.  \n",
    "`lda_model.print_topics()`를 사용하여 각 토픽의 키워드와 각 키워드의 중요도(가중치)를 볼 수 있다."
   ]
  },
  {
   "cell_type": "code",
   "execution_count": 28,
   "metadata": {},
   "outputs": [
    {
     "name": "stdout",
     "output_type": "stream",
     "text": [
      "[(0,\n",
      "  '0.034*\"_\" + 0.029*\"blue\" + 0.021*\"tank\" + 0.014*\"cubs_suck\" + 0.012*\"eg\" + '\n",
      "  '0.012*\"gas\" + 0.011*\"hi\" + 0.007*\"henry_spencer\" + 0.007*\"cigarette\" + '\n",
      "  '0.006*\"xlib\"'),\n",
      " (1,\n",
      "  '0.020*\"value\" + 0.020*\"bus\" + 0.019*\"specifically\" + 0.015*\"function\" + '\n",
      "  '0.015*\"associate\" + 0.013*\"motorcycle\" + 0.011*\"properly\" + 0.010*\"code\" + '\n",
      "  '0.008*\"confuse\" + 0.008*\"error\"'),\n",
      " (2,\n",
      "  '0.023*\"window\" + 0.020*\"card\" + 0.017*\"file\" + 0.014*\"drive\" + 0.013*\"use\" '\n",
      "  '+ 0.013*\"system\" + 0.011*\"problem\" + 0.010*\"run\" + 0.009*\"color\" + '\n",
      "  '0.009*\"do\"'),\n",
      " (3,\n",
      "  '0.035*\"game\" + 0.033*\"team\" + 0.019*\"player\" + 0.017*\"play\" + 0.017*\"win\" + '\n",
      "  '0.016*\"hockey\" + 0.013*\"season\" + 0.011*\"contact\" + 0.011*\"year\" + '\n",
      "  '0.010*\"nhl\"'),\n",
      " (4,\n",
      "  '0.026*\"wire\" + 0.017*\"circuit\" + 0.015*\"faq\" + 0.015*\"connect\" + '\n",
      "  '0.013*\"wiring\" + 0.013*\"voice\" + 0.013*\"cover\" + 0.011*\"outlet\" + '\n",
      "  '0.011*\"neutral\" + 0.010*\"conference\"'),\n",
      " (5,\n",
      "  '0.030*\"government\" + 0.024*\"gun\" + 0.022*\"law\" + 0.017*\"state\" + '\n",
      "  '0.015*\"right\" + 0.013*\"public\" + 0.012*\"protect\" + 0.011*\"american\" + '\n",
      "  '0.010*\"police\" + 0.010*\"criminal\"'),\n",
      " (6,\n",
      "  '0.074*\"max\" + 0.018*\"cost\" + 0.015*\"price\" + 0.014*\"year\" + 0.012*\"sale\" + '\n",
      "  '0.011*\"sell\" + 0.010*\"obvious\" + 0.009*\"pay\" + 0.007*\"canada\" + '\n",
      "  '0.007*\"total\"'),\n",
      " (7,\n",
      "  '0.047*\"line\" + 0.042*\"organization\" + 0.031*\"write\" + 0.026*\"article\" + '\n",
      "  '0.019*\"would\" + 0.018*\"university\" + 0.017*\"nntp_post\" + 0.015*\"host\" + '\n",
      "  '0.015*\"not\" + 0.014*\"get\"'),\n",
      " (8,\n",
      "  '0.019*\"science\" + 0.014*\"computer_science\" + 0.012*\"prove\" + '\n",
      "  '0.011*\"homeopathy\" + 0.010*\"review\" + 0.010*\"development\" + 0.010*\"object\" '\n",
      "  '+ 0.010*\"univ\" + 0.010*\"text\" + 0.010*\"gordon_bank\"'),\n",
      " (9,\n",
      "  '0.039*\"space\" + 0.011*\"power\" + 0.009*\"launch\" + 0.008*\"ground\" + '\n",
      "  '0.008*\"switch\" + 0.008*\"build\" + 0.008*\"project\" + 0.007*\"high\" + '\n",
      "  '0.007*\"radio\" + 0.007*\"mon\"'),\n",
      " (10,\n",
      "  '0.815*\"ax\" + 0.003*\"nyi\" + 0.003*\"stl\" + 0.003*\"buffalo\" + 0.002*\"pool\" + '\n",
      "  '0.002*\"brian_kendig\" + 0.002*\"sunday\" + 0.002*\"finland\" + 0.002*\"espn\" + '\n",
      "  '0.002*\"lemieux\"'),\n",
      " (11,\n",
      "  '0.040*\"armenian\" + 0.013*\"league\" + 0.011*\"turk\" + 0.011*\"turkish\" + '\n",
      "  '0.011*\"greek\" + 0.011*\"baseball\" + 0.010*\"serdar_argic\" + 0.007*\"road\" + '\n",
      "  '0.006*\"cal\" + 0.006*\"hug\"'),\n",
      " (12,\n",
      "  '0.011*\"national\" + 0.010*\"center\" + 0.009*\"year\" + 0.009*\"april\" + '\n",
      "  '0.009*\"study\" + 0.007*\"george\" + 0.007*\"research\" + 0.006*\"march\" + '\n",
      "  '0.006*\"mission\" + 0.006*\"student\"'),\n",
      " (13,\n",
      "  '0.011*\"may\" + 0.010*\"would\" + 0.009*\"make\" + 0.007*\"people\" + '\n",
      "  '0.007*\"question\" + 0.007*\"also\" + 0.007*\"many\" + 0.007*\"point\" + '\n",
      "  '0.007*\"mean\" + 0.006*\"must\"'),\n",
      " (14,\n",
      "  '0.015*\"israel\" + 0.012*\"israeli\" + 0.009*\"attack\" + 0.009*\"kill\" + '\n",
      "  '0.009*\"military\" + 0.008*\"hour\" + 0.008*\"land\" + 0.008*\"international\" + '\n",
      "  '0.008*\"committee\" + 0.007*\"soldier\"'),\n",
      " (15,\n",
      "  '0.020*\"mail\" + 0.017*\"information\" + 0.015*\"available\" + 0.015*\"include\" + '\n",
      "  '0.013*\"send\" + 0.012*\"program\" + 0.011*\"list\" + 0.010*\"ca\" + 0.010*\"also\" + '\n",
      "  '0.010*\"internet\"'),\n",
      " (16,\n",
      "  '0.029*\"key\" + 0.022*\"chip\" + 0.014*\"use\" + 0.013*\"system\" + 0.011*\"phone\" + '\n",
      "  '0.010*\"encryption\" + 0.010*\"bit\" + 0.010*\"technology\" + 0.009*\"wiretap\" + '\n",
      "  '0.009*\"device\"'),\n",
      " (17,\n",
      "  '0.025*\"christian\" + 0.023*\"god\" + 0.012*\"man\" + 0.011*\"life\" + '\n",
      "  '0.011*\"religion\" + 0.010*\"bible\" + 0.009*\"believe\" + 0.008*\"law\" + '\n",
      "  '0.008*\"belief\" + 0.008*\"love\"'),\n",
      " (18,\n",
      "  '0.051*\"not\" + 0.032*\"do\" + 0.022*\"say\" + 0.021*\"go\" + 0.019*\"would\" + '\n",
      "  '0.018*\"be\" + 0.015*\"think\" + 0.014*\"know\" + 0.014*\"s\" + 0.013*\"people\"'),\n",
      " (19,\n",
      "  '0.017*\"light\" + 0.015*\"rise\" + 0.015*\"paul\" + 0.012*\"fire\" + 0.011*\"edge\" + '\n",
      "  '0.010*\"building\" + 0.009*\"water\" + 0.009*\"teach\" + 0.008*\"mother\" + '\n",
      "  '0.008*\"girl\"')]\n"
     ]
    }
   ],
   "source": [
    "# Print the keyword in the 10 topics\n",
    "pprint(lda_model.print_topics())\n",
    "doc_lda = lda_model[corpus]"
   ]
  },
  {
   "cell_type": "markdown",
   "metadata": {},
   "source": [
    "## 해석 방법  \n",
    "```\n",
    "[(0,\n",
    "  '0.034*\"_\" + 0.029*\"blue\" + 0.021*\"tank\" + 0.014*\"cubs_suck\" + 0.012*\"eg\" + '\n",
    "  '0.012*\"gas\" + 0.011*\"hi\" + 0.007*\"henry_spencer\" + 0.007*\"cigarette\" + '\n",
    "  '0.006*\"xlib\"'),\n",
    "```\n",
    "토픽0 는 위와 같이 표현된다.  \n",
    "이 토픽에 대해 기여하고 있는 상위 10개 키워드는 'blue', 'tank', 'cubs_suck'등 이며,  \n",
    "토픽 0에 대한 'blue'의 가중치는 0.029이다.  \n",
    "가중치는 키워드가 해당 토픽에 얼마나 중요하는지를 나타낸다.  \n",
    "다시말하자면 토픽 0는 blue나 tank일 수 있다.  "
   ]
  },
  {
   "cell_type": "markdown",
   "metadata": {},
   "source": [
    "## 모델 난이도와 일관성 점수 계산"
   ]
  },
  {
   "cell_type": "code",
   "execution_count": 29,
   "metadata": {},
   "outputs": [
    {
     "name": "stdout",
     "output_type": "stream",
     "text": [
      "\n",
      "Perplexity:  -8.754130909406506\n",
      "\n",
      "Coherence Score:  0.5152202258019667\n"
     ]
    }
   ],
   "source": [
    "# Compute Perplexity\n",
    "print('\\nPerplexity: ', lda_model.log_perplexity(corpus)) # a measure of how good the model is. lower the better.\n",
    "\n",
    "# Compute Coherence Score\n",
    "coherence_model_lda = CoherenceModel(model=lda_model, texts = data_lemmatized, dictionary=id2word, coherence='c_v')\n",
    "coherence_lda = coherence_model_lda.get_coherence()\n",
    "print('\\nCoherence Score: ', coherence_lda)"
   ]
  },
  {
   "cell_type": "markdown",
   "metadata": {},
   "source": [
    "## 토픽-키워드 시각화 "
   ]
  },
  {
   "cell_type": "code",
   "execution_count": 30,
   "metadata": {},
   "outputs": [
    {
     "data": {
      "text/html": [
       "\n",
       "<link rel=\"stylesheet\" type=\"text/css\" href=\"https://cdn.rawgit.com/bmabey/pyLDAvis/files/ldavis.v1.0.0.css\">\n",
       "\n",
       "\n",
       "<div id=\"ldavis_el608426693356410887362946328\"></div>\n",
       "<script type=\"text/javascript\">\n",
       "\n",
       "var ldavis_el608426693356410887362946328_data = {\"topic.order\": [8, 14, 19, 3, 16, 11, 18, 13, 6, 17, 7, 10, 15, 4, 9, 20, 12, 5, 1, 2], \"lambda.step\": 0.01, \"R\": 30, \"token.table\": {\"Topic\": [19, 2, 7, 20, 5, 5, 1, 12, 10, 13, 8, 16, 14, 1, 11, 10, 1, 2, 3, 4, 5, 7, 12, 9, 3, 8, 9, 12, 6, 9, 18, 13, 7, 15, 18, 1, 2, 4, 1, 1, 17, 10, 4, 5, 8, 14, 2, 1, 2, 5, 8, 9, 12, 13, 2, 17, 17, 9, 13, 9, 2, 10, 11, 18, 1, 2, 3, 20, 8, 2, 20, 2, 10, 13, 2, 12, 2, 1, 10, 5, 10, 3, 11, 1, 3, 17, 6, 17, 15, 20, 9, 3, 19, 17, 1, 12, 19, 1, 3, 7, 2, 3, 7, 7, 1, 1, 2, 4, 10, 19, 8, 9, 10, 13, 16, 19, 3, 4, 14, 11, 13, 2, 5, 7, 18, 13, 14, 8, 16, 17, 3, 16, 20, 11, 20, 5, 18, 6, 10, 8, 6, 1, 2, 4, 10, 12, 20, 16, 17, 8, 17, 20, 16, 1, 5, 11, 4, 18, 17, 1, 2, 3, 4, 5, 10, 20, 8, 11, 14, 14, 6, 11, 13, 1, 4, 9, 3, 9, 12, 1, 2, 4, 9, 20, 8, 19, 18, 1, 5, 8, 10, 12, 13, 6, 12, 2, 5, 20, 17, 1, 13, 3, 7, 10, 11, 7, 7, 7, 7, 19, 18, 6, 9, 18, 13, 2, 7, 10, 1, 2, 2, 8, 4, 10, 9, 14, 5, 10, 20, 11, 4, 1, 2, 3, 4, 7, 8, 2, 13, 8, 10, 15, 10, 5, 20, 3, 15, 18, 2, 2, 10, 12, 18, 20, 3, 9, 13, 18, 1, 2, 3, 9, 9, 18, 14, 2, 8, 10, 20, 2, 1, 2, 4, 5, 10, 12, 13, 4, 16, 9, 4, 8, 10, 18, 5, 4, 11, 1, 2, 3, 10, 11, 20, 2, 3, 9, 9, 8, 11, 18, 3, 5, 9, 9, 17, 10, 19, 1, 3, 5, 10, 14, 17, 19, 20, 1, 2, 4, 12, 18, 12, 17, 11, 17, 16, 4, 5, 8, 10, 12, 2, 3, 4, 14, 15, 3, 1, 3, 5, 7, 8, 11, 6, 3, 7, 13, 2, 10, 14, 2, 15, 1, 13, 15, 18, 18, 20, 15, 16, 1, 10, 12, 14, 20, 20, 14, 2, 5, 15, 15, 4, 10, 14, 3, 7, 5, 6, 9, 2, 2, 5, 15, 4, 10, 1, 11, 15, 1, 11, 1, 4, 8, 17, 18, 1, 8, 14, 1, 2, 3, 4, 7, 12, 3, 1, 11, 11, 1, 14, 20, 19, 1, 4, 1, 4, 3, 7, 8, 12, 20, 3, 16, 15, 5, 13, 19, 19, 10, 12, 1, 4, 18, 13, 10, 10, 8, 1, 1, 13, 14, 20, 9, 15, 20, 19, 12, 13, 16, 2, 4, 15, 20, 6, 2, 8, 1, 2, 3, 7, 10, 2, 5, 20, 14, 2, 4, 12, 4, 11, 2, 16, 3, 16, 2, 3, 7, 18, 14, 4, 18, 7, 4, 5, 18, 19, 13, 9, 3, 13, 4, 10, 2, 5, 14, 6, 10, 6, 9, 13, 16, 3, 18, 1, 2, 3, 8, 10, 12, 14, 17, 20, 12, 2, 12, 13, 2, 4, 5, 7, 20, 4, 2, 3, 16, 12, 16, 3, 13, 4, 20, 15, 19, 16, 16, 8, 12, 10, 5, 12, 4, 10, 20, 14, 19, 7, 14, 18, 5, 2, 8, 11, 2, 1, 3, 4, 18, 4, 16, 1, 2, 3, 1, 3, 14, 14, 7, 17, 1, 2, 3, 7, 14, 15, 8, 9, 10, 13, 15, 19, 19, 4, 2, 17, 3, 9, 12, 2, 3, 5, 8, 9, 7, 18, 9, 9, 20, 11, 17, 9, 10, 1, 3, 10, 6, 8, 3, 1, 3, 1, 14, 4, 3, 7, 16, 16, 13, 3, 18, 1, 2, 3, 4, 5, 19, 19, 19, 1, 3, 4, 8, 9, 10, 11, 12, 17, 1, 11, 14, 17, 14, 14, 1, 15, 15, 7, 7, 8, 1, 5, 5, 13, 3, 9, 16, 18, 1, 2, 4, 17, 2, 7, 9, 3, 15, 14, 4, 9, 5, 4, 5, 12, 3, 9, 2, 1, 4, 12, 2, 5, 9, 13, 20, 1, 4, 5, 2, 5, 10, 15, 8, 4, 10, 15, 2, 1, 20, 19, 1, 13, 5, 17, 13, 13, 2, 8, 9, 10, 11, 11, 2, 2, 13, 3, 16, 10, 10, 3, 3, 13, 7, 8, 1, 2, 3, 4, 7, 18, 8, 16, 3, 13, 20, 4, 1, 2, 3, 4, 5, 10, 11, 12, 3, 19, 3, 12, 7, 9, 9, 6, 17, 13, 9, 10, 18, 6, 19, 1, 2, 3, 10, 1, 2, 3, 12, 15, 5, 20, 2, 3, 7, 12, 16, 1, 2, 3, 1, 1, 5, 5, 8, 16, 18, 15, 17, 1, 3, 5, 7, 1, 3, 1, 3, 7, 1, 4, 11, 12, 16, 13, 4, 4, 11, 15, 10, 5, 5, 1, 2, 3, 4, 3, 7, 8, 13, 17, 1, 2, 3, 4, 5, 8, 8, 7, 6, 9, 10, 12, 13, 10, 11, 5, 3, 11, 1, 2, 5, 8, 10, 1, 2, 3, 7, 9, 15, 8, 2, 3, 4, 8, 4, 8, 1, 2, 5, 10, 12, 19, 19, 16, 11, 11, 16, 5, 11, 14, 11, 9, 13, 9, 16, 13, 12, 8, 11, 8, 5, 4, 1, 12, 4, 12, 3, 11, 4, 12, 18, 12, 5, 7, 6, 8, 8, 16, 5, 1, 20, 12, 4, 13, 8, 9, 3, 20, 2, 1, 2, 3, 11, 18, 1, 2, 4, 7, 20, 17, 7, 12, 8, 9, 18, 19, 10, 1, 2, 3, 4, 5, 10, 3, 5, 10, 18, 1, 2, 3, 7, 1, 2, 3, 4, 5, 8, 10, 11, 6, 3, 11, 17, 3, 5, 8, 5, 3, 14, 1, 20, 1, 7, 1, 2, 3, 7, 10, 13, 19, 6, 14, 15, 11, 3, 5, 3, 1, 19, 12, 6, 1, 5, 1, 12, 18, 18, 5, 2, 5, 7, 15, 12, 1, 2, 5, 11, 19, 2, 7, 15, 16, 3, 11, 4, 3, 17, 6, 2, 3, 7, 9, 1, 2, 2, 8, 14, 9, 4, 14, 4, 10, 18, 2, 3, 11, 5, 18, 20, 14, 8, 14, 15, 13, 17, 1, 2, 14, 14, 14, 13, 1, 2, 3, 14, 9, 9, 6, 16, 3, 9, 13, 4, 18, 1, 2, 5, 2, 18, 1, 2, 9, 12, 16, 6, 8, 2, 16, 18, 2, 15, 16, 4, 5, 11, 2, 10, 13, 9, 11, 16, 1, 2, 3, 4, 15, 4, 5, 10, 12, 9, 8, 12, 2, 9, 20, 9, 11, 15, 5, 2, 9, 10, 11, 13, 2, 5, 6, 6, 1, 2, 4, 5, 5, 12, 4, 17, 13, 1, 2, 11, 8, 19, 1, 2, 4, 5, 7, 20, 15, 1, 2, 3, 13, 5, 7, 12, 15, 20, 9, 13, 16, 17, 7, 1, 5, 11, 15, 17, 2, 5, 11, 13, 1, 8, 15, 16, 8, 15, 2, 9, 1, 2, 3, 4, 8, 13, 17, 18, 20, 15, 4, 11, 11, 11, 1, 2, 3, 9, 16, 11, 11, 16, 17, 1, 4, 12, 13, 1, 8, 11, 2, 20, 1, 3, 4, 5, 11, 14, 17, 2, 1, 3, 20, 5, 11, 8, 8, 11, 7, 8, 1, 2, 3, 7, 11, 12, 8, 8, 15, 8, 15, 20, 14, 4, 11, 7, 4, 16, 15, 14, 11, 1, 2, 4, 8, 14, 13, 10, 9, 10, 13, 1, 2, 3, 4, 16, 1, 5, 10, 11, 9, 2, 3, 5, 2, 7, 17, 5, 2, 3, 5, 9, 18, 2, 3, 4, 5, 16, 20, 4, 7, 10, 4, 16, 17, 20, 11, 19, 3, 12, 7, 6, 5, 12, 4, 5, 10, 11, 12, 20, 12, 16, 3, 4, 4, 5, 13, 3, 3, 4, 15, 7, 1, 2, 4, 5, 7, 12, 13, 20, 13, 12, 8, 7, 10, 5, 20, 3, 1, 4, 13, 1, 3, 4, 14, 11, 1, 2, 9, 13, 2, 12, 3, 3, 20, 1, 6, 1, 3, 13, 20, 5, 8, 18, 7, 8, 3, 15, 17, 17, 11, 5, 6, 4, 15, 16, 2, 3, 4, 5, 9, 12, 1, 2, 4, 5, 10, 12, 10, 16, 1, 2, 3, 1, 2, 3, 7, 14, 19, 10, 4, 3, 11, 16, 14, 5, 10, 12, 15, 1, 2, 3, 4, 7, 2, 4, 5, 13, 13, 1, 4, 15, 1, 4, 5, 1, 3, 2, 1, 2, 3, 7, 1, 2, 3, 7, 15, 1, 2, 10, 10, 6, 1, 2, 3, 4, 8, 10, 18, 11, 2, 3, 9, 13, 17, 13, 16, 14, 19, 2, 3, 11, 12, 11, 13, 14, 13, 15, 10, 3, 1, 2, 4, 7, 2, 7, 1, 2, 3, 4, 17, 17, 17, 4, 10, 12, 9, 15, 1, 5, 8, 11, 14, 17, 5, 5, 1, 5, 8, 10, 11, 1, 2, 4, 5, 9, 10, 12, 15, 18, 4, 5, 10, 2, 11, 20, 12, 14, 2, 5, 13, 17, 7, 4, 5, 4, 20, 4, 4, 2, 5, 7, 4, 18, 12, 18, 2, 8, 20, 4, 8, 10, 16, 1, 1, 2, 3, 4, 8, 9, 16, 16, 1, 2, 3, 9, 3, 1, 2, 3, 16, 1, 5, 14, 16, 4, 16, 2, 14, 6, 18, 10, 18, 3, 7, 1, 3, 2, 4, 5, 7, 1, 2, 3, 4, 10, 15, 17, 2, 3, 4, 7, 17, 2, 1, 2, 3, 19, 1, 2, 3, 7, 4, 19, 19, 17, 1, 2, 3, 5, 7, 8, 9, 11, 13, 15, 17, 18, 20, 2, 3, 8, 11, 14, 17, 11, 2, 4, 3, 14, 7], \"Term\": [\"_\", \"accept\", \"accept\", \"accept\", \"access\", \"advance\", \"advice\", \"aerospace\", \"agency\", \"agency\", \"ago\", \"ago\", \"ahl\", \"air\", \"alan\", \"algorithm\", \"also\", \"also\", \"also\", \"also\", \"also\", \"also\", \"also\", \"amendment\", \"american\", \"american\", \"american\", \"amp\", \"anaheim\", \"analysis\", \"analysis\", \"anger\", \"animal\", \"announcement\", \"annual\", \"answer\", \"answer\", \"answer\", \"anybody\", \"anyone\", \"apartment\", \"apple\", \"application\", \"application\", \"april\", \"april\", \"arab\", \"area\", \"area\", \"area\", \"area\", \"area\", \"area\", \"area\", \"argument\", \"armenia\", \"armenian\", \"army\", \"army\", \"arrest\", \"art\", \"art\", \"art\", \"art\", \"article\", \"article\", \"article\", \"associate\", \"astronomy\", \"atheist\", \"ati\", \"attack\", \"attack\", \"attack\", \"attempt\", \"audio\", \"authority\", \"auto\", \"automatically\", \"available\", \"available\", \"average\", \"average\", \"away\", \"away\", \"away\", \"ax\", \"azerbaijani\", \"background\", \"bag\", \"ban\", \"band\", \"band\", \"baseball\", \"battery\", \"battery_charger\", \"bay\", \"be\", \"be\", \"belief\", \"believe\", \"believe\", \"believe\", \"bible\", \"bike\", \"bit\", \"bit\", \"bit\", \"bit\", \"bitmap\", \"block\", \"block\", \"block\", \"blood\", \"blood\", \"blue\", \"board\", \"board\", \"board\", \"bolt\", \"bomb\", \"book\", \"book\", \"book\", \"book\", \"border\", \"bos\", \"boston\", \"bottle\", \"bounce\", \"boy\", \"boy\", \"bradley\", \"brake\", \"brand\", \"brave\", \"breaker\", \"brian_kendig\", \"broadcast\", \"brother\", \"buffalo\", \"build\", \"build\", \"build\", \"build\", \"build\", \"build\", \"building\", \"building\", \"burn\", \"burn\", \"bus\", \"button\", \"buy\", \"ca\", \"ca\", \"cable\", \"cable\", \"cal\", \"call\", \"call\", \"call\", \"call\", \"call\", \"call\", \"callback\", \"canada\", \"canada\", \"canada\", \"canadian\", \"canuck\", \"capital\", \"captain\", \"car\", \"card\", \"card\", \"carry\", \"carry\", \"carry\", \"case\", \"case\", \"case\", \"case\", \"case\", \"case_western\", \"cc\", \"cell\", \"center\", \"center\", \"center\", \"center\", \"center\", \"center\", \"chain\", \"channel\", \"character\", \"character\", \"character\", \"chi\", \"chicago\", \"chief\", \"child\", \"child\", \"chip\", \"chris\", \"christ\", \"christian\", \"christianity\", \"church\", \"cigarette\", \"circuit\", \"cirrus_logic\", \"citizen\", \"civil\", \"civilian\", \"claim\", \"claim\", \"clean\", \"clear\", \"clear\", \"clearly\", \"cleveland_ohio\", \"client\", \"clipper\", \"clipper_chip\", \"coach\", \"code\", \"code\", \"code\", \"cold\", \"color\", \"come\", \"come\", \"come\", \"come\", \"come\", \"comet\", \"committee\", \"committee\", \"communication\", \"communication\", \"comparison\", \"compatible\", \"compile\", \"compile\", \"complain\", \"computer_science\", \"computing\", \"concept\", \"concern\", \"concern\", \"conductor\", \"conference\", \"confuse\", \"congress\", \"congress\", \"congress\", \"connect\", \"consider\", \"consider\", \"consider\", \"consider\", \"constitution\", \"construction\", \"contact\", \"contain\", \"contain\", \"contain\", \"contain\", \"context\", \"control\", \"control\", \"control\", \"control\", \"control\", \"control\", \"control\", \"controller\", \"cool\", \"cop\", \"copy\", \"copy\", \"copy\", \"copy\", \"corporation\", \"cost\", \"cost\", \"could\", \"could\", \"could\", \"could\", \"count\", \"countersteer\", \"country\", \"country\", \"country\", \"court\", \"cover\", \"cover\", \"cover\", \"coverage\", \"cpu\", \"crime\", \"criminal\", \"crowd\", \"crypto\", \"csa\", \"cubs_suck\", \"cubs_suck\", \"cubs_suck\", \"cubs_suck\", \"cubs_suck\", \"cubs_suck\", \"cubs_suck\", \"cubs_suck\", \"current\", \"current\", \"current\", \"current\", \"current\", \"cylinder\", \"czar\", \"damn\", \"darin\", \"darren\", \"datum\", \"datum\", \"datum\", \"datum\", \"datum\", \"david\", \"david\", \"david\", \"david\", \"david\", \"davidian\", \"day\", \"day\", \"day\", \"day\", \"day\", \"dealer\", \"dear\", \"death\", \"death\", \"death\", \"decision\", \"default\", \"defenseman\", \"deity\", \"demonstrate\", \"department\", \"department\", \"department\", \"department\", \"depend\", \"depend\", \"description\", \"description\", \"design\", \"design\", \"design\", \"det\", \"detect\", \"detector\", \"detroit\", \"develop\", \"develop\", \"develop\", \"development\", \"device\", \"device\", \"devil\", \"die\", \"die\", \"directory\", \"discharge\", \"discipline\", \"discuss\", \"discussion\", \"discussion\", \"disease\", \"disk\", \"disk\", \"display\", \"distribution_na\", \"distribution_na\", \"distribution_usa\", \"distribution_usa\", \"distribution_world\", \"distribution_world\", \"distribution_world\", \"distribution_world\", \"div\", \"division\", \"division\", \"division\", \"do\", \"do\", \"do\", \"do\", \"do\", \"doc\", \"doctor\", \"dod\", \"dog\", \"dollar\", \"door\", \"draft\", \"drawing\", \"dress\", \"drive\", \"drive\", \"driver\", \"driver\", \"drug\", \"earth\", \"earth\", \"earth\", \"ease\", \"economic\", \"edge\", \"edition\", \"editor\", \"edward\", \"eeg\", \"eg\", \"electronic\", \"electronic\", \"email\", \"email\", \"email\", \"emergency\", \"encrypt\", \"encryption\", \"energy\", \"engine\", \"engineering\", \"enjoy\", \"enjoy\", \"enjoyment\", \"ensure\", \"ensure\", \"entry\", \"ep\", \"equal\", \"equal\", \"equal\", \"error\", \"error\", \"error\", \"error\", \"espn\", \"establish\", \"estimate\", \"even\", \"even\", \"even\", \"even\", \"even\", \"example\", \"example\", \"example\", \"excellent\", \"exist\", \"exist\", \"expand\", \"extra\", \"extra\", \"eye\", \"eye\", \"face\", \"face\", \"fact\", \"fact\", \"faith\", \"familiar\", \"fan\", \"faq\", \"faq\", \"father\", \"fax\", \"fax\", \"fax\", \"fd\", \"february\", \"federal\", \"fight\", \"fight\", \"file\", \"file\", \"final\", \"final\", \"final\", \"final_standing\", \"finger\", \"finland\", \"fire\", \"fire\", \"fire\", \"firearm\", \"firm\", \"first\", \"first\", \"first\", \"first\", \"first\", \"first\", \"first\", \"first\", \"first\", \"flight\", \"fly\", \"fly\", \"fly\", \"follow\", \"follow\", \"follow\", \"follow\", \"follow\", \"font\", \"food\", \"food\", \"food\", \"foot\", \"foot\", \"forget\", \"forget\", \"format\", \"forum\", \"fox\", \"fp\", \"frame\", \"france\", \"frank\", \"frequency\", \"friday\", \"ftp\", \"fuel\", \"function\", \"function\", \"function\", \"game\", \"gas\", \"gay\", \"gd\", \"gene\", \"genoa\", \"genocide\", \"george\", \"george\", \"german\", \"get\", \"get\", \"get\", \"gfci\", \"gif\", \"girl\", \"give\", \"give\", \"give\", \"go\", \"go\", \"go\", \"goal\", \"god\", \"gold\", \"good\", \"good\", \"good\", \"good\", \"good\", \"gordon_bank\", \"gov\", \"government\", \"government\", \"government\", \"gps\", \"gq\", \"gr\", \"graphic\", \"greek\", \"greek\", \"ground\", \"ground\", \"ground\", \"group\", \"group\", \"group\", \"group\", \"guard\", \"guide\", \"guide\", \"gun\", \"gun_control\", \"guru\", \"hall\", \"ham\", \"handgun\", \"hang\", \"happen\", \"happen\", \"hard_drive\", \"harry\", \"hat\", \"hate\", \"have\", \"have\", \"hawk\", \"hawk\", \"hd\", \"health\", \"heart\", \"heart\", \"heat\", \"heavy\", \"hell\", \"helmet\", \"help\", \"help\", \"help\", \"help\", \"help\", \"henry\", \"henry_spencer\", \"hi\", \"high\", \"high\", \"high\", \"high\", \"high\", \"high\", \"high\", \"high\", \"hill\", \"hit\", \"hit\", \"hit\", \"hitter\", \"hockey\", \"hockey_league\", \"hole\", \"homeopathic\", \"homeopathy\", \"homosexual\", \"honor\", \"hospital\", \"host\", \"host\", \"hour\", \"hour\", \"house\", \"house\", \"house\", \"house\", \"however\", \"however\", \"however\", \"hug\", \"human\", \"human\", \"hunt\", \"hurt\", \"ibm\", \"ice\", \"ide\", \"illegal\", \"illinois\", \"image\", \"image\", \"image\", \"imagine\", \"implement\", \"imply\", \"inc\", \"inc\", \"inc\", \"include\", \"include\", \"include\", \"include\", \"include\", \"info\", \"info\", \"info\", \"information\", \"information\", \"information\", \"information\", \"ins_cwru\", \"instal\", \"instal\", \"installation\", \"instance\", \"insurance\", \"int\", \"interactive\", \"internal\", \"international\", \"internet\", \"interview\", \"israel\", \"israeli\", \"issue\", \"issue\", \"issue\", \"issue\", \"jack\", \"jeff\", \"jew\", \"jewish\", \"jewish\", \"job\", \"ken\", \"key\", \"key_escrow\", \"kid\", \"kill\", \"kill\", \"king\", \"km\", \"know\", \"know\", \"know\", \"know\", \"know\", \"kurt\", \"la\", \"lamp\", \"land\", \"land\", \"lane\", \"laptop\", \"large\", \"large\", \"large\", \"large\", \"large\", \"large\", \"large\", \"large\", \"last_night\", \"lately\", \"laugh\", \"launch\", \"law\", \"law\", \"law_enforcement\", \"lawrence\", \"league\", \"lebanon\", \"legal\", \"legal\", \"legend\", \"lemieux\", \"lens\", \"let\", \"let\", \"let\", \"let\", \"level\", \"level\", \"level\", \"level\", \"level\", \"library\", \"libxmu\", \"life\", \"life\", \"life\", \"light\", \"light\", \"like\", \"like\", \"like\", \"limit\", \"line\", \"line\", \"list\", \"list\", \"list\", \"lock\", \"logical\", \"logo\", \"look\", \"look\", \"look\", \"lord\", \"lot\", \"lot\", \"love\", \"love\", \"love\", \"low\", \"low\", \"low\", \"low\", \"ltd\", \"lunar\", \"mac\", \"machine\", \"magazine\", \"magazine\", \"magic\", \"mail\", \"mailing_list\", \"make\", \"make\", \"make\", \"make\", \"man\", \"man\", \"man\", \"man\", \"man\", \"many\", \"many\", \"many\", \"many\", \"many\", \"mar\", \"march\", \"marriage\", \"married\", \"mass\", \"mass\", \"mass\", \"massacre\", \"master\", \"master\", \"material\", \"matthew\", \"max\", \"may\", \"may\", \"may\", \"may\", \"may\", \"mean\", \"mean\", \"mean\", \"mean\", \"mean\", \"medical\", \"medicine\", \"medium\", \"medium\", \"medium\", \"medium\", \"meg\", \"membership\", \"memory\", \"message\", \"message\", \"message\", \"metal\", \"mf\", \"mg\", \"mhz\", \"mid\", \"middle\", \"middle\", \"mike\", \"mike\", \"mike\", \"mile\", \"military\", \"military\", \"militia\", \"miller\", \"million\", \"min\", \"minnesota\", \"misc\", \"mission\", \"mit\", \"mode\", \"model\", \"model\", \"modem\", \"mon\", \"money\", \"money\", \"monitor\", \"monitor\", \"mont_pierce\", \"monthly\", \"moon\", \"moral\", \"mormon\", \"morning\", \"morris\", \"mother\", \"motif\", \"motor\", \"motorcycle\", \"mount\", \"mouse\", \"movement\", \"mr\", \"mr\", \"mr_stephanopoulo\", \"ms_window\", \"msg\", \"much\", \"much\", \"much\", \"multi\", \"multi\", \"must\", \"must\", \"must\", \"must\", \"must\", \"mutlu\", \"mystery\", \"nasa\", \"national\", \"national\", \"national\", \"nc\", \"nec\", \"need\", \"need\", \"need\", \"need\", \"need\", \"need\", \"neighbor\", \"network\", \"network\", \"neutral\", \"never\", \"never\", \"never\", \"never\", \"new\", \"new\", \"new\", \"new\", \"new\", \"new\", \"new\", \"new\", \"new_brunswick\", \"new_york\", \"new_york\", \"new_york\", \"news\", \"news\", \"news\", \"newsgroup\", \"newsletter\", \"nhl\", \"nice\", \"nick\", \"nntp_post\", \"normal\", \"not\", \"not\", \"not\", \"not\", \"nsa\", \"nt\", \"nt\", \"nyi\", \"nyr\", \"object\", \"obvious\", \"offer\", \"offer\", \"ohio\", \"oil\", \"ontario\", \"orbit\", \"org\", \"organization\", \"organization\", \"originator\", \"ott\", \"ought\", \"outlet\", \"package\", \"page\", \"page\", \"pain\", \"painful\", \"panel\", \"part\", \"part\", \"part\", \"part\", \"part\", \"party\", \"passage\", \"patient\", \"paul\", \"pay\", \"pay\", \"pc\", \"peace\", \"penguin\", \"penn_state\", \"people\", \"people\", \"people\", \"people\", \"perhaps\", \"perhaps\", \"period\", \"period\", \"period\", \"permit\", \"peter\", \"phi\", \"phone\", \"phone\", \"phone\", \"physical\", \"pick\", \"pick\", \"pin\", \"pipe\", \"pipe\", \"pit\", \"pitch\", \"pittsburgh\", \"pittsburgh\", \"plane\", \"plate\", \"play\", \"play\", \"play\", \"player\", \"playoff\", \"pm\", \"point\", \"point\", \"point\", \"point\", \"police\", \"policy\", \"pool\", \"pop\", \"population\", \"population\", \"population\", \"port\", \"portion\", \"post\", \"post\", \"post\", \"posting\", \"postscript\", \"power\", \"power\", \"power\", \"power\", \"power\", \"praise\", \"pray\", \"present\", \"present\", \"present\", \"president\", \"pressure\", \"pressure\", \"price\", \"price\", \"price\", \"principle\", \"printer\", \"privacy\", \"private\", \"private\", \"probe\", \"problem\", \"problem\", \"problem\", \"problem\", \"professional\", \"program\", \"program\", \"program\", \"program\", \"prohibit\", \"project\", \"project\", \"promise\", \"properly\", \"properly\", \"protect\", \"prove\", \"prove\", \"pub\", \"public\", \"public\", \"public\", \"pull\", \"pull\", \"punishment\", \"purchase\", \"pure\", \"qax\", \"question\", \"question\", \"question\", \"question\", \"quick\", \"radio\", \"ram\", \"ranger\", \"rat\", \"rather\", \"rather\", \"rating\", \"rd\", \"rd\", \"read\", \"read\", \"read\", \"read\", \"read\", \"read\", \"reader\", \"reason\", \"reason\", \"reason\", \"ref\", \"reference\", \"reference\", \"reference\", \"reference\", \"reference\", \"regulation\", \"relative\", \"relative\", \"relative\", \"religion\", \"reply\", \"reply\", \"reply\", \"reply\", \"reply\", \"report\", \"report\", \"report\", \"report\", \"research\", \"research\", \"research\", \"reserve\", \"reserve_university\", \"resource\", \"respect\", \"restriction\", \"return\", \"return\", \"return\", \"return\", \"return\", \"return\", \"return\", \"return\", \"return\", \"review\", \"richard\", \"richard\", \"rid\", \"ride\", \"right\", \"right\", \"right\", \"right\", \"rise\", \"risk\", \"road\", \"road\", \"road\", \"robert\", \"robert\", \"rocket\", \"rocket\", \"room\", \"room\", \"rough\", \"rule\", \"rule\", \"run\", \"run\", \"run\", \"run\", \"run\", \"run\", \"run\", \"russian\", \"s\", \"s\", \"safely\", \"sale\", \"sale\", \"san_francisco\", \"san_jose\", \"san_jose\", \"satan\", \"satellite\", \"say\", \"say\", \"say\", \"say\", \"scale\", \"scale\", \"schedule\", \"science\", \"science\", \"scientific\", \"scientific\", \"scoop\", \"score\", \"screen\", \"screw\", \"scripture\", \"scsi\", \"seal\", \"search\", \"season\", \"seat\", \"second\", \"second\", \"second\", \"second\", \"second\", \"secretary\", \"secure\", \"security\", \"security\", \"security\", \"see\", \"see\", \"see\", \"see\", \"seize\", \"sell\", \"sell\", \"sell\", \"sell\", \"senate\", \"send\", \"send\", \"send\", \"sense\", \"sense\", \"serdar_argic\", \"server\", \"service\", \"service\", \"service\", \"service\", \"service\", \"set\", \"set\", \"set\", \"set\", \"set\", \"set\", \"setup\", \"sex\", \"shape\", \"shell\", \"shell\", \"shift\", \"shift\", \"shipping\", \"shk\", \"should\", \"signal\", \"sin\", \"sinner\", \"site\", \"site\", \"size\", \"size\", \"size\", \"size\", \"size\", \"size\", \"slap\", \"slave\", \"smith\", \"smith\", \"software\", \"software\", \"soldier\", \"somewhere\", \"soon\", \"soon\", \"soon\", \"soul\", \"sound\", \"sound\", \"sound\", \"source\", \"source\", \"source\", \"source\", \"source\", \"soviet\", \"space\", \"spacecraft\", \"spank\", \"spanking\", \"speaker\", \"specifically\", \"stand\", \"standard\", \"standard\", \"standard\", \"start\", \"start\", \"start\", \"start\", \"stat\", \"state\", \"state\", \"state\", \"state\", \"statement\", \"station\", \"statistic\", \"stay\", \"steer\", \"stick\", \"stl\", \"stop\", \"stop\", \"stop\", \"string\", \"student\", \"student\", \"student\", \"study\", \"study\", \"stupid\", \"success\", \"suck\", \"sumgait\", \"summer\", \"sun\", \"sunday\", \"supply\", \"supply\", \"supply\", \"support\", \"support\", \"support\", \"support\", \"support\", \"switch\", \"system\", \"system\", \"system\", \"system\", \"system\", \"system\", \"table\", \"table\", \"take\", \"take\", \"take\", \"talk\", \"talk\", \"talk\", \"talk\", \"tampa_bay\", \"tank\", \"tap\", \"tape\", \"tax\", \"tax\", \"teach\", \"team\", \"technology\", \"technology\", \"technology\", \"tel\", \"tell\", \"tell\", \"tell\", \"tell\", \"tell\", \"term\", \"term\", \"terminal\", \"territory\", \"terrorist\", \"texas\", \"text\", \"text\", \"thank\", \"thank\", \"thank\", \"that\", \"that\", \"theory\", \"thing\", \"thing\", \"thing\", \"thing\", \"think\", \"think\", \"think\", \"think\", \"thinking\", \"thus\", \"thus\", \"thus\", \"ticket\", \"tiger\", \"time\", \"time\", \"time\", \"time\", \"time\", \"timeout\", \"timer\", \"tm\", \"today\", \"today\", \"today\", \"today\", \"today\", \"tomorrow\", \"tonight\", \"tor\", \"toronto_zoology\", \"total\", \"total\", \"total\", \"total\", \"trade\", \"trade\", \"trade\", \"train\", \"treatment\", \"tree\", \"trial\", \"true\", \"true\", \"true\", \"true\", \"truth\", \"truth\", \"try\", \"try\", \"try\", \"try\", \"turk\", \"turkey\", \"turkish\", \"unit\", \"unit\", \"unit\", \"univ\", \"univ\", \"university\", \"university\", \"university\", \"university\", \"university\", \"university\", \"upgrade\", \"urbana\", \"usa\", \"usa\", \"usa\", \"usa\", \"usa\", \"use\", \"use\", \"use\", \"use\", \"use\", \"use\", \"use\", \"useful\", \"usenet\", \"user\", \"user\", \"user\", \"value\", \"value\", \"value\", \"van\", \"vancouver\", \"vay\", \"vay\", \"vay\", \"vay\", \"verse\", \"version\", \"version\", \"vesa\", \"vesa_local\", \"vga\", \"video\", \"view\", \"view\", \"view\", \"vlb\", \"voice\", \"volt\", \"voltage\", \"vote\", \"vote\", \"vram\", \"wait\", \"wait\", \"wait\", \"wait\", \"wall\", \"want\", \"want\", \"want\", \"want\", \"washington\", \"washington\", \"water\", \"wave\", \"way\", \"way\", \"way\", \"weapon\", \"weekend\", \"well\", \"well\", \"well\", \"widget\", \"win\", \"win\", \"win\", \"wind\", \"window\", \"window_manager\", \"wing\", \"wing\", \"winnipeg_jet\", \"wire\", \"wiretap\", \"wiring\", \"woman\", \"woman\", \"wonder\", \"wonder\", \"word\", \"word\", \"word\", \"word\", \"work\", \"work\", \"work\", \"work\", \"work\", \"work\", \"work\", \"world\", \"world\", \"world\", \"world\", \"world\", \"worship\", \"would\", \"would\", \"would\", \"would\", \"write\", \"write\", \"write\", \"write\", \"xfree\", \"xga\", \"xlib\", \"xterm\", \"yalanci\", \"yalanci\", \"yalanci\", \"yalanci\", \"yalanci\", \"yalanci\", \"yalanci\", \"yalanci\", \"yalanci\", \"yalanci\", \"yalanci\", \"yalanci\", \"yalanci\", \"year\", \"year\", \"year\", \"year\", \"year\", \"year\", \"yesterday\", \"yet\", \"yet\", \"young\", \"young\", \"zoroastrian\"], \"Freq\": [0.9988932013511658, 0.8100888133049011, 0.1765434890985489, 0.012291002087295055, 0.9986064434051514, 0.9987740516662598, 0.9976640343666077, 0.9964586496353149, 0.8561174869537354, 0.1418709009885788, 0.18945534527301788, 0.8051851987838745, 0.9941498637199402, 0.9970772862434387, 0.9919811487197876, 0.9969154000282288, 0.26070353388786316, 0.37296614050865173, 0.058104660362005234, 0.06512106955051422, 0.20325668156147003, 0.01512913778424263, 0.024557441473007202, 0.990302324295044, 0.3094799220561981, 0.14858822524547577, 0.5413532853126526, 0.9954593181610107, 0.9867259860038757, 0.26908934116363525, 0.7260334491729736, 0.996055543422699, 0.9944477677345276, 0.9941050410270691, 0.9921889305114746, 0.0701737329363823, 0.8914663195610046, 0.037252720445394516, 0.9979072213172913, 0.9997143745422363, 0.9959170818328857, 0.9988113641738892, 0.2521570920944214, 0.7463850378990173, 0.882034420967102, 0.11679111421108246, 0.9969842433929443, 0.43774887919425964, 0.12052306532859802, 0.08754977583885193, 0.03411030024290085, 0.027288241311907768, 0.06480957567691803, 0.22740201652050018, 0.9981791377067566, 0.9952573180198669, 0.9995958209037781, 0.03273579105734825, 0.9633676409721375, 0.9981615543365479, 0.07976321130990982, 0.03589344397187233, 0.26321858167648315, 0.6181648373603821, 0.8884390592575073, 0.10242094099521637, 0.009095295332372189, 0.9974969029426575, 0.995040774345398, 0.9962744116783142, 0.9882038831710815, 0.07651398330926895, 0.07651398330926895, 0.845680832862854, 0.9983780384063721, 0.9977118968963623, 0.9951478242874146, 0.9973029494285583, 0.9967981576919556, 0.9109370112419128, 0.08823537081480026, 0.016898076981306076, 0.980088472366333, 0.01612265035510063, 0.9120813608169556, 0.07140030711889267, 0.9999749064445496, 0.9967132210731506, 0.9947925806045532, 0.994426965713501, 0.9922460913658142, 0.6214820742607117, 0.3742626905441284, 0.9969315528869629, 0.9968096613883972, 0.9944204688072205, 0.9904798269271851, 0.4620901942253113, 0.5377591848373413, 0.9973008036613464, 0.3588133752346039, 0.3753807246685028, 0.26551318168640137, 0.9988608360290527, 0.998982846736908, 0.1813490092754364, 0.0675494596362114, 0.42963892221450806, 0.3207077980041504, 0.9883532524108887, 0.13127531111240387, 0.10559100657701492, 0.7619675397872925, 0.4150439500808716, 0.5810615420341492, 0.9985314011573792, 0.017624391242861748, 0.9630471467971802, 0.017624391242861748, 0.9923301935195923, 0.992017388343811, 0.38767382502555847, 0.31276735663414, 0.22800476849079132, 0.07162109762430191, 0.9973770976066589, 0.996950089931488, 0.996644914150238, 0.9897067546844482, 0.9905245900154114, 0.9677099585533142, 0.028886863961815834, 0.9914152026176453, 0.9955993890762329, 0.995065450668335, 0.9943504333496094, 0.9885604977607727, 0.9965134859085083, 0.9923566579818726, 0.9961305260658264, 0.9931245446205139, 0.2493494749069214, 0.07423381507396698, 0.16559849679470062, 0.04663406312465668, 0.369265615940094, 0.09421984106302261, 0.8797532916069031, 0.11881726235151291, 0.572835385799408, 0.4264441132545471, 0.997078001499176, 0.993973433971405, 0.9995831847190857, 0.8926596641540527, 0.10708316415548325, 0.6017597317695618, 0.3980584442615509, 0.9941667914390564, 0.22012610733509064, 0.25404492020606995, 0.24608437716960907, 0.003461102256551385, 0.24158494174480438, 0.03426491469144821, 0.9904331564903259, 0.06287331134080887, 0.6772353649139404, 0.2568823993206024, 0.9976677894592285, 0.99223792552948, 0.9910852313041687, 0.9943159818649292, 0.9995979070663452, 0.9694012403488159, 0.029812442138791084, 0.3940274119377136, 0.4156407117843628, 0.18953216075897217, 0.20059721171855927, 0.5840559005737305, 0.03241357579827309, 0.18224990367889404, 0.0006115768919698894, 0.9971960186958313, 0.9918165802955627, 0.9909676909446716, 0.2068733125925064, 0.039446182548999786, 0.4838731586933136, 0.011395564302802086, 0.022791128605604172, 0.23492392897605896, 0.9954234957695007, 0.9936134815216064, 0.22087538242340088, 0.5257794260978699, 0.25208601355552673, 0.9974246621131897, 0.9965170621871948, 0.9981095194816589, 0.6173654198646545, 0.381394624710083, 0.9988114237785339, 0.9913057684898376, 0.9963534474372864, 0.9994063973426819, 0.9979215264320374, 0.9974891543388367, 0.9967795610427856, 0.9972596764564514, 0.9923377633094788, 0.9977217316627502, 0.9893513917922974, 0.9935219287872314, 0.9341883063316345, 0.06546518951654434, 0.9964514970779419, 0.04171377792954445, 0.956437349319458, 0.9982543587684631, 0.997608482837677, 0.9955641031265259, 0.9985224604606628, 0.9980770945549011, 0.9946067333221436, 0.4719770848751068, 0.2546481192111969, 0.272210031747818, 0.9940222501754761, 0.9987967014312744, 0.19604884088039398, 0.0041088080033659935, 0.6982038617134094, 0.016435232013463974, 0.08540450781583786, 0.9941684603691101, 0.11147414892911911, 0.886608362197876, 0.071748286485672, 0.9233692288398743, 0.9942467212677002, 0.9967046976089478, 0.5693060755729675, 0.42386293411254883, 0.9947502017021179, 0.9987360239028931, 0.9939907789230347, 0.9966044425964355, 0.9800368547439575, 0.01702297292649746, 0.9919473528862, 0.9979317784309387, 0.9925808310508728, 0.021476512774825096, 0.9020135402679443, 0.07516779005527496, 0.9974765777587891, 0.17019963264465332, 0.7490220069885254, 0.0524243600666523, 0.027289392426609993, 0.9971780180931091, 0.9934374690055847, 0.9976898431777954, 0.3258739411830902, 0.08713206648826599, 0.4548293948173523, 0.130698099732399, 0.997489333152771, 0.13924691081047058, 0.345459908246994, 0.04570700228214264, 0.0818474218249321, 0.008503627963364124, 0.19983525574207306, 0.17857618629932404, 0.9964323043823242, 0.9931958317756653, 0.9964770674705505, 0.4349674582481384, 0.25261572003364563, 0.07528283447027206, 0.23421324789524078, 0.996766209602356, 0.050224170088768005, 0.949134349822998, 0.3402891755104065, 0.12077409029006958, 0.5214502811431885, 0.01740887761116028, 0.9960240125656128, 0.9951437711715698, 0.19857022166252136, 0.5330042839050293, 0.26708275079727173, 0.9963836073875427, 0.25898653268814087, 0.2658744752407074, 0.4738902747631073, 0.9958371520042419, 0.9972368478775024, 0.9975811839103699, 0.9981375336647034, 0.995164155960083, 0.9948335886001587, 0.9858447313308716, 0.0025458987802267075, 0.0025458987802267075, 0.0025458987802267075, 0.0025458987802267075, 0.005091797560453415, 0.0025458987802267075, 0.9750791788101196, 0.005091797560453415, 0.2839966416358948, 0.19234317541122437, 0.1432892084121704, 0.09939882159233093, 0.2788330614566803, 0.991969645023346, 0.9934108853340149, 0.993641197681427, 0.9917380213737488, 0.9920769333839417, 0.14214664697647095, 0.3836137354373932, 0.09020845592021942, 0.276092529296875, 0.1075211837887764, 0.09271535277366638, 0.33095860481262207, 0.23120157420635223, 0.048118095844984055, 0.295750230550766, 0.9973084926605225, 0.051455263048410416, 0.7416361570358276, 0.008079751394689083, 0.061661265790462494, 0.13693052530288696, 0.9957731366157532, 0.9836498498916626, 0.4465980529785156, 0.42772769927978516, 0.12422974407672882, 0.997580349445343, 0.9948615431785583, 0.9929929375648499, 0.9959734082221985, 0.9946869015693665, 0.4147825539112091, 0.2722010612487793, 0.2803022861480713, 0.03240488842129707, 0.7598109841346741, 0.23744092881679535, 0.902193009853363, 0.09253261983394623, 0.3975173830986023, 0.2492128163576126, 0.3516499996185303, 0.9961284399032593, 0.9932451844215393, 0.9884646534919739, 0.9959844946861267, 0.18565164506435394, 0.2943257689476013, 0.5184661746025085, 0.9965260624885559, 0.3000546395778656, 0.6981759071350098, 0.9975868463516235, 0.452419251203537, 0.5465879440307617, 0.9976329207420349, 0.9888468384742737, 0.9973869919776917, 0.9972560405731201, 0.958583414554596, 0.039373092353343964, 0.9948983192443848, 0.9355880618095398, 0.06301888078451157, 0.9988985657691956, 0.9091399908065796, 0.08893760293722153, 0.9255440831184387, 0.07311300188302994, 0.8625000715255737, 0.023492220789194107, 0.046984441578388214, 0.06712062656879425, 0.9950402975082397, 0.18921980261802673, 0.2015068084001541, 0.6069778203964233, 0.20516575872898102, 0.0028694511856883764, 0.7106674313545227, 0.08101417124271393, 0.0001912967418320477, 0.9973976016044617, 0.9962326288223267, 0.9960698485374451, 0.9974378943443298, 0.995710551738739, 0.9965462684631348, 0.9961134791374207, 0.9918662309646606, 0.9935154318809509, 0.32248175144195557, 0.6770173907279968, 0.18830159306526184, 0.8099108338356018, 0.9978542923927307, 0.30171433091163635, 0.29477837681770325, 0.40228575468063354, 0.9968006014823914, 0.9940671324729919, 0.996921181678772, 0.9911078810691833, 0.9968839883804321, 0.9915270209312439, 0.9919365644454956, 0.9975702166557312, 0.6840303540229797, 0.3135139048099518, 0.3482210636138916, 0.5035678148269653, 0.14661939442157745, 0.9917614459991455, 0.9979502558708191, 0.9986472129821777, 0.9958593845367432, 0.9980065822601318, 0.9984949231147766, 0.8498906493186951, 0.14763358235359192, 0.9945237636566162, 0.9354645013809204, 0.06050267815589905, 0.995694637298584, 0.9837871789932251, 0.14332494139671326, 0.7434981465339661, 0.10749370604753494, 0.23964408040046692, 0.46723058819770813, 0.0135647589340806, 0.2788311541080475, 0.9896829724311829, 0.996119499206543, 0.9957157373428345, 0.10102874785661697, 0.27131620049476624, 0.6236460208892822, 0.0012708018766716123, 0.0025416037533432245, 0.8929003477096558, 0.08688244968652725, 0.019888753071427345, 0.9965624809265137, 0.9380443096160889, 0.06131529062986374, 0.9967657923698425, 0.33048349618911743, 0.6660907864570618, 0.25835806131362915, 0.7376310229301453, 0.983640193939209, 0.01464476715773344, 0.7990398406982422, 0.20086055994033813, 0.9972756505012512, 0.9953439831733704, 0.9983757138252258, 0.12037303298711777, 0.8785119652748108, 0.995904803276062, 0.13464632630348206, 0.846744954586029, 0.016657277941703796, 0.9939441084861755, 0.9911434054374695, 0.9964975118637085, 0.4729161262512207, 0.5223714113235474, 0.9479441046714783, 0.05118007957935333, 0.31518125534057617, 0.0663539469242096, 0.6161438226699829, 0.9878181219100952, 0.9975915551185608, 0.9941037893295288, 0.3081345558166504, 0.1328166127204895, 0.5578297972679138, 0.9952957034111023, 0.9934460520744324, 0.21440869569778442, 0.3212672173976898, 0.21855853497982025, 0.0387318916618824, 0.023515792563557625, 0.05048978701233864, 0.081267811357975, 0.04530248045921326, 0.0055331275798380375, 0.997033417224884, 0.10029888153076172, 0.7279757261276245, 0.16824328899383545, 0.6049677133560181, 0.06541813910007477, 0.2292635589838028, 0.06061680614948273, 0.03901081532239914, 0.9985686540603638, 0.6179917454719543, 0.033404961228370667, 0.346576452255249, 0.20275162160396576, 0.7938241958618164, 0.9882410764694214, 0.006459091790020466, 0.9992474317550659, 0.9953064322471619, 0.99537593126297, 0.9885042905807495, 0.9907094836235046, 0.9927317500114441, 0.9948622584342957, 0.9928597807884216, 0.9950289726257324, 0.9950352907180786, 0.9910208582878113, 0.10769544541835785, 0.16346628963947296, 0.7269442081451416, 0.9991017580032349, 0.9969233870506287, 0.995098888874054, 0.9938612580299377, 0.9896008968353271, 0.9949071407318115, 0.9963476657867432, 0.9712790846824646, 0.027105463668704033, 0.9950771927833557, 0.5482325553894043, 0.3826099932193756, 0.06916747987270355, 0.9909148216247559, 0.9948092699050903, 0.9965526461601257, 0.23011334240436554, 0.40583106875419617, 0.3636815845966339, 0.14558695256710052, 0.8413030505180359, 0.01292191818356514, 0.9978717565536499, 0.9994860291481018, 0.9890086650848389, 0.6055521368980408, 0.068487249314785, 0.27523428201675415, 0.009915044531226158, 0.04076185077428818, 0.9959819316864014, 0.9953492283821106, 0.9242813587188721, 0.035505231469869614, 0.04008655250072479, 0.9931644797325134, 0.9868556261062622, 0.9864777326583862, 0.9989111423492432, 0.20213006436824799, 0.7975349426269531, 0.1991519182920456, 0.1354885995388031, 0.6643838882446289, 0.5301977396011353, 0.13732483983039856, 0.32679179310798645, 0.005162587855011225, 0.9954688549041748, 0.21416695415973663, 0.7832391262054443, 0.9995877146720886, 0.9937791228294373, 0.9890018105506897, 0.9959075450897217, 0.9967288374900818, 0.9940776824951172, 0.9985506534576416, 0.008697958663105965, 0.990776538848877, 0.9976115226745605, 0.9931316375732422, 0.9961113929748535, 0.9981762766838074, 0.5020098090171814, 0.4979117810726166, 0.06709351390600204, 0.9297244548797607, 0.9982633590698242, 0.9981837272644043, 0.8349785804748535, 0.1596771776676178, 0.9896444082260132, 0.9948027729988098, 0.9986171126365662, 0.9947550892829895, 0.5570746660232544, 0.062202099710702896, 0.07683788985013962, 0.23966102302074432, 0.06403157114982605, 0.9899899959564209, 0.9970614910125732, 0.9954397678375244, 0.43064603209495544, 0.06152086332440376, 0.0702061578631401, 0.062968410551548, 0.03256986662745476, 0.03329364210367203, 0.06948238611221313, 0.23884570598602295, 0.9913852214813232, 0.335863322019577, 0.378638356924057, 0.2835826873779297, 0.9878586530685425, 0.9984034299850464, 0.996036946773529, 0.9955540299415588, 0.9965976476669312, 0.9977410435676575, 0.9940608739852905, 0.9942711591720581, 0.9932403564453125, 0.9844456315040588, 0.015182992443442345, 0.3388831615447998, 0.6596441864967346, 0.314336359500885, 0.41498592495918274, 0.02787218801677227, 0.2415589690208435, 0.17397674918174744, 0.7599653601646423, 0.06551425158977509, 0.993420422077179, 0.6219589710235596, 0.37717190384864807, 0.9967250823974609, 0.9975401163101196, 0.9978567361831665, 0.9957748651504517, 0.9957738518714905, 0.9947085380554199, 0.998632550239563, 0.24015003442764282, 0.7585226893424988, 0.0009762196568772197, 0.9972934126853943, 0.992817223072052, 0.9979836940765381, 0.8138806223869324, 0.18190179765224457, 0.0031183166429400444, 0.17866043746471405, 0.7800589799880981, 0.004397795535624027, 0.02198897674679756, 0.014292835257947445, 0.098008893430233, 0.2486792802810669, 0.6531488299369812, 0.0637575164437294, 0.7436825037002563, 0.1610226184129715, 0.03118068166077137, 0.9948462843894958, 0.9634132385253906, 0.034995779395103455, 0.9929921627044678, 0.9950196146965027, 0.9965271353721619, 0.9876330494880676, 0.9910626411437988, 0.9971523284912109, 0.996753454208374, 0.9985920786857605, 0.9910549521446228, 0.9992113709449768, 0.9987334609031677, 0.7953678369522095, 0.019649259746074677, 0.17171743512153625, 0.01196041889488697, 0.9967498779296875, 0.9953761696815491, 0.9971511363983154, 0.47611382603645325, 0.5216551423072815, 0.9978868961334229, 0.9895724058151245, 0.9991512298583984, 0.9971747994422913, 0.9985029697418213, 0.6395493745803833, 0.3594614267349243, 0.997224748134613, 0.994918167591095, 0.4308641850948334, 0.07802727818489075, 0.4595244526863098, 0.006719396915286779, 0.024820629507303238, 0.9930938482284546, 0.9943511486053467, 0.9924445748329163, 0.18798664212226868, 0.808569073677063, 0.9896692633628845, 0.9977809190750122, 0.26683852076530457, 0.21530316770076752, 0.11795864999294281, 0.01946890354156494, 0.0767303854227066, 0.011452296748757362, 0.049244873225688934, 0.24278868734836578, 0.9955774545669556, 0.9881592392921448, 0.9943857789039612, 0.9978301525115967, 0.3177184760570526, 0.6814830899238586, 0.9966841340065002, 0.9894276857376099, 0.9979082942008972, 0.9940775632858276, 0.9673959612846375, 0.029513774439692497, 0.9922341108322144, 0.9961743950843811, 0.9835281372070312, 0.16740168631076813, 0.03549152612686157, 0.7896864414215088, 0.0070983050391077995, 0.1773524135351181, 0.3794820010662079, 0.06520309299230576, 0.32731953263282776, 0.04955435171723366, 0.9985538721084595, 0.9941116571426392, 0.17823682725429535, 0.41122981905937195, 0.41011232137680054, 0.10590081661939621, 0.8919533491134644, 0.8960614204406738, 0.0827803909778595, 0.018879739567637444, 0.9975064992904663, 0.9800317287445068, 0.019933661445975304, 0.8818835616111755, 0.03660955652594566, 0.08054102212190628, 0.9974372982978821, 0.9932277202606201, 0.9945129156112671, 0.6093634366989136, 0.307303249835968, 0.083015576004982, 0.9961639046669006, 0.6153292059898376, 0.38426679372787476, 0.18156929314136505, 0.29345524311065674, 0.5240973234176636, 0.4495469629764557, 0.03289368003606796, 0.23025576770305634, 0.2850785553455353, 0.9885696768760681, 0.995954692363739, 0.9988242387771606, 0.9981776475906372, 0.9008665680885315, 0.09592560678720474, 0.9939720034599304, 0.9994978904724121, 0.9942587018013, 0.25069141387939453, 0.36639514565467834, 0.3798938989639282, 0.0029802476055920124, 0.33127424120903015, 0.5488567352294922, 0.01372141856700182, 0.06926049292087555, 0.03659044951200485, 0.1072433590888977, 0.6107113361358643, 0.22672253847122192, 0.0014395081670954823, 0.05362167954444885, 0.9968607425689697, 0.9977821111679077, 0.995323657989502, 0.9899551868438721, 0.39440712332725525, 0.037819862365722656, 0.5672979354858398, 0.995951235294342, 0.0203038789331913, 0.9745861291885376, 0.9981777667999268, 0.9984625577926636, 0.9996584057807922, 0.3035750389099121, 0.5854661464691162, 0.07309944182634354, 0.025931300595402718, 0.011847921647131443, 0.07878167182207108, 0.7085997462272644, 0.20587696135044098, 0.0030468048062175512, 0.0034820628352463245, 0.9982359409332275, 0.9968672394752502, 0.16899347305297852, 0.19152593612670898, 0.0337986946105957, 0.6061232089996338, 0.9969042539596558, 0.9966980814933777, 0.9988061785697937, 0.19454622268676758, 0.4899981617927551, 0.3148258328437805, 0.9947320818901062, 0.9946761131286621, 0.9937095642089844, 0.9960812330245972, 0.9917803406715393, 0.300486296415329, 0.6965818405151367, 0.09786299616098404, 0.6990213990211487, 0.20271620154380798, 0.9962227940559387, 0.19260500371456146, 0.8046609163284302, 0.9940919876098633, 0.9956521987915039, 0.9955511689186096, 0.9974201917648315, 0.995026171207428, 0.9925962090492249, 0.9968562722206116, 0.9962968826293945, 0.9982382655143738, 0.6107518672943115, 0.3869359791278839, 0.9981862306594849, 0.9967129826545715, 0.9071681499481201, 0.09254157543182373, 0.9703137278556824, 0.027872566133737564, 0.9902575612068176, 0.9939801096916199, 0.9956153631210327, 0.995795488357544, 0.9911516904830933, 0.9980632662773132, 0.9936508536338806, 0.9980319738388062, 0.9986079335212708, 0.9973346590995789, 0.9957591891288757, 0.9951069355010986, 0.9966858625411987, 0.9959994554519653, 0.8364636898040771, 0.15896594524383545, 0.9993472099304199, 0.9810417294502258, 0.9974186420440674, 0.5568318367004395, 0.15601198375225067, 0.2865526080131531, 0.12928371131420135, 0.8680477738380432, 0.08552595227956772, 0.8104357123374939, 0.06852380931377411, 0.022154314443469048, 0.012880414724349976, 0.9931261539459229, 0.9937880635261536, 0.9967523217201233, 0.6926174759864807, 0.30662184953689575, 0.0010873115388676524, 0.983027994632721, 0.9970479011535645, 0.5839298367500305, 0.09522924572229385, 0.06338409334421158, 0.1399349421262741, 0.016841184347867966, 0.10074090957641602, 0.995843768119812, 0.8552350401878357, 0.14425651729106903, 0.9951345920562744, 0.17795473337173462, 0.040791917592287064, 0.7342544794082642, 0.046400804072618484, 0.43483400344848633, 0.17648208141326904, 0.0038227166514843702, 0.012423829175531864, 0.20228542387485504, 0.033767327666282654, 0.10639894008636475, 0.029944613575935364, 0.9908027648925781, 0.33627012372016907, 0.49760204553604126, 0.16327567398548126, 0.400025337934494, 0.3452935218811035, 0.25434207916259766, 0.9973871111869812, 0.9930914640426636, 0.9980400204658508, 0.9988369345664978, 0.9885315895080566, 0.9998899698257446, 0.9979091286659241, 0.24547642469406128, 0.024363534525036812, 0.7296172976493835, 0.0004909528652206063, 0.9938285946846008, 0.9755603671073914, 0.020610429346561432, 0.9954246878623962, 0.9933449029922485, 0.9973989725112915, 0.9977311491966248, 0.26466143131256104, 0.734682559967041, 0.9953281879425049, 0.998859703540802, 0.9959322214126587, 0.9959802031517029, 0.9903920888900757, 0.9975009560585022, 0.002423297381028533, 0.9964898228645325, 0.9919490814208984, 0.9869256019592285, 0.9968808889389038, 0.998115062713623, 0.3430958092212677, 0.6555970907211304, 0.9954738616943359, 0.9918849468231201, 0.9944860339164734, 0.13284164667129517, 0.6754872798919678, 0.12970858812332153, 0.05764826387166977, 0.004386281128972769, 0.9964144825935364, 0.9966568350791931, 0.9975047707557678, 0.9988366365432739, 0.5414693355560303, 0.456991970539093, 0.9986891746520996, 0.997215986251831, 0.9920494556427002, 0.9812317490577698, 0.35076311230659485, 0.5961586236953735, 0.03505650535225868, 0.018023401498794556, 0.17579412460327148, 0.8232843279838562, 0.3908558487892151, 0.07374638319015503, 0.5334321856498718, 0.9976065754890442, 0.9990100264549255, 0.9943603277206421, 0.20117104053497314, 0.6979653835296631, 0.09935886412858963, 0.9954716563224792, 0.35189488530158997, 0.6464585661888123, 0.9970898628234863, 0.899147093296051, 0.09382404386997223, 0.9963669180870056, 0.9941567778587341, 0.4978350102901459, 0.5004830360412598, 0.9943608641624451, 0.9924754500389099, 0.1474066525697708, 0.11869106441736221, 0.7332044839859009, 0.9987552762031555, 0.9965255856513977, 0.9964076280593872, 0.08344397693872452, 0.6524154543876648, 0.21152077615261078, 0.0523950532078743, 0.9988796710968018, 0.9983484148979187, 0.9963605403900146, 0.9939042329788208, 0.15565477311611176, 0.15254166722297668, 0.6911071538925171, 0.9979546070098877, 0.9884486198425293, 0.36088111996650696, 0.37926995754241943, 0.25935935974121094, 0.9961638450622559, 0.9880200624465942, 0.3356567621231079, 0.17610394954681396, 0.08606583625078201, 0.3495597243309021, 0.05163950100541115, 0.9881613254547119, 0.9971792101860046, 0.9795336723327637, 0.0016084295930340886, 0.016084296628832817, 0.999548077583313, 0.048233211040496826, 0.9453709721565247, 0.1965664029121399, 0.046941228210926056, 0.754971444606781, 0.9973583221435547, 0.9961762428283691, 0.9965447783470154, 0.8556385636329651, 0.1421419084072113, 0.997683584690094, 0.40619292855262756, 0.16201332211494446, 0.07653389871120453, 0.3548389971256256, 0.993303656578064, 0.2690041959285736, 0.7134190201759338, 0.0037189521826803684, 0.013016332872211933, 0.9929049611091614, 0.3111525774002075, 0.6872081160545349, 0.998069703578949, 0.2059633880853653, 0.7935648560523987, 0.9986602067947388, 0.10016269981861115, 0.8974578380584717, 0.995972752571106, 0.0813307836651802, 0.7558340430259705, 0.16157715022563934, 0.7424188852310181, 0.2548971474170685, 0.9971699714660645, 0.9974613189697266, 0.9849345088005066, 0.9910014271736145, 0.3589077591896057, 0.6322077512741089, 0.004656487610191107, 0.003940104972571135, 0.995193362236023, 0.9978406429290771, 0.9971384406089783, 0.9933806657791138, 0.9918379187583923, 0.19710737466812134, 0.801461398601532, 0.9945439100265503, 0.9526955485343933, 0.04345628619194031, 0.39346033334732056, 0.5060847401618958, 0.061387546360492706, 0.007733864244073629, 0.013050896115601063, 0.0174011941999197, 0.9974091053009033, 0.0639772117137909, 0.827225387096405, 0.10812149196863174, 0.9894304871559143, 0.5068181157112122, 0.1408996433019638, 0.04942002519965172, 0.2765418291091919, 0.024184267967939377, 0.9942513108253479, 0.08394890278577805, 0.862808108329773, 0.04663827642798424, 0.9984177947044373, 0.935407280921936, 0.010694734752178192, 0.005729321856051683, 0.02520901709794998, 0.022917287424206734, 0.37725675106048584, 0.2654769718647003, 0.04890365153551102, 0.30623000860214233, 0.2569023370742798, 0.4739203155040741, 0.2674599885940552, 0.9967244863510132, 0.9964554309844971, 0.9933589696884155, 0.9982666373252869, 0.9925972819328308, 0.08959721773862839, 0.20676282048225403, 0.22330383956432343, 0.015162606723606586, 0.12130085378885269, 0.07029935717582703, 0.048244658857584, 0.022054700180888176, 0.20262755453586578, 0.9978936910629272, 0.13246285915374756, 0.8627986311912537, 0.9953986406326294, 0.9971432685852051, 0.17528744041919708, 0.11641480773687363, 0.4380522668361664, 0.2697497308254242, 0.9981313347816467, 0.994121253490448, 0.5229501724243164, 0.07470716536045074, 0.4019956886768341, 0.9969649910926819, 0.001613211934454739, 0.86554354429245, 0.1294616460800171, 0.5054920315742493, 0.4916902184486389, 0.9928527474403381, 0.9820518493652344, 0.01711350306868553, 0.34669989347457886, 0.07681861519813538, 0.41945403814315796, 0.09063784033060074, 0.004470924846827984, 0.042270563542842865, 0.01869659498333931, 0.997632622718811, 0.11028275638818741, 0.8894892930984497, 0.987110435962677, 0.4392586052417755, 0.5597708821296692, 0.9962782859802246, 0.9193910360336304, 0.07525264471769333, 0.9928125143051147, 0.9965232014656067, 0.0007240006234496832, 0.18389615416526794, 0.7502094507217407, 0.06501525640487671, 0.13265645503997803, 0.8598102927207947, 0.9957008361816406, 0.10252894461154938, 0.8952527046203613, 0.11248115450143814, 0.8851777911186218, 0.9904969930648804, 0.998139500617981, 0.9989807605743408, 0.9949889779090881, 0.9945862293243408, 0.9973965883255005, 0.993518054485321, 0.995982825756073, 0.9982897639274597, 0.9947955012321472, 0.4321720004081726, 0.3383289575576782, 0.055976565927267075, 0.013994141481816769, 0.15887466073036194, 0.988732099533081, 0.9952527284622192, 0.11439982801675797, 0.7260887026786804, 0.15642425417900085, 0.1924126148223877, 0.2330155223608017, 0.5621245503425598, 0.012180869467556477, 0.9922972321510315, 0.16878505051136017, 0.07672048360109329, 0.0473109632730484, 0.7058284282684326, 0.9970850944519043, 0.006931660696864128, 0.14903070032596588, 0.8435831069946289, 0.9852660298347473, 0.011928160674870014, 0.9981697201728821, 0.9981041550636292, 0.005444380920380354, 0.14482054114341736, 0.7110361456871033, 0.10235436260700226, 0.034844037145376205, 0.20483820140361786, 0.18741998076438904, 0.40270909667015076, 0.08430415391921997, 0.01254111435264349, 0.10799292474985123, 0.9983230829238892, 0.9960406422615051, 0.993434488773346, 0.12378709018230438, 0.8718916773796082, 0.12232967466115952, 0.8685407042503357, 0.9932668805122375, 0.9931645393371582, 0.9964597225189209, 0.9969943761825562, 0.9953615665435791, 0.9912894368171692, 0.9673158526420593, 0.030228620395064354, 0.5326775312423706, 0.005041112191975117, 0.04200926795601845, 0.09074002504348755, 0.1461922526359558, 0.1814800500869751, 0.993579089641571, 0.9948235154151917, 0.9679574966430664, 0.027054712176322937, 0.3584791123867035, 0.6403123736381531, 0.9954593777656555, 0.9948866963386536, 0.46218860149383545, 0.08368846774101257, 0.45267853140830994, 0.9926751255989075, 0.914697527885437, 0.05473780259490013, 0.02880937047302723, 0.7778863310813904, 0.06977404654026031, 0.0009428925113752484, 0.1235189214348793, 0.027343882247805595, 0.9908459782600403, 0.9992964863777161, 0.9945839047431946, 0.998458743095398, 0.9972181916236877, 0.9960448741912842, 0.9974195957183838, 0.9984608292579651, 0.33617931604385376, 0.5103972554206848, 0.15233124792575836, 0.12257543951272964, 0.787680447101593, 0.07141351699829102, 0.017586911097168922, 0.9969943165779114, 0.28403133153915405, 0.2786487936973572, 0.3900255262851715, 0.04720054194331169, 0.9982247352600098, 0.9977706670761108, 0.995003879070282, 0.9968141317367554, 0.9841326475143433, 0.9970281720161438, 0.9946622848510742, 0.06746943295001984, 0.8523179292678833, 0.07986177504062653, 0.9935813546180725, 0.1834237426519394, 0.7884838581085205, 0.026203390210866928, 0.2796770930290222, 0.7187556624412537, 0.9951770305633545, 0.997238039970398, 0.993334174156189, 0.997083306312561, 0.9953107237815857, 0.9983856081962585, 0.9964603185653687, 0.26109492778778076, 0.14919710159301758, 0.5893285870552063, 0.30664965510368347, 0.04363394156098366, 0.34119319915771484, 0.21453355252742767, 0.09393417835235596, 0.9982587099075317, 0.014494411647319794, 0.2011469304561615, 0.38070014119148254, 0.1260126382112503, 0.1973014771938324, 0.08016297221183777, 0.03797173872590065, 0.9568877816200256, 0.15131603181362152, 0.12210444360971451, 0.7262001037597656, 0.0023582386784255505, 0.14070823788642883, 0.8363886475563049, 0.020438069477677345, 0.9916562438011169, 0.9984059929847717, 0.9958535432815552, 0.9986019134521484, 0.93447345495224, 0.06451821327209473, 0.9971212148666382, 0.9996673464775085, 0.38991522789001465, 0.45083948969841003, 0.15840306878089905, 0.9941393136978149, 0.13999775052070618, 0.05308903753757477, 0.8034140467643738, 0.0007865042425692081, 0.0023595127277076244, 0.9917444586753845, 0.006370949558913708, 0.9955206513404846, 0.9924817085266113, 0.9952774047851562, 0.9966172575950623, 0.23581936955451965, 0.7617174386978149, 0.6681613326072693, 0.14383448660373688, 0.1873193234205246, 0.10306865721940994, 0.8965196013450623, 0.9977654814720154, 0.30043384432792664, 0.19656525552272797, 0.4876388609409332, 0.015097178518772125, 0.1841883510351181, 0.10647496581077576, 0.6769445538520813, 0.03238057717680931, 0.9911025762557983, 0.00521489791572094, 0.9508497714996338, 0.04171918332576752, 0.9963915944099426, 0.9916479587554932, 0.29740047454833984, 0.18468961119651794, 0.4508435130119324, 0.0187851469963789, 0.04798581823706627, 0.9930769205093384, 0.9948148131370544, 0.994192361831665, 0.28884559869766235, 0.38554608821868896, 0.10297974199056625, 0.05651327222585678, 0.164516419172287, 0.994175136089325, 0.9898824691772461, 0.9953905940055847, 0.993313193321228, 0.10972336679697037, 0.11364205926656723, 0.7073238492012024, 0.0685771033167839, 0.6786199808120728, 0.08315106481313705, 0.23604173958301544, 0.9935179948806763, 0.9965560436248779, 0.9934189319610596, 0.9975018501281738, 0.05979045853018761, 0.8521941304206848, 0.025212842971086502, 0.06195155903697014, 0.20436449348926544, 0.7940574884414673, 0.46804994344711304, 0.1822352111339569, 0.2586251199245453, 0.09095576405525208, 0.9987359642982483, 0.9930230379104614, 0.9972904324531555, 0.016847379505634308, 0.40854892134666443, 0.5707049369812012, 0.03656758740544319, 0.9612051248550415, 0.9213802814483643, 0.04575074836611748, 0.027450447902083397, 0.00238699559122324, 0.00179024669341743, 0.0009945814963430166, 0.9985252618789673, 0.9941929578781128, 0.6109378933906555, 0.019774820655584335, 0.3351311683654785, 0.015611700713634491, 0.01873404160141945, 0.27097347378730774, 0.16876037418842316, 0.2864142060279846, 0.04197261855006218, 0.03392605483531952, 0.15897400677204132, 0.038710497319698334, 0.9978150129318237, 0.997647225856781, 0.13423672318458557, 0.7043967843055725, 0.16053050756454468, 0.42116501927375793, 0.0011570467613637447, 0.576209306716919, 0.9980682730674744, 0.9951822757720947, 0.00636465335264802, 0.00636465335264802, 0.00636465335264802, 0.9610626101493835, 0.9953684210777283, 0.49499738216400146, 0.504571795463562, 0.9967305064201355, 0.9903579950332642, 0.9965682625770569, 0.9991925358772278, 0.8948169946670532, 0.06898368895053864, 0.03646280616521835, 0.9966833591461182, 0.997039794921875, 0.9969475865364075, 0.9904932379722595, 0.4313458502292633, 0.5649693012237549, 0.990259051322937, 0.17887264490127563, 0.20537228882312775, 0.02870795503258705, 0.5829923152923584, 0.9958916306495667, 0.44151654839515686, 0.05460646003484726, 0.4840492010116577, 0.019482705742120743, 0.9513522386550903, 0.04514892026782036, 0.9963805675506592, 0.9957506060600281, 0.25669294595718384, 0.39030084013938904, 0.35267379879951477, 0.9976649284362793, 0.995683491230011, 0.21254028379917145, 0.26977553963661194, 0.517460286617279, 0.9929943680763245, 0.3095165193080902, 0.0009157293243333697, 0.6886284351348877, 0.9938808679580688, 0.9993919730186462, 0.9946891069412231, 0.17794452607631683, 0.8193724751472473, 0.9847744703292847, 0.9987848997116089, 0.9987611174583435, 0.9983146786689758, 0.5518913269042969, 0.44635725021362305, 0.9700313210487366, 0.027902763336896896, 0.6342001557350159, 0.049188222736120224, 0.0334479920566082, 0.28332415223121643, 0.3793759346008301, 0.1201542541384697, 0.2553277909755707, 0.21638891100883484, 0.004728292115032673, 0.020860113203525543, 0.002781348302960396, 0.6463086605072021, 0.2424396574497223, 0.012417641468346119, 0.07568848133087158, 0.0224700178951025, 0.9962416291236877, 0.42915064096450806, 0.19857870042324066, 0.36991646885871887, 0.0022912926506251097, 0.8316884636878967, 0.1368194818496704, 0.012843010015785694, 0.018643079325556755, 0.9979347586631775, 0.9946393966674805, 0.9937671422958374, 0.99582839012146, 0.005270603112876415, 0.0263530146330595, 0.005270603112876415, 0.01054120622575283, 0.005270603112876415, 0.005270603112876415, 0.005270603112876415, 0.005270603112876415, 0.01054120622575283, 0.005270603112876415, 0.9012731313705444, 0.005270603112876415, 0.005270603112876415, 0.03467007353901863, 0.42701971530914307, 0.1470588892698288, 0.21148744225502014, 0.13983595371246338, 0.03958166390657425, 0.992805540561676, 0.9048781394958496, 0.09420967847108841, 0.9151878952980042, 0.0831988975405693, 0.9933450818061829]}, \"mdsDat\": {\"topics\": [1, 2, 3, 4, 5, 6, 7, 8, 9, 10, 11, 12, 13, 14, 15, 16, 17, 18, 19, 20], \"cluster\": [1, 1, 1, 1, 1, 1, 1, 1, 1, 1, 1, 1, 1, 1, 1, 1, 1, 1, 1, 1], \"y\": [-0.001267517376512007, -0.003100298613439457, -0.12817580255954264, 0.22647639546946693, 0.2226157663985264, -0.11287236897065696, -0.1829656722735365, -0.03644930715231373, -0.021222692327218688, 0.21972832039400783, -0.017221518441364998, 0.13950173305442612, -0.06262845923530572, -0.11747090656401778, 0.00367887444293586, -0.023378681253111218, -0.11081668625638855, 0.0015952376910233692, -0.02801106738647102, 0.03198465095949188], \"Freq\": [16.26243782043457, 15.228901863098145, 14.564971923828125, 6.1624298095703125, 5.974024295806885, 4.344127655029297, 4.177711009979248, 3.586028814315796, 3.3660099506378174, 3.271634817123413, 3.2276840209960938, 2.9693822860717773, 2.7412638664245605, 2.731828212738037, 2.290905475616455, 2.124098539352417, 2.0817008018493652, 1.6939613819122314, 1.6791784763336182, 1.5217249393463135], \"x\": [0.33700907939062014, 0.2910933207006984, 0.32879654149082466, 0.09172073639979753, 0.05966415791077933, -0.08499064939086287, 0.06099739767145172, -0.022525442514173218, -0.022898290407109577, -0.029311374760322976, -0.06271354262016522, -0.06288346309365281, -0.08885729403705736, -0.04774617066757521, -0.11148913349502626, -0.11365954935056395, -0.09218491314115129, -0.13420783541647174, -0.16419444633054306, -0.1316191283394965]}, \"plot.opts\": {\"ylab\": \"PC2\", \"xlab\": \"PC1\"}, \"tinfo\": {\"loglift\": [30.0, 29.0, 28.0, 27.0, 26.0, 25.0, 24.0, 23.0, 22.0, 21.0, 20.0, 19.0, 18.0, 17.0, 16.0, 15.0, 14.0, 13.0, 12.0, 11.0, 10.0, 9.0, 8.0, 7.0, 6.0, 5.0, 4.0, 3.0, 2.0, 1.0, 1.816100001335144, 1.815999984741211, 1.8157000541687012, 1.815500020980835, 1.815000057220459, 1.8148000240325928, 1.8147000074386597, 1.8147000074386597, 1.8143999576568604, 1.8140000104904175, 1.8138999938964844, 1.8138999938964844, 1.8138999938964844, 1.8137999773025513, 1.8137999773025513, 1.8136999607086182, 1.8134000301361084, 1.8134000301361084, 1.8133000135421753, 1.8133000135421753, 1.8133000135421753, 1.8131999969482422, 1.8131999969482422, 1.812999963760376, 1.8127000331878662, 1.8127000331878662, 1.8127000331878662, 1.8125, 1.8125, 1.8125, 1.7961000204086304, 1.8006999492645264, 1.7345000505447388, 1.7493000030517578, 1.6979999542236328, 1.7857999801635742, 1.6319999694824219, 1.7272000312805176, 1.7390999794006348, 1.7069000005722046, 1.6679999828338623, 1.3147000074386597, 1.610200047492981, 1.2151999473571777, 1.413100004196167, 1.3210999965667725, 0.970300018787384, 1.0443999767303467, 1.2782000303268433, 0.9742000102996826, 1.2310999631881714, 1.1268999576568604, 0.4117000102996826, 1.2309000492095947, 0.9990000128746033, 1.0571000576019287, 0.983299970626831, 1.330299973487854, 0.2321999967098236, 0.847100019454956, 0.6039000153541565, 0.9156000018119812, 0.6244999766349792, 0.4325000047683716, 0.7383999824523926, 1.881100058555603, 1.8805999755859375, 1.8803000450134277, 1.8801000118255615, 1.8799999952316284, 1.8797999620437622, 1.8796000480651855, 1.8796000480651855, 1.8796000480651855, 1.8795000314712524, 1.8794000148773193, 1.8794000148773193, 1.8792999982833862, 1.87909996509552, 1.8789000511169434, 1.8788000345230103, 1.8788000345230103, 1.8787000179290771, 1.8787000179290771, 1.8787000179290771, 1.878499984741211, 1.878499984741211, 1.878499984741211, 1.8783999681472778, 1.8782000541687012, 1.8782000541687012, 1.878100037574768, 1.878100037574768, 1.878100037574768, 1.878000020980835, 1.8732999563217163, 1.863800048828125, 1.8619999885559082, 1.8668999671936035, 1.8136999607086182, 1.8629000186920166, 1.8178000450134277, 1.839900016784668, 1.8380999565124512, 1.8314000368118286, 1.767300009727478, 1.7704999446868896, 1.7821999788284302, 1.768399953842163, 1.7223000526428223, 1.6715999841690063, 1.6924999952316284, 1.6572999954223633, 1.6610000133514404, 1.5374000072479248, 1.652999997138977, 1.6075999736785889, 1.346500039100647, 1.454699993133545, 1.593400001525879, 1.4234999418258667, 1.3890000581741333, 1.688099980354309, 1.4895999431610107, 1.4455000162124634, 1.6710000038146973, 0.878000020980835, 1.4263999462127686, 0.8959000110626221, 0.8342000246047974, 1.37909996509552, 0.9803000092506409, 0.2653000056743622, 0.9415000081062317, 1.2473000288009644, 1.2008999586105347, 0.18860000371932983, -0.10729999840259552, 0.42570000886917114, 0.19290000200271606, 1.9256000518798828, 1.9253000020980835, 1.9250999689102173, 1.9249999523162842, 1.9248000383377075, 1.9246000051498413, 1.924399971961975, 1.9235999584197998, 1.9234999418258667, 1.9234999418258667, 1.9234999418258667, 1.9234999418258667, 1.9234999418258667, 1.9230999946594238, 1.9228999614715576, 1.9228999614715576, 1.9228999614715576, 1.9227999448776245, 1.9226000308990479, 1.9222999811172485, 1.9221999645233154, 1.9220999479293823, 1.9220000505447388, 1.9219000339508057, 1.9215999841690063, 1.9215999841690063, 1.9213999509811401, 1.9211000204086304, 1.9210000038146973, 1.9208999872207642, 1.917199969291687, 1.910099983215332, 1.9160000085830688, 1.8092999458312988, 1.7538000345230103, 1.8944000005722046, 1.8950999975204468, 1.8172999620437622, 1.8348000049591064, 1.611299991607666, 1.8286999464035034, 1.63919997215271, 1.5849000215530396, 1.7077000141143799, 1.8583999872207642, 1.7482000589370728, 1.6881999969482422, 1.6066999435424805, 1.690500020980835, 1.5362999439239502, 1.6276999711990356, 1.567199945449829, 1.617799997329712, 1.8387999534606934, 1.4093999862670898, 1.3062000274658203, 1.4544999599456787, 1.767199993133545, 1.350600004196167, 1.148900032043457, 0.932200014591217, 1.2752000093460083, 1.1299999952316284, 0.9656999707221985, 1.2009999752044678, 1.2675000429153442, 0.9587000012397766, 1.2080999612808228, 1.2289999723434448, 1.075600028038025, 1.1015000343322754, 0.6365000009536743, 2.78629994392395, 2.785599946975708, 2.7855000495910645, 2.7853000164031982, 2.7853000164031982, 2.7852001190185547, 2.785099983215332, 2.785099983215332, 2.7850000858306885, 2.784899950027466, 2.7848000526428223, 2.7848000526428223, 2.784600019454956, 2.7844998836517334, 2.7843000888824463, 2.7841999530792236, 2.7841999530792236, 2.78410005569458, 2.7839999198913574, 2.7839999198913574, 2.783900022506714, 2.783799886703491, 2.783799886703491, 2.7836999893188477, 2.783600091934204, 2.783600091934204, 2.783600091934204, 2.7834999561309814, 2.783400058746338, 2.7832000255584717, 2.7558000087738037, 2.7334001064300537, 2.7483999729156494, 2.7569000720977783, 2.749500036239624, 2.720400094985962, 2.5764000415802, 2.3970000743865967, 1.8210999965667725, 1.9179999828338623, 1.750499963760376, 1.5365999937057495, 1.9426000118255615, 2.1147000789642334, 2.1013998985290527, 1.2558000087738037, 1.877500057220459, 0.27379998564720154, 1.7108999490737915, 2.0826001167297363, 1.3586000204086304, 2.8173000812530518, 2.816699981689453, 2.816699981689453, 2.816499948501587, 2.8164000511169434, 2.816200017929077, 2.8160998821258545, 2.815999984741211, 2.815700054168701, 2.8153998851776123, 2.8152999877929688, 2.8152999877929688, 2.8150999546051025, 2.8150999546051025, 2.815000057220459, 2.815000057220459, 2.81469988822937, 2.81469988822937, 2.8145999908447266, 2.8143999576568604, 2.813999891281128, 2.8138999938964844, 2.8136000633239746, 2.813499927520752, 2.8134000301361084, 2.8134000301361084, 2.813199996948242, 2.8131000995635986, 2.8131000995635986, 2.8129000663757324, 2.784600019454956, 2.724600076675415, 2.7037999629974365, 2.6923999786376953, 2.647700071334839, 2.569499969482422, 2.521899938583374, 2.651900053024292, 2.660599946975708, 2.5671000480651855, 2.4802000522613525, 2.541100025177002, 2.5095999240875244, 2.3912999629974365, 2.3724000453948975, 2.4763998985290527, 2.5250000953674316, 2.395900011062622, 2.466599941253662, 2.1050000190734863, 1.2240999937057495, 1.3973000049591064, 1.4687999486923218, 1.6993999481201172, 1.219499945640564, 3.1363000869750977, 3.1322999000549316, 3.1321001052856445, 3.1317999362945557, 3.1308000087738037, 3.130500078201294, 3.1301000118255615, 3.1298999786376953, 3.129199981689453, 3.129199981689453, 3.1289000511169434, 3.1285998821258545, 3.1280999183654785, 3.127500057220459, 3.126699924468994, 3.1266000270843506, 3.1259000301361084, 3.1252999305725098, 3.1250998973846436, 3.125, 3.1242001056671143, 3.124000072479248, 3.1226999759674072, 3.1215999126434326, 3.1205999851226807, 3.1205999851226807, 3.1205999851226807, 3.1205999851226807, 3.120300054550171, 3.1198999881744385, 3.174799919128418, 3.174799919128418, 3.1740000247955322, 3.1738998889923096, 3.1735999584198, 3.1735000610351562, 3.1733999252319336, 3.1733999252319336, 3.17330002784729, 3.1728999614715576, 3.172800064086914, 3.172600030899048, 3.1723999977111816, 3.172100067138672, 3.172100067138672, 3.171600103378296, 3.171600103378296, 3.1714000701904297, 3.171299934387207, 3.171299934387207, 3.1712000370025635, 3.1712000370025635, 3.1710000038146973, 3.170799970626831, 3.1707000732421875, 3.1705000400543213, 3.1703999042510986, 3.170300006866455, 3.170300006866455, 3.1702001094818115, 2.9444000720977783, 2.5752999782562256, 2.5710999965667725, 2.5297000408172607, 2.28439998626709, 2.996500015258789, 2.0292000770568848, 1.8493000268936157, 2.211400032043457, 1.9134999513626099, 1.6958999633789062, 2.2000999450683594, 0.44130000472068787, 2.325200080871582, 0.7139999866485596, 2.3694000244140625, 3.3254001140594482, 3.3254001140594482, 3.3250999450683594, 3.3250999450683594, 3.325000047683716, 3.325000047683716, 3.324899911880493, 3.324899911880493, 3.3248000144958496, 3.324399948120117, 3.3243000507354736, 3.3243000507354736, 3.324199914932251, 3.3239998817443848, 3.323899984359741, 3.323699951171875, 3.323699951171875, 3.3236000537872314, 3.3232998847961426, 3.3231000900268555, 3.3231000900268555, 3.322999954223633, 3.3227999210357666, 3.3225998878479004, 3.3224000930786133, 3.3215999603271484, 3.321500062942505, 3.321500062942505, 3.3213999271392822, 3.3213999271392822, 3.2981998920440674, 3.2797000408172607, 3.2797000408172607, 3.2018001079559326, 3.2448999881744385, 2.960400104522705, 2.9988999366760254, 3.0906999111175537, 2.6015000343322754, 2.5815999507904053, 3.150399923324585, 2.8262999057769775, 1.4108999967575073, 2.61929988861084, 2.2339000701904297, 1.9586000442504883, 1.3395999670028687, 2.7578001022338867, 0.2915000021457672, 3.390700101852417, 3.389899969100952, 3.389699935913086, 3.389699935913086, 3.38919997215271, 3.3891000747680664, 3.3889999389648438, 3.3887999057769775, 3.3887999057769775, 3.3887999057769775, 3.3882999420166016, 3.3877999782562256, 3.387500047683716, 3.387500047683716, 3.3873000144958496, 3.387200117111206, 3.3870999813079834, 3.386699914932251, 3.3864998817443848, 3.3861000537872314, 3.3859000205993652, 3.3859000205993652, 3.3854000568389893, 3.3852999210357666, 3.3852999210357666, 3.3845999240875244, 3.384399890899658, 3.3842999935150146, 3.3842999935150146, 3.3838999271392822, 3.3125998973846436, 3.3589999675750732, 3.2876999378204346, 3.3232998847961426, 3.1120998859405518, 3.00819993019104, 3.2344000339508057, 2.7778000831604004, 2.4495999813079834, 2.081700086593628, 2.5111000537872314, 2.2077999114990234, 2.513400077819824, 1.6893999576568604, 2.214200019836426, 2.072499990463257, 3.4191999435424805, 3.419100046157837, 3.418100118637085, 3.4179000854492188, 3.4177000522613525, 3.4177000522613525, 3.4173998832702637, 3.4172000885009766, 3.4168999195098877, 3.416599988937378, 3.4165000915527344, 3.4163999557495117, 3.416300058364868, 3.416300058364868, 3.4158999919891357, 3.4156999588012695, 3.415600061416626, 3.4154999256134033, 3.4154000282287598, 3.4154000282287598, 3.41510009765625, 3.4149999618530273, 3.414900064468384, 3.414799928665161, 3.414799928665161, 3.4147000312805176, 3.4144999980926514, 3.414400100708008, 3.414299964904785, 3.4142000675201416, 3.34089994430542, 3.26419997215271, 3.0599000453948975, 3.0606000423431396, 3.1001999378204346, 3.147599935531616, 2.623699903488159, 2.2820000648498535, 1.7972999811172485, 1.5808000564575195, 2.2637999057769775, 3.039599895477295, 2.1328001022338867, 1.5923999547958374, 2.630500078201294, 1.1800999641418457, 1.1253999471664429, 3.433199882507324, 3.4316000938415527, 3.4307000637054443, 3.430299997329712, 3.4300999641418457, 3.4300999641418457, 3.429800033569336, 3.429800033569336, 3.4291999340057373, 3.4291000366210938, 3.4289000034332275, 3.4289000034332275, 3.4284000396728516, 3.4284000396728516, 3.428299903869629, 3.428299903869629, 3.427999973297119, 3.4279000759124756, 3.4279000759124756, 3.427799940109253, 3.4277000427246094, 3.4275999069213867, 3.427299976348877, 3.427299976348877, 3.427299976348877, 3.4272000789642334, 3.4270999431610107, 3.427000045776367, 3.4268999099731445, 3.4268999099731445, 3.4144999980926514, 3.4261999130249023, 3.3814001083374023, 3.406599998474121, 3.336899995803833, 3.152899980545044, 3.0845999717712402, 3.329699993133545, 3.2876999378204346, 2.853300094604492, 3.0864999294281006, 3.0446999073028564, 3.1368000507354736, 3.074199914932251, 2.9965999126434326, 2.650899887084961, 1.8802000284194946, 3.028700113296509, 3.046999931335449, 2.78439998626709, 2.734299898147583, 2.46370005607605, 3.5162999629974365, 3.5146000385284424, 3.514400005340576, 3.5137999057769775, 3.513700008392334, 3.513400077819824, 3.513400077819824, 3.5132999420166016, 3.5132999420166016, 3.513000011444092, 3.5127999782562256, 3.512700080871582, 3.512200117111206, 3.512200117111206, 3.5120999813079834, 3.51200008392334, 3.51200008392334, 3.51200008392334, 3.511199951171875, 3.511199951171875, 3.5111000537872314, 3.5109000205993652, 3.510499954223633, 3.510499954223633, 3.510200023651123, 3.5099000930786133, 3.509700059890747, 3.509500026702881, 3.5092999935150146, 3.509200096130371, 3.373300075531006, 3.1070001125335693, 3.1407999992370605, 3.368299961090088, 3.200500011444092, 2.4663000106811523, 2.9563000202178955, 2.5206000804901123, 2.0834999084472656, 2.948499917984009, 2.400399923324585, 2.2629001140594482, 2.6057000160217285, 2.4700000286102295, 0.991599977016449, 2.099299907684326, 2.567199945449829, 3.5952999591827393, 3.594899892807007, 3.5940001010894775, 3.593600034713745, 3.5934998989105225, 3.592400074005127, 3.592400074005127, 3.592400074005127, 3.5922999382019043, 3.5922000408172607, 3.591399908065796, 3.591200113296509, 3.591200113296509, 3.5910000801086426, 3.59089994430542, 3.5908000469207764, 3.5906999111175537, 3.5906999111175537, 3.5903000831604004, 3.5901999473571777, 3.590100049972534, 3.5899999141693115, 3.589900016784668, 3.5897998809814453, 3.5896999835968018, 3.589600086212158, 3.589200019836426, 3.588399887084961, 3.5882999897003174, 3.588200092315674, 3.558300018310547, 3.5731000900268555, 3.4769999980926514, 3.4284000396728516, 3.380000114440918, 3.3849000930786133, 3.4319000244140625, 3.179500102996826, 3.2263998985290527, 2.574700117111206, 2.9463000297546387, 2.414900064468384, 2.1473000049591064, 2.1150999069213867, 3.299299955368042, 2.9495999813079834, 1.7156000137329102, 2.29830002784729, 1.875499963760376, 3.599600076675415, 3.5994999408721924, 3.5989999771118164, 3.59879994392395, 3.5985000133514404, 3.5982000827789307, 3.598099946975708, 3.5977001190185547, 3.597599983215332, 3.5975000858306885, 3.5966999530792236, 3.596400022506714, 3.5957999229431152, 3.5957000255584717, 3.5957000255584717, 3.595599889755249, 3.595599889755249, 3.5954999923706055, 3.595400094985962, 3.5950000286102295, 3.594599962234497, 3.594599962234497, 3.594599962234497, 3.5945000648498535, 3.594399929046631, 3.5941998958587646, 3.594099998474121, 3.593899965286255, 3.593899965286255, 3.593899965286255, 3.526400089263916, 3.289799928665161, 3.2267000675201416, 3.4005000591278076, 3.114799976348877, 3.1008999347686768, 1.6338000297546387, 2.9723000526428223, 1.0921000242233276, 2.9033000469207764, 0.39809998869895935, 1.7592999935150146, 3.774399995803833, 3.773900032043457, 3.773699998855591, 3.773699998855591, 3.7736001014709473, 3.7734999656677246, 3.7734999656677246, 3.773099899291992, 3.772599935531616, 3.7720999717712402, 3.7720000743865967, 3.771899938583374, 3.7718000411987305, 3.7718000411987305, 3.771699905395508, 3.7716000080108643, 3.7715001106262207, 3.771199941635132, 3.770900011062622, 3.770699977874756, 3.7706000804901123, 3.7704999446868896, 3.77020001411438, 3.77020001411438, 3.7701001167297363, 3.7701001167297363, 3.7699999809265137, 3.76990008354187, 3.76990008354187, 3.76990008354187, 3.7363998889923096, 3.666100025177002, 3.6677000522613525, 3.5053000450134277, 3.6756999492645264, 3.65310001373291, 3.1191999912261963, 2.985300064086914, 2.4916999340057373, 2.5571000576019287, 2.4590001106262207, 3.081899881362915, 3.849900007247925, 3.849900007247925, 3.8492000102996826, 3.8487000465393066, 3.848599910736084, 3.848400115966797, 3.848400115966797, 3.848099946975708, 3.847599983215332, 3.847599983215332, 3.8475000858306885, 3.8471999168395996, 3.84689998626709, 3.846400022506714, 3.846299886703491, 3.845599889755249, 3.8452000617980957, 3.845099925994873, 3.8441998958587646, 3.8438000679016113, 3.8438000679016113, 3.843400001525879, 3.8431999683380127, 3.8431999683380127, 3.8431999683380127, 3.8429999351501465, 3.8427999019622803, 3.8427999019622803, 3.8424999713897705, 3.8424999713897705, 3.8078999519348145, 3.737799882888794, 3.795599937438965, 3.723400115966797, 3.705199956893921, 3.636699914932251, 3.620300054550171, 3.714400053024292, 3.269200086593628, 3.5499000549316406, 3.313499927520752, 3.309999942779541, 3.3203001022338867, 3.4890999794006348, 2.795099973678589, 3.871299982070923, 3.8696999549865723, 3.8694000244140625, 3.8694000244140625, 3.86929988861084, 3.8691000938415527, 3.867500066757202, 3.867500066757202, 3.8673999309539795, 3.8673999309539795, 3.867300033569336, 3.8671998977661133, 3.8671000003814697, 3.867000102996826, 3.8668999671936035, 3.8664000034332275, 3.866300106048584, 3.865499973297119, 3.865499973297119, 3.8652000427246094, 3.865000009536743, 3.864500045776367, 3.864500045776367, 3.8643999099731445, 3.8640999794006348, 3.8638999462127686, 3.863800048828125, 3.863800048828125, 3.863300085067749, 3.863100051879883, 3.8301000595092773, 3.6447999477386475, 3.7672998905181885, 2.960400104522705, 3.0178000926971436, 2.066499948501587, 0.6406999826431274, 0.7807999849319458, 4.0767998695373535, 4.076000213623047, 4.075699806213379, 4.075399875640869, 4.075399875640869, 4.074900150299072, 4.07480001449585, 4.074699878692627, 4.073599815368652, 4.072999954223633, 4.072999954223633, 4.07289981842041, 4.071899890899658, 4.071499824523926, 4.071400165557861, 4.071400165557861, 4.071300029754639, 4.0706000328063965, 4.0706000328063965, 4.070300102233887, 4.070199966430664, 4.070099830627441, 4.0696001052856445, 4.0690999031066895, 4.068699836730957, 4.068699836730957, 4.068600177764893, 4.067999839782715, 4.067399978637695, 4.0671000480651855, 3.9488000869750977, 3.9344000816345215, 3.8025999069213867, 3.3306000232696533, 3.9697999954223633, 3.7565999031066895, 3.5947000980377197, 3.833199977874756, 3.154900074005127, 2.8027000427246094, 2.6582999229431152, 2.1602001190185547, 2.6291000843048096, 4.085899829864502, 4.085700035095215, 4.08519983291626, 4.084000110626221, 4.084000110626221, 4.083799839019775, 4.082099914550781, 4.0817999839782715, 4.0808000564575195, 4.08050012588501, 4.0802001953125, 4.079800128936768, 4.079800128936768, 4.079400062561035, 4.0792999267578125, 4.07919979095459, 4.07889986038208, 4.078100204467773, 4.078000068664551, 4.077400207519531, 4.077199935913086, 4.076900005340576, 4.076499938964844, 4.075799942016602, 4.075500011444092, 4.075099945068359, 4.07480001449585, 4.074699878692627, 4.074399948120117, 4.0742998123168945, 4.061200141906738, 4.072299957275391, 3.106100082397461, 4.183300018310547, 4.183300018310547, 4.182700157165527, 4.182300090789795, 4.180300235748291, 4.179800033569336, 4.179599761962891, 4.1793999671936035, 4.1793999671936035, 4.1793999671936035, 4.178800106048584, 4.177599906921387, 4.1774001121521, 4.177299976348877, 4.1768999099731445, 4.1768999099731445, 4.176499843597412, 4.176000118255615, 4.1757001876831055, 4.175099849700928, 4.175099849700928, 4.174900054931641, 4.174600124359131, 4.174600124359131, 4.174200057983398, 4.173900127410889, 4.173600196838379, 4.172800064086914, 4.172100067138672, 4.171999931335449, 3.9530999660491943, 3.8671998977661133, 4.046899795532227, 3.633500099182129, 2.884000062942505, 2.9077999591827393, 2.59060001373291, 1.9577000141143799, 3.330399990081787, 2.8055999279022217, 2.4762001037597656, 1.8240000009536743], \"Category\": [\"Default\", \"Default\", \"Default\", \"Default\", \"Default\", \"Default\", \"Default\", \"Default\", \"Default\", \"Default\", \"Default\", \"Default\", \"Default\", \"Default\", \"Default\", \"Default\", \"Default\", \"Default\", \"Default\", \"Default\", \"Default\", \"Default\", \"Default\", \"Default\", \"Default\", \"Default\", \"Default\", \"Default\", \"Default\", \"Default\", \"Topic1\", \"Topic1\", \"Topic1\", \"Topic1\", \"Topic1\", \"Topic1\", \"Topic1\", \"Topic1\", \"Topic1\", \"Topic1\", \"Topic1\", \"Topic1\", \"Topic1\", \"Topic1\", \"Topic1\", \"Topic1\", \"Topic1\", \"Topic1\", \"Topic1\", \"Topic1\", \"Topic1\", \"Topic1\", \"Topic1\", \"Topic1\", \"Topic1\", \"Topic1\", \"Topic1\", \"Topic1\", \"Topic1\", \"Topic1\", \"Topic1\", \"Topic1\", \"Topic1\", \"Topic1\", \"Topic1\", \"Topic1\", \"Topic1\", \"Topic1\", \"Topic1\", \"Topic1\", \"Topic1\", \"Topic1\", \"Topic1\", \"Topic1\", \"Topic1\", \"Topic1\", \"Topic1\", \"Topic1\", \"Topic1\", \"Topic1\", \"Topic1\", \"Topic1\", \"Topic1\", \"Topic1\", \"Topic1\", \"Topic1\", \"Topic1\", \"Topic1\", \"Topic1\", \"Topic1\", \"Topic1\", \"Topic1\", \"Topic1\", \"Topic1\", \"Topic1\", \"Topic2\", \"Topic2\", \"Topic2\", \"Topic2\", \"Topic2\", \"Topic2\", \"Topic2\", \"Topic2\", \"Topic2\", \"Topic2\", \"Topic2\", \"Topic2\", \"Topic2\", \"Topic2\", \"Topic2\", \"Topic2\", \"Topic2\", \"Topic2\", \"Topic2\", \"Topic2\", \"Topic2\", \"Topic2\", \"Topic2\", \"Topic2\", \"Topic2\", \"Topic2\", \"Topic2\", \"Topic2\", \"Topic2\", \"Topic2\", \"Topic2\", \"Topic2\", \"Topic2\", \"Topic2\", \"Topic2\", \"Topic2\", \"Topic2\", \"Topic2\", \"Topic2\", \"Topic2\", \"Topic2\", \"Topic2\", \"Topic2\", \"Topic2\", \"Topic2\", \"Topic2\", \"Topic2\", \"Topic2\", \"Topic2\", \"Topic2\", \"Topic2\", \"Topic2\", \"Topic2\", \"Topic2\", \"Topic2\", \"Topic2\", \"Topic2\", \"Topic2\", \"Topic2\", \"Topic2\", \"Topic2\", \"Topic2\", \"Topic2\", \"Topic2\", \"Topic2\", \"Topic2\", \"Topic2\", \"Topic2\", \"Topic2\", \"Topic2\", \"Topic2\", \"Topic2\", \"Topic2\", \"Topic2\", \"Topic2\", \"Topic3\", \"Topic3\", \"Topic3\", \"Topic3\", \"Topic3\", \"Topic3\", \"Topic3\", \"Topic3\", \"Topic3\", \"Topic3\", \"Topic3\", \"Topic3\", \"Topic3\", \"Topic3\", \"Topic3\", \"Topic3\", \"Topic3\", \"Topic3\", \"Topic3\", \"Topic3\", \"Topic3\", \"Topic3\", \"Topic3\", \"Topic3\", \"Topic3\", \"Topic3\", \"Topic3\", \"Topic3\", \"Topic3\", \"Topic3\", \"Topic3\", \"Topic3\", \"Topic3\", \"Topic3\", \"Topic3\", \"Topic3\", \"Topic3\", \"Topic3\", \"Topic3\", \"Topic3\", \"Topic3\", \"Topic3\", \"Topic3\", \"Topic3\", \"Topic3\", \"Topic3\", \"Topic3\", \"Topic3\", \"Topic3\", \"Topic3\", \"Topic3\", \"Topic3\", \"Topic3\", \"Topic3\", \"Topic3\", \"Topic3\", \"Topic3\", \"Topic3\", \"Topic3\", \"Topic3\", \"Topic3\", \"Topic3\", \"Topic3\", \"Topic3\", \"Topic3\", \"Topic3\", \"Topic3\", \"Topic3\", \"Topic3\", \"Topic3\", \"Topic3\", \"Topic3\", \"Topic4\", \"Topic4\", \"Topic4\", \"Topic4\", \"Topic4\", \"Topic4\", \"Topic4\", \"Topic4\", \"Topic4\", \"Topic4\", \"Topic4\", \"Topic4\", \"Topic4\", \"Topic4\", \"Topic4\", \"Topic4\", \"Topic4\", \"Topic4\", \"Topic4\", \"Topic4\", \"Topic4\", \"Topic4\", \"Topic4\", \"Topic4\", \"Topic4\", \"Topic4\", \"Topic4\", \"Topic4\", \"Topic4\", \"Topic4\", \"Topic4\", \"Topic4\", \"Topic4\", \"Topic4\", \"Topic4\", \"Topic4\", \"Topic4\", \"Topic4\", \"Topic4\", \"Topic4\", \"Topic4\", \"Topic4\", \"Topic4\", \"Topic4\", \"Topic4\", \"Topic4\", \"Topic4\", \"Topic4\", \"Topic4\", \"Topic4\", \"Topic4\", \"Topic5\", \"Topic5\", \"Topic5\", \"Topic5\", \"Topic5\", \"Topic5\", \"Topic5\", \"Topic5\", \"Topic5\", \"Topic5\", \"Topic5\", \"Topic5\", \"Topic5\", \"Topic5\", \"Topic5\", \"Topic5\", \"Topic5\", \"Topic5\", \"Topic5\", \"Topic5\", \"Topic5\", \"Topic5\", \"Topic5\", \"Topic5\", \"Topic5\", \"Topic5\", \"Topic5\", \"Topic5\", \"Topic5\", \"Topic5\", \"Topic5\", \"Topic5\", \"Topic5\", \"Topic5\", \"Topic5\", \"Topic5\", \"Topic5\", \"Topic5\", \"Topic5\", \"Topic5\", \"Topic5\", \"Topic5\", \"Topic5\", \"Topic5\", \"Topic5\", \"Topic5\", \"Topic5\", \"Topic5\", \"Topic5\", \"Topic5\", \"Topic5\", \"Topic5\", \"Topic5\", \"Topic5\", \"Topic5\", \"Topic6\", \"Topic6\", \"Topic6\", \"Topic6\", \"Topic6\", \"Topic6\", \"Topic6\", \"Topic6\", \"Topic6\", \"Topic6\", \"Topic6\", \"Topic6\", \"Topic6\", \"Topic6\", \"Topic6\", \"Topic6\", \"Topic6\", \"Topic6\", \"Topic6\", \"Topic6\", \"Topic6\", \"Topic6\", \"Topic6\", \"Topic6\", \"Topic6\", \"Topic6\", \"Topic6\", \"Topic6\", \"Topic6\", \"Topic6\", \"Topic7\", \"Topic7\", \"Topic7\", \"Topic7\", \"Topic7\", \"Topic7\", \"Topic7\", \"Topic7\", \"Topic7\", \"Topic7\", \"Topic7\", \"Topic7\", \"Topic7\", \"Topic7\", \"Topic7\", \"Topic7\", \"Topic7\", \"Topic7\", \"Topic7\", \"Topic7\", \"Topic7\", \"Topic7\", \"Topic7\", \"Topic7\", \"Topic7\", \"Topic7\", \"Topic7\", \"Topic7\", \"Topic7\", \"Topic7\", \"Topic7\", \"Topic7\", \"Topic7\", \"Topic7\", \"Topic7\", \"Topic7\", \"Topic7\", \"Topic7\", \"Topic7\", \"Topic7\", \"Topic7\", \"Topic7\", \"Topic7\", \"Topic7\", \"Topic7\", \"Topic7\", \"Topic8\", \"Topic8\", \"Topic8\", \"Topic8\", \"Topic8\", \"Topic8\", \"Topic8\", \"Topic8\", \"Topic8\", \"Topic8\", \"Topic8\", \"Topic8\", \"Topic8\", \"Topic8\", \"Topic8\", \"Topic8\", \"Topic8\", \"Topic8\", \"Topic8\", \"Topic8\", \"Topic8\", \"Topic8\", \"Topic8\", \"Topic8\", \"Topic8\", \"Topic8\", \"Topic8\", \"Topic8\", \"Topic8\", \"Topic8\", \"Topic8\", \"Topic8\", \"Topic8\", \"Topic8\", \"Topic8\", \"Topic8\", \"Topic8\", \"Topic8\", \"Topic8\", \"Topic8\", \"Topic8\", \"Topic8\", \"Topic8\", \"Topic8\", \"Topic8\", \"Topic8\", \"Topic8\", \"Topic8\", \"Topic8\", \"Topic9\", \"Topic9\", \"Topic9\", \"Topic9\", \"Topic9\", \"Topic9\", \"Topic9\", \"Topic9\", \"Topic9\", \"Topic9\", \"Topic9\", \"Topic9\", \"Topic9\", \"Topic9\", \"Topic9\", \"Topic9\", \"Topic9\", \"Topic9\", \"Topic9\", \"Topic9\", \"Topic9\", \"Topic9\", \"Topic9\", \"Topic9\", \"Topic9\", \"Topic9\", \"Topic9\", \"Topic9\", \"Topic9\", \"Topic9\", \"Topic9\", \"Topic9\", \"Topic9\", \"Topic9\", \"Topic9\", \"Topic9\", \"Topic9\", \"Topic9\", \"Topic9\", \"Topic9\", \"Topic9\", \"Topic9\", \"Topic9\", \"Topic9\", \"Topic9\", \"Topic9\", \"Topic10\", \"Topic10\", \"Topic10\", \"Topic10\", \"Topic10\", \"Topic10\", \"Topic10\", \"Topic10\", \"Topic10\", \"Topic10\", \"Topic10\", \"Topic10\", \"Topic10\", \"Topic10\", \"Topic10\", \"Topic10\", \"Topic10\", \"Topic10\", \"Topic10\", \"Topic10\", \"Topic10\", \"Topic10\", \"Topic10\", \"Topic10\", \"Topic10\", \"Topic10\", \"Topic10\", \"Topic10\", \"Topic10\", \"Topic10\", \"Topic10\", \"Topic10\", \"Topic10\", \"Topic10\", \"Topic10\", \"Topic10\", \"Topic10\", \"Topic10\", \"Topic10\", \"Topic10\", \"Topic10\", \"Topic10\", \"Topic10\", \"Topic10\", \"Topic10\", \"Topic10\", \"Topic10\", \"Topic11\", \"Topic11\", \"Topic11\", \"Topic11\", \"Topic11\", \"Topic11\", \"Topic11\", \"Topic11\", \"Topic11\", \"Topic11\", \"Topic11\", \"Topic11\", \"Topic11\", \"Topic11\", \"Topic11\", \"Topic11\", \"Topic11\", \"Topic11\", \"Topic11\", \"Topic11\", \"Topic11\", \"Topic11\", \"Topic11\", \"Topic11\", \"Topic11\", \"Topic11\", \"Topic11\", \"Topic11\", \"Topic11\", \"Topic11\", \"Topic11\", \"Topic11\", \"Topic11\", \"Topic11\", \"Topic11\", \"Topic11\", \"Topic11\", \"Topic11\", \"Topic11\", \"Topic11\", \"Topic11\", \"Topic11\", \"Topic11\", \"Topic11\", \"Topic11\", \"Topic11\", \"Topic11\", \"Topic11\", \"Topic11\", \"Topic11\", \"Topic11\", \"Topic11\", \"Topic12\", \"Topic12\", \"Topic12\", \"Topic12\", \"Topic12\", \"Topic12\", \"Topic12\", \"Topic12\", \"Topic12\", \"Topic12\", \"Topic12\", \"Topic12\", \"Topic12\", \"Topic12\", \"Topic12\", \"Topic12\", \"Topic12\", \"Topic12\", \"Topic12\", \"Topic12\", \"Topic12\", \"Topic12\", \"Topic12\", \"Topic12\", \"Topic12\", \"Topic12\", \"Topic12\", \"Topic12\", \"Topic12\", \"Topic12\", \"Topic12\", \"Topic12\", \"Topic12\", \"Topic12\", \"Topic12\", \"Topic12\", \"Topic12\", \"Topic12\", \"Topic12\", \"Topic12\", \"Topic12\", \"Topic12\", \"Topic12\", \"Topic12\", \"Topic12\", \"Topic12\", \"Topic12\", \"Topic13\", \"Topic13\", \"Topic13\", \"Topic13\", \"Topic13\", \"Topic13\", \"Topic13\", \"Topic13\", \"Topic13\", \"Topic13\", \"Topic13\", \"Topic13\", \"Topic13\", \"Topic13\", \"Topic13\", \"Topic13\", \"Topic13\", \"Topic13\", \"Topic13\", \"Topic13\", \"Topic13\", \"Topic13\", \"Topic13\", \"Topic13\", \"Topic13\", \"Topic13\", \"Topic13\", \"Topic13\", \"Topic13\", \"Topic13\", \"Topic13\", \"Topic13\", \"Topic13\", \"Topic13\", \"Topic13\", \"Topic13\", \"Topic13\", \"Topic13\", \"Topic13\", \"Topic13\", \"Topic13\", \"Topic13\", \"Topic13\", \"Topic13\", \"Topic13\", \"Topic13\", \"Topic13\", \"Topic13\", \"Topic13\", \"Topic14\", \"Topic14\", \"Topic14\", \"Topic14\", \"Topic14\", \"Topic14\", \"Topic14\", \"Topic14\", \"Topic14\", \"Topic14\", \"Topic14\", \"Topic14\", \"Topic14\", \"Topic14\", \"Topic14\", \"Topic14\", \"Topic14\", \"Topic14\", \"Topic14\", \"Topic14\", \"Topic14\", \"Topic14\", \"Topic14\", \"Topic14\", \"Topic14\", \"Topic14\", \"Topic14\", \"Topic14\", \"Topic14\", \"Topic14\", \"Topic14\", \"Topic14\", \"Topic14\", \"Topic14\", \"Topic14\", \"Topic14\", \"Topic14\", \"Topic14\", \"Topic14\", \"Topic14\", \"Topic14\", \"Topic14\", \"Topic15\", \"Topic15\", \"Topic15\", \"Topic15\", \"Topic15\", \"Topic15\", \"Topic15\", \"Topic15\", \"Topic15\", \"Topic15\", \"Topic15\", \"Topic15\", \"Topic15\", \"Topic15\", \"Topic15\", \"Topic15\", \"Topic15\", \"Topic15\", \"Topic15\", \"Topic15\", \"Topic15\", \"Topic15\", \"Topic15\", \"Topic15\", \"Topic15\", \"Topic15\", \"Topic15\", \"Topic15\", \"Topic15\", \"Topic15\", \"Topic15\", \"Topic15\", \"Topic15\", \"Topic15\", \"Topic15\", \"Topic15\", \"Topic15\", \"Topic15\", \"Topic15\", \"Topic15\", \"Topic15\", \"Topic15\", \"Topic16\", \"Topic16\", \"Topic16\", \"Topic16\", \"Topic16\", \"Topic16\", \"Topic16\", \"Topic16\", \"Topic16\", \"Topic16\", \"Topic16\", \"Topic16\", \"Topic16\", \"Topic16\", \"Topic16\", \"Topic16\", \"Topic16\", \"Topic16\", \"Topic16\", \"Topic16\", \"Topic16\", \"Topic16\", \"Topic16\", \"Topic16\", \"Topic16\", \"Topic16\", \"Topic16\", \"Topic16\", \"Topic16\", \"Topic16\", \"Topic16\", \"Topic16\", \"Topic16\", \"Topic16\", \"Topic16\", \"Topic16\", \"Topic16\", \"Topic16\", \"Topic16\", \"Topic16\", \"Topic16\", \"Topic16\", \"Topic16\", \"Topic16\", \"Topic16\", \"Topic17\", \"Topic17\", \"Topic17\", \"Topic17\", \"Topic17\", \"Topic17\", \"Topic17\", \"Topic17\", \"Topic17\", \"Topic17\", \"Topic17\", \"Topic17\", \"Topic17\", \"Topic17\", \"Topic17\", \"Topic17\", \"Topic17\", \"Topic17\", \"Topic17\", \"Topic17\", \"Topic17\", \"Topic17\", \"Topic17\", \"Topic17\", \"Topic17\", \"Topic17\", \"Topic17\", \"Topic17\", \"Topic17\", \"Topic17\", \"Topic17\", \"Topic17\", \"Topic17\", \"Topic17\", \"Topic17\", \"Topic17\", \"Topic17\", \"Topic17\", \"Topic18\", \"Topic18\", \"Topic18\", \"Topic18\", \"Topic18\", \"Topic18\", \"Topic18\", \"Topic18\", \"Topic18\", \"Topic18\", \"Topic18\", \"Topic18\", \"Topic18\", \"Topic18\", \"Topic18\", \"Topic18\", \"Topic18\", \"Topic18\", \"Topic18\", \"Topic18\", \"Topic18\", \"Topic18\", \"Topic18\", \"Topic18\", \"Topic18\", \"Topic18\", \"Topic18\", \"Topic18\", \"Topic18\", \"Topic18\", \"Topic18\", \"Topic18\", \"Topic18\", \"Topic18\", \"Topic18\", \"Topic18\", \"Topic18\", \"Topic18\", \"Topic18\", \"Topic18\", \"Topic18\", \"Topic18\", \"Topic18\", \"Topic19\", \"Topic19\", \"Topic19\", \"Topic19\", \"Topic19\", \"Topic19\", \"Topic19\", \"Topic19\", \"Topic19\", \"Topic19\", \"Topic19\", \"Topic19\", \"Topic19\", \"Topic19\", \"Topic19\", \"Topic19\", \"Topic19\", \"Topic19\", \"Topic19\", \"Topic19\", \"Topic19\", \"Topic19\", \"Topic19\", \"Topic19\", \"Topic19\", \"Topic19\", \"Topic19\", \"Topic19\", \"Topic19\", \"Topic19\", \"Topic19\", \"Topic19\", \"Topic19\", \"Topic20\", \"Topic20\", \"Topic20\", \"Topic20\", \"Topic20\", \"Topic20\", \"Topic20\", \"Topic20\", \"Topic20\", \"Topic20\", \"Topic20\", \"Topic20\", \"Topic20\", \"Topic20\", \"Topic20\", \"Topic20\", \"Topic20\", \"Topic20\", \"Topic20\", \"Topic20\", \"Topic20\", \"Topic20\", \"Topic20\", \"Topic20\", \"Topic20\", \"Topic20\", \"Topic20\", \"Topic20\", \"Topic20\", \"Topic20\", \"Topic20\", \"Topic20\", \"Topic20\", \"Topic20\", \"Topic20\", \"Topic20\", \"Topic20\", \"Topic20\", \"Topic20\", \"Topic20\", \"Topic20\", \"Topic20\"], \"Freq\": [57084.0, 12491.0, 16294.0, 11141.0, 3845.0, 10454.0, 9655.0, 7586.0, 8048.0, 11783.0, 6906.0, 5804.0, 4407.0, 4083.0, 6852.0, 5027.0, 1863.0, 2294.0, 3735.0, 7292.0, 3461.0, 4598.0, 1540.0, 1948.0, 3006.0, 1685.0, 1746.0, 1464.0, 3380.0, 2012.0, 4406.5205078125, 2749.821533203125, 1502.64013671875, 1198.5355224609375, 707.7565307617188, 632.772705078125, 606.7611694335938, 589.2708740234375, 514.603515625, 414.5094299316406, 404.44769287109375, 400.4219665527344, 392.8206481933594, 11114.4130859375, 380.1495666503906, 618.2691040039062, 335.0342102050781, 330.53460693359375, 316.1488037109375, 316.1369323730469, 315.278564453125, 307.7568359375, 306.0150451660156, 293.7705993652344, 268.80389404296875, 265.7550354003906, 263.7412109375, 253.16549682617188, 252.89437866210938, 251.07110595703125, 12241.5498046875, 4020.239013671875, 4632.19287109375, 2448.517333984375, 6739.6787109375, 590.92626953125, 8030.14599609375, 635.034423828125, 557.0689086914062, 617.1762084960938, 770.694580078125, 3298.06640625, 782.8823852539062, 3756.857421875, 1598.0833740234375, 2092.33349609375, 5056.7021484375, 3719.19140625, 1906.77099609375, 3141.56787109375, 1574.3720703125, 1469.6400146484375, 3999.89208984375, 1217.586669921875, 1609.4130859375, 1445.962158203125, 1364.7235107421875, 979.6221313476562, 2144.653564453125, 1364.0302734375, 1599.4512939453125, 1226.22021484375, 1358.448486328125, 1429.6417236328125, 1251.05419921875, 1073.5213623046875, 683.28173828125, 567.044189453125, 519.294677734375, 483.4158020019531, 439.36376953125, 408.7510681152344, 399.6856994628906, 397.9803161621094, 388.4581604003906, 377.69219970703125, 380.07373046875, 354.92938232421875, 339.3035583496094, 315.93267822265625, 303.7166748046875, 301.81744384765625, 297.4839782714844, 294.4903259277344, 290.07940673828125, 279.6015625, 275.9762268066406, 275.4123229980469, 267.7456970214844, 255.53099060058594, 255.19580078125, 251.00241088867188, 246.998046875, 246.03038024902344, 244.96009826660156, 466.8065490722656, 745.9733276367188, 609.4325561523438, 412.9026794433594, 1426.6981201171875, 403.4354553222656, 1177.796142578125, 633.1202392578125, 642.45361328125, 546.9279174804688, 1029.255859375, 907.6906127929688, 778.130615234375, 852.7861328125, 1183.3443603515625, 1572.774169921875, 1293.2353515625, 1451.5294189453125, 984.3472900390625, 1627.7974853515625, 931.02294921875, 1044.096435546875, 2618.76708984375, 1680.6025390625, 1043.4791259765625, 1765.1907958984375, 1697.276123046875, 754.406982421875, 1077.9117431640625, 1093.0096435546875, 724.7437133789062, 2090.05712890625, 966.8214111328125, 1701.262939453125, 1770.7958984375, 1007.7163696289062, 1425.2457275390625, 2339.819091796875, 1224.440673828125, 1026.823974609375, 1046.9757080078125, 1270.0572509765625, 1320.7410888671875, 1033.419677734375, 992.9811401367188, 985.6767578125, 759.170654296875, 679.974365234375, 621.3477172851562, 562.2412109375, 491.7911376953125, 456.73638916015625, 325.94281005859375, 315.607666015625, 312.2125549316406, 312.14117431640625, 311.8794250488281, 311.60272216796875, 278.46148681640625, 264.879638671875, 264.2804870605469, 262.69134521484375, 260.6763000488281, 242.04266357421875, 227.01675415039062, 224.1182403564453, 216.6182861328125, 210.21829223632812, 208.9063262939453, 193.89443969726562, 193.05120849609375, 188.91976928710938, 175.9163818359375, 173.06517028808594, 171.22222900390625, 1252.834716796875, 806.0147705078125, 306.3786315917969, 3322.639404296875, 4883.3564453125, 335.2232666015625, 322.3707580566406, 1008.98583984375, 792.2400512695312, 11889.228515625, 695.73681640625, 5181.21044921875, 7429.53564453125, 2043.1268310546875, 448.83599853515625, 1064.302978515625, 1478.4716796875, 2486.1396484375, 1335.1136474609375, 3553.7451171875, 1744.027587890625, 2378.708984375, 1440.172119140625, 484.4161682128906, 3010.29833984375, 4328.10205078125, 1963.27197265625, 619.26513671875, 2492.09228515625, 3350.745361328125, 4359.48095703125, 1916.522216796875, 2424.208984375, 2621.6796875, 1764.0926513671875, 1545.579345703125, 2167.127197265625, 1614.603515625, 1457.671142578125, 1477.9908447265625, 1317.444091796875, 1499.1085205078125, 2293.43505859375, 862.0783081054688, 823.93798828125, 682.284912109375, 671.2239990234375, 657.5353393554688, 595.5214233398438, 593.739013671875, 576.611572265625, 528.5795288085938, 497.9061584472656, 496.46319580078125, 457.64093017578125, 426.65185546875, 393.3475646972656, 382.30999755859375, 378.0264587402344, 368.79608154296875, 359.6445007324219, 355.77655029296875, 339.79595947265625, 334.5088195800781, 329.06146240234375, 320.4656066894531, 313.0664978027344, 310.1497497558594, 309.60308837890625, 298.06597900390625, 286.25360107421875, 271.4538269042969, 1951.4222412109375, 1704.2220458984375, 764.5282592773438, 557.177734375, 468.0306396484375, 579.183837890625, 757.4124145507812, 1394.4466552734375, 1287.1556396484375, 1032.0714111328125, 1070.932373046875, 1317.234130859375, 706.471435546875, 583.3102416992188, 577.4132080078125, 777.8432006835938, 578.1976928710938, 847.1589965820312, 562.70458984375, 516.5133666992188, 524.2227783203125, 1948.0216064453125, 923.3443603515625, 874.1158447265625, 761.488525390625, 719.04638671875, 635.06982421875, 593.1629028320312, 538.4524536132812, 468.7222900390625, 406.0063781738281, 396.3277893066406, 384.4703369140625, 359.0908508300781, 355.5305480957031, 349.6820068359375, 348.5295715332031, 314.4259033203125, 312.5053405761719, 301.2601623535156, 282.7633361816406, 255.348388671875, 250.2904052734375, 230.37115478515625, 226.32708740234375, 221.1104278564453, 217.90867614746094, 207.9789276123047, 204.68380737304688, 204.23458862304688, 195.5861053466797, 448.0198669433594, 1466.2611083984375, 991.6333618164062, 1084.4139404296875, 1217.002685546875, 1419.136474609375, 1598.4122314453125, 610.328369140625, 580.5645751953125, 825.4369506835938, 1151.185546875, 776.8180541992188, 669.1209106445312, 892.5423583984375, 802.3424682617188, 652.8018188476562, 591.8695678710938, 600.2018432617188, 508.6441345214844, 607.3837280273438, 926.653564453125, 698.0466918945312, 677.3883666992188, 633.02587890625, 634.872802734375, 57083.46875, 238.13107299804688, 227.25531005859375, 209.4840545654297, 172.6690673828125, 164.6144256591797, 153.5841827392578, 148.92088317871094, 134.4340362548828, 133.55174255371094, 128.1994171142578, 124.61184692382812, 116.8463134765625, 108.88983917236328, 98.8709716796875, 97.91203308105469, 91.44409942626953, 86.70891571044922, 84.86174774169922, 84.43339538574219, 79.09986877441406, 77.2149429321289, 69.8266830444336, 64.73169708251953, 60.789344787597656, 60.76795959472656, 60.60338592529297, 60.57316207885742, 59.64595031738281, 58.14652633666992, 1684.0302734375, 1576.8409423828125, 713.1600341796875, 640.7611694335938, 542.4970703125, 506.4124450683594, 489.3910217285156, 482.2434387207031, 450.726318359375, 392.85357666015625, 376.47808837890625, 343.4405822753906, 321.385498046875, 291.38421630859375, 290.0915222167969, 256.291015625, 251.55499267578125, 244.3582763671875, 237.14361572265625, 236.9722137451172, 231.08041381835938, 230.40428161621094, 220.05532836914062, 209.43031311035156, 203.71441650390625, 198.13560485839844, 194.24276733398438, 191.13063049316406, 190.43211364746094, 187.3839111328125, 508.7875061035156, 839.8759155273438, 533.8786010742188, 534.2046508789062, 734.2022094726562, 251.35931396484375, 552.184814453125, 609.01220703125, 416.9701232910156, 431.6988830566406, 346.6218566894531, 301.9297180175781, 448.57720947265625, 271.7545471191406, 290.68560791015625, 258.150390625, 355.8248596191406, 349.1341552734375, 320.11077880859375, 314.1290588378906, 310.3720397949219, 309.91046142578125, 302.8855285644531, 296.0864562988281, 289.5962829589844, 258.0357360839844, 255.482177734375, 254.22030639648438, 248.0016326904297, 231.7625732421875, 228.27508544921875, 219.98008728027344, 217.1182098388672, 214.5489044189453, 198.0203094482422, 192.01419067382812, 191.750732421875, 187.13259887695312, 182.19642639160156, 172.92691040039062, 169.56884765625, 147.03392028808594, 145.64053344726562, 145.5171661376953, 143.87815856933594, 142.7742919921875, 429.64892578125, 295.4142761230469, 285.0069885253906, 505.5884704589844, 281.22021484375, 636.6884155273438, 496.49896240234375, 331.06475830078125, 551.6204833984375, 404.0743103027344, 221.19581604003906, 268.6889953613281, 508.8599853515625, 285.3068542480469, 321.6966552734375, 315.8639221191406, 321.9163818359375, 241.1651611328125, 258.0578308105469, 1314.5809326171875, 633.8892211914062, 566.674560546875, 549.0630493164062, 426.4559326171875, 414.04248046875, 399.775390625, 367.6474609375, 365.8952941894531, 365.7438049316406, 300.7259826660156, 260.7224426269531, 245.62881469726562, 243.92422485351562, 232.85757446289062, 227.68385314941406, 220.2089385986328, 203.7598419189453, 192.4276885986328, 178.6267547607422, 173.39053344726562, 172.54437255859375, 157.97991943359375, 156.94638061523438, 154.95980834960938, 140.680419921875, 136.01043701171875, 134.88369750976562, 134.350830078125, 126.98577880859375, 1613.86767578125, 295.20269775390625, 251.84564208984375, 200.71083068847656, 697.4208984375, 1184.2843017578125, 306.662841796875, 572.0238037109375, 941.7120971679688, 811.43798828125, 267.7810363769531, 281.5787353515625, 249.98507690429688, 298.1073303222656, 232.00148010253906, 230.28045654296875, 1505.3199462890625, 1181.4468994140625, 546.7825317382812, 495.6568603515625, 447.6918640136719, 430.5545349121094, 388.61724853515625, 353.13385009765625, 319.9342956542969, 289.9002685546875, 279.112548828125, 272.60235595703125, 270.6904602050781, 270.3294982910156, 239.28274536132812, 228.5944366455078, 225.98255920410156, 218.4822998046875, 214.732177734375, 214.37045288085938, 200.70611572265625, 195.7395477294922, 190.9957733154297, 189.0177459716797, 186.71878051757812, 184.56570434570312, 176.26852416992188, 173.09072875976562, 170.35093688964844, 169.1611328125, 296.23345947265625, 349.8863525390625, 568.7947387695312, 477.0029602050781, 311.11444091796875, 266.8773498535156, 518.2340087890625, 526.6380615234375, 667.296630859375, 730.93115234375, 389.8504333496094, 239.87184143066406, 302.9847717285156, 345.5740051269531, 260.5869445800781, 334.2696228027344, 329.2246398925781, 3844.346923828125, 533.24560546875, 352.36822509765625, 308.9188537597656, 289.2603454589844, 288.1832580566406, 271.147216796875, 266.8385314941406, 231.62950134277344, 222.07949829101562, 215.96408081054688, 213.97946166992188, 192.0005340576172, 191.6596221923828, 188.48663330078125, 188.1453094482422, 178.86508178710938, 176.300537109375, 174.0500030517578, 171.27273559570312, 168.28668212890625, 166.15884399414062, 159.05108642578125, 157.41053771972656, 156.85494995117188, 154.3098907470703, 152.74082946777344, 150.94163513183594, 148.85098266601562, 148.3648223876953, 290.3631591796875, 158.13275146484375, 926.1383666992188, 191.8052520751953, 275.6585388183594, 772.4586181640625, 551.7677612304688, 216.1424102783203, 241.46107482910156, 641.0944213867188, 360.76898193359375, 377.3795166015625, 300.3779296875, 299.654052734375, 326.80242919921875, 449.2765197753906, 732.2551879882812, 260.41497802734375, 253.33248901367188, 293.7881164550781, 255.71502685546875, 239.3555908203125, 1862.3446044921875, 429.9688415527344, 391.7175598144531, 322.7327575683594, 313.0660095214844, 285.1840515136719, 279.5757141113281, 274.9298095703125, 270.8401184082031, 254.69329833984375, 238.5677490234375, 233.7501983642578, 208.57907104492188, 207.51077270507812, 202.64573669433594, 200.7480926513672, 200.01718139648438, 199.13711547851562, 171.8183135986328, 170.41351318359375, 168.5821075439453, 163.08712768554688, 152.26425170898438, 151.83871459960938, 144.84732055664062, 140.0405731201172, 134.90147399902344, 130.82713317871094, 128.07286071777344, 126.17536926269531, 234.21090698242188, 406.63873291015625, 359.6781311035156, 175.44113159179688, 225.25576782226562, 528.316162109375, 271.1092224121094, 388.0163269042969, 329.54791259765625, 209.70082092285156, 251.09120178222656, 260.27581787109375, 231.87432861328125, 229.60943603515625, 270.5881042480469, 211.59490966796875, 203.97457885742188, 669.5646362304688, 516.6914672851562, 344.1563720703125, 309.44537353515625, 293.5927734375, 223.48989868164062, 260.5467834472656, 218.79519653320312, 218.33465576171875, 212.04180908203125, 179.76760864257812, 173.7249298095703, 172.73074340820312, 167.0143280029297, 163.49240112304688, 161.95458984375, 159.75086975097656, 158.60911560058594, 148.25379943847656, 145.7986297607422, 145.37547302246094, 142.21546936035156, 140.84190368652344, 137.5963897705078, 135.47799682617188, 135.1894989013672, 126.86444854736328, 114.96125030517578, 113.32364654541016, 112.8918685913086, 205.76907348632812, 142.1521453857422, 342.2180480957031, 419.7102966308594, 376.2290954589844, 357.2336730957031, 212.52110290527344, 363.54736328125, 221.7962188720703, 394.4179382324219, 252.0629425048828, 263.4172668457031, 267.734619140625, 199.8791046142578, 165.82313537597656, 169.3829803466797, 174.1007537841797, 168.464599609375, 168.24618530273438, 1539.4061279296875, 1463.5096435546875, 837.0654907226562, 685.1177368164062, 567.9954223632812, 499.1778869628906, 454.916015625, 387.8499755859375, 375.6341857910156, 364.70281982421875, 280.21051025390625, 259.6302490234375, 224.1068115234375, 218.36892700195312, 217.5497589111328, 212.79908752441406, 210.75807189941406, 206.8569793701172, 201.36904907226562, 186.031005859375, 173.55471801757812, 173.24319458007812, 172.71075439453125, 170.81427001953125, 168.60536193847656, 163.66229248046875, 160.36865234375, 155.62872314453125, 154.9345245361328, 154.90151977539062, 290.72833251953125, 765.9757080078125, 751.6937255859375, 197.90194702148438, 259.7123718261719, 246.9972686767578, 484.4374694824219, 217.11961364746094, 235.4505615234375, 188.11044311523438, 221.54733276367188, 192.7501678466797, 528.7034301757812, 423.9940185546875, 387.85302734375, 381.36224365234375, 373.00677490234375, 360.48638916015625, 355.7987060546875, 308.5801086425781, 267.1109619140625, 231.63665771484375, 227.5332794189453, 224.18264770507812, 217.57933044433594, 216.49017333984375, 211.44464111328125, 208.74752807617188, 206.1343536376953, 192.56854248046875, 180.2728729248047, 173.6353302001953, 172.053955078125, 167.17269897460938, 159.9772491455078, 159.46054077148438, 157.9482879638672, 156.31031799316406, 155.4254913330078, 152.8349151611328, 152.74478149414062, 152.10671997070312, 367.90087890625, 716.3960571289062, 447.84222412109375, 365.45391845703125, 195.46762084960938, 180.78286743164062, 228.9605712890625, 238.40057373046875, 263.241455078125, 251.77603149414062, 228.35121154785156, 188.59437561035156, 513.9951171875, 508.62579345703125, 374.18798828125, 305.1408996582031, 297.893310546875, 282.59100341796875, 280.0015563964844, 259.0519104003906, 231.01873779296875, 227.78221130371094, 224.39108276367188, 210.52284240722656, 197.42279052734375, 176.23867797851562, 175.80149841308594, 155.48648071289062, 144.9789581298828, 144.12921142578125, 126.03919982910156, 120.66253662109375, 120.2885971069336, 113.73210144042969, 112.21311950683594, 111.90232849121094, 111.72248077392578, 108.61489868164062, 106.81631469726562, 106.1353530883789, 103.2238540649414, 103.08567810058594, 252.0254364013672, 598.1839599609375, 195.99205017089844, 347.8820495605469, 185.18112182617188, 221.3341064453125, 230.84812927246094, 161.94091796875, 420.4450378417969, 197.47398376464844, 264.3359069824219, 189.20114135742188, 157.5592803955078, 152.81959533691406, 166.4803009033203, 1340.5728759765625, 431.93621826171875, 380.5129089355469, 377.05499267578125, 355.12335205078125, 330.63763427734375, 217.3039093017578, 215.45465087890625, 210.64788818359375, 209.57289123535156, 207.48504638671875, 201.69679260253906, 198.84649658203125, 194.33251953125, 190.29672241210938, 171.59515380859375, 170.8455352783203, 148.65484619140625, 148.0123291015625, 142.72555541992188, 137.98582458496094, 129.7479248046875, 129.1053466796875, 127.17694091796875, 122.96318817138672, 119.99236297607422, 118.34204864501953, 118.0560302734375, 111.39490509033203, 109.07335662841797, 150.66856384277344, 362.6686706542969, 170.87867736816406, 225.94696044921875, 133.73965454101562, 130.89845275878906, 136.74241638183594, 131.4171905517578, 719.9092407226562, 464.308349609375, 405.05792236328125, 363.6478576660156, 360.1022033691406, 299.9720153808594, 291.45611572265625, 280.61572265625, 213.5380401611328, 190.5240936279297, 190.1820068359375, 183.99240112304688, 154.44529724121094, 145.42506408691406, 144.4500732421875, 144.16700744628906, 140.7361602783203, 128.88551330566406, 128.71351623535156, 123.61338806152344, 121.43354034423828, 120.29434967041016, 113.40348815917969, 106.87079620361328, 102.71285247802734, 102.13118743896484, 100.73571014404297, 94.89923095703125, 90.08511352539062, 87.18588256835938, 416.0899353027344, 140.69070434570312, 191.8500518798828, 343.738037109375, 114.77538299560547, 142.80145263671875, 154.6305694580078, 127.9232406616211, 212.5577392578125, 216.36692810058594, 156.12828063964844, 168.33969116210938, 140.34996032714844, 916.091552734375, 791.239990234375, 568.9850463867188, 324.8681945800781, 324.0765075683594, 299.44635009765625, 192.64540100097656, 180.661376953125, 151.02366638183594, 144.96005249023438, 137.8152313232422, 130.78262329101562, 129.9517364501953, 123.32028198242188, 121.87287902832031, 120.2300033569336, 115.43175506591797, 104.50546264648438, 103.27442932128906, 96.74340057373047, 95.37882232666016, 92.30198669433594, 88.6399917602539, 82.76142883300781, 80.73504638671875, 77.77999877929688, 76.34942626953125, 75.3125991821289, 73.33694458007812, 72.95133209228516, 382.8366394042969, 77.9775390625, 109.22608947753906, 479.4518737792969, 464.24853515625, 355.94146728515625, 315.3896789550781, 188.45333862304688, 171.79183959960938, 167.183837890625, 160.8465118408203, 160.5648651123047, 159.0752716064453, 144.86073303222656, 123.2456283569336, 119.3714599609375, 117.62394714355469, 113.02660369873047, 112.21723937988281, 107.55741119384766, 101.31282043457031, 97.98834991455078, 92.96293640136719, 92.56021118164062, 91.10385131835938, 88.57528686523438, 87.89813232421875, 85.06275939941406, 83.13191986083984, 80.9933853149414, 75.67135620117188, 71.420166015625, 71.19286346435547, 261.74542236328125, 378.2803649902344, 142.36264038085938, 497.7065124511719, 247.96707153320312, 184.9330291748047, 147.23736572265625, 154.70582580566406, 102.34724426269531, 104.81253051757812, 107.73188781738281, 99.0769271850586], \"Total\": [57084.0, 12491.0, 16294.0, 11141.0, 3845.0, 10454.0, 9655.0, 7586.0, 8048.0, 11783.0, 6906.0, 5804.0, 4407.0, 4083.0, 6852.0, 5027.0, 1863.0, 2294.0, 3735.0, 7292.0, 3461.0, 4598.0, 1540.0, 1948.0, 3006.0, 1685.0, 1746.0, 1464.0, 3380.0, 2012.0, 4407.48486328125, 2750.78564453125, 1503.6046142578125, 1199.5, 708.7208862304688, 633.737060546875, 607.7255249023438, 590.2352294921875, 515.56787109375, 415.4737548828125, 405.4120178222656, 401.38629150390625, 393.78497314453125, 11141.84375, 381.1138916015625, 619.88134765625, 335.99853515625, 331.4989318847656, 317.1131286621094, 317.10125732421875, 316.2428894042969, 308.7211608886719, 306.9793701171875, 294.73492431640625, 269.7682189941406, 266.7193603515625, 264.7055358886719, 254.12985229492188, 253.85873413085938, 252.03546142578125, 12491.4326171875, 4083.5166015625, 5027.240234375, 2618.11083984375, 7586.33935546875, 609.2586669921875, 9655.0576171875, 694.2185668945312, 601.8081665039062, 688.56884765625, 893.9129638671875, 5446.26904296875, 962.0575561523438, 6852.93115234375, 2391.637939453125, 3433.0908203125, 11783.7412109375, 8048.21240234375, 3265.803466796875, 7292.3212890625, 2826.7060546875, 2928.2294921875, 16294.84375, 2186.42138671875, 3644.257568359375, 3089.413818359375, 3139.12890625, 1592.6434326171875, 10454.9609375, 3595.37841796875, 5376.58837890625, 3018.270263671875, 4473.3583984375, 5704.22412109375, 3676.28515625, 1074.485595703125, 684.2459106445312, 568.0083618164062, 520.2588500976562, 484.37994384765625, 440.3279113769531, 409.7152099609375, 400.64984130859375, 398.9444580078125, 389.42230224609375, 378.6563415527344, 381.0455627441406, 355.8935241699219, 340.2677001953125, 316.8968200683594, 304.6808166503906, 302.7815856933594, 298.4481201171875, 295.4544677734375, 291.0435485839844, 280.5657043457031, 276.94036865234375, 276.37646484375, 268.7098388671875, 256.4951171875, 256.15997314453125, 251.96658325195312, 247.96221923828125, 246.9945526123047, 245.9242706298828, 470.8874206542969, 759.634033203125, 621.7244262695312, 419.1761169433594, 1527.529296875, 411.2090148925781, 1255.80419921875, 660.3494262695312, 671.2410278320312, 575.27490234375, 1154.278076171875, 1014.7326049804688, 859.7843017578125, 955.3137817382812, 1388.181396484375, 1940.9312744140625, 1563.0565185546875, 1817.1810302734375, 1227.7572021484375, 2297.48876953125, 1170.527587890625, 1373.746826171875, 4473.3583984375, 2576.5791015625, 1392.482421875, 2791.8037109375, 2778.726806640625, 915.843994140625, 1595.885009765625, 1691.1424560546875, 894.963623046875, 5704.22412109375, 1524.7552490234375, 4560.73583984375, 5048.99169921875, 1666.20458984375, 3511.313232421875, 11783.7412109375, 3136.04248046875, 1937.0130615234375, 2068.823486328125, 6906.0712890625, 9655.0576171875, 4433.18115234375, 5376.58837890625, 986.64404296875, 760.137939453125, 680.941650390625, 622.3150024414062, 563.20849609375, 492.7584533691406, 457.7037048339844, 326.9101257324219, 316.5749816894531, 313.17987060546875, 313.1084899902344, 312.84674072265625, 312.5700378417969, 279.4288024902344, 265.8469543457031, 265.247802734375, 263.6586608886719, 261.64361572265625, 243.010009765625, 227.98410034179688, 225.08558654785156, 217.58563232421875, 211.18563842773438, 209.87367248535156, 194.86178588867188, 194.0185546875, 189.88711547851562, 176.88372802734375, 174.0325164794922, 172.1895751953125, 1264.66455078125, 819.4053344726562, 309.64105224609375, 3735.8515625, 5804.091796875, 346.1781005859375, 332.65924072265625, 1125.46337890625, 868.3435668945312, 16294.84375, 767.2227172851562, 6906.0712890625, 10454.9609375, 2542.89794921875, 480.4844970703125, 1272.1358642578125, 1876.3955078125, 3423.298828125, 1690.54443359375, 5250.060546875, 2351.557373046875, 3407.314208984375, 1961.1728515625, 528.8531494140625, 5048.99169921875, 8048.21240234375, 3147.618896484375, 726.2548217773438, 4433.18115234375, 7292.3212890625, 11783.7412109375, 3676.28515625, 5376.58837890625, 6852.93115234375, 3644.257568359375, 2987.6689453125, 5704.22412109375, 3311.877197265625, 2928.2294921875, 3461.198486328125, 3006.490478515625, 5446.26904296875, 2294.39501953125, 863.0385131835938, 824.898193359375, 683.2451171875, 672.1842041015625, 658.4955444335938, 596.4816284179688, 594.69921875, 577.57177734375, 529.5397338867188, 498.8663635253906, 497.42340087890625, 458.60113525390625, 427.612060546875, 394.3077697753906, 383.27020263671875, 378.9866638183594, 369.75628662109375, 360.6047058105469, 356.73675537109375, 340.75616455078125, 335.4690246582031, 330.02166748046875, 321.4258117675781, 314.0267028808594, 311.1099548339844, 310.56329345703125, 299.02618408203125, 287.21380615234375, 272.4140319824219, 2012.58251953125, 1797.5743408203125, 794.3536376953125, 574.0411376953125, 485.7728576660156, 618.8621215820312, 934.6707763671875, 2059.03125, 3380.61328125, 2460.341064453125, 3018.270263671875, 4598.23583984375, 1643.2403564453125, 1142.24755859375, 1145.8238525390625, 3595.37841796875, 1435.2791748046875, 10454.9609375, 1650.091552734375, 1044.449951171875, 2186.42138671875, 1948.9786376953125, 924.3013305664062, 875.0728149414062, 762.4454956054688, 720.0033569335938, 636.0267944335938, 594.119873046875, 539.409423828125, 469.6792297363281, 406.96331787109375, 397.28472900390625, 385.4272766113281, 360.04779052734375, 356.48748779296875, 350.6389465332031, 349.48651123046875, 315.3828430175781, 313.4622802734375, 302.21710205078125, 283.72027587890625, 256.3053283691406, 251.24737548828125, 231.328125, 227.2840576171875, 222.06739807128906, 218.8656463623047, 208.93589782714844, 205.64077758789062, 205.19155883789062, 196.54307556152344, 463.1372375488281, 1609.3319091796875, 1111.2857666015625, 1229.187255859375, 1442.65576171875, 1819.09326171875, 2148.766357421875, 720.4058227539062, 679.3453979492188, 1060.5662841796875, 1613.357666015625, 1024.359619140625, 910.5973510742188, 1367.222900390625, 1252.513671875, 918.3780517578125, 793.1563110351562, 915.1962890625, 722.6040649414062, 1238.7801513671875, 4560.73583984375, 2889.2529296875, 2610.27783203125, 1937.0130615234375, 3139.12890625, 57084.43359375, 239.09393310546875, 228.21817016601562, 210.44691467285156, 173.63192749023438, 165.57728576660156, 154.5470428466797, 149.8837432861328, 135.3968963623047, 134.5146026611328, 129.1622772216797, 125.57469177246094, 117.80915832519531, 109.8526840209961, 99.83381652832031, 98.8748779296875, 92.40694427490234, 87.67176055908203, 85.82459259033203, 85.396240234375, 80.06275177001953, 78.17778778076172, 70.7895278930664, 65.69454193115234, 61.75225830078125, 61.730812072753906, 61.56623840332031, 61.536014556884766, 60.608802795410156, 59.109378814697266, 1685.000244140625, 1577.8109130859375, 714.1298828125, 641.7310180664062, 543.4669189453125, 507.3822937011719, 490.3608703613281, 483.2132873535156, 451.6961669921875, 393.82342529296875, 377.44793701171875, 344.4104309082031, 322.3553466796875, 292.35406494140625, 291.0613708496094, 257.2608642578125, 252.52487182617188, 245.32815551757812, 238.11349487304688, 237.9420928955078, 232.05029296875, 231.37416076660156, 221.02520751953125, 210.4001922607422, 204.68429565429688, 199.10548400878906, 195.212646484375, 192.1005096435547, 191.40199279785156, 188.35379028320312, 641.0115356445312, 1530.4539794921875, 976.9699096679688, 1018.894775390625, 1789.7535400390625, 300.60650634765625, 1737.38720703125, 2293.67138671875, 1093.355712890625, 1524.7552490234375, 1521.89794921875, 800.6959228515625, 6906.0712890625, 635.9185791015625, 3407.314208984375, 578.0123291015625, 356.79132080078125, 350.1006164550781, 321.0772399902344, 315.09552001953125, 311.3385009765625, 310.8769226074219, 303.85198974609375, 297.05291748046875, 290.562744140625, 259.002197265625, 256.4486389160156, 255.1868133544922, 248.9681396484375, 232.7290802001953, 229.24159240722656, 220.94659423828125, 218.084716796875, 215.51541137695312, 198.98681640625, 192.98069763183594, 192.7172393798828, 188.09910583496094, 183.16293334960938, 173.89341735839844, 170.5353546142578, 148.00042724609375, 146.60704040527344, 146.48367309570312, 144.84466552734375, 143.7407989501953, 442.7151794433594, 310.0849304199219, 299.15118408203125, 573.6737670898438, 305.6370849609375, 919.6995849609375, 690.08154296875, 419.7929992675781, 1140.7947998046875, 852.4639892578125, 264.20751953125, 443.80413818359375, 3461.198486328125, 579.6332397460938, 960.8178100585938, 1242.4212646484375, 2351.557373046875, 426.5718688964844, 5376.58837890625, 1315.5423583984375, 634.8505859375, 567.6359252929688, 550.0244140625, 427.4172668457031, 415.0038146972656, 400.7367248535156, 368.6087951660156, 366.85662841796875, 366.70513916015625, 301.68731689453125, 261.68377685546875, 246.59019470214844, 244.88560485839844, 233.81895446777344, 228.64523315429688, 221.17031860351562, 204.72122192382812, 193.38906860351562, 179.588134765625, 174.35191345214844, 173.50575256347656, 158.94129943847656, 157.9077606201172, 155.9211883544922, 141.6417999267578, 136.97181701660156, 135.84507751464844, 135.3122100830078, 127.94715881347656, 1746.2215576171875, 304.9423522949219, 279.3749694824219, 214.86651611328125, 922.1600952148438, 1737.38720703125, 358.7963562011719, 1056.611328125, 2415.2265625, 3006.490478515625, 645.8050537109375, 919.6995849609375, 601.4810180664062, 1635.117431640625, 752.9178466796875, 861.1563110351562, 1506.2784423828125, 1182.4053955078125, 547.740966796875, 496.615234375, 448.6502380371094, 431.5129089355469, 389.57562255859375, 354.09222412109375, 320.8926696777344, 290.858642578125, 280.0709228515625, 273.56072998046875, 271.6488342285156, 271.2878723144531, 240.24118041992188, 229.55287170410156, 226.9409942626953, 219.44073486328125, 215.69061279296875, 215.32888793945312, 201.66455078125, 196.69798278808594, 191.95420837402344, 189.97618103027344, 187.67721557617188, 185.52413940429688, 177.22695922851562, 174.04916381835938, 171.3093719482422, 170.11956787109375, 320.5651550292969, 408.8223876953125, 815.2266845703125, 683.2089233398438, 428.32232666015625, 350.40863037109375, 1148.9676513671875, 1643.2403564453125, 3380.61328125, 4598.23583984375, 1238.7801513671875, 350.86163330078125, 1097.4581298828125, 2148.766357421875, 573.841552734375, 3139.12890625, 3265.803466796875, 3845.3134765625, 534.2120361328125, 353.3346252441406, 309.88525390625, 290.22674560546875, 289.149658203125, 272.1136169433594, 267.804931640625, 232.59593200683594, 223.04592895507812, 216.93051147460938, 214.94589233398438, 192.9669647216797, 192.6260528564453, 189.45306396484375, 189.1117401123047, 179.83151245117188, 177.2669677734375, 175.0164337158203, 172.23916625976562, 169.25311279296875, 167.12527465820312, 160.01751708984375, 158.37696838378906, 157.82138061523438, 155.2763214111328, 153.70726013183594, 151.90806579589844, 149.81741333007812, 149.3312530517578, 295.89166259765625, 159.2772216796875, 975.6258544921875, 197.00669860839844, 303.5836181640625, 1022.5552368164062, 782.0597534179688, 239.76913452148438, 279.3235778808594, 1145.111328125, 510.3744201660156, 556.6749877929688, 404.0845642089844, 429.1714172363281, 505.8328857421875, 982.5117797851562, 3461.198486328125, 390.3371887207031, 372.8154296875, 562.195068359375, 514.4673461914062, 631.2091674804688, 1863.3109130859375, 430.93505859375, 392.68377685546875, 323.698974609375, 314.0322265625, 286.1502685546875, 280.54193115234375, 275.8960266113281, 271.80633544921875, 255.6595458984375, 239.53399658203125, 234.71644592285156, 209.54531860351562, 208.47702026367188, 203.6119842529297, 201.71434020996094, 200.98342895507812, 200.10336303710938, 172.78456115722656, 171.3797607421875, 169.54835510253906, 164.05337524414062, 153.23049926757812, 152.80496215820312, 145.81356811523438, 141.00682067871094, 135.8677215576172, 131.7933807373047, 129.0391082763672, 127.1416244506836, 270.350341796875, 612.59765625, 523.8587646484375, 203.53326416015625, 309.07623291015625, 1510.4715576171875, 474.851318359375, 1050.734130859375, 1381.6451416015625, 370.1758728027344, 766.8347778320312, 912.029296875, 576.7044677734375, 654.0594482421875, 3380.61328125, 873.1873168945312, 527.218994140625, 670.52880859375, 517.6556396484375, 345.1204528808594, 310.4094543457031, 294.5568542480469, 224.4540252685547, 261.6863708496094, 219.7593231201172, 219.2987823486328, 213.0059356689453, 180.7317352294922, 174.68905639648438, 173.6948699951172, 167.97845458984375, 164.45652770996094, 162.91871643066406, 160.71499633789062, 159.5732421875, 149.21792602539062, 146.76275634765625, 146.339599609375, 143.17959594726562, 141.8060302734375, 138.56051635742188, 136.44212341308594, 136.15362548828125, 127.82858276367188, 115.92538452148438, 114.28778076171875, 113.85600280761719, 213.83322143554688, 145.557373046875, 385.7396545410156, 496.6412658691406, 467.277587890625, 441.5207214355469, 250.6204833984375, 551.8126220703125, 321.22369384765625, 1096.084228515625, 483.0777587890625, 858.83154296875, 1140.7947998046875, 879.4996948242188, 223.26889038085938, 323.52459716796875, 1142.24755859375, 617.1908569335938, 940.77490234375, 1540.3836669921875, 1464.4871826171875, 838.0431518554688, 686.0953979492188, 568.9730834960938, 500.1554260253906, 455.8935546875, 388.8275146484375, 376.6117248535156, 365.68035888671875, 281.18804931640625, 260.6077880859375, 225.0843963623047, 219.3465118408203, 218.52734375, 213.77667236328125, 211.73565673828125, 207.83456420898438, 202.3466339111328, 187.0085906982422, 174.5323028564453, 174.2207794189453, 173.68833923339844, 171.79185485839844, 169.58294677734375, 164.63987731933594, 161.3462371826172, 156.60630798339844, 155.912109375, 155.8791046142578, 312.9959716796875, 1044.72900390625, 1092.0257568359375, 241.64834594726562, 421.9794006347656, 406.93414306640625, 3461.198486328125, 406.7995910644531, 2891.673828125, 377.6351623535156, 5446.26904296875, 1214.7940673828125, 529.6694946289062, 424.9599609375, 388.8189697265625, 382.32818603515625, 373.97271728515625, 361.45233154296875, 356.7646484375, 309.5460510253906, 268.076904296875, 232.60264587402344, 228.499267578125, 225.1486358642578, 218.54531860351562, 217.45616149902344, 212.41062927246094, 209.71351623535156, 207.100341796875, 193.53453063964844, 181.23886108398438, 174.601318359375, 173.0199432373047, 168.13868713378906, 160.9432373046875, 160.42652893066406, 158.91427612304688, 157.27630615234375, 156.3914794921875, 153.8009033203125, 153.7107696533203, 153.0727081298828, 382.85272216796875, 799.774169921875, 499.18780517578125, 479.1803283691406, 216.13999938964844, 204.47869873046875, 441.68743896484375, 525.7593994140625, 951.031494140625, 852.0703125, 852.4639892578125, 377.6351623535156, 514.9622802734375, 509.59283447265625, 375.155029296875, 306.1079406738281, 298.8603515625, 283.55804443359375, 280.9685974121094, 260.0189514160156, 231.9857940673828, 228.749267578125, 225.35813903808594, 211.48989868164062, 198.3898468017578, 177.2057342529297, 176.7685546875, 156.4535369873047, 145.94601440429688, 145.0962677001953, 127.00627899169922, 121.6296157836914, 121.25567626953125, 114.69918060302734, 113.1801986694336, 112.8694076538086, 112.68955993652344, 109.58197784423828, 107.78339385986328, 107.10243225097656, 104.19093322753906, 104.0527572631836, 263.353759765625, 670.4386596679688, 207.32601928710938, 395.5654296875, 214.41615295410156, 274.47100830078125, 290.9964294433594, 185.8029022216797, 752.9178466796875, 267.0711975097656, 452.8361511230469, 325.2667541503906, 268.1017150878906, 219.6439666748047, 478.9707946777344, 1341.542236328125, 432.905517578125, 381.4822082519531, 378.0242919921875, 356.0926513671875, 331.60693359375, 218.2732391357422, 216.42398071289062, 211.61721801757812, 210.54222106933594, 208.45437622070312, 202.66612243652344, 199.81582641601562, 195.30184936523438, 191.26605224609375, 172.56448364257812, 171.8148651123047, 149.62417602539062, 148.98165893554688, 143.69488525390625, 138.9551544189453, 130.71725463867188, 130.07467651367188, 128.14627075195312, 123.93253326416016, 120.96170806884766, 119.31139373779297, 119.02537536621094, 112.36425018310547, 110.0427017211914, 157.1177520751953, 455.1524658203125, 189.7316131591797, 562.195068359375, 314.2264099121094, 796.2731323242188, 3461.198486328125, 2891.673828125, 720.8759155273438, 465.2749938964844, 406.0245666503906, 364.614501953125, 361.06884765625, 300.93865966796875, 292.4227600097656, 281.5823669433594, 214.5046844482422, 191.49073791503906, 191.14865112304688, 184.95904541015625, 155.4119415283203, 146.39170837402344, 145.41671752929688, 145.13365173339844, 141.7028045654297, 129.85215759277344, 129.68016052246094, 124.58004760742188, 122.40019989013672, 121.2610092163086, 114.37014770507812, 107.83745574951172, 103.67951202392578, 103.09784698486328, 101.7023696899414, 95.86589050292969, 91.05177307128906, 88.15254211425781, 473.5279846191406, 162.43345642089844, 252.69442749023438, 725.9064331054688, 127.89898681640625, 196.9606170654297, 250.74217224121094, 163.4239044189453, 535.0972900390625, 774.6570434570312, 645.8050537109375, 1145.8238525390625, 597.745849609375, 917.0149536132812, 792.1633911132812, 569.908447265625, 325.7915954589844, 324.9999084472656, 300.3697509765625, 193.5688018798828, 181.58477783203125, 151.9470672607422, 145.88345336914062, 138.73863220214844, 131.70602416992188, 130.87513732910156, 124.24368286132812, 122.79627990722656, 121.15340423583984, 116.35515594482422, 105.42886352539062, 104.19783020019531, 97.6676025390625, 96.3022232055664, 93.22538757324219, 89.56339263916016, 83.68482971191406, 81.658447265625, 78.70339965820312, 77.2728271484375, 76.23600006103516, 74.26034545898438, 73.8747329711914, 392.7886047363281, 79.11996459960938, 291.2392883300781, 480.40374755859375, 465.2004089355469, 356.8933410644531, 316.341552734375, 189.4052276611328, 172.7437286376953, 168.13572692871094, 161.79840087890625, 161.51675415039062, 160.02716064453125, 145.8126220703125, 124.197509765625, 120.3233413696289, 118.5758285522461, 113.97848510742188, 113.16912078857422, 108.50929260253906, 102.26470184326172, 98.94023132324219, 93.9148178100586, 93.51209259033203, 92.05573272705078, 89.52716827392578, 88.85001373291016, 86.01464080810547, 84.08380126953125, 81.94526672363281, 76.62323760986328, 72.3720474243164, 72.14474487304688, 330.15576171875, 519.98486328125, 163.4926300048828, 864.269287109375, 911.0611572265625, 663.4839477539062, 725.4689331054688, 1435.2791748046875, 240.64382934570312, 416.52447509765625, 595.1067504882812, 1050.734130859375], \"logprob\": [30.0, 29.0, 28.0, 27.0, 26.0, 25.0, 24.0, 23.0, 22.0, 21.0, 20.0, 19.0, 18.0, 17.0, 16.0, 15.0, 14.0, 13.0, 12.0, 11.0, 10.0, 9.0, 8.0, 7.0, 6.0, 5.0, 4.0, 3.0, 2.0, 1.0, -4.086299896240234, -4.5578999519348145, -5.162199974060059, -5.388299942016602, -5.91510009765625, -6.0269999504089355, -6.068999767303467, -6.098299980163574, -6.233799934387207, -6.450099945068359, -6.474599838256836, -6.484600067138672, -6.503799915313721, -3.1612000465393066, -6.536600112915039, -6.05019998550415, -6.662899971008301, -6.676400184631348, -6.720900058746338, -6.7210001945495605, -6.723700046539307, -6.747799873352051, -6.753499984741211, -6.794400215148926, -6.883200168609619, -6.894599914550781, -6.902200222015381, -6.9430999755859375, -6.944200038909912, -6.951399803161621, -3.0645999908447266, -4.178100109100342, -4.036399841308594, -4.673900127410889, -3.661400079727173, -6.0954999923706055, -3.4862000942230225, -6.023499965667725, -6.1545000076293945, -6.052000045776367, -5.829899787902832, -4.376100063323975, -5.814199924468994, -4.245800018310547, -5.100599765777588, -4.831099987030029, -3.948699951171875, -4.255899906158447, -4.923999786376953, -4.424699783325195, -5.115499973297119, -5.1844000816345215, -4.18310022354126, -5.372499942779541, -5.093500137329102, -5.2006001472473145, -5.258399963378906, -5.590000152587891, -4.806399822235107, -5.258999824523926, -5.099699974060059, -5.365499973297119, -5.2631001472473145, -5.211999893188477, -5.345399856567383, -5.432799816131592, -5.8846001625061035, -6.071100234985352, -6.158999919891357, -6.230599880218506, -6.326200008392334, -6.398399829864502, -6.42080020904541, -6.425099849700928, -6.4492998123168945, -6.477399826049805, -6.471099853515625, -6.539599895477295, -6.58459997177124, -6.656000137329102, -6.695400238037109, -6.701700210571289, -6.716100215911865, -6.726200103759766, -6.741300106048584, -6.77810001373291, -6.791200160980225, -6.7932000160217285, -6.821499824523926, -6.868199825286865, -6.869500160217285, -6.886000156402588, -6.902100086212158, -6.906000137329102, -6.910399913787842, -6.265600204467773, -5.796800136566162, -5.999000072479248, -6.388299942016602, -5.148399829864502, -6.411499977111816, -5.340099811553955, -5.9608001708984375, -5.946199893951416, -6.1072001457214355, -5.474899768829346, -5.600599765777588, -5.7546000480651855, -5.663000106811523, -5.335400104522705, -5.050899982452393, -5.246600151062012, -5.131100177764893, -5.519499778747559, -5.016499996185303, -5.575200080871582, -5.460599899291992, -4.540999889373779, -4.984600067138672, -5.46120023727417, -4.935500144958496, -4.974699974060059, -5.785600185394287, -5.428699970245361, -5.41480016708374, -5.825699806213379, -4.766499996185303, -5.537499904632568, -4.972400188446045, -4.932300090789795, -5.496099948883057, -5.149400234222412, -4.65369987487793, -5.301300048828125, -5.47730016708374, -5.457799911499023, -5.264699935913086, -5.225500106811523, -5.470900058746338, -5.510799884796143, -5.473599910736084, -5.7347002029418945, -5.844900131225586, -5.934999942779541, -6.034999847412109, -6.168900012969971, -6.242800235748291, -6.5802001953125, -6.612400054931641, -6.623199939727783, -6.623499870300293, -6.624300003051758, -6.625199794769287, -6.737599849700928, -6.787600040435791, -6.789899826049805, -6.795899868011475, -6.803599834442139, -6.877799987792969, -6.94189977645874, -6.954699993133545, -6.988800048828125, -7.018799781799316, -7.025000095367432, -7.099599838256836, -7.104000091552734, -7.1255998611450195, -7.196899890899658, -7.213200092315674, -7.223999977111816, -5.233799934387207, -5.674799919128418, -6.642099857330322, -4.258399963378906, -3.873300075531006, -6.55210018157959, -6.59119987487793, -5.450200080871582, -5.6921000480651855, -2.9835000038146973, -5.821899890899658, -3.8141000270843506, -3.453700065612793, -4.744699954986572, -6.260300159454346, -5.3968000411987305, -5.06820011138916, -4.548399925231934, -5.170100212097168, -4.191199779510498, -4.9029998779296875, -4.592599868774414, -5.094399929046631, -6.184000015258789, -4.357100009918213, -3.99399995803833, -4.784599781036377, -5.938399791717529, -4.546000003814697, -4.25, -3.986799955368042, -4.808700084686279, -4.573699951171875, -4.495299816131592, -4.891499996185303, -5.023799896240234, -4.685800075531006, -4.980100154876709, -5.082300186157227, -5.06850004196167, -5.183499813079834, -5.054299831390381, -3.7690000534057617, -4.747399806976318, -4.792699813842773, -4.981299877166748, -4.997700214385986, -5.0183000564575195, -5.117300033569336, -5.120299816131592, -5.149600028991699, -5.236599922180176, -5.29640007019043, -5.299300193786621, -5.38070011138916, -5.450799942016602, -5.532100200653076, -5.560500144958496, -5.571800231933594, -5.596499919891357, -5.621699810028076, -5.632500171661377, -5.678400039672852, -5.6940999031066895, -5.7104997634887695, -5.736999988555908, -5.76039981842041, -5.769700050354004, -5.771500110626221, -5.809500217437744, -5.849899768829346, -5.9029998779296875, -3.930500030517578, -4.065899848937988, -4.867499828338623, -5.183899879455566, -5.3582000732421875, -5.145199775695801, -4.8769001960754395, -4.266499996185303, -4.34660005569458, -4.567399978637695, -4.5304999351501465, -4.323500156402588, -4.946499824523926, -5.1381001472473145, -5.148200035095215, -4.850200176239014, -5.146900177001953, -4.764900207519531, -5.173999786376953, -5.259699821472168, -5.244900226593018, -3.90120005607605, -4.64769983291626, -4.702499866485596, -4.840400218963623, -4.897799968719482, -5.021999835968018, -5.0903000831604, -5.186999797821045, -5.325699806213379, -5.469399929046631, -5.493500232696533, -5.523900032043457, -5.592100143432617, -5.602099895477295, -5.61870002746582, -5.622000217437744, -5.724999904632568, -5.731100082397461, -5.7677001953125, -5.831099987030029, -5.93310022354126, -5.953100204467773, -6.035999774932861, -6.053699970245361, -6.077099800109863, -6.091599941253662, -6.138299942016602, -6.154300212860107, -6.156499862670898, -6.199699878692627, -5.3709001541137695, -4.185200214385986, -4.576399803161621, -4.4868998527526855, -4.371600151062012, -4.217899799346924, -4.098999977111816, -5.061699867248535, -5.111700057983398, -4.759799957275391, -4.427199840545654, -4.820499897003174, -4.969799995422363, -4.681600093841553, -4.7881999015808105, -4.9944000244140625, -5.092400074005127, -5.078499794006348, -5.24399995803833, -5.0665998458862305, -4.644100189208984, -4.9274001121521, -4.957499980926514, -5.025199890136719, -5.022299766540527, -0.20489999651908875, -5.684299945831299, -5.730999946594238, -5.8125, -6.00570011138916, -6.053500175476074, -6.122900009155273, -6.15369987487793, -6.25600004196167, -6.262599945068359, -6.303500175476074, -6.331900119781494, -6.396299839019775, -6.466800212860107, -6.563300132751465, -6.5731000900268555, -6.64139986038208, -6.6946001052856445, -6.716100215911865, -6.721199989318848, -6.786399841308594, -6.810500144958496, -6.911099910736084, -6.9868998527526855, -7.049699783325195, -7.050099849700928, -7.052800178527832, -7.053299903869629, -7.068699836730957, -7.094200134277344, -3.6891000270843506, -3.7548999786376953, -4.548399925231934, -4.655399799346924, -4.821899890899658, -4.890699863433838, -4.924900054931641, -4.939599990844727, -5.007199764251709, -5.144599914550781, -5.18720006942749, -5.2789998054504395, -5.345399856567383, -5.443399906158447, -5.44789981842041, -5.571700096130371, -5.590400218963623, -5.6194000244140625, -5.649400234222412, -5.650100231170654, -5.675300121307373, -5.678199768066406, -5.7241997718811035, -5.77370023727417, -5.801300048828125, -5.829100131988525, -5.848999977111816, -5.865099906921387, -5.868800163269043, -5.884900093078613, -4.886000156402588, -4.384799957275391, -4.837900161743164, -4.837299823760986, -4.5192999839782715, -5.59119987487793, -4.804200172424316, -4.706200122833252, -5.085000038146973, -5.050300121307373, -5.269800186157227, -5.407899856567383, -5.01200008392334, -5.513199806213379, -5.445799827575684, -5.564499855041504, -5.09089994430542, -5.109899997711182, -5.196700096130371, -5.2154998779296875, -5.22760009765625, -5.229100227355957, -5.251999855041504, -5.274700164794922, -5.296899795532227, -5.412199974060059, -5.4222002029418945, -5.42710018157959, -5.451900005340576, -5.519599914550781, -5.534800052642822, -5.571800231933594, -5.58489990234375, -5.596799850463867, -5.677000045776367, -5.707799911499023, -5.709099769592285, -5.733500003814697, -5.760300159454346, -5.8125, -5.832099914550781, -5.974699974060059, -5.9842000007629395, -5.985099792480469, -5.996399879455566, -6.0040998458862305, -4.902400016784668, -5.2769999504089355, -5.31279993057251, -4.73960018157959, -5.326200008392334, -4.509099960327148, -4.757800102233887, -5.163000106811523, -4.652500152587891, -4.963699817657471, -5.566299915313721, -5.371799945831299, -4.7332000732421875, -5.311800003051758, -5.191699981689453, -5.210000038146973, -5.191100120544434, -5.479899883270264, -5.412199974060059, -3.7207999229431152, -4.450200080871582, -4.56220006942749, -4.593800067901611, -4.846499919891357, -4.876100063323975, -4.911099910736084, -4.994900226593018, -4.99970006942749, -5.000100135803223, -5.195799827575684, -5.338600158691406, -5.398200035095215, -5.405200004577637, -5.451600074768066, -5.474100112915039, -5.507400035858154, -5.585100173950195, -5.642300128936768, -5.716700077056885, -5.746500015258789, -5.751399993896484, -5.839600086212158, -5.846099853515625, -5.85890007019043, -5.95550012588501, -5.989299774169922, -5.997600078582764, -6.0015997886657715, -6.058000087738037, -3.5155999660491943, -5.214399814605713, -5.373199939727783, -5.600200176239014, -4.354599952697754, -3.8250999450683594, -5.176300048828125, -4.552800178527832, -4.054299831390381, -4.203199863433838, -5.3119001388549805, -5.261600017547607, -5.3805999755859375, -5.204599857330322, -5.4552998542785645, -5.462699890136719, -3.55679988861084, -3.799099922180176, -4.569499969482422, -4.667699813842773, -4.769499778747559, -4.808499813079834, -4.910999774932861, -5.006700038909912, -5.105500221252441, -5.204100131988525, -5.242000102996826, -5.265600204467773, -5.272600173950195, -5.273900032043457, -5.395899772644043, -5.4415998458862305, -5.453100204467773, -5.4868998527526855, -5.504199981689453, -5.505899906158447, -5.571700096130371, -5.596799850463867, -5.621300220489502, -5.631700038909912, -5.644000053405762, -5.655600070953369, -5.701600074768066, -5.719799995422363, -5.7357001304626465, -5.742700099945068, -5.182400226593018, -5.015999794006348, -4.530099868774414, -4.706099987030029, -5.133399963378906, -5.286799907684326, -4.623199939727783, -4.607100009918213, -4.3703999519348145, -4.279300212860107, -4.907800197601318, -5.393499851226807, -5.159900188446045, -5.02839994430542, -5.310699939727783, -5.061600208282471, -5.0767998695373535, -2.6057000160217285, -4.581099987030029, -4.9953999519348145, -5.126999855041504, -5.192699909210205, -5.196499824523926, -5.257400035858154, -5.273399829864502, -5.414899826049805, -5.456999778747559, -5.485000133514404, -5.494200229644775, -5.60260009765625, -5.604300022125244, -5.620999813079834, -5.622799873352051, -5.673399925231934, -5.687900066375732, -5.700699806213379, -5.716800212860107, -5.734399795532227, -5.747099876403809, -5.790800094604492, -5.801199913024902, -5.804699897766113, -5.821100234985352, -5.831299781799316, -5.843200206756592, -5.857100009918213, -5.860400199890137, -5.188899993896484, -5.796599864959717, -4.0289998054504395, -5.603600025177002, -5.240900039672852, -4.2104997634887695, -4.546899795532227, -5.484099864959717, -5.3734002113342285, -4.396900177001953, -4.971799850463867, -4.926799774169922, -5.15500020980835, -5.157400131225586, -5.070700168609619, -4.752399921417236, -4.263899803161621, -5.297800064086914, -5.325399875640869, -5.177199840545654, -5.315999984741211, -5.3821001052856445, -3.2471001148223877, -4.712900161743164, -4.806099891662598, -4.999800205230713, -5.030200004577637, -5.123499870300293, -5.143400192260742, -5.160099983215332, -5.175099849700928, -5.236599922180176, -5.302000045776367, -5.322400093078613, -5.436299800872803, -5.441500186920166, -5.465199947357178, -5.474599838256836, -5.4781999588012695, -5.482699871063232, -5.630199909210205, -5.638400077819824, -5.649199962615967, -5.682400226593018, -5.750999927520752, -5.753799915313721, -5.801000118255615, -5.834700107574463, -5.872099876403809, -5.9028000831604, -5.924099922180176, -5.939000129699707, -5.320400238037109, -4.768700122833252, -4.89139986038208, -5.609300136566162, -5.359399795532227, -4.506999969482422, -5.174099922180176, -4.8155999183654785, -4.978899955749512, -5.431000232696533, -5.250800132751465, -5.214900016784668, -5.33050012588501, -5.3403000831604, -5.17609977722168, -5.421999931335449, -5.458700180053711, -4.190100193023682, -4.4492998123168945, -4.855599880218506, -4.961900234222412, -5.014500141143799, -5.287399768829346, -5.133900165557861, -5.308599948883057, -5.310699939727783, -5.339900016784668, -5.505099773406982, -5.5391998291015625, -5.545000076293945, -5.57859992980957, -5.599999904632568, -5.609399795532227, -5.6230998039245605, -5.630300045013428, -5.697800159454346, -5.7144999504089355, -5.717400074005127, -5.7393999099731445, -5.749100208282471, -5.77239990234375, -5.787899971008301, -5.789999961853027, -5.853600025177002, -5.952099800109863, -5.9664998054504395, -5.970300197601318, -5.369999885559082, -5.739799976348877, -4.861299991607666, -4.657199859619141, -4.766499996185303, -4.818299770355225, -5.337699890136719, -4.80079984664917, -5.295000076293945, -4.719299793243408, -5.166999816894531, -5.123000144958496, -5.1066999435424805, -5.39900016784668, -5.5858001708984375, -5.564599990844727, -5.537099838256836, -5.570000171661377, -5.571300029754639, -3.354099988937378, -3.4047000408172607, -3.963399887084961, -4.163700103759766, -4.351200103759766, -4.480299949645996, -4.573200225830078, -4.732699871063232, -4.764699935913086, -4.7941999435424805, -5.057700157165527, -5.133999824523926, -5.281099796295166, -5.30709981918335, -5.310800075531006, -5.332900047302246, -5.342599868774414, -5.361199855804443, -5.3881001472473145, -5.467400074005127, -5.536799907684326, -5.538599967956543, -5.5416998863220215, -5.552700042724609, -5.565700054168701, -5.5954999923706055, -5.615799903869629, -5.6458001136779785, -5.650300025939941, -5.6504998207092285, -5.020899772644043, -4.05210018157959, -4.070899963378906, -5.4054999351501465, -5.133699893951416, -5.183899879455566, -4.510300159454346, -5.31279993057251, -5.231800079345703, -5.456200122833252, -5.292600154876709, -5.4319000244140625, -4.246799945831299, -4.46750020980835, -4.556600093841553, -4.573500156402588, -4.595600128173828, -4.629799842834473, -4.642899990081787, -4.785299777984619, -4.929599761962891, -5.0721001625061035, -5.089900016784668, -5.104800224304199, -5.134699821472168, -5.139699935913086, -5.163300037384033, -5.17609977722168, -5.188700199127197, -5.256800174713135, -5.322800159454346, -5.360300064086914, -5.3694000244140625, -5.398200035095215, -5.442200183868408, -5.445400238037109, -5.454999923706055, -5.465400218963623, -5.471099853515625, -5.4878997802734375, -5.488500118255615, -5.492700099945068, -4.609399795532227, -3.943000078201294, -4.412799835205078, -4.616099834442139, -5.2418999671936035, -5.319900035858154, -5.083700180053711, -5.043300151824951, -4.944200038909912, -4.988699913024902, -5.086400032043457, -5.277599811553955, -4.199399948120117, -4.20989990234375, -4.516900062561035, -4.720900058746338, -4.744900226593018, -4.797599792480469, -4.8069000244140625, -4.8846001625061035, -4.999100208282471, -5.013299942016602, -5.028299808502197, -5.092100143432617, -5.156300067901611, -5.269800186157227, -5.272299766540527, -5.395100116729736, -5.465099811553955, -5.470900058746338, -5.605100154876709, -5.648600101470947, -5.651800155639648, -5.707799911499023, -5.721199989318848, -5.723999977111816, -5.725599765777588, -5.753799915313721, -5.770500183105469, -5.776899814605713, -5.804699897766113, -5.806099891662598, -4.912099838256836, -4.047699928283691, -5.163599967956543, -4.589799880981445, -5.220300197601318, -5.041999816894531, -4.999899864196777, -5.354400157928467, -4.400300025939941, -5.156000137329102, -4.8643999099731445, -5.198800086975098, -5.381800174713135, -5.412399768829346, -5.3267998695373535, -3.220599889755249, -4.3531999588012695, -4.480000019073486, -4.489099979400635, -4.548999786376953, -4.620500087738037, -5.040200233459473, -5.048699855804443, -5.071300029754639, -5.076399803161621, -5.086400032043457, -5.114699840545654, -5.129000186920166, -5.151899814605713, -5.172900199890137, -5.276299953460693, -5.280700206756592, -5.419899940490723, -5.424200057983398, -5.460599899291992, -5.49429988861084, -5.5559000968933105, -5.5609002113342285, -5.575900077819824, -5.609600067138672, -5.634099960327148, -5.647900104522705, -5.650300025939941, -5.708399772644043, -5.729499816894531, -5.406400203704834, -4.5279998779296875, -5.2804999351501465, -5.001200199127197, -5.525599956512451, -5.547100067138672, -5.503399848937988, -5.543099880218506, -3.636199951171875, -4.07480001449585, -4.211299896240234, -4.319200038909912, -4.328999996185303, -4.51170015335083, -4.540500164031982, -4.578400135040283, -4.851600170135498, -4.96560001373291, -4.967400074005127, -5.000500202178955, -5.17549991607666, -5.2357001304626465, -5.242400169372559, -5.2444000244140625, -5.268499851226807, -5.356400012969971, -5.357800006866455, -5.398200035095215, -5.415999889373779, -5.4253997802734375, -5.484399795532227, -5.543700218200684, -5.583399772644043, -5.589099884033203, -5.60290002822876, -5.662600040435791, -5.714600086212158, -5.747300148010254, -4.184500217437744, -5.268799781799316, -4.958700180053711, -4.375500202178955, -5.472400188446045, -5.253900051116943, -5.174300193786621, -5.363900184631348, -4.856200218200684, -4.838399887084961, -5.164700031280518, -5.089399814605713, -5.271200180053711, -3.3864998817443848, -3.5329999923706055, -3.8626999855041504, -4.4232001304626465, -4.425600051879883, -4.504700183868408, -4.945799827575684, -5.010000228881836, -5.189199924468994, -5.230100154876709, -5.280700206756592, -5.333099842071533, -5.339399814605713, -5.3917999267578125, -5.403600215911865, -5.417200088500977, -5.457900047302246, -5.557400226593018, -5.569200038909912, -5.634500026702881, -5.64870023727417, -5.68149995803833, -5.7220001220703125, -5.790599822998047, -5.815400123596191, -5.852700233459473, -5.871300220489502, -5.885000228881836, -5.911499977111816, -5.916800022125244, -4.258999824523926, -5.850200176239014, -5.513199806213379, -3.935499906539917, -3.9677000045776367, -4.233399868011475, -4.354300022125244, -4.86929988861084, -4.961900234222412, -4.988999843597412, -5.027699947357178, -5.029399871826172, -5.03879976272583, -5.132400035858154, -5.294000148773193, -5.325900077819824, -5.340700149536133, -5.380499839782715, -5.387700080871582, -5.430099964141846, -5.4899001121521, -5.5233001708984375, -5.575900077819824, -5.5802998542785645, -5.596099853515625, -5.624300003051758, -5.631999969482422, -5.66480016708374, -5.687699794769287, -5.713799953460693, -5.781700134277344, -5.839600086212158, -5.842800140380859, -4.540800094604492, -4.172500133514404, -5.149799823760986, -3.898099899291992, -4.594799995422363, -4.8881001472473145, -5.116099834442139, -5.0665998458862305, -5.479800224304199, -5.455999851226807, -5.428500175476074, -5.512199878692627], \"Term\": [\"ax\", \"line\", \"not\", \"organization\", \"max\", \"do\", \"write\", \"article\", \"be\", \"would\", \"say\", \"go\", \"nntp_post\", \"host\", \"get\", \"university\", \"space\", \"window\", \"s\", \"know\", \"year\", \"use\", \"game\", \"mail\", \"right\", \"christian\", \"government\", \"team\", \"system\", \"card\", \"nntp_post\", \"anyone\", \"car\", \"buy\", \"bike\", \"nice\", \"memory\", \"anybody\", \"display\", \"oil\", \"chicago\", \"door\", \"engine\", \"organization\", \"air\", \"robert\", \"stick\", \"engineering\", \"originator\", \"insurance\", \"dod\", \"advice\", \"battery\", \"limit\", \"internal\", \"auto\", \"motor\", \"hole\", \"texas\", \"wall\", \"line\", \"host\", \"university\", \"reply\", \"article\", \"wonder\", \"write\", \"sound\", \"distribution_usa\", \"like\", \"distribution_world\", \"good\", \"inc\", \"get\", \"thank\", \"look\", \"would\", \"be\", \"need\", \"know\", \"much\", \"have\", \"not\", \"help\", \"want\", \"try\", \"new\", \"lot\", \"do\", \"work\", \"time\", \"problem\", \"may\", \"make\", \"could\", \"president\", \"argument\", \"statement\", \"decision\", \"jew\", \"arab\", \"clearly\", \"attempt\", \"russian\", \"genocide\", \"respect\", \"discuss\", \"context\", \"atheist\", \"punishment\", \"theory\", \"msg\", \"authority\", \"german\", \"party\", \"imply\", \"concept\", \"instance\", \"principle\", \"promise\", \"physical\", \"posting\", \"establish\", \"deity\", \"worship\", \"term\", \"rule\", \"present\", \"sense\", \"claim\", \"concern\", \"exist\", \"discussion\", \"clear\", \"thus\", \"answer\", \"view\", \"yet\", \"example\", \"true\", \"must\", \"reason\", \"fact\", \"rather\", \"mean\", \"issue\", \"however\", \"may\", \"point\", \"consider\", \"question\", \"many\", \"perhaps\", \"part\", \"world\", \"accept\", \"make\", \"word\", \"also\", \"people\", \"follow\", \"give\", \"would\", \"way\", \"group\", \"read\", \"say\", \"write\", \"see\", \"time\", \"mr_stephanopoulo\", \"kid\", \"hell\", \"job\", \"drug\", \"stand\", \"matthew\", \"peace\", \"health\", \"doctor\", \"should\", \"imagine\", \"hate\", \"somewhere\", \"stay\", \"firearm\", \"trial\", \"hurt\", \"neighbor\", \"weekend\", \"stupid\", \"davidian\", \"laugh\", \"coverage\", \"last_night\", \"complain\", \"ohio\", \"statistic\", \"economic\", \"newsletter\", \"happen\", \"face\", \"forget\", \"s\", \"go\", \"boy\", \"smith\", \"that\", \"away\", \"not\", \"money\", \"say\", \"do\", \"tell\", \"tax\", \"talk\", \"start\", \"take\", \"let\", \"think\", \"day\", \"come\", \"never\", \"young\", \"people\", \"be\", \"even\", \"stop\", \"see\", \"know\", \"would\", \"could\", \"time\", \"get\", \"want\", \"well\", \"make\", \"thing\", \"have\", \"year\", \"right\", \"good\", \"window\", \"color\", \"graphic\", \"machine\", \"mode\", \"format\", \"video\", \"mac\", \"peter\", \"screen\", \"hd\", \"ram\", \"pc\", \"font\", \"vlb\", \"mouse\", \"scsi\", \"port\", \"setup\", \"xfree\", \"laptop\", \"tape\", \"meg\", \"client\", \"vesa\", \"controller\", \"modem\", \"vga\", \"ide\", \"gif\", \"card\", \"file\", \"board\", \"monitor\", \"instal\", \"disk\", \"driver\", \"drive\", \"system\", \"run\", \"problem\", \"use\", \"bit\", \"standard\", \"email\", \"work\", \"set\", \"do\", \"support\", \"version\", \"help\", \"mail\", \"internet\", \"advance\", \"server\", \"access\", \"sun\", \"package\", \"newsgroup\", \"library\", \"directory\", \"corporation\", \"mit\", \"pin\", \"illinois\", \"material\", \"motif\", \"moon\", \"upgrade\", \"pub\", \"purchase\", \"genoa\", \"ftp\", \"mailing_list\", \"brave\", \"quick\", \"speaker\", \"terminal\", \"editor\", \"urbana\", \"cpu\", \"site\", \"available\", \"ca\", \"list\", \"send\", \"include\", \"information\", \"fax\", \"network\", \"source\", \"program\", \"image\", \"offer\", \"info\", \"software\", \"service\", \"application\", \"page\", \"user\", \"message\", \"also\", \"call\", \"post\", \"group\", \"new\", \"ax\", \"nyi\", \"stl\", \"buffalo\", \"pool\", \"brian_kendig\", \"sunday\", \"finland\", \"espn\", \"lemieux\", \"qax\", \"chain\", \"harry\", \"canuck\", \"tiger\", \"mormon\", \"winnipeg_jet\", \"cirrus_logic\", \"org\", \"dear\", \"anaheim\", \"pure\", \"discharge\", \"lawrence\", \"final_standing\", \"praise\", \"new_brunswick\", \"sinner\", \"married\", \"penn_state\", \"christian\", \"god\", \"religion\", \"bible\", \"belief\", \"faith\", \"king\", \"church\", \"spank\", \"normal\", \"lord\", \"father\", \"moral\", \"verse\", \"christ\", \"gay\", \"christianity\", \"scripture\", \"marriage\", \"sex\", \"pain\", \"homosexual\", \"sin\", \"zoroastrian\", \"passage\", \"animal\", \"mystery\", \"honor\", \"soul\", \"satan\", \"truth\", \"man\", \"die\", \"love\", \"life\", \"heart\", \"law\", \"believe\", \"child\", \"word\", \"book\", \"human\", \"say\", \"death\", \"come\", \"woman\", \"march\", \"mission\", \"boston\", \"satellite\", \"schedule\", \"pray\", \"case_western\", \"reserve_university\", \"morning\", \"brother\", \"la\", \"gov\", \"hat\", \"medicine\", \"spacecraft\", \"estimate\", \"minnesota\", \"cleveland_ohio\", \"astronomy\", \"km\", \"san_francisco\", \"pitch\", \"morris\", \"frank\", \"mar\", \"hospital\", \"energy\", \"membership\", \"comet\", \"ins_cwru\", \"george\", \"washington\", \"rd\", \"april\", \"san_jose\", \"national\", \"study\", \"student\", \"center\", \"research\", \"mr\", \"medium\", \"year\", \"room\", \"usa\", \"news\", \"day\", \"vote\", \"time\", \"gun\", \"protect\", \"police\", \"criminal\", \"law_enforcement\", \"crime\", \"arrest\", \"policy\", \"weapon\", \"clipper_chip\", \"citizen\", \"discipline\", \"permit\", \"court\", \"federal\", \"constitution\", \"illegal\", \"cop\", \"implement\", \"hunt\", \"ban\", \"senate\", \"handgun\", \"regulation\", \"militia\", \"guard\", \"prohibit\", \"gun_control\", \"amendment\", \"restriction\", \"government\", \"legal\", \"congress\", \"ensure\", \"public\", \"law\", \"private\", \"american\", \"state\", \"right\", \"house\", \"national\", \"carry\", \"case\", \"fire\", \"country\", \"key\", \"chip\", \"encryption\", \"wiretap\", \"hang\", \"apple\", \"clipper\", \"algorithm\", \"spanking\", \"nec\", \"printer\", \"encrypt\", \"hard_drive\", \"secure\", \"crypto\", \"finger\", \"tap\", \"shape\", \"automatically\", \"nsa\", \"compatible\", \"clean\", \"friday\", \"default\", \"ticket\", \"key_escrow\", \"timeout\", \"magic\", \"broadcast\", \"tree\", \"communication\", \"agency\", \"phone\", \"device\", \"security\", \"block\", \"technology\", \"bit\", \"system\", \"use\", \"message\", \"electronic\", \"datum\", \"information\", \"contain\", \"new\", \"need\", \"max\", \"obvious\", \"mile\", \"ride\", \"dealer\", \"count\", \"hall\", \"stat\", \"dog\", \"summer\", \"dollar\", \"brake\", \"screw\", \"jack\", \"bolt\", \"risk\", \"jeff\", \"rough\", \"tm\", \"yesterday\", \"misc\", \"shipping\", \"damn\", \"chris\", \"seat\", \"mid\", \"rid\", \"cold\", \"rating\", \"capital\", \"average\", \"alan\", \"cost\", \"master\", \"distribution_na\", \"price\", \"sell\", \"magazine\", \"richard\", \"sale\", \"total\", \"canada\", \"pull\", \"mike\", \"pick\", \"pay\", \"year\", \"extra\", \"trade\", \"road\", \"new_york\", \"hit\", \"space\", \"launch\", \"switch\", \"radio\", \"mon\", \"orbit\", \"van\", \"nasa\", \"flight\", \"min\", \"station\", \"volt\", \"doc\", \"audio\", \"signal\", \"aerospace\", \"mount\", \"panel\", \"amp\", \"ott\", \"expand\", \"slap\", \"cylinder\", \"metal\", \"battery_charger\", \"frequency\", \"channel\", \"monthly\", \"conductor\", \"fuel\", \"rocket\", \"ground\", \"project\", \"scale\", \"fly\", \"power\", \"unit\", \"build\", \"high\", \"mass\", \"level\", \"low\", \"earth\", \"design\", \"system\", \"large\", \"model\", \"israel\", \"israeli\", \"international\", \"soldier\", \"chief\", \"civilian\", \"border\", \"privacy\", \"lebanon\", \"terrorist\", \"massacre\", \"anger\", \"movement\", \"tomorrow\", \"february\", \"plane\", \"million\", \"pm\", \"rat\", \"heavy\", \"soviet\", \"emergency\", \"captain\", \"lunar\", \"ref\", \"edward\", \"train\", \"bomb\", \"secretary\", \"territory\", \"army\", \"nt\", \"committee\", \"attack\", \"military\", \"land\", \"enjoy\", \"hour\", \"population\", \"kill\", \"jewish\", \"report\", \"center\", \"area\", \"equal\", \"fight\", \"standard\", \"department\", \"control\", \"game\", \"team\", \"player\", \"hockey\", \"season\", \"contact\", \"nhl\", \"goal\", \"fan\", \"score\", \"ice\", \"canadian\", \"vancouver\", \"gd\", \"devil\", \"pit\", \"playoff\", \"detroit\", \"nyr\", \"coach\", \"bos\", \"defenseman\", \"hockey_league\", \"tor\", \"excellent\", \"draft\", \"tampa_bay\", \"det\", \"ahl\", \"phi\", \"hawk\", \"play\", \"win\", \"wing\", \"final\", \"division\", \"year\", \"period\", \"first\", \"pittsburgh\", \"good\", \"second\", \"computer_science\", \"homeopathy\", \"review\", \"development\", \"object\", \"gordon_bank\", \"ibm\", \"medical\", \"search\", \"reader\", \"useful\", \"disease\", \"patient\", \"professional\", \"resource\", \"homeopathic\", \"demonstrate\", \"success\", \"gps\", \"treatment\", \"announcement\", \"logical\", \"tel\", \"edition\", \"comparison\", \"painful\", \"thinking\", \"background\", \"fox\", \"installation\", \"univ\", \"science\", \"prove\", \"text\", \"description\", \"scientific\", \"develop\", \"soon\", \"reference\", \"david\", \"research\", \"pittsburgh\", \"rise\", \"paul\", \"edge\", \"water\", \"teach\", \"mother\", \"girl\", \"mhz\", \"wave\", \"reserve\", \"button\", \"probe\", \"widget\", \"cool\", \"miller\", \"frame\", \"seal\", \"lamp\", \"darren\", \"slave\", \"heat\", \"pop\", \"ken\", \"seize\", \"wind\", \"window_manager\", \"france\", \"bottle\", \"ltd\", \"tonight\", \"table\", \"light\", \"pressure\", \"building\", \"relative\", \"ago\", \"foot\", \"shell\", \"fire\", \"eye\", \"wait\", \"blood\", \"supply\", \"middle\", \"food\", \"armenian\", \"league\", \"turk\", \"turkish\", \"baseball\", \"serdar_argic\", \"cal\", \"hug\", \"sumgait\", \"chi\", \"turkey\", \"azerbaijani\", \"apartment\", \"suck\", \"ranger\", \"ham\", \"armenia\", \"xterm\", \"czar\", \"crowd\", \"mutlu\", \"logo\", \"darin\", \"interview\", \"plate\", \"penguin\", \"gold\", \"hill\", \"hitter\", \"bounce\", \"vay\", \"greek\", \"yalanci\", \"road\", \"burn\", \"today\", \"year\", \"first\", \"wire\", \"circuit\", \"connect\", \"wiring\", \"voice\", \"outlet\", \"neutral\", \"conference\", \"usenet\", \"lock\", \"computing\", \"timer\", \"gfci\", \"voltage\", \"mont_pierce\", \"annual\", \"div\", \"construction\", \"helmet\", \"familiar\", \"breaker\", \"gene\", \"postscript\", \"legend\", \"firm\", \"civil\", \"kurt\", \"cell\", \"portion\", \"ought\", \"faq\", \"multi\", \"depend\", \"cover\", \"pipe\", \"analysis\", \"art\", \"guide\", \"cable\", \"current\", \"house\", \"email\", \"copy\", \"_\", \"blue\", \"tank\", \"eg\", \"gas\", \"hi\", \"henry_spencer\", \"cigarette\", \"xlib\", \"fd\", \"mf\", \"xga\", \"toronto_zoology\", \"henry\", \"dress\", \"bay\", \"bitmap\", \"ontario\", \"fp\", \"shk\", \"gr\", \"gq\", \"mg\", \"cc\", \"eeg\", \"interactive\", \"lens\", \"ep\", \"nc\", \"lately\", \"cubs_suck\", \"csa\", \"band\", \"bus\", \"specifically\", \"associate\", \"motorcycle\", \"confuse\", \"entry\", \"detect\", \"brand\", \"ease\", \"string\", \"bag\", \"vesa_local\", \"guru\", \"countersteer\", \"bradley\", \"lane\", \"forum\", \"int\", \"scoop\", \"vram\", \"enjoyment\", \"nick\", \"libxmu\", \"callback\", \"ati\", \"safely\", \"detector\", \"drawing\", \"ms_window\", \"steer\", \"properly\", \"function\", \"shift\", \"value\", \"code\", \"error\", \"return\", \"set\", \"compile\", \"character\", \"size\", \"build\"]}};\n",
       "\n",
       "function LDAvis_load_lib(url, callback){\n",
       "  var s = document.createElement('script');\n",
       "  s.src = url;\n",
       "  s.async = true;\n",
       "  s.onreadystatechange = s.onload = callback;\n",
       "  s.onerror = function(){console.warn(\"failed to load library \" + url);};\n",
       "  document.getElementsByTagName(\"head\")[0].appendChild(s);\n",
       "}\n",
       "\n",
       "if(typeof(LDAvis) !== \"undefined\"){\n",
       "   // already loaded: just create the visualization\n",
       "   !function(LDAvis){\n",
       "       new LDAvis(\"#\" + \"ldavis_el608426693356410887362946328\", ldavis_el608426693356410887362946328_data);\n",
       "   }(LDAvis);\n",
       "}else if(typeof define === \"function\" && define.amd){\n",
       "   // require.js is available: use it to load d3/LDAvis\n",
       "   require.config({paths: {d3: \"https://cdnjs.cloudflare.com/ajax/libs/d3/3.5.5/d3.min\"}});\n",
       "   require([\"d3\"], function(d3){\n",
       "      window.d3 = d3;\n",
       "      LDAvis_load_lib(\"https://cdn.rawgit.com/bmabey/pyLDAvis/files/ldavis.v1.0.0.js\", function(){\n",
       "        new LDAvis(\"#\" + \"ldavis_el608426693356410887362946328\", ldavis_el608426693356410887362946328_data);\n",
       "      });\n",
       "    });\n",
       "}else{\n",
       "    // require.js not available: dynamically load d3 & LDAvis\n",
       "    LDAvis_load_lib(\"https://cdnjs.cloudflare.com/ajax/libs/d3/3.5.5/d3.min.js\", function(){\n",
       "         LDAvis_load_lib(\"https://cdn.rawgit.com/bmabey/pyLDAvis/files/ldavis.v1.0.0.js\", function(){\n",
       "                 new LDAvis(\"#\" + \"ldavis_el608426693356410887362946328\", ldavis_el608426693356410887362946328_data);\n",
       "            })\n",
       "         });\n",
       "}\n",
       "</script>"
      ],
      "text/plain": [
       "PreparedData(topic_coordinates=            Freq  cluster  topics         x         y\n",
       "topic                                                \n",
       "7      16.262438        1       1  0.337009 -0.001268\n",
       "13     15.228902        1       2  0.291093 -0.003100\n",
       "18     14.564972        1       3  0.328797 -0.128176\n",
       "2       6.162430        1       4  0.091721  0.226476\n",
       "15      5.974024        1       5  0.059664  0.222616\n",
       "10      4.344128        1       6 -0.084991 -0.112872\n",
       "17      4.177711        1       7  0.060997 -0.182966\n",
       "12      3.586029        1       8 -0.022525 -0.036449\n",
       "5       3.366010        1       9 -0.022898 -0.021223\n",
       "16      3.271635        1      10 -0.029311  0.219728\n",
       "6       3.227684        1      11 -0.062714 -0.017222\n",
       "9       2.969382        1      12 -0.062883  0.139502\n",
       "14      2.741264        1      13 -0.088857 -0.062628\n",
       "3       2.731828        1      14 -0.047746 -0.117471\n",
       "8       2.290905        1      15 -0.111489  0.003679\n",
       "19      2.124099        1      16 -0.113660 -0.023379\n",
       "11      2.081701        1      17 -0.092185 -0.110817\n",
       "4       1.693961        1      18 -0.134208  0.001595\n",
       "0       1.679178        1      19 -0.164194 -0.028011\n",
       "1       1.521725        1      20 -0.131619  0.031985, topic_info=      Category          Freq          Term         Total  loglift  logprob\n",
       "term                                                                      \n",
       "45019  Default  57084.000000            ax  57084.000000  30.0000  30.0000\n",
       "17409  Default  12491.000000          line  12491.000000  29.0000  29.0000\n",
       "34840  Default  16294.000000           not  16294.000000  28.0000  28.0000\n",
       "27874  Default  11141.000000  organization  11141.000000  27.0000  27.0000\n",
       "52486  Default   3845.000000           max   3845.000000  26.0000  26.0000\n",
       "632    Default  10454.000000            do  10454.000000  25.0000  25.0000\n",
       "4050   Default   9655.000000         write   9655.000000  24.0000  24.0000\n",
       "28197  Default   7586.000000       article   7586.000000  23.0000  23.0000\n",
       "58112  Default   8048.000000            be   8048.000000  22.0000  22.0000\n",
       "43932  Default  11783.000000         would  11783.000000  21.0000  21.0000\n",
       "70641  Default   6906.000000           say   6906.000000  20.0000  20.0000\n",
       "36245  Default   5804.000000            go   5804.000000  19.0000  19.0000\n",
       "53481  Default   4407.000000     nntp_post   4407.000000  18.0000  18.0000\n",
       "14393  Default   4083.000000          host   4083.000000  17.0000  17.0000\n",
       "38035  Default   6852.000000           get   6852.000000  16.0000  16.0000\n",
       "17108  Default   5027.000000    university   5027.000000  15.0000  15.0000\n",
       "3146   Default   1863.000000         space   1863.000000  14.0000  14.0000\n",
       "18760  Default   2294.000000        window   2294.000000  13.0000  13.0000\n",
       "22731  Default   3735.000000             s   3735.000000  12.0000  12.0000\n",
       "37395  Default   7292.000000          know   7292.000000  11.0000  11.0000\n",
       "53402  Default   3461.000000          year   3461.000000  10.0000  10.0000\n",
       "59065  Default   4598.000000           use   4598.000000   9.0000   9.0000\n",
       "59995  Default   1540.000000          game   1540.000000   8.0000   8.0000\n",
       "63374  Default   1948.000000          mail   1948.000000   7.0000   7.0000\n",
       "71267  Default   3006.000000         right   3006.000000   6.0000   6.0000\n",
       "66387  Default   1685.000000     christian   1685.000000   5.0000   5.0000\n",
       "48690  Default   1746.000000    government   1746.000000   4.0000   4.0000\n",
       "57776  Default   1464.000000          team   1464.000000   3.0000   3.0000\n",
       "45542  Default   3380.000000        system   3380.000000   2.0000   2.0000\n",
       "19607  Default   2012.000000          card   2012.000000   1.0000   1.0000\n",
       "...        ...           ...           ...           ...      ...      ...\n",
       "25573  Topic20    119.371460          guru    120.323341   4.1774  -5.3259\n",
       "32683  Topic20    117.623947  countersteer    118.575829   4.1773  -5.3407\n",
       "28971  Topic20    113.026604       bradley    113.978485   4.1769  -5.3805\n",
       "56511  Topic20    112.217239          lane    113.169121   4.1769  -5.3877\n",
       "27223  Topic20    107.557411         forum    108.509293   4.1765  -5.4301\n",
       "63036  Topic20    101.312820           int    102.264702   4.1760  -5.4899\n",
       "19     Topic20     97.988350         scoop     98.940231   4.1757  -5.5233\n",
       "35981  Topic20     92.962936          vram     93.914818   4.1751  -5.5759\n",
       "24369  Topic20     92.560211     enjoyment     93.512093   4.1751  -5.5803\n",
       "39769  Topic20     91.103851          nick     92.055733   4.1749  -5.5961\n",
       "59163  Topic20     88.575287        libxmu     89.527168   4.1746  -5.6243\n",
       "46217  Topic20     87.898132      callback     88.850014   4.1746  -5.6320\n",
       "14571  Topic20     85.062759           ati     86.014641   4.1742  -5.6648\n",
       "17827  Topic20     83.131920        safely     84.083801   4.1739  -5.6877\n",
       "7767   Topic20     80.993385      detector     81.945267   4.1736  -5.7138\n",
       "36846  Topic20     75.671356       drawing     76.623238   4.1728  -5.7817\n",
       "51165  Topic20     71.420166     ms_window     72.372047   4.1721  -5.8396\n",
       "1867   Topic20     71.192863         steer     72.144745   4.1720  -5.8428\n",
       "8633   Topic20    261.745422      properly    330.155762   3.9531  -4.5408\n",
       "46647  Topic20    378.280365      function    519.984863   3.8672  -4.1725\n",
       "69443  Topic20    142.362640         shift    163.492630   4.0469  -5.1498\n",
       "64353  Topic20    497.706512         value    864.269287   3.6335  -3.8981\n",
       "153    Topic20    247.967072          code    911.061157   2.8840  -4.5948\n",
       "9724   Topic20    184.933029         error    663.483948   2.9078  -4.8881\n",
       "1346   Topic20    147.237366        return    725.468933   2.5906  -5.1161\n",
       "70744  Topic20    154.705826           set   1435.279175   1.9577  -5.0666\n",
       "9001   Topic20    102.347244       compile    240.643829   3.3304  -5.4798\n",
       "6697   Topic20    104.812531     character    416.524475   2.8056  -5.4560\n",
       "17418  Topic20    107.731888          size    595.106750   2.4762  -5.4285\n",
       "16724  Topic20     99.076927         build   1050.734131   1.8240  -5.5122\n",
       "\n",
       "[999 rows x 6 columns], token_table=       Topic      Freq         Term\n",
       "term                               \n",
       "39646     19  0.998893            _\n",
       "37556      2  0.810089       accept\n",
       "37556      7  0.176543       accept\n",
       "37556     20  0.012291       accept\n",
       "17742      5  0.998606       access\n",
       "54143      5  0.998774      advance\n",
       "4160       1  0.997664       advice\n",
       "26464     12  0.996459    aerospace\n",
       "24527     10  0.856117       agency\n",
       "24527     13  0.141871       agency\n",
       "2045       8  0.189455          ago\n",
       "2045      16  0.805185          ago\n",
       "583       14  0.994150          ahl\n",
       "62669      1  0.997077          air\n",
       "33817     11  0.991981         alan\n",
       "51443     10  0.996915    algorithm\n",
       "38055      1  0.260704         also\n",
       "38055      2  0.372966         also\n",
       "38055      3  0.058105         also\n",
       "38055      4  0.065121         also\n",
       "38055      5  0.203257         also\n",
       "38055      7  0.015129         also\n",
       "38055     12  0.024557         also\n",
       "19197      9  0.990302    amendment\n",
       "31882      3  0.309480     american\n",
       "31882      8  0.148588     american\n",
       "31882      9  0.541353     american\n",
       "66522     12  0.995459          amp\n",
       "21337      6  0.986726      anaheim\n",
       "47192      9  0.269089     analysis\n",
       "...      ...       ...          ...\n",
       "4050       7  0.018643        write\n",
       "12820      4  0.997935        xfree\n",
       "42273     19  0.994639          xga\n",
       "42271     19  0.993767         xlib\n",
       "71146     17  0.995828        xterm\n",
       "46041      1  0.005271      yalanci\n",
       "46041      2  0.026353      yalanci\n",
       "46041      3  0.005271      yalanci\n",
       "46041      5  0.010541      yalanci\n",
       "46041      7  0.005271      yalanci\n",
       "46041      8  0.005271      yalanci\n",
       "46041      9  0.005271      yalanci\n",
       "46041     11  0.005271      yalanci\n",
       "46041     13  0.010541      yalanci\n",
       "46041     15  0.005271      yalanci\n",
       "46041     17  0.901273      yalanci\n",
       "46041     18  0.005271      yalanci\n",
       "46041     20  0.005271      yalanci\n",
       "53402      2  0.034670         year\n",
       "53402      3  0.427020         year\n",
       "53402      8  0.147059         year\n",
       "53402     11  0.211487         year\n",
       "53402     14  0.139836         year\n",
       "53402     17  0.039582         year\n",
       "25153     11  0.992806    yesterday\n",
       "55409      2  0.904878          yet\n",
       "55409      4  0.094210          yet\n",
       "49175      3  0.915188        young\n",
       "49175     14  0.083199        young\n",
       "4877       7  0.993345  zoroastrian\n",
       "\n",
       "[1607 rows x 3 columns], R=30, lambda_step=0.01, plot_opts={'ylab': 'PC2', 'xlab': 'PC1'}, topic_order=[8, 14, 19, 3, 16, 11, 18, 13, 6, 17, 7, 10, 15, 4, 9, 20, 12, 5, 1, 2])"
      ]
     },
     "execution_count": 30,
     "metadata": {},
     "output_type": "execute_result"
    }
   ],
   "source": [
    "# Visualize the topics\n",
    "pyLDAvis.enable_notebook()\n",
    "vis = pyLDAvis.gensim.prepare(lda_model, corpus, id2word)\n",
    "vis"
   ]
  },
  {
   "cell_type": "markdown",
   "metadata": {},
   "source": [
    "원이 클수록 그 토픽이 더 일반적이다.  \n",
    "즉, 특성화 하지 않고 여러 단어가 등장한다는 의미이다.  \n",
    "좋은 토픽모델은 하나의 사분면에 모두 군집화 되지 않고 차트 전체적으로 흩어진 상태가 가장 좋다."
   ]
  },
  {
   "cell_type": "markdown",
   "metadata": {},
   "source": [
    "## 한글적용"
   ]
  },
  {
   "cell_type": "code",
   "execution_count": 41,
   "metadata": {},
   "outputs": [],
   "source": [
    "from bs4 import BeautifulSoup\n",
    "import urllib.request\n",
    "from konlpy.tag import Twitter\n",
    "from konlpy.utils import pprint\n",
    "from collections import Counter\n",
    "# import konlpy\n",
    "import re"
   ]
  },
  {
   "cell_type": "code",
   "execution_count": 42,
   "metadata": {},
   "outputs": [],
   "source": [
    "def get_text(URL):\n",
    "    text = []\n",
    "#     URL = ''\n",
    "    for i in range(10):\n",
    "        URL2 = URL + str(3956688 + i)\n",
    "        print(URL2)\n",
    "        source_code_from_URL = urllib.request.urlopen(URL2)\n",
    "        soup = BeautifulSoup(source_code_from_URL, 'lxml', from_encoding='utf-8')\n",
    "\n",
    "        for t in soup.find_all('div', id=\"articleBodyContents\"):\n",
    "            textin = str(t.find_all(text=True))\n",
    "            text.append(textin)\n",
    "#         URL = \"\"\n",
    "    return text"
   ]
  },
  {
   "cell_type": "code",
   "execution_count": 43,
   "metadata": {},
   "outputs": [],
   "source": [
    "twitter = Twitter()"
   ]
  },
  {
   "cell_type": "code",
   "execution_count": 44,
   "metadata": {},
   "outputs": [],
   "source": [
    "URL = 'http://news.naver.com/main/read.nhn?mode=LS2D&mid=shm&sid1=105&sid2=732&oid=015&aid=000'"
   ]
  },
  {
   "cell_type": "code",
   "execution_count": 45,
   "metadata": {},
   "outputs": [
    {
     "name": "stdout",
     "output_type": "stream",
     "text": [
      "http://news.naver.com/main/read.nhn?mode=LS2D&mid=shm&sid1=105&sid2=732&oid=015&aid=0003956688\n",
      "http://news.naver.com/main/read.nhn?mode=LS2D&mid=shm&sid1=105&sid2=732&oid=015&aid=0003956689\n",
      "http://news.naver.com/main/read.nhn?mode=LS2D&mid=shm&sid1=105&sid2=732&oid=015&aid=0003956690\n",
      "http://news.naver.com/main/read.nhn?mode=LS2D&mid=shm&sid1=105&sid2=732&oid=015&aid=0003956691\n",
      "http://news.naver.com/main/read.nhn?mode=LS2D&mid=shm&sid1=105&sid2=732&oid=015&aid=0003956692\n",
      "http://news.naver.com/main/read.nhn?mode=LS2D&mid=shm&sid1=105&sid2=732&oid=015&aid=0003956693\n",
      "http://news.naver.com/main/read.nhn?mode=LS2D&mid=shm&sid1=105&sid2=732&oid=015&aid=0003956694\n",
      "http://news.naver.com/main/read.nhn?mode=LS2D&mid=shm&sid1=105&sid2=732&oid=015&aid=0003956695\n",
      "http://news.naver.com/main/read.nhn?mode=LS2D&mid=shm&sid1=105&sid2=732&oid=015&aid=0003956696\n",
      "http://news.naver.com/main/read.nhn?mode=LS2D&mid=shm&sid1=105&sid2=732&oid=015&aid=0003956697\n"
     ]
    }
   ],
   "source": [
    "kor_result= get_text(URL)"
   ]
  },
  {
   "cell_type": "code",
   "execution_count": 46,
   "metadata": {},
   "outputs": [],
   "source": [
    "kor_result2 = []\n",
    "for i in kor_result:\n",
    "    rep = i.replace(\"본문\", \"\").replace('내용', '').replace('한국경제','').replace('모바일한경 구독신청', '')\n",
    "    rep = rep.replace('[\\\\n,  , \\\\n,  TV플레이어 , \\\\n,  // TV플레이어 , \\\\n, \\\\n// flash 오류를 우회하기 위한 함수 추가\\\\nfunction _flash_removeCallback() {}\\\\n, \\\\n, ','')\n",
    "        # Remove Emails\n",
    "    rep = re.sub('\\S*@\\S*\\s?', '', rep)\n",
    "\n",
    "    # Remove new line characters(공백제거)\n",
    "    rep = re.sub('\\s+', ' ', rep)\n",
    "\n",
    "    # Remove distracting single quotes\n",
    "    rep = re.sub(\"\\'\", \"\", rep)\n",
    "    kor_result2.append(rep)"
   ]
  },
  {
   "cell_type": "code",
   "execution_count": 47,
   "metadata": {},
   "outputs": [
    {
     "data": {
      "text/plain": [
       "['[\\\\n,  , \\\\n,  TV플레이어 , \\\\n,  // TV플레이어 , \\\\n, \\\\n// flash 오류를 우회하기 위한 함수 추가\\\\nfunction _flash_removeCallback() {}\\\\n, \\\\n, \"유니버시티 블록체인 리서치 이니셔티브 프로젝트 수행\", 고려대 본관. / 사진=한경 DB, 고려대가 글로벌 블록체인 기업 리플(Ripple)과 파트너십을 체결해 관련 전문인력 양성과 연구 프로젝트 수행에 나선다., 리플은 블록체인을 이용해 저렴하면서 빠른 송금 서비스를 제공하는 회사로 자체 암호토큰 XRP를 이용한 서비스도 제공한다., 7일 고려대에 따르면 이 대학 정보보호대학원 블록체인보안연구센터는 지난 4일 리플과 장기 연구 프로젝트 ‘유니버시티 블록체인 리서치 이니셔티브(University Blockchain Research Initiative)’ 수행을 위한 파트너십을 맺었다., 세계 유수의 대학들과 함께 블록체인 및 암호화폐 관련 학문적·기술적 연구를 수행하도록 지원하는 연구 프로젝트다. 이 프로젝트 수행을 위해 리플과 파트너십을 맺은 대학은 MIT(매사추세츠공대) 프린스턴대 스탠퍼드대 등 전세계 17곳으로 국내에서는 고려대가 유일하다., 파트너십 체결에 따라 고려대 블록체인보안연구센터는 블록체인 합의 알고리즘의 안전성, 스마트 콘트랙트(smart contract)의 안전성 등 블록체인 및 암호화폐에 필요한 보안 기술을 중점적으로 연구하며 리플은 연구 수행에 필요한 재정적·기술적 지원을 제공한다., 아울러 사회적으로 부족한 블록체인 전문가를 양성하는 효과도 있을 것으로 예상된다., 에릭 반 밀텐버그 리플 비즈니스 운영 수석부사장은 “‘유니버시티 블록체인 리서치 이니셔티브’는 대학이 블록체인 기술의 혁신에 있어 중요 역할을 할 수 있게 하는 디딤돌이 될 것”이라며 “블록체인 관련 산업체에서 일할 수 있는 인력을 길러내는 효과도 있을 것”이라고 말했다., 이상진 고려대 정보보호대학원장도 “이번 파트너십 체결과 프로젝트 수행으로 리플의 실제 데이터에 접근해 분석해보는 기회를 갖게 됐다. 실용적인 블록체인 보안기술 개발에 중요한 역할을 할 것으로 기대된다”고 부연했다., 김봉구 한경닷컴 기자 , 기사제보 및 보도자료 , [, 한경닷컴 바로가기, ] [, 글방, ] [, , ] , ⓒ & , hankyung.com, , 무단전재 및 재배포 금지\\\\n\\\\t,  // , \\\\n]',\n",
       " '[\\\\n,  , \\\\n,  TV플레이어 , \\\\n,  // TV플레이어 , \\\\n, \\\\n// flash 오류를 우회하기 위한 함수 추가\\\\nfunction _flash_removeCallback() {}\\\\n, \\\\n, 07일 오후 14시 52분 현재 큐로홀딩스는 전 거래일보다 20.0% 오른 1,230원에 거래되고 있다. 주가의 흐름을 살펴보면 1,045원으로 개장해서 장중 한때 1,010원(-1.46%)까지 소폭 밀렸다가 다시 1,250원(+21.95%)까지 상승 반전한 후, 현재는 1,230원(+20.0%)에서 머물면서 장중에 많이 상승한 모습이다., ◆ 주체별 매매동향, - 전일 외국인 대량 순매수, 지난 한달을 기준으로 보면 기관이 485주를 순매수했고, 개인들도 11.5만주를 순매수했다. 반면 그동안 외국인은 11.6만주를 순매도했다. 같은 기간 개인의 거래 비중이 95.5%로 가장 높았고, 기관은 거래에 거의 참여하지 않은 것으로 보인다, 더욱이 전일 외국인이 대량 순매수를 하고 있어 투자자들의 관심이 집중되고 있다., [표]큐로홀딩스 외국인/기관 매매동향, 한경로보뉴스, 이 기사는 신문과 씽크풀이 공동 개발한 기사 자동생성 알고리즘에 의해 실시간으로 작성된 것입니다. - 기사오류문의 02-3277-9940, [, 한경닷컴 바로가기, ] [, 글방, ] [, , ] , ⓒ & , hankyung.com, , 무단전재 및 재배포 금지\\\\n\\\\t,  // , \\\\n]',\n",
       " '[\\\\n,  , \\\\n,  TV플레이어 , \\\\n,  // TV플레이어 , \\\\n, \\\\n// flash 오류를 우회하기 위한 함수 추가\\\\nfunction _flash_removeCallback() {}\\\\n, \\\\n, 07일 신풍제약우는 장중 상한가에 진입해서, 오후 14시 51분 현재 전 거래일보다 29.93% 오른 8,900원에 거래되고 있다. 주가의 흐름은 6,850원으로 개장해서 장중 한때 6,720원(-1.9%)까지 살짝 밀렸지만, 다시 큰 폭으로 올라서 현재 8,900원(+29.93%)까지 상승하고 있다., ◆ 거래량 분석, - 전일 보다 거래량 급증, 거래 폭발. 38.6만주 거래중, 이 종목의 현재까지 거래량은 전일 거래량의 500%를 초과한 수준으로 오늘 거래가 대폭 증가한 모습이다., [표]신풍제약우 거래량 분석, ◆ 거래원 동향, - 키움증권, 미래에셋 등 매수 창구 상위에 랭킹, 현재 거래원 동향은 키움증권, 미래에셋, NH투자 등이 매수 상위 목록에 나타나고 있다., 이 시간 미래에셋이 매수창구상위에 올라있는 종목은 이 종목 이외에도 텔루스, 제이엔케이히터 등이 있다., [표]신풍제약우 거래원 동향, 한경로보뉴스, 이 기사는 신문과 씽크풀이 공동 개발한 기사 자동생성 알고리즘에 의해 실시간으로 작성된 것입니다. - 기사오류문의 02-3277-9940, [, 한경닷컴 바로가기, ] [, 글방, ] [, , ] , ⓒ & , hankyung.com, , 무단전재 및 재배포 금지\\\\n\\\\t,  // , \\\\n]',\n",
       " '[\\\\n,  , \\\\n,  TV플레이어 , \\\\n,  // TV플레이어 , \\\\n, \\\\n// flash 오류를 우회하기 위한 함수 추가\\\\nfunction _flash_removeCallback() {}\\\\n, \\\\n, 07일 오후 14시 52분 현재 유유제약1우는 전 거래일보다 10.31% 오른 9,840원에 거래되고 있다. 주가의 흐름은 8,950원으로 개장해서 장중 한때 8,850원(-0.78%)까지 살짝 밀렸지만, 다시 큰 폭으로 올라서 현재 9,840원(+10.31%)까지 상승하고 있다., ◆ 거래원 동향, - 외국계 증권사 창구의 거래비중 8% 수준, 메릴린치가 매수상위 창구 3위를 기록중이고, 그 외에 키움증권, 미래에셋 등이 매수 창구 상위에 위치하고 있다. 한편, 매도 창구 상위에는 메릴린치가 눈에 띄고 있다., 지금까지 외국계(추정) 증권사 창구를 통한 거래 비중은 8% 수준이다. 그리고 이 시간 메릴린치가 매수창구상위에 올라있는 종목은 이 종목 이외에도 교보증권, 비즈니스온 등이 있다., [표]유유제약1우 거래원 동향, ◆ 주체별 매매동향, - 개인의 거래비중 크게 높음, 비중 96.6% (최근한달), 지난 한달을 기준으로 보면 개인이 7,930주를 순매수했지만, 외국인은 7,930주를 순매도했다. 기관의 순매수량에는 변동이 없다. 같은 기간 개인의 거래 비중이 96.6%로 가장 높았고, 기관은 거래에 거의 참여하지 않은 것으로 보인다, [표]유유제약1우 외국인/기관 매매동향, 한경로보뉴스, 이 기사는 신문과 씽크풀이 공동 개발한 기사 자동생성 알고리즘에 의해 실시간으로 작성된 것입니다. - 기사오류문의 02-3277-9940, [, 한경닷컴 바로가기, ] [, 글방, ] [, , ] , ⓒ & , hankyung.com, , 무단전재 및 재배포 금지\\\\n\\\\t,  // , \\\\n]',\n",
       " '[\\\\n,  , \\\\n,  TV플레이어 , \\\\n,  // TV플레이어 , \\\\n, \\\\n// flash 오류를 우회하기 위한 함수 추가\\\\nfunction _flash_removeCallback() {}\\\\n, \\\\n, 07일 오후 14시 57분 현재 POSCO은 전 거래일보다 5.11% 오른 370,500원에 거래되고 있다. 주가의 흐름을 살펴보면 370,000원으로 개장해서 장중 한때 363,000원(+2.98%)까지 비교적 큰 폭으로 조정을 받았지만, 상승 반전해서 현재 370,500원(+5.11%)까지 상승하고 있다., ◆ 거래량 분석, - 전일보다 거래량 증가. 22.0만주 거래중, 현재까지 거래량은 22.0만주, 전일 거래량의 131% 수준으로 오늘 거래가 늘어나고 있는 모습이다., [표]POSCO 거래량 분석, ◆ 최근 분기 실적, - 2018.1Q, 매출액 15,862십억(+5.2%), 영업이익 1,488십억(+9.0%), POSCO의 2018년 1사분기 매출액은 15,862십억으로 전년동기 대비 5.21% 상승했고, 영업이익은 1,488십억으로 전년동기 대비 9.0% 증가했다. 이 기업은 이번 분기를 포함해서 최근 4분기 연속 영업이익, 당기순이익 흑자를 기록하고 있다., 이번 분기의 매출액은 지난 3년 중 최대 실적이고, 영업이익은 지난 3년 중 최대 이익으로 투자자들의 관심이 집중되고 있다., 이 회사의 매출액 증가율과 영업이익 증가율은 각각 코스피 상위 40%, 상위 37%에 랭킹되고 있다., [표]POSCO 분기실적, 한경로보뉴스, 이 기사는 신문과 씽크풀이 공동 개발한 기사 자동생성 알고리즘에 의해 실시간으로 작성된 것입니다. - 기사오류문의 02-3277-9940, [, 한경닷컴 바로가기, ] [, 글방, ] [, , ] , ⓒ & , hankyung.com, , 무단전재 및 재배포 금지\\\\n\\\\t,  // , \\\\n]',\n",
       " '[\\\\n,  , \\\\n,  TV플레이어 , \\\\n,  // TV플레이어 , \\\\n, \\\\n// flash 오류를 우회하기 위한 함수 추가\\\\nfunction _flash_removeCallback() {}\\\\n, \\\\n, 07일 오후 14시 58분 현재 대신밸런스제3호스팩은 전 거래일 대비 1.17% 오른 2,160원에 거래되고 있다. 대신밸런스제3호스팩은 이날 2일 만에 52주 신고가를 새로 썼다. 주가의 흐름을 살펴보면 2,125원으로 개장해서 장중 한때 2,110원(-1.17%)까지 살짝 밀렸지만, 상승 반전해서 현재 2,160원(+1.17%)까지 소폭 상승하고 있다., ◆ 거래량 분석, - 거래 위축, 전일보다 거래량 감소 예상. 47% 수준, 현재까지 거래량은 10.3만주, 전일 거래량의 47% 수준으로 오늘 거래는 다소 침체된 모습이다., [표]대신밸런스제3호스팩 거래량 분석, ◆ 주체별 매매동향, - 전일 기관 대량 순매도, 지난 한달을 기준으로 보면 외국인이 3,653주를 순매도했고, 기관도 49.6만주를 순매도했지만, 개인은 오히려 50.0만주를 순매수했다. 같은 기간 이 종목의 거래 비중은 기관과 개인이 각각 41.2%, 58.6%로 비중이 높다., 한편 기관은 이 종목에 대해서 최근 6일 연속 27.3만주 순매도를 하고 있다. 더욱이 전일 기관이 대량 순매도를 하고 있어 투자자들의 관심이 집중되고 있다., [표]대신밸런스제3호스팩 외국인/기관 매매동향, 한경로보뉴스, 이 기사는 신문과 씽크풀이 공동 개발한 기사 자동생성 알고리즘에 의해 실시간으로 작성된 것입니다. - 기사오류문의 02-3277-9940, [, 한경닷컴 바로가기, ] [, 글방, ] [, , ] , ⓒ & , hankyung.com, , 무단전재 및 재배포 금지\\\\n\\\\t,  // , \\\\n]',\n",
       " '[\\\\n,  , \\\\n,  TV플레이어 , \\\\n,  // TV플레이어 , \\\\n, \\\\n// flash 오류를 우회하기 위한 함수 추가\\\\nfunction _flash_removeCallback() {}\\\\n, \\\\n, 07일 오후 14시 58분 현재 바이오닉스진은 전 거래일보다 10.04% 오른 10,300원에 거래되고 있다. 주가의 흐름을 살펴보면 9,420원으로 개장해서 장중 한때 9,200원(-1.71%)까지 살짝 밀렸지만, 다시 큰 폭으로 올라서 현재 10,300원(+10.04%)까지 상승하고 있다., ◆ 주체별 매매동향, - 최근 3일간 외국인 대량 순매수, 지난 한달을 기준으로 보면 외국인이 2.8만주를 순매수했고, 기관도 4,974주를 순매수했다. 반면 개인들은 3.3만주를 순매도한 것으로 나타났다. 같은 기간 이 종목의 거래비중은 외국인과 개인이 각각 13.5%, 86.2%로 비중이 높다., 더욱이 최근 3일간 외국인이 대량 순매수를 하고 있어 투자자들의 관심이 집중되고 있다., [표]바이오닉스진 외국인/기관 매매동향, 한경로보뉴스, 이 기사는 신문과 씽크풀이 공동 개발한 기사 자동생성 알고리즘에 의해 실시간으로 작성된 것입니다. - 기사오류문의 02-3277-9940, [, 한경닷컴 바로가기, ] [, 글방, ] [, , ] , ⓒ & , hankyung.com, , 무단전재 및 재배포 금지\\\\n\\\\t,  // , \\\\n]',\n",
       " '[\\\\n,  , \\\\n,  TV플레이어 , \\\\n,  // TV플레이어 , \\\\n, \\\\n// flash 오류를 우회하기 위한 함수 추가\\\\nfunction _flash_removeCallback() {}\\\\n, \\\\n\\\\t\\\\n\\\\t7일 일본 닛케이225지수(닛케이평균주가)는 전일 대비 197.53포인트(0.87%) 상승한 22,823.26으로 마감했다., 한경닷컴, [, 한경닷컴 바로가기, ] [, 글방, ] [, , ] , ⓒ & , hankyung.com, , 무단전재 및 재배포 금지\\\\n\\\\t,  // , \\\\n]']"
      ]
     },
     "execution_count": 47,
     "metadata": {},
     "output_type": "execute_result"
    }
   ],
   "source": [
    "kor_result2"
   ]
  },
  {
   "cell_type": "code",
   "execution_count": 48,
   "metadata": {},
   "outputs": [],
   "source": [
    "ko_copus = []\n",
    "only_nouns = []\n",
    "mapping = {}\n",
    "for i in kor_result2:\n",
    "    make_ko = twitter.nouns(i)\n",
    "#     print(make_ko)\n",
    "    kor_count = Counter(make_ko)\n",
    "    mid_list = []\n",
    "    mid_nouns_list = []\n",
    "    for idx, key in enumerate(kor_count):\n",
    "        mid_list.append((idx, kor_count[key]))\n",
    "        mid_nouns_list.append(key)\n",
    "        mapping[idx] = key\n",
    "#         print([(idx, kor_count[key])])\n",
    "    only_nouns.append(mid_nouns_list)\n",
    "    ko_copus.append(mid_list)"
   ]
  },
  {
   "cell_type": "code",
   "execution_count": 49,
   "metadata": {},
   "outputs": [],
   "source": [
    "# only_nouns"
   ]
  },
  {
   "cell_type": "code",
   "execution_count": 50,
   "metadata": {},
   "outputs": [],
   "source": [
    "id2word = corpora.Dictionary(only_nouns)"
   ]
  },
  {
   "cell_type": "code",
   "execution_count": 51,
   "metadata": {},
   "outputs": [
    {
     "data": {
      "text/plain": [
       "<gensim.corpora.dictionary.Dictionary at 0x2660e8df518>"
      ]
     },
     "execution_count": 51,
     "metadata": {},
     "output_type": "execute_result"
    }
   ],
   "source": [
    "id2word"
   ]
  },
  {
   "cell_type": "code",
   "execution_count": 52,
   "metadata": {},
   "outputs": [
    {
     "data": {
      "text/plain": [
       "[[(0, 4),\n",
       "  (1, 1),\n",
       "  (2, 1),\n",
       "  (3, 1),\n",
       "  (4, 1),\n",
       "  (5, 3),\n",
       "  (6, 1),\n",
       "  (7, 2),\n",
       "  (8, 1),\n",
       "  (9, 6),\n",
       "  (10, 2),\n",
       "  (11, 1),\n",
       "  (12, 1),\n",
       "  (13, 1),\n",
       "  (14, 6),\n",
       "  (15, 14),\n",
       "  (16, 1),\n",
       "  (17, 7),\n",
       "  (18, 1),\n",
       "  (19, 1),\n",
       "  (20, 1),\n",
       "  (21, 1),\n",
       "  (22, 1),\n",
       "  (23, 4),\n",
       "  (24, 1),\n",
       "  (25, 1),\n",
       "  (26, 1),\n",
       "  (27, 2),\n",
       "  (28, 1),\n",
       "  (29, 1),\n",
       "  (30, 5),\n",
       "  (31, 1),\n",
       "  (32, 1),\n",
       "  (33, 1),\n",
       "  (34, 1),\n",
       "  (35, 1),\n",
       "  (36, 1),\n",
       "  (37, 2),\n",
       "  (38, 1),\n",
       "  (39, 1),\n",
       "  (40, 5),\n",
       "  (41, 1),\n",
       "  (42, 1),\n",
       "  (43, 3),\n",
       "  (44, 1),\n",
       "  (45, 1),\n",
       "  (46, 1),\n",
       "  (47, 1),\n",
       "  (48, 1),\n",
       "  (49, 4),\n",
       "  (50, 3),\n",
       "  (51, 1),\n",
       "  (52, 1),\n",
       "  (53, 1),\n",
       "  (54, 1),\n",
       "  (55, 1),\n",
       "  (56, 1),\n",
       "  (57, 1),\n",
       "  (58, 1),\n",
       "  (59, 1),\n",
       "  (60, 1),\n",
       "  (61, 3),\n",
       "  (62, 1),\n",
       "  (63, 2),\n",
       "  (64, 2),\n",
       "  (65, 14),\n",
       "  (66, 2),\n",
       "  (67, 1),\n",
       "  (68, 1),\n",
       "  (69, 1),\n",
       "  (70, 2),\n",
       "  (71, 2),\n",
       "  (72, 1),\n",
       "  (73, 1),\n",
       "  (74, 7),\n",
       "  (75, 1),\n",
       "  (76, 2),\n",
       "  (77, 2),\n",
       "  (78, 2),\n",
       "  (79, 3),\n",
       "  (80, 1),\n",
       "  (81, 1),\n",
       "  (82, 3),\n",
       "  (83, 1),\n",
       "  (84, 1),\n",
       "  (85, 1),\n",
       "  (86, 1),\n",
       "  (87, 1),\n",
       "  (88, 1),\n",
       "  (89, 1),\n",
       "  (90, 1),\n",
       "  (91, 4),\n",
       "  (92, 1),\n",
       "  (93, 1),\n",
       "  (94, 3),\n",
       "  (95, 1),\n",
       "  (96, 6),\n",
       "  (97, 1),\n",
       "  (98, 1),\n",
       "  (99, 1),\n",
       "  (100, 2),\n",
       "  (101, 2),\n",
       "  (102, 1),\n",
       "  (103, 1),\n",
       "  (104, 1),\n",
       "  (105, 3),\n",
       "  (106, 1),\n",
       "  (107, 2),\n",
       "  (108, 1),\n",
       "  (109, 1),\n",
       "  (110, 1),\n",
       "  (111, 2),\n",
       "  (112, 1),\n",
       "  (113, 1),\n",
       "  (114, 1)]]"
      ]
     },
     "execution_count": 52,
     "metadata": {},
     "output_type": "execute_result"
    }
   ],
   "source": [
    "ko_copus[:1]"
   ]
  },
  {
   "cell_type": "code",
   "execution_count": 53,
   "metadata": {},
   "outputs": [],
   "source": [
    "lda_model = gensim.models.ldamodel.LdaModel(corpus=ko_copus,\n",
    "                                            id2word=id2word, \n",
    "                                            num_topics = 20, \n",
    "                                            random_state = 100, \n",
    "                                            update_every=1,\n",
    "                                            chunksize=100,\n",
    "                                            passes=10,\n",
    "                                            alpha='auto',\n",
    "                                            per_word_topics=True)"
   ]
  },
  {
   "cell_type": "code",
   "execution_count": 54,
   "metadata": {
    "scrolled": true
   },
   "outputs": [
    {
     "name": "stdout",
     "output_type": "stream",
     "text": [
      "[(0,\n",
      "  '0.004*\"량\" + 0.004*\"대폭\" + 0.004*\"상위\" + 0.004*\"살짝\" + 0.004*\"미래에셋\" + '\n",
      "  '0.004*\"목록\" + 0.004*\"루스\" + 0.004*\"시간\" + 0.004*\"랭킹\" + 0.004*\"흐름\"'),\n",
      " (1,\n",
      "  '0.004*\"량\" + 0.004*\"대폭\" + 0.004*\"상위\" + 0.004*\"살짝\" + 0.004*\"미래에셋\" + '\n",
      "  '0.004*\"목록\" + 0.004*\"루스\" + 0.004*\"시간\" + 0.004*\"랭킹\" + 0.004*\"흐름\"'),\n",
      " (2,\n",
      "  '0.004*\"재\" + 0.004*\"산\" + 0.004*\"기술\" + 0.004*\"블록\" + 0.004*\"사진\" + 0.004*\"장기\" + '\n",
      "  '0.004*\"운영\" + 0.004*\"전세계\" + 0.004*\"등\" + 0.004*\"이니셔티브\"'),\n",
      " (3,\n",
      "  '0.021*\"시티\" + 0.018*\"이니셔티브\" + 0.018*\"기술\" + 0.017*\"고려대\" + 0.016*\"버그\" + '\n",
      "  '0.016*\"역할\" + 0.015*\"산\" + 0.015*\"유일하\" + 0.014*\"본관\" + 0.014*\"블록\"'),\n",
      " (4,\n",
      "  '0.004*\"량\" + 0.004*\"대폭\" + 0.004*\"상위\" + 0.004*\"살짝\" + 0.004*\"미래에셋\" + '\n",
      "  '0.004*\"목록\" + 0.004*\"루스\" + 0.004*\"시간\" + 0.004*\"랭킹\" + 0.004*\"흐름\"'),\n",
      " (5,\n",
      "  '0.006*\"역할\" + 0.006*\"시티\" + 0.005*\"본관\" + 0.005*\"일\" + 0.005*\"스탠퍼드대\" + '\n",
      "  '0.005*\"유일하\" + 0.005*\"리서치\" + 0.005*\"이번\" + 0.005*\"버그\" + 0.004*\"바로가기\"'),\n",
      " (6,\n",
      "  '0.005*\"이니셔티브\" + 0.005*\"이\" + 0.005*\"기술\" + 0.005*\"봉구\" + 0.005*\"고려대\" + '\n",
      "  '0.004*\"버그\" + 0.004*\"일\" + 0.004*\"무단\" + 0.004*\"개발\" + 0.004*\"연구\"'),\n",
      " (7,\n",
      "  '0.090*\"기회\" + 0.086*\"역할\" + 0.042*\"지원\" + 0.041*\"의\" + 0.040*\"나선\" + 0.034*\"글방\" '\n",
      "  '+ 0.033*\"기자\" + 0.028*\"부연\" + 0.027*\"바로가기\" + 0.026*\"정보보호\"'),\n",
      " (8,\n",
      "  '0.025*\"이니셔티브\" + 0.024*\"봉구\" + 0.021*\"연구\" + 0.021*\"자체\" + 0.020*\"전문\" + '\n",
      "  '0.019*\"기술\" + 0.018*\"수\" + 0.015*\"인력\" + 0.012*\"전문가\" + 0.011*\"실용\"'),\n",
      " (9,\n",
      "  '0.004*\"량\" + 0.004*\"대폭\" + 0.004*\"상위\" + 0.004*\"살짝\" + 0.004*\"미래에셋\" + '\n",
      "  '0.004*\"목록\" + 0.004*\"루스\" + 0.004*\"시간\" + 0.004*\"랭킹\" + 0.004*\"흐름\"'),\n",
      " (10,\n",
      "  '0.106*\"인력\" + 0.100*\"정보보호\" + 0.069*\"유니\" + 0.056*\"중요\" + 0.055*\"수석\" + '\n",
      "  '0.037*\"안전성\" + 0.030*\"국내\" + 0.028*\"역할\" + 0.027*\"라며\" + 0.027*\"제보\"'),\n",
      " (11,\n",
      "  '0.006*\"재\" + 0.005*\"산\" + 0.005*\"블록\" + 0.004*\"등\" + 0.004*\"운영\" + 0.004*\"사진\" + '\n",
      "  '0.004*\"스마트\" + 0.004*\"이니셔티브\" + 0.004*\"기술\" + 0.004*\"전세계\"'),\n",
      " (12,\n",
      "  '0.004*\"이니셔티브\" + 0.004*\"봉구\" + 0.004*\"연구\" + 0.004*\"기술\" + 0.004*\"자체\" + '\n",
      "  '0.004*\"버그\" + 0.004*\"수\" + 0.004*\"고려대\" + 0.004*\"전문\" + 0.004*\"인력\"'),\n",
      " (13,\n",
      "  '0.004*\"인력\" + 0.004*\"유니\" + 0.004*\"업체\" + 0.004*\"안전성\" + 0.004*\"자체\" + '\n",
      "  '0.004*\"블록\" + 0.004*\"정보보호\" + 0.004*\"고려대\" + 0.004*\"국내\" + 0.004*\"유일하\"'),\n",
      " (14,\n",
      "  '0.004*\"량\" + 0.004*\"대폭\" + 0.004*\"상위\" + 0.004*\"살짝\" + 0.004*\"미래에셋\" + '\n",
      "  '0.004*\"목록\" + 0.004*\"루스\" + 0.004*\"시간\" + 0.004*\"랭킹\" + 0.004*\"흐름\"'),\n",
      " (15,\n",
      "  '0.004*\"량\" + 0.004*\"대폭\" + 0.004*\"상위\" + 0.004*\"살짝\" + 0.004*\"미래에셋\" + '\n",
      "  '0.004*\"목록\" + 0.004*\"루스\" + 0.004*\"시간\" + 0.004*\"랭킹\" + 0.004*\"흐름\"'),\n",
      " (16,\n",
      "  '0.004*\"역할\" + 0.004*\"기회\" + 0.004*\"나선\" + 0.004*\"지원\" + 0.004*\"의\" + 0.004*\"글방\" '\n",
      "  '+ 0.004*\"부연\" + 0.004*\"기자\" + 0.004*\"개발\" + 0.004*\"라며\"'),\n",
      " (17,\n",
      "  '0.004*\"기회\" + 0.004*\"의\" + 0.004*\"이니셔티브\" + 0.004*\"역할\" + 0.004*\"나선\" + '\n",
      "  '0.004*\"연구\" + 0.004*\"봉구\" + 0.004*\"과\" + 0.004*\"인력\" + 0.004*\"부연\"'),\n",
      " (18,\n",
      "  '0.004*\"인력\" + 0.004*\"정보보호\" + 0.004*\"업체\" + 0.004*\"유니\" + 0.004*\"고려대\" + '\n",
      "  '0.004*\"유일하\" + 0.004*\"수석\" + 0.004*\"안전성\" + 0.004*\"중요\" + 0.004*\"블록\"'),\n",
      " (19,\n",
      "  '0.004*\"기회\" + 0.004*\"역할\" + 0.004*\"나선\" + 0.004*\"지원\" + 0.004*\"재\" + 0.004*\"산\" + '\n",
      "  '0.004*\"센터\" + 0.004*\"의\" + 0.004*\"바로가기\" + 0.004*\"글방\"')]\n"
     ]
    }
   ],
   "source": [
    "pprint(lda_model.print_topics())\n",
    "doc_lda = lda_model[ko_copus]"
   ]
  },
  {
   "cell_type": "code",
   "execution_count": 55,
   "metadata": {},
   "outputs": [
    {
     "name": "stdout",
     "output_type": "stream",
     "text": [
      "\n",
      "Perplexity:  -5.10038842709372\n",
      "\n",
      "Coherence Score:  0.8596839625612963\n"
     ]
    }
   ],
   "source": [
    "# Compute Perplexity\n",
    "print('\\nPerplexity: ', lda_model.log_perplexity(ko_copus)) # a measure of how good the model is. lower the better.\n",
    "\n",
    "# Compute Coherence Score\n",
    "coherence_model_lda = CoherenceModel(model=lda_model, texts = only_nouns, dictionary=id2word, coherence='c_v')\n",
    "coherence_lda = coherence_model_lda.get_coherence()\n",
    "print('\\nCoherence Score: ', coherence_lda)"
   ]
  },
  {
   "cell_type": "code",
   "execution_count": 56,
   "metadata": {},
   "outputs": [
    {
     "data": {
      "text/plain": [
       "'케이'"
      ]
     },
     "execution_count": 56,
     "metadata": {},
     "output_type": "execute_result"
    }
   ],
   "source": [
    "mapping[2]"
   ]
  },
  {
   "cell_type": "code",
   "execution_count": 1,
   "metadata": {},
   "outputs": [],
   "source": [
    "# pyLDAvis.enable_notebook()\n",
    "# vis = pyLDAvis.gensim.prepare(lda_model, ko_copus, id2word)\n",
    "# vis"
   ]
  }
 ],
 "metadata": {
  "kernelspec": {
   "display_name": "text3.5",
   "language": "python",
   "name": "text3.5"
  },
  "language_info": {
   "codemirror_mode": {
    "name": "ipython",
    "version": 3
   },
   "file_extension": ".py",
   "mimetype": "text/x-python",
   "name": "python",
   "nbconvert_exporter": "python",
   "pygments_lexer": "ipython3",
   "version": "3.5.5"
  }
 },
 "nbformat": 4,
 "nbformat_minor": 2
}
