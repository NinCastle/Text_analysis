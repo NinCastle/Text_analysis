{
 "cells": [
  {
   "cell_type": "markdown",
   "metadata": {},
   "source": [
    "[ratsgo's blog](https://ratsgo.github.io/from%20frequency%20to%20semantics/2017/06/01/LDA/)  \n",
    "[EnGear](http://www.engear.net/wp/topic-modeling-gensimpython/)  \n",
    "[컴언-Ngram](http://blog.ilkyu.kr/entry/%EC%96%B8%EC%96%B4-%EB%AA%A8%EB%8D%B8%EB%A7%81-ngram)  \n",
    "[LOVIT x DATA SCIENCE-lemmatization](https://lovit.github.io/nlp/2018/06/07/lemmatizer/)  \n",
    "하기 내용은 상기 링크를 정리한것."
   ]
  },
  {
   "cell_type": "markdown",
   "metadata": {},
   "source": [
    "# Topic Modeling(Latent dirichlet Allocation)"
   ]
  },
  {
   "cell_type": "code",
   "execution_count": 1,
   "metadata": {},
   "outputs": [
    {
     "name": "stdout",
     "output_type": "stream",
     "text": [
      "[nltk_data] Downloading package stopwords to C:\\Users\\Andrew\\AppData\\L\n",
      "[nltk_data]     ocal\\conda\\conda\\envs\\text3.5\\nltk_data...\n",
      "[nltk_data]   Package stopwords is already up-to-date!\n"
     ]
    },
    {
     "data": {
      "text/plain": [
       "True"
      ]
     },
     "execution_count": 1,
     "metadata": {},
     "output_type": "execute_result"
    }
   ],
   "source": [
    "import nltk; nltk.download('stopwords')"
   ]
  },
  {
   "cell_type": "code",
   "execution_count": 3,
   "metadata": {},
   "outputs": [
    {
     "name": "stderr",
     "output_type": "stream",
     "text": [
      "C:\\ProgramData\\Anaconda3\\python.exe: No module named spacy\n"
     ]
    }
   ],
   "source": [
    "!python -m spacy download en"
   ]
  },
  {
   "cell_type": "code",
   "execution_count": 4,
   "metadata": {},
   "outputs": [],
   "source": [
    "import re\n",
    "import numpy as np\n",
    "import pandas as pd\n",
    "from pprint import pprint"
   ]
  },
  {
   "cell_type": "code",
   "execution_count": 9,
   "metadata": {},
   "outputs": [],
   "source": [
    "# gensim\n",
    "import gensim\n",
    "import gensim.corpora as corpora\n",
    "from gensim.utils import simple_preprocess\n",
    "from gensim.models import CoherenceModel\n",
    "\n",
    "# spacy for lemmatization\n",
    "import spacy\n",
    "\n",
    "# Plotting tools\n",
    "import pyLDAvis\n",
    "import pyLDAvis.gensim # don't skip this\n",
    "import matplotlib.pyplot as plt\n",
    "\n",
    "%matplotlib inline\n",
    "\n",
    "# Enable logging for gensim - optional\n",
    "import logging\n",
    "logging.basicConfig(format='%(asctime)s : %(levelname)s : %(message)s', level = logging.ERROR)\n",
    "\n",
    "import warnings\n",
    "warnings.filterwarnings(\"ignore\", category=DeprecationWarning)"
   ]
  },
  {
   "cell_type": "code",
   "execution_count": 13,
   "metadata": {},
   "outputs": [],
   "source": [
    "# 불용단어 로딩\n",
    "# NLTK stop words\n",
    "from nltk.corpus import stopwords\n",
    "stop_words = stopwords.words('english')\n",
    "stop_words.extend(['from', 'subject', 're', 'edu', 'use'])"
   ]
  },
  {
   "cell_type": "code",
   "execution_count": 15,
   "metadata": {},
   "outputs": [
    {
     "name": "stdout",
     "output_type": "stream",
     "text": [
      "['rec.autos' 'comp.sys.mac.hardware' 'rec.motorcycles' 'misc.forsale'\n",
      " 'comp.os.ms-windows.misc' 'alt.atheism' 'comp.graphics'\n",
      " 'rec.sport.baseball' 'rec.sport.hockey' 'sci.electronics' 'sci.space'\n",
      " 'talk.politics.misc' 'sci.med' 'talk.politics.mideast'\n",
      " 'soc.religion.christian' 'comp.windows.x' 'comp.sys.ibm.pc.hardware'\n",
      " 'talk.politics.guns' 'talk.religion.misc' 'sci.crypt']\n"
     ]
    },
    {
     "data": {
      "text/html": [
       "<div>\n",
       "<style scoped>\n",
       "    .dataframe tbody tr th:only-of-type {\n",
       "        vertical-align: middle;\n",
       "    }\n",
       "\n",
       "    .dataframe tbody tr th {\n",
       "        vertical-align: top;\n",
       "    }\n",
       "\n",
       "    .dataframe thead th {\n",
       "        text-align: right;\n",
       "    }\n",
       "</style>\n",
       "<table border=\"1\" class=\"dataframe\">\n",
       "  <thead>\n",
       "    <tr style=\"text-align: right;\">\n",
       "      <th></th>\n",
       "      <th>content</th>\n",
       "      <th>target</th>\n",
       "      <th>target_names</th>\n",
       "    </tr>\n",
       "  </thead>\n",
       "  <tbody>\n",
       "    <tr>\n",
       "      <th>9995</th>\n",
       "      <td>From: sanjay@kin.lap.upenn.edu (Sanjay Sinha)\\...</td>\n",
       "      <td>8</td>\n",
       "      <td>rec.motorcycles</td>\n",
       "    </tr>\n",
       "    <tr>\n",
       "      <th>9996</th>\n",
       "      <td>Organization: Central Michigan University\\nFro...</td>\n",
       "      <td>7</td>\n",
       "      <td>rec.autos</td>\n",
       "    </tr>\n",
       "    <tr>\n",
       "      <th>9997</th>\n",
       "      <td>From: cr292@cleveland.Freenet.Edu (Jim Schenk)...</td>\n",
       "      <td>10</td>\n",
       "      <td>rec.sport.hockey</td>\n",
       "    </tr>\n",
       "    <tr>\n",
       "      <th>9998</th>\n",
       "      <td>From: wbdst+@pitt.edu (William B Dwinnell)\\nSu...</td>\n",
       "      <td>1</td>\n",
       "      <td>comp.graphics</td>\n",
       "    </tr>\n",
       "    <tr>\n",
       "      <th>9999</th>\n",
       "      <td>From: ehung@ampex.com (Eric Hung)\\nSubject: Re...</td>\n",
       "      <td>3</td>\n",
       "      <td>comp.sys.ibm.pc.hardware</td>\n",
       "    </tr>\n",
       "  </tbody>\n",
       "</table>\n",
       "</div>"
      ],
      "text/plain": [
       "                                                content  target  \\\n",
       "9995  From: sanjay@kin.lap.upenn.edu (Sanjay Sinha)\\...       8   \n",
       "9996  Organization: Central Michigan University\\nFro...       7   \n",
       "9997  From: cr292@cleveland.Freenet.Edu (Jim Schenk)...      10   \n",
       "9998  From: wbdst+@pitt.edu (William B Dwinnell)\\nSu...       1   \n",
       "9999  From: ehung@ampex.com (Eric Hung)\\nSubject: Re...       3   \n",
       "\n",
       "                  target_names  \n",
       "9995           rec.motorcycles  \n",
       "9996                 rec.autos  \n",
       "9997          rec.sport.hockey  \n",
       "9998             comp.graphics  \n",
       "9999  comp.sys.ibm.pc.hardware  "
      ]
     },
     "execution_count": 15,
     "metadata": {},
     "output_type": "execute_result"
    }
   ],
   "source": [
    "df = pd.read_json('https://raw.githubusercontent.com/selva86/datasets/master/newsgroups.json')\n",
    "print(df.target_names.unique())\n",
    "df.tail()"
   ]
  },
  {
   "cell_type": "code",
   "execution_count": 20,
   "metadata": {
    "scrolled": false
   },
   "outputs": [
    {
     "name": "stdout",
     "output_type": "stream",
     "text": [
      "['From: (wheres my thing) Subject: WHAT car is this!? Nntp-Posting-Host: '\n",
      " 'rac3.wam.umd.edu Organization: University of Maryland, College Park Lines: '\n",
      " '15 I was wondering if anyone out there could enlighten me on this car I saw '\n",
      " 'the other day. It was a 2-door sports car, looked to be from the late 60s/ '\n",
      " 'early 70s. It was called a Bricklin. The doors were really small. In '\n",
      " 'addition, the front bumper was separate from the rest of the body. This is '\n",
      " 'all I know. If anyone can tellme a model name, engine specs, years of '\n",
      " 'production, where this car is made, history, or whatever info you have on '\n",
      " 'this funky looking car, please e-mail. Thanks, - IL ---- brought to you by '\n",
      " 'your neighborhood Lerxst ---- ']\n"
     ]
    }
   ],
   "source": [
    "# Convert to list\n",
    "data = df.content.values.tolist()\n",
    "# type(data)\n",
    "# Remove Emails\n",
    "data = [re.sub('\\S*@\\S*\\s?', '', sent) for sent in data]\n",
    "\n",
    "# Remove new line characters(공백제거)\n",
    "data = [re.sub('\\s+', ' ', sent) for sent in data]\n",
    "\n",
    "# Remove distracting single quotes\n",
    "data = [re.sub(\"\\'\", \"\", sent) for sent in data]\n",
    "\n",
    "pprint(data[:1])"
   ]
  },
  {
   "cell_type": "markdown",
   "metadata": {},
   "source": [
    "## 단어 토큰화(형태소 분할)"
   ]
  },
  {
   "cell_type": "code",
   "execution_count": 21,
   "metadata": {},
   "outputs": [
    {
     "name": "stdout",
     "output_type": "stream",
     "text": [
      "[['from', 'wheres', 'my', 'thing', 'subject', 'what', 'car', 'is', 'this', 'nntp', 'posting', 'host', 'rac', 'wam', 'umd', 'edu', 'organization', 'university', 'of', 'maryland', 'college', 'park', 'lines', 'was', 'wondering', 'if', 'anyone', 'out', 'there', 'could', 'enlighten', 'me', 'on', 'this', 'car', 'saw', 'the', 'other', 'day', 'it', 'was', 'door', 'sports', 'car', 'looked', 'to', 'be', 'from', 'the', 'late', 'early', 'it', 'was', 'called', 'bricklin', 'the', 'doors', 'were', 'really', 'small', 'in', 'addition', 'the', 'front', 'bumper', 'was', 'separate', 'from', 'the', 'rest', 'of', 'the', 'body', 'this', 'is', 'all', 'know', 'if', 'anyone', 'can', 'tellme', 'model', 'name', 'engine', 'specs', 'years', 'of', 'production', 'where', 'this', 'car', 'is', 'made', 'history', 'or', 'whatever', 'info', 'you', 'have', 'on', 'this', 'funky', 'looking', 'car', 'please', 'mail', 'thanks', 'il', 'brought', 'to', 'you', 'by', 'your', 'neighborhood', 'lerxst']]\n"
     ]
    }
   ],
   "source": [
    "def sent_to_words(sentences):\n",
    "    for sentence in sentences:\n",
    "        yield(gensim.utils.simple_preprocess(str(sentence), deacc=True)) # deacc = True removes punctuations\n",
    "\n",
    "data_words = list(sent_to_words(data))\n",
    "\n",
    "print(data_words[:1])"
   ]
  },
  {
   "cell_type": "markdown",
   "metadata": {},
   "source": [
    "## Bigram과 Trigram모델 만들기"
   ]
  },
  {
   "cell_type": "code",
   "execution_count": 27,
   "metadata": {},
   "outputs": [
    {
     "name": "stderr",
     "output_type": "stream",
     "text": [
      "C:\\Users\\Andrew\\AppData\\Local\\conda\\conda\\envs\\text3.5\\lib\\site-packages\\gensim\\models\\phrases.py:494: UserWarning: For a faster implementation, use the gensim.models.phrases.Phraser class\n",
      "  warnings.warn(\"For a faster implementation, use the gensim.models.phrases.Phraser class\")\n"
     ]
    }
   ],
   "source": [
    "# Build the bigram and trigram models\n",
    "bigram = gensim.models.Phrases(data_words, min_count=5, threshold=100) # higher threshold fewer phrases.\n",
    "trigram = gensim.models.Phrases(bigram[data_words], threshold=100)"
   ]
  },
  {
   "cell_type": "code",
   "execution_count": 28,
   "metadata": {},
   "outputs": [
    {
     "name": "stderr",
     "output_type": "stream",
     "text": [
      "C:\\Users\\Andrew\\AppData\\Local\\conda\\conda\\envs\\text3.5\\lib\\site-packages\\gensim\\models\\phrases.py:494: UserWarning: For a faster implementation, use the gensim.models.phrases.Phraser class\n",
      "  warnings.warn(\"For a faster implementation, use the gensim.models.phrases.Phraser class\")\n"
     ]
    },
    {
     "data": {
      "text/plain": [
       "['f', 'r', 'o', 'm']"
      ]
     },
     "execution_count": 28,
     "metadata": {},
     "output_type": "execute_result"
    }
   ],
   "source": [
    "bigram['from']"
   ]
  },
  {
   "cell_type": "code",
   "execution_count": 29,
   "metadata": {},
   "outputs": [],
   "source": [
    "# Faster way to get a sentence clubbed as a trigram/bigram\n",
    "bigram_mod = gensim.models.phrases.Phraser(bigram)\n",
    "trigram_mod = gensim.models.phrases.Phraser(trigram)"
   ]
  },
  {
   "cell_type": "code",
   "execution_count": 32,
   "metadata": {},
   "outputs": [
    {
     "name": "stdout",
     "output_type": "stream",
     "text": [
      "['from', 'wheres', 'my', 'thing', 'subject', 'what', 'car', 'is', 'this', 'nntp_posting_host', 'rac_wam_umd_edu', 'organization', 'university', 'of', 'maryland_college_park', 'lines', 'was', 'wondering', 'if', 'anyone', 'out', 'there', 'could', 'enlighten', 'me', 'on', 'this', 'car', 'saw', 'the', 'other', 'day', 'it', 'was', 'door', 'sports', 'car', 'looked', 'to', 'be', 'from', 'the', 'late', 'early', 'it', 'was', 'called', 'bricklin', 'the', 'doors', 'were', 'really', 'small', 'in', 'addition', 'the', 'front_bumper', 'was', 'separate', 'from', 'the', 'rest', 'of', 'the', 'body', 'this', 'is', 'all', 'know', 'if', 'anyone', 'can', 'tellme', 'model', 'name', 'engine', 'specs', 'years', 'of', 'production', 'where', 'this', 'car', 'is', 'made', 'history', 'or', 'whatever', 'info', 'you', 'have', 'on', 'this', 'funky', 'looking', 'car', 'please', 'mail', 'thanks', 'il', 'brought', 'to', 'you', 'by', 'your', 'neighborhood', 'lerxst']\n"
     ]
    }
   ],
   "source": [
    "# See trigram example\n",
    "print(trigram_mod[bigram_mod[data_words[0]]])"
   ]
  },
  {
   "cell_type": "markdown",
   "metadata": {},
   "source": [
    "## 불용단어 제거"
   ]
  },
  {
   "cell_type": "code",
   "execution_count": 33,
   "metadata": {},
   "outputs": [],
   "source": [
    "def remove_stopwords(texts):\n",
    "    return [[word for word in simple_preprocess(str(doc)) if word not in stop_words] for doc in texts]"
   ]
  },
  {
   "cell_type": "code",
   "execution_count": 34,
   "metadata": {},
   "outputs": [],
   "source": [
    "def make_bigrams(texts):\n",
    "    return [bigram_mod[doc] for doc in texts]"
   ]
  },
  {
   "cell_type": "code",
   "execution_count": 35,
   "metadata": {},
   "outputs": [],
   "source": [
    "def make_trigram(texts):\n",
    "    return [trigram_mod[bigram_mod[doc]] for doc in texts]"
   ]
  },
  {
   "cell_type": "markdown",
   "metadata": {},
   "source": [
    "### 단어 원형 복원(lemmatization)\n",
    "> studies = studi + es  \n",
    "studying = study + ing"
   ]
  },
  {
   "cell_type": "code",
   "execution_count": 36,
   "metadata": {},
   "outputs": [],
   "source": [
    "def lemmatization(texts, allowed_postags=['NOUN', 'ADJ', 'VERB', 'ADV']):\n",
    "    \"\"\"\n",
    "    https://spacy.io/api/annotation\n",
    "    \"\"\"\n",
    "    texts_out = []\n",
    "    for sent in texts:\n",
    "        doc = nlp(\" \".join(sent))\n",
    "        texts_out.append([token.lemma_ for token in doc if token.pos_ in allowed_postags])\n",
    "    return texts_out"
   ]
  },
  {
   "cell_type": "markdown",
   "metadata": {},
   "source": [
    "함수 실행 파트"
   ]
  },
  {
   "cell_type": "code",
   "execution_count": 39,
   "metadata": {},
   "outputs": [],
   "source": [
    "# Remove Stop Words\n",
    "data_words_nostops = remove_stopwords(data_words)\n",
    "\n",
    "# Form Bigrams\n",
    "data_words_bigrams = make_bigrams(data_words_nostops)\n",
    "\n",
    "# Initialize spacy 'en' model, keeping only tagger component (for efficiency)\n",
    "# python -m spacy download en\n",
    "nlp = spacy.load('en', disable=['parser', 'ner'])\n",
    "\n",
    "# Do  lemmatization keeping only noun, adj, vb, adv\n",
    "data_lemmatized = lemmatization(data_words_bigrams, allowed_postags=['NOUN', 'ADJ', 'VERB', 'ADV'])"
   ]
  },
  {
   "cell_type": "code",
   "execution_count": 40,
   "metadata": {},
   "outputs": [
    {
     "name": "stdout",
     "output_type": "stream",
     "text": [
      "[['where', 's', 'thing', 'car', 'nntp_post', 'host', 'rac_wam', 'umd', 'organization', 'university', 'maryland_college', 'park', 'line', 'wonder', 'anyone', 'could', 'enlighten', 'car', 'see', 'day', 'door', 'sport', 'car', 'look', 'late', 'early', 'call', 'bricklin', 'door', 'really', 'small', 'addition', 'front_bumper', 'separate', 'rest', 'body', 'know', 'anyone', 'tellme', 'model', 'name', 'engine', 'spec', 'year', 'production', 'car', 'make', 'history', 'whatev', 'info', 'funky', 'look', 'car', 'mail', 'thank', 'bring', 'neighborhood', 'lerxst']]\n"
     ]
    }
   ],
   "source": [
    "print(data_lemmatized[:1])"
   ]
  },
  {
   "cell_type": "markdown",
   "metadata": {},
   "source": [
    "## 토픽 모델에 필요한 사전과 코퍼스 생성하기"
   ]
  },
  {
   "cell_type": "markdown",
   "metadata": {},
   "source": [
    "LDA의 주요 입력값 코드를 생성할 것인데 그 두 가지 값은 사전(id2word)과 copus이다."
   ]
  },
  {
   "cell_type": "code",
   "execution_count": 48,
   "metadata": {},
   "outputs": [],
   "source": [
    "# Create Dictionary\n",
    "id2word = corpora.Dictionary(data_lemmatized)\n",
    "\n",
    "# Create Corpus\n",
    "texts = data_lemmatized"
   ]
  },
  {
   "cell_type": "code",
   "execution_count": 52,
   "metadata": {},
   "outputs": [
    {
     "data": {
      "text/plain": [
       "['where',\n",
       " 's',\n",
       " 'thing',\n",
       " 'car',\n",
       " 'nntp_post',\n",
       " 'host',\n",
       " 'rac_wam',\n",
       " 'umd',\n",
       " 'organization',\n",
       " 'university',\n",
       " 'maryland_college',\n",
       " 'park',\n",
       " 'line',\n",
       " 'wonder',\n",
       " 'anyone',\n",
       " 'could',\n",
       " 'enlighten',\n",
       " 'car',\n",
       " 'see',\n",
       " 'day',\n",
       " 'door',\n",
       " 'sport',\n",
       " 'car',\n",
       " 'look',\n",
       " 'late',\n",
       " 'early',\n",
       " 'call',\n",
       " 'bricklin',\n",
       " 'door',\n",
       " 'really',\n",
       " 'small',\n",
       " 'addition',\n",
       " 'front_bumper',\n",
       " 'separate',\n",
       " 'rest',\n",
       " 'body',\n",
       " 'know',\n",
       " 'anyone',\n",
       " 'tellme',\n",
       " 'model',\n",
       " 'name',\n",
       " 'engine',\n",
       " 'spec',\n",
       " 'year',\n",
       " 'production',\n",
       " 'car',\n",
       " 'make',\n",
       " 'history',\n",
       " 'whatev',\n",
       " 'info',\n",
       " 'funky',\n",
       " 'look',\n",
       " 'car',\n",
       " 'mail',\n",
       " 'thank',\n",
       " 'bring',\n",
       " 'neighborhood',\n",
       " 'lerxst']"
      ]
     },
     "execution_count": 52,
     "metadata": {},
     "output_type": "execute_result"
    }
   ],
   "source": [
    "texts[0]"
   ]
  },
  {
   "cell_type": "code",
   "execution_count": 50,
   "metadata": {},
   "outputs": [
    {
     "data": {
      "text/plain": [
       "[(0, 1),\n",
       " (1, 2),\n",
       " (2, 1),\n",
       " (3, 1),\n",
       " (4, 1),\n",
       " (5, 1),\n",
       " (6, 5),\n",
       " (7, 1),\n",
       " (8, 1),\n",
       " (9, 2),\n",
       " (10, 1),\n",
       " (11, 1),\n",
       " (12, 1),\n",
       " (13, 1),\n",
       " (14, 1),\n",
       " (15, 1),\n",
       " (16, 1),\n",
       " (17, 1),\n",
       " (18, 1),\n",
       " (19, 1),\n",
       " (20, 1),\n",
       " (21, 1),\n",
       " (22, 2),\n",
       " (23, 1),\n",
       " (24, 1),\n",
       " (25, 1),\n",
       " (26, 1),\n",
       " (27, 1),\n",
       " (28, 1),\n",
       " (29, 1),\n",
       " (30, 1),\n",
       " (31, 1),\n",
       " (32, 1),\n",
       " (33, 1),\n",
       " (34, 1),\n",
       " (35, 1),\n",
       " (36, 1),\n",
       " (37, 1),\n",
       " (38, 1),\n",
       " (39, 1),\n",
       " (40, 1),\n",
       " (41, 1),\n",
       " (42, 1),\n",
       " (43, 1),\n",
       " (44, 1),\n",
       " (45, 1),\n",
       " (46, 1),\n",
       " (47, 1),\n",
       " (48, 1),\n",
       " (49, 1),\n",
       " (50, 1)]"
      ]
     },
     "execution_count": 50,
     "metadata": {},
     "output_type": "execute_result"
    }
   ],
   "source": [
    "id2word.doc2bow(texts[0])"
   ]
  },
  {
   "cell_type": "code",
   "execution_count": 55,
   "metadata": {},
   "outputs": [],
   "source": [
    "# Term Document Frequency\n",
    "corpus = [id2word.doc2bow(text) for text in texts]"
   ]
  },
  {
   "cell_type": "code",
   "execution_count": 56,
   "metadata": {},
   "outputs": [
    {
     "name": "stdout",
     "output_type": "stream",
     "text": [
      "[[(0, 1), (1, 2), (2, 1), (3, 1), (4, 1), (5, 1), (6, 5), (7, 1), (8, 1), (9, 2), (10, 1), (11, 1), (12, 1), (13, 1), (14, 1), (15, 1), (16, 1), (17, 1), (18, 1), (19, 1), (20, 1), (21, 1), (22, 2), (23, 1), (24, 1), (25, 1), (26, 1), (27, 1), (28, 1), (29, 1), (30, 1), (31, 1), (32, 1), (33, 1), (34, 1), (35, 1), (36, 1), (37, 1), (38, 1), (39, 1), (40, 1), (41, 1), (42, 1), (43, 1), (44, 1), (45, 1), (46, 1), (47, 1), (48, 1), (49, 1), (50, 1)]]\n"
     ]
    }
   ],
   "source": [
    "# view\n",
    "print(corpus[:1])"
   ]
  },
  {
   "cell_type": "markdown",
   "metadata": {},
   "source": [
    "Gensim은 문서의 각 단어들마다 유니크한 ID를 생성한다.  \n",
    "위의 튜플은 (word_id, word_frequency)이 매핑되어 있다.  \n",
    "이것이 LDA모델의 입력으로 사용된다.  \n",
    "아래는 아이디에 따른 단어를 확인해볼 수 있다."
   ]
  },
  {
   "cell_type": "code",
   "execution_count": 57,
   "metadata": {},
   "outputs": [
    {
     "data": {
      "text/plain": [
       "'addition'"
      ]
     },
     "execution_count": 57,
     "metadata": {},
     "output_type": "execute_result"
    }
   ],
   "source": [
    "id2word[0]"
   ]
  },
  {
   "cell_type": "markdown",
   "metadata": {},
   "source": [
    "또는 사람이 이해 가능한 형태의 코퍼스를 생성할 수 있다.   \n",
    "(단어, 빈도 수)"
   ]
  },
  {
   "cell_type": "code",
   "execution_count": 60,
   "metadata": {},
   "outputs": [
    {
     "data": {
      "text/plain": [
       "[[('addition', 1),\n",
       "  ('anyone', 2),\n",
       "  ('body', 1),\n",
       "  ('bricklin', 1),\n",
       "  ('bring', 1),\n",
       "  ('call', 1),\n",
       "  ('car', 5),\n",
       "  ('could', 1),\n",
       "  ('day', 1),\n",
       "  ('door', 2),\n",
       "  ('early', 1),\n",
       "  ('engine', 1),\n",
       "  ('enlighten', 1),\n",
       "  ('front_bumper', 1),\n",
       "  ('funky', 1),\n",
       "  ('history', 1),\n",
       "  ('host', 1),\n",
       "  ('info', 1),\n",
       "  ('know', 1),\n",
       "  ('late', 1),\n",
       "  ('lerxst', 1),\n",
       "  ('line', 1),\n",
       "  ('look', 2),\n",
       "  ('mail', 1),\n",
       "  ('make', 1),\n",
       "  ('maryland_college', 1),\n",
       "  ('model', 1),\n",
       "  ('name', 1),\n",
       "  ('neighborhood', 1),\n",
       "  ('nntp_post', 1),\n",
       "  ('organization', 1),\n",
       "  ('park', 1),\n",
       "  ('production', 1),\n",
       "  ('rac_wam', 1),\n",
       "  ('really', 1),\n",
       "  ('rest', 1),\n",
       "  ('s', 1),\n",
       "  ('see', 1),\n",
       "  ('separate', 1),\n",
       "  ('small', 1),\n",
       "  ('spec', 1),\n",
       "  ('sport', 1),\n",
       "  ('tellme', 1),\n",
       "  ('thank', 1),\n",
       "  ('thing', 1),\n",
       "  ('umd', 1),\n",
       "  ('university', 1),\n",
       "  ('whatev', 1),\n",
       "  ('where', 1),\n",
       "  ('wonder', 1),\n",
       "  ('year', 1)]]"
      ]
     },
     "execution_count": 60,
     "metadata": {},
     "output_type": "execute_result"
    }
   ],
   "source": [
    "# Human readable format of corpus (term-frequency)\n",
    "\n",
    "[[(id2word[id], freq) for id, freq in cp] for cp in corpus[:1]]"
   ]
  },
  {
   "cell_type": "markdown",
   "metadata": {},
   "source": [
    "## 토픽 모델 생성"
   ]
  },
  {
   "cell_type": "markdown",
   "metadata": {},
   "source": [
    "LDA모델 훈련을 위해서는 Copus, 사전, 토픽 개수를 제공해야한다.  \n",
    "그 외에도, 알파와 에타는 토픽의 희소성에 영향을 주는 하이퍼파라미터 이다.  \n",
    "Gensim docs에 따르면 기본값은 모두 '1.0/num_topics'을 기본값으로 사용한다.  <br>\n",
    "<br>\n",
    "chunksize는 각 훈련 chunk에서 사용할 문서의 수이다.   \n",
    "update_every는 모델 매개변수를 업데이트 해야하는 빈도를 결정하고,  \n",
    "passes는 총 훈련 과정 수를 결정한다.  "
   ]
  },
  {
   "cell_type": "code",
   "execution_count": 64,
   "metadata": {},
   "outputs": [],
   "source": [
    "# Build LDA model\n",
    "lda_model = gensim.models.ldamodel.LdaModel(corpus=corpus,\n",
    "                                            id2word=id2word, \n",
    "                                            num_topics = 20, \n",
    "                                            random_state = 100, \n",
    "                                            update_every=1,\n",
    "                                            chunksize=100,\n",
    "                                            passes=10,\n",
    "                                            alpha='auto',\n",
    "                                            per_word_topics=True)"
   ]
  },
  {
   "cell_type": "markdown",
   "metadata": {},
   "source": [
    "## LDA 모델의 토픽 보기\n",
    "위의 LDA모델은 각 토픽이 키워드의 조합이고,  \n",
    "각 키워드가 토픽에 일정한 가중치를 부여하는 20개의 주제로 구성된다.  \n",
    "`lda_model.print_topics()`를 사용하여 각 토픽의 키워드와 각 키워드의 중요도(가중치)를 볼 수 있다."
   ]
  },
  {
   "cell_type": "code",
   "execution_count": 65,
   "metadata": {},
   "outputs": [
    {
     "name": "stdout",
     "output_type": "stream",
     "text": [
      "[(0,\n",
      "  '0.034*\"_\" + 0.029*\"blue\" + 0.021*\"tank\" + 0.014*\"cubs_suck\" + 0.012*\"eg\" + '\n",
      "  '0.012*\"gas\" + 0.011*\"hi\" + 0.007*\"henry_spencer\" + 0.007*\"cigarette\" + '\n",
      "  '0.006*\"xlib\"'),\n",
      " (1,\n",
      "  '0.020*\"value\" + 0.020*\"bus\" + 0.019*\"specifically\" + 0.015*\"function\" + '\n",
      "  '0.015*\"associate\" + 0.013*\"motorcycle\" + 0.011*\"properly\" + 0.010*\"code\" + '\n",
      "  '0.008*\"confuse\" + 0.008*\"error\"'),\n",
      " (2,\n",
      "  '0.023*\"window\" + 0.020*\"card\" + 0.017*\"file\" + 0.014*\"drive\" + 0.013*\"use\" '\n",
      "  '+ 0.013*\"system\" + 0.011*\"problem\" + 0.010*\"run\" + 0.009*\"color\" + '\n",
      "  '0.009*\"do\"'),\n",
      " (3,\n",
      "  '0.035*\"game\" + 0.033*\"team\" + 0.019*\"player\" + 0.017*\"play\" + 0.017*\"win\" + '\n",
      "  '0.016*\"hockey\" + 0.013*\"season\" + 0.011*\"contact\" + 0.011*\"year\" + '\n",
      "  '0.010*\"nhl\"'),\n",
      " (4,\n",
      "  '0.026*\"wire\" + 0.017*\"circuit\" + 0.015*\"faq\" + 0.015*\"connect\" + '\n",
      "  '0.013*\"wiring\" + 0.013*\"voice\" + 0.013*\"cover\" + 0.011*\"outlet\" + '\n",
      "  '0.011*\"neutral\" + 0.010*\"conference\"'),\n",
      " (5,\n",
      "  '0.030*\"government\" + 0.024*\"gun\" + 0.022*\"law\" + 0.017*\"state\" + '\n",
      "  '0.015*\"right\" + 0.013*\"public\" + 0.012*\"protect\" + 0.011*\"american\" + '\n",
      "  '0.010*\"police\" + 0.010*\"criminal\"'),\n",
      " (6,\n",
      "  '0.074*\"max\" + 0.018*\"cost\" + 0.015*\"price\" + 0.014*\"year\" + 0.012*\"sale\" + '\n",
      "  '0.011*\"sell\" + 0.010*\"obvious\" + 0.009*\"pay\" + 0.007*\"canada\" + '\n",
      "  '0.007*\"total\"'),\n",
      " (7,\n",
      "  '0.047*\"line\" + 0.042*\"organization\" + 0.031*\"write\" + 0.026*\"article\" + '\n",
      "  '0.019*\"would\" + 0.018*\"university\" + 0.017*\"nntp_post\" + 0.015*\"host\" + '\n",
      "  '0.015*\"not\" + 0.014*\"get\"'),\n",
      " (8,\n",
      "  '0.019*\"science\" + 0.014*\"computer_science\" + 0.012*\"prove\" + '\n",
      "  '0.011*\"homeopathy\" + 0.010*\"review\" + 0.010*\"development\" + 0.010*\"object\" '\n",
      "  '+ 0.010*\"univ\" + 0.010*\"text\" + 0.010*\"gordon_bank\"'),\n",
      " (9,\n",
      "  '0.039*\"space\" + 0.011*\"power\" + 0.009*\"launch\" + 0.008*\"ground\" + '\n",
      "  '0.008*\"switch\" + 0.008*\"build\" + 0.007*\"project\" + 0.007*\"high\" + '\n",
      "  '0.007*\"radio\" + 0.007*\"mon\"'),\n",
      " (10,\n",
      "  '0.815*\"ax\" + 0.003*\"nyi\" + 0.003*\"stl\" + 0.003*\"buffalo\" + 0.002*\"pool\" + '\n",
      "  '0.002*\"brian_kendig\" + 0.002*\"sunday\" + 0.002*\"finland\" + 0.002*\"espn\" + '\n",
      "  '0.002*\"lemieux\"'),\n",
      " (11,\n",
      "  '0.040*\"armenian\" + 0.013*\"league\" + 0.011*\"turk\" + 0.011*\"turkish\" + '\n",
      "  '0.011*\"greek\" + 0.011*\"baseball\" + 0.010*\"serdar_argic\" + 0.007*\"road\" + '\n",
      "  '0.006*\"cal\" + 0.006*\"hug\"'),\n",
      " (12,\n",
      "  '0.011*\"national\" + 0.009*\"center\" + 0.009*\"year\" + 0.009*\"april\" + '\n",
      "  '0.009*\"study\" + 0.007*\"george\" + 0.007*\"research\" + 0.006*\"march\" + '\n",
      "  '0.006*\"mission\" + 0.006*\"student\"'),\n",
      " (13,\n",
      "  '0.011*\"may\" + 0.010*\"would\" + 0.009*\"make\" + 0.007*\"people\" + '\n",
      "  '0.007*\"question\" + 0.007*\"also\" + 0.007*\"many\" + 0.007*\"point\" + '\n",
      "  '0.007*\"mean\" + 0.006*\"must\"'),\n",
      " (14,\n",
      "  '0.015*\"israel\" + 0.012*\"israeli\" + 0.009*\"attack\" + 0.009*\"kill\" + '\n",
      "  '0.009*\"military\" + 0.008*\"hour\" + 0.008*\"land\" + 0.008*\"international\" + '\n",
      "  '0.008*\"committee\" + 0.007*\"soldier\"'),\n",
      " (15,\n",
      "  '0.020*\"mail\" + 0.017*\"information\" + 0.015*\"available\" + 0.015*\"include\" + '\n",
      "  '0.013*\"send\" + 0.012*\"program\" + 0.011*\"list\" + 0.010*\"ca\" + 0.010*\"also\" + '\n",
      "  '0.010*\"internet\"'),\n",
      " (16,\n",
      "  '0.029*\"key\" + 0.022*\"chip\" + 0.014*\"use\" + 0.013*\"system\" + 0.011*\"phone\" + '\n",
      "  '0.010*\"encryption\" + 0.010*\"bit\" + 0.010*\"technology\" + 0.009*\"wiretap\" + '\n",
      "  '0.009*\"device\"'),\n",
      " (17,\n",
      "  '0.025*\"christian\" + 0.023*\"god\" + 0.012*\"man\" + 0.011*\"life\" + '\n",
      "  '0.011*\"religion\" + 0.010*\"bible\" + 0.009*\"believe\" + 0.008*\"law\" + '\n",
      "  '0.008*\"belief\" + 0.008*\"die\"'),\n",
      " (18,\n",
      "  '0.051*\"not\" + 0.032*\"do\" + 0.022*\"say\" + 0.021*\"go\" + 0.019*\"would\" + '\n",
      "  '0.018*\"be\" + 0.015*\"think\" + 0.014*\"know\" + 0.014*\"s\" + 0.013*\"people\"'),\n",
      " (19,\n",
      "  '0.017*\"light\" + 0.015*\"rise\" + 0.015*\"paul\" + 0.012*\"fire\" + 0.011*\"edge\" + '\n",
      "  '0.010*\"building\" + 0.009*\"water\" + 0.009*\"teach\" + 0.008*\"mother\" + '\n",
      "  '0.008*\"girl\"')]\n"
     ]
    }
   ],
   "source": [
    "# Print the keyword in the 10 topics\n",
    "pprint(lda_model.print_topics())\n",
    "doc_lda = lda_model[corpus]"
   ]
  },
  {
   "cell_type": "markdown",
   "metadata": {},
   "source": [
    "## 해석 방법  \n",
    "```\n",
    "[(0,\n",
    "  '0.034*\"_\" + 0.029*\"blue\" + 0.021*\"tank\" + 0.014*\"cubs_suck\" + 0.012*\"eg\" + '\n",
    "  '0.012*\"gas\" + 0.011*\"hi\" + 0.007*\"henry_spencer\" + 0.007*\"cigarette\" + '\n",
    "  '0.006*\"xlib\"'),\n",
    "```\n",
    "토픽0 는 위와 같이 표현된다.  \n",
    "이 토픽에 대해 기여하고 있는 상위 10개 키워드는 'blue', 'tank', 'cubs_suck'등 이며,  \n",
    "토픽 0에 대한 'blue'의 가중치는 0.029이다.  \n",
    "가중치는 키워드가 해당 토픽에 얼마나 중요하는지를 나타낸다.  \n",
    "다시말하자면 토픽 0는 blue나 tank일 수 있다.  "
   ]
  },
  {
   "cell_type": "markdown",
   "metadata": {},
   "source": [
    "## 모델 난이도와 일관성 점수 계산"
   ]
  },
  {
   "cell_type": "code",
   "execution_count": 68,
   "metadata": {},
   "outputs": [
    {
     "name": "stdout",
     "output_type": "stream",
     "text": [
      "\n",
      "Perplexity:  -8.754099497677107\n",
      "\n",
      "Coherence Score:  0.515758393754623\n"
     ]
    }
   ],
   "source": [
    "# Compute Perplexity\n",
    "print('\\nPerplexity: ', lda_model.log_perplexity(corpus)) # a measure of how good the model is. lower the better.\n",
    "\n",
    "# Compute Coherence Score\n",
    "coherence_model_lda = CoherenceModel(model=lda_model, texts = data_lemmatized, dictionary=id2word, coherence='c_v')\n",
    "coherence_lda = coherence_model_lda.get_coherence()\n",
    "print('\\nCoherence Score: ', coherence_lda)"
   ]
  },
  {
   "cell_type": "markdown",
   "metadata": {},
   "source": [
    "## 토픽-키워드 시각화 "
   ]
  },
  {
   "cell_type": "code",
   "execution_count": 69,
   "metadata": {},
   "outputs": [
    {
     "name": "stderr",
     "output_type": "stream",
     "text": [
      "C:\\Users\\Andrew\\AppData\\Local\\conda\\conda\\envs\\text3.5\\lib\\site-packages\\pyLDAvis\\_prepare.py:257: FutureWarning: Sorting because non-concatenation axis is not aligned. A future version\n",
      "of pandas will change to not sort by default.\n",
      "\n",
      "To accept the future behavior, pass 'sort=False'.\n",
      "\n",
      "To retain the current behavior and silence the warning, pass 'sort=True'.\n",
      "\n",
      "  return pd.concat([default_term_info] + list(topic_dfs))\n"
     ]
    },
    {
     "data": {
      "text/html": [
       "\n",
       "<link rel=\"stylesheet\" type=\"text/css\" href=\"https://cdn.rawgit.com/bmabey/pyLDAvis/files/ldavis.v1.0.0.css\">\n",
       "\n",
       "\n",
       "<div id=\"ldavis_el441620119205323684133331101\"></div>\n",
       "<script type=\"text/javascript\">\n",
       "\n",
       "var ldavis_el441620119205323684133331101_data = {\"lambda.step\": 0.01, \"token.table\": {\"Topic\": [19, 2, 7, 20, 5, 5, 1, 12, 10, 13, 8, 16, 14, 1, 11, 10, 1, 2, 3, 4, 5, 7, 12, 9, 3, 8, 9, 12, 6, 9, 18, 13, 7, 15, 18, 1, 2, 4, 5, 1, 1, 17, 10, 4, 5, 8, 14, 2, 1, 2, 5, 8, 9, 12, 13, 2, 17, 17, 9, 13, 9, 2, 10, 11, 18, 1, 2, 3, 20, 8, 2, 20, 2, 10, 13, 2, 12, 2, 1, 10, 5, 10, 3, 11, 1, 3, 17, 6, 17, 15, 20, 9, 3, 19, 17, 1, 12, 19, 1, 3, 7, 2, 3, 7, 7, 1, 1, 2, 4, 10, 19, 8, 9, 10, 13, 16, 19, 3, 4, 14, 11, 13, 2, 5, 7, 18, 13, 14, 8, 16, 17, 3, 16, 20, 11, 20, 5, 18, 6, 10, 8, 6, 1, 2, 4, 10, 12, 20, 16, 17, 8, 17, 20, 16, 1, 5, 11, 4, 18, 17, 1, 2, 3, 4, 5, 10, 20, 8, 11, 14, 14, 6, 11, 13, 1, 4, 9, 3, 9, 12, 1, 2, 4, 9, 20, 8, 19, 18, 1, 5, 8, 10, 12, 13, 6, 12, 2, 5, 20, 17, 1, 13, 3, 7, 10, 11, 7, 7, 7, 7, 19, 18, 6, 9, 18, 13, 2, 7, 10, 1, 2, 2, 8, 4, 10, 9, 14, 5, 10, 20, 11, 4, 1, 2, 3, 4, 7, 8, 2, 13, 8, 10, 15, 10, 5, 20, 3, 15, 18, 2, 2, 10, 12, 18, 20, 3, 9, 13, 18, 1, 2, 3, 9, 9, 18, 14, 2, 8, 10, 20, 2, 1, 2, 4, 5, 10, 12, 13, 4, 16, 9, 4, 8, 10, 18, 5, 4, 11, 1, 2, 3, 10, 11, 20, 2, 3, 9, 9, 8, 11, 18, 3, 5, 9, 9, 17, 10, 19, 1, 3, 5, 10, 14, 17, 19, 20, 1, 2, 4, 12, 18, 12, 17, 11, 17, 16, 4, 5, 8, 10, 12, 2, 3, 4, 14, 15, 3, 1, 3, 5, 7, 8, 11, 6, 3, 7, 13, 2, 10, 14, 2, 15, 1, 13, 15, 18, 18, 20, 15, 16, 1, 10, 12, 14, 20, 20, 14, 2, 5, 15, 15, 4, 10, 14, 3, 7, 5, 6, 9, 2, 2, 5, 15, 4, 10, 1, 11, 15, 1, 11, 1, 4, 8, 17, 18, 1, 8, 14, 1, 2, 3, 4, 7, 12, 3, 1, 11, 11, 1, 14, 20, 19, 1, 4, 1, 4, 3, 7, 8, 12, 20, 3, 16, 15, 5, 13, 19, 19, 10, 12, 1, 4, 18, 13, 10, 10, 8, 1, 1, 13, 14, 20, 9, 15, 20, 19, 12, 13, 16, 2, 4, 15, 20, 6, 2, 8, 1, 2, 3, 7, 10, 2, 5, 20, 14, 2, 4, 12, 4, 11, 2, 16, 3, 16, 2, 3, 7, 18, 14, 4, 18, 7, 4, 5, 18, 19, 13, 9, 3, 13, 4, 10, 2, 5, 14, 6, 10, 6, 9, 13, 16, 3, 18, 1, 2, 3, 8, 10, 12, 14, 17, 20, 12, 2, 12, 13, 2, 4, 5, 7, 20, 4, 2, 3, 16, 12, 16, 3, 13, 4, 20, 15, 19, 16, 16, 8, 12, 10, 5, 12, 4, 10, 20, 14, 19, 7, 14, 18, 5, 2, 8, 11, 2, 1, 3, 4, 18, 4, 16, 1, 2, 3, 1, 3, 14, 14, 7, 17, 1, 2, 3, 7, 14, 15, 8, 9, 10, 13, 15, 19, 19, 4, 2, 17, 3, 9, 12, 2, 3, 5, 8, 9, 7, 18, 9, 9, 20, 11, 17, 9, 10, 1, 3, 10, 6, 8, 3, 1, 3, 1, 14, 4, 3, 7, 16, 16, 13, 3, 18, 1, 2, 3, 4, 5, 19, 19, 19, 1, 3, 4, 8, 9, 10, 11, 12, 17, 1, 11, 14, 17, 14, 14, 1, 15, 15, 7, 7, 8, 1, 5, 5, 13, 3, 9, 16, 18, 1, 2, 4, 17, 2, 7, 9, 3, 15, 14, 4, 9, 5, 4, 5, 12, 3, 9, 2, 1, 4, 12, 2, 5, 9, 13, 20, 1, 4, 5, 2, 5, 10, 15, 8, 4, 10, 15, 2, 1, 20, 19, 1, 13, 5, 17, 13, 13, 2, 8, 9, 10, 11, 11, 2, 2, 13, 3, 16, 10, 10, 3, 3, 13, 7, 8, 1, 2, 3, 4, 7, 18, 8, 16, 3, 13, 20, 4, 1, 2, 3, 4, 5, 10, 11, 12, 3, 19, 3, 12, 7, 9, 9, 6, 17, 13, 9, 10, 18, 6, 19, 1, 2, 3, 10, 1, 2, 3, 12, 15, 5, 20, 2, 3, 7, 12, 16, 1, 2, 3, 1, 1, 5, 5, 8, 16, 18, 15, 17, 1, 3, 5, 7, 1, 3, 1, 3, 7, 1, 4, 11, 12, 16, 13, 4, 4, 11, 15, 10, 5, 5, 1, 2, 3, 4, 3, 7, 8, 13, 17, 1, 2, 3, 4, 5, 8, 8, 7, 6, 9, 10, 12, 13, 10, 11, 5, 3, 11, 1, 2, 5, 8, 10, 1, 2, 3, 7, 9, 15, 8, 2, 3, 4, 8, 4, 8, 1, 2, 5, 10, 12, 19, 19, 16, 11, 11, 16, 5, 11, 14, 11, 9, 13, 9, 16, 13, 12, 8, 11, 8, 5, 4, 1, 12, 4, 12, 3, 11, 4, 12, 18, 12, 5, 7, 6, 8, 8, 16, 5, 1, 20, 12, 4, 13, 8, 9, 3, 20, 2, 1, 2, 3, 11, 18, 1, 2, 4, 7, 20, 17, 7, 12, 8, 9, 18, 19, 10, 1, 2, 3, 4, 5, 10, 3, 5, 10, 18, 1, 2, 3, 7, 1, 2, 3, 4, 5, 8, 10, 11, 6, 3, 11, 17, 3, 5, 8, 5, 3, 14, 1, 20, 1, 7, 1, 2, 3, 7, 10, 13, 19, 6, 14, 15, 11, 3, 5, 3, 1, 19, 12, 6, 1, 5, 1, 12, 18, 18, 5, 2, 5, 7, 15, 12, 1, 2, 5, 11, 19, 2, 7, 15, 16, 3, 11, 4, 3, 17, 6, 2, 3, 7, 9, 1, 2, 2, 8, 14, 9, 4, 14, 4, 10, 18, 2, 3, 11, 5, 18, 20, 14, 8, 14, 15, 13, 17, 1, 2, 14, 14, 14, 13, 1, 2, 3, 14, 9, 9, 6, 16, 3, 9, 13, 4, 18, 1, 2, 5, 2, 18, 1, 2, 9, 12, 16, 6, 8, 2, 16, 18, 2, 15, 16, 4, 5, 11, 2, 10, 13, 9, 11, 16, 1, 2, 3, 4, 15, 4, 5, 10, 12, 9, 8, 12, 2, 9, 20, 9, 11, 15, 5, 2, 9, 10, 11, 13, 2, 5, 6, 6, 1, 2, 4, 5, 5, 12, 4, 17, 13, 1, 2, 11, 8, 19, 1, 2, 4, 5, 7, 20, 15, 1, 2, 3, 13, 5, 7, 12, 15, 20, 9, 13, 16, 17, 7, 1, 5, 11, 15, 17, 2, 5, 11, 13, 1, 8, 15, 16, 8, 15, 2, 9, 1, 2, 3, 4, 8, 13, 17, 18, 20, 15, 4, 11, 11, 11, 1, 2, 3, 9, 16, 11, 11, 16, 17, 1, 4, 12, 13, 1, 8, 11, 2, 20, 1, 3, 4, 5, 11, 14, 17, 2, 1, 3, 20, 5, 11, 8, 8, 11, 7, 8, 1, 2, 3, 7, 11, 12, 8, 8, 15, 8, 15, 20, 14, 4, 11, 7, 4, 16, 15, 14, 11, 1, 2, 4, 8, 14, 13, 10, 9, 10, 13, 1, 2, 3, 4, 16, 1, 5, 10, 11, 9, 2, 3, 5, 2, 7, 17, 5, 2, 3, 5, 9, 18, 2, 3, 4, 5, 16, 20, 4, 7, 10, 4, 16, 17, 20, 11, 19, 3, 12, 7, 6, 5, 12, 4, 5, 10, 11, 12, 20, 12, 16, 3, 4, 4, 5, 13, 3, 3, 4, 15, 7, 1, 2, 4, 5, 7, 12, 13, 20, 13, 12, 8, 7, 10, 5, 20, 3, 1, 4, 13, 1, 3, 4, 14, 11, 1, 2, 9, 13, 2, 12, 3, 3, 20, 1, 6, 20, 5, 8, 18, 7, 8, 3, 15, 17, 17, 11, 5, 6, 4, 15, 16, 2, 3, 4, 5, 9, 12, 1, 2, 4, 5, 10, 12, 10, 16, 1, 2, 3, 1, 2, 3, 7, 14, 19, 10, 4, 3, 11, 16, 14, 5, 10, 12, 15, 1, 2, 3, 4, 7, 2, 4, 5, 13, 13, 1, 4, 15, 1, 4, 5, 1, 3, 2, 1, 2, 3, 7, 1, 2, 3, 7, 15, 1, 2, 10, 10, 6, 1, 2, 3, 4, 8, 10, 18, 11, 2, 3, 9, 13, 17, 13, 16, 14, 19, 2, 3, 11, 12, 11, 13, 14, 13, 15, 10, 3, 1, 2, 4, 7, 2, 7, 1, 2, 3, 4, 17, 17, 17, 4, 10, 12, 9, 15, 1, 5, 8, 11, 14, 17, 5, 5, 1, 5, 8, 10, 11, 1, 2, 4, 5, 9, 10, 12, 15, 18, 4, 5, 10, 2, 11, 20, 12, 14, 2, 5, 13, 17, 7, 4, 5, 4, 20, 4, 4, 2, 5, 7, 4, 18, 12, 18, 2, 8, 20, 4, 8, 10, 16, 1, 1, 2, 3, 4, 8, 9, 16, 16, 1, 2, 3, 9, 3, 1, 2, 3, 16, 1, 5, 14, 16, 4, 16, 2, 14, 6, 18, 10, 18, 3, 7, 1, 3, 2, 4, 5, 7, 1, 2, 3, 4, 10, 15, 17, 2, 3, 4, 7, 17, 2, 1, 2, 3, 19, 1, 2, 3, 7, 4, 19, 19, 17, 1, 2, 3, 5, 7, 8, 9, 11, 13, 15, 17, 18, 20, 2, 3, 8, 11, 14, 17, 11, 2, 4, 3, 14, 7], \"Term\": [\"_\", \"accept\", \"accept\", \"accept\", \"access\", \"advance\", \"advice\", \"aerospace\", \"agency\", \"agency\", \"ago\", \"ago\", \"ahl\", \"air\", \"alan\", \"algorithm\", \"also\", \"also\", \"also\", \"also\", \"also\", \"also\", \"also\", \"amendment\", \"american\", \"american\", \"american\", \"amp\", \"anaheim\", \"analysis\", \"analysis\", \"anger\", \"animal\", \"announcement\", \"annual\", \"answer\", \"answer\", \"answer\", \"answer\", \"anybody\", \"anyone\", \"apartment\", \"apple\", \"application\", \"application\", \"april\", \"april\", \"arab\", \"area\", \"area\", \"area\", \"area\", \"area\", \"area\", \"area\", \"argument\", \"armenia\", \"armenian\", \"army\", \"army\", \"arrest\", \"art\", \"art\", \"art\", \"art\", \"article\", \"article\", \"article\", \"associate\", \"astronomy\", \"atheist\", \"ati\", \"attack\", \"attack\", \"attack\", \"attempt\", \"audio\", \"authority\", \"auto\", \"automatically\", \"available\", \"available\", \"average\", \"average\", \"away\", \"away\", \"away\", \"ax\", \"azerbaijani\", \"background\", \"bag\", \"ban\", \"band\", \"band\", \"baseball\", \"battery\", \"battery_charger\", \"bay\", \"be\", \"be\", \"belief\", \"believe\", \"believe\", \"believe\", \"bible\", \"bike\", \"bit\", \"bit\", \"bit\", \"bit\", \"bitmap\", \"block\", \"block\", \"block\", \"blood\", \"blood\", \"blue\", \"board\", \"board\", \"board\", \"bolt\", \"bomb\", \"book\", \"book\", \"book\", \"book\", \"border\", \"bos\", \"boston\", \"bottle\", \"bounce\", \"boy\", \"boy\", \"bradley\", \"brake\", \"brand\", \"brave\", \"breaker\", \"brian_kendig\", \"broadcast\", \"brother\", \"buffalo\", \"build\", \"build\", \"build\", \"build\", \"build\", \"build\", \"building\", \"building\", \"burn\", \"burn\", \"bus\", \"button\", \"buy\", \"ca\", \"ca\", \"cable\", \"cable\", \"cal\", \"call\", \"call\", \"call\", \"call\", \"call\", \"call\", \"callback\", \"canada\", \"canada\", \"canada\", \"canadian\", \"canuck\", \"capital\", \"captain\", \"car\", \"card\", \"card\", \"carry\", \"carry\", \"carry\", \"case\", \"case\", \"case\", \"case\", \"case\", \"case_western\", \"cc\", \"cell\", \"center\", \"center\", \"center\", \"center\", \"center\", \"center\", \"chain\", \"channel\", \"character\", \"character\", \"character\", \"chi\", \"chicago\", \"chief\", \"child\", \"child\", \"chip\", \"chris\", \"christ\", \"christian\", \"christianity\", \"church\", \"cigarette\", \"circuit\", \"cirrus_logic\", \"citizen\", \"civil\", \"civilian\", \"claim\", \"claim\", \"clean\", \"clear\", \"clear\", \"clearly\", \"cleveland_ohio\", \"client\", \"clipper\", \"clipper_chip\", \"coach\", \"code\", \"code\", \"code\", \"cold\", \"color\", \"come\", \"come\", \"come\", \"come\", \"come\", \"comet\", \"committee\", \"committee\", \"communication\", \"communication\", \"comparison\", \"compatible\", \"compile\", \"compile\", \"complain\", \"computer_science\", \"computing\", \"concept\", \"concern\", \"concern\", \"conductor\", \"conference\", \"confuse\", \"congress\", \"congress\", \"congress\", \"connect\", \"consider\", \"consider\", \"consider\", \"consider\", \"constitution\", \"construction\", \"contact\", \"contain\", \"contain\", \"contain\", \"contain\", \"context\", \"control\", \"control\", \"control\", \"control\", \"control\", \"control\", \"control\", \"controller\", \"cool\", \"cop\", \"copy\", \"copy\", \"copy\", \"copy\", \"corporation\", \"cost\", \"cost\", \"could\", \"could\", \"could\", \"could\", \"count\", \"countersteer\", \"country\", \"country\", \"country\", \"court\", \"cover\", \"cover\", \"cover\", \"coverage\", \"cpu\", \"crime\", \"criminal\", \"crowd\", \"crypto\", \"csa\", \"cubs_suck\", \"cubs_suck\", \"cubs_suck\", \"cubs_suck\", \"cubs_suck\", \"cubs_suck\", \"cubs_suck\", \"cubs_suck\", \"current\", \"current\", \"current\", \"current\", \"current\", \"cylinder\", \"czar\", \"damn\", \"darin\", \"darren\", \"datum\", \"datum\", \"datum\", \"datum\", \"datum\", \"david\", \"david\", \"david\", \"david\", \"david\", \"davidian\", \"day\", \"day\", \"day\", \"day\", \"day\", \"dealer\", \"dear\", \"death\", \"death\", \"death\", \"decision\", \"default\", \"defenseman\", \"deity\", \"demonstrate\", \"department\", \"department\", \"department\", \"department\", \"depend\", \"depend\", \"description\", \"description\", \"design\", \"design\", \"design\", \"det\", \"detect\", \"detector\", \"detroit\", \"develop\", \"develop\", \"develop\", \"development\", \"device\", \"device\", \"devil\", \"die\", \"die\", \"directory\", \"discharge\", \"discipline\", \"discuss\", \"discussion\", \"discussion\", \"disease\", \"disk\", \"disk\", \"display\", \"distribution_na\", \"distribution_na\", \"distribution_usa\", \"distribution_usa\", \"distribution_world\", \"distribution_world\", \"distribution_world\", \"distribution_world\", \"div\", \"division\", \"division\", \"division\", \"do\", \"do\", \"do\", \"do\", \"do\", \"doc\", \"doctor\", \"dod\", \"dog\", \"dollar\", \"door\", \"draft\", \"drawing\", \"dress\", \"drive\", \"drive\", \"driver\", \"driver\", \"drug\", \"earth\", \"earth\", \"earth\", \"ease\", \"economic\", \"edge\", \"edition\", \"editor\", \"edward\", \"eeg\", \"eg\", \"electronic\", \"electronic\", \"email\", \"email\", \"email\", \"emergency\", \"encrypt\", \"encryption\", \"energy\", \"engine\", \"engineering\", \"enjoy\", \"enjoy\", \"enjoyment\", \"ensure\", \"ensure\", \"entry\", \"ep\", \"equal\", \"equal\", \"equal\", \"error\", \"error\", \"error\", \"error\", \"espn\", \"establish\", \"estimate\", \"even\", \"even\", \"even\", \"even\", \"even\", \"example\", \"example\", \"example\", \"excellent\", \"exist\", \"exist\", \"expand\", \"extra\", \"extra\", \"eye\", \"eye\", \"face\", \"face\", \"fact\", \"fact\", \"faith\", \"familiar\", \"fan\", \"faq\", \"faq\", \"father\", \"fax\", \"fax\", \"fax\", \"fd\", \"february\", \"federal\", \"fight\", \"fight\", \"file\", \"file\", \"final\", \"final\", \"final\", \"final_standing\", \"finger\", \"finland\", \"fire\", \"fire\", \"fire\", \"firearm\", \"firm\", \"first\", \"first\", \"first\", \"first\", \"first\", \"first\", \"first\", \"first\", \"first\", \"flight\", \"fly\", \"fly\", \"fly\", \"follow\", \"follow\", \"follow\", \"follow\", \"follow\", \"font\", \"food\", \"food\", \"food\", \"foot\", \"foot\", \"forget\", \"forget\", \"format\", \"forum\", \"fox\", \"fp\", \"frame\", \"france\", \"frank\", \"frequency\", \"friday\", \"ftp\", \"fuel\", \"function\", \"function\", \"function\", \"game\", \"gas\", \"gay\", \"gd\", \"gene\", \"genoa\", \"genocide\", \"george\", \"george\", \"german\", \"get\", \"get\", \"get\", \"gfci\", \"gif\", \"girl\", \"give\", \"give\", \"give\", \"go\", \"go\", \"go\", \"goal\", \"god\", \"gold\", \"good\", \"good\", \"good\", \"good\", \"good\", \"gordon_bank\", \"gov\", \"government\", \"government\", \"government\", \"gps\", \"gq\", \"gr\", \"graphic\", \"greek\", \"greek\", \"ground\", \"ground\", \"ground\", \"group\", \"group\", \"group\", \"group\", \"guard\", \"guide\", \"guide\", \"gun\", \"gun_control\", \"guru\", \"hall\", \"ham\", \"handgun\", \"hang\", \"happen\", \"happen\", \"hard_drive\", \"harry\", \"hat\", \"hate\", \"have\", \"have\", \"hawk\", \"hawk\", \"hd\", \"health\", \"heart\", \"heart\", \"heat\", \"heavy\", \"hell\", \"helmet\", \"help\", \"help\", \"help\", \"help\", \"help\", \"henry\", \"henry_spencer\", \"hi\", \"high\", \"high\", \"high\", \"high\", \"high\", \"high\", \"high\", \"high\", \"hill\", \"hit\", \"hit\", \"hit\", \"hitter\", \"hockey\", \"hockey_league\", \"hole\", \"homeopathic\", \"homeopathy\", \"homosexual\", \"honor\", \"hospital\", \"host\", \"host\", \"hour\", \"hour\", \"house\", \"house\", \"house\", \"house\", \"however\", \"however\", \"however\", \"hug\", \"human\", \"human\", \"hunt\", \"hurt\", \"ibm\", \"ice\", \"ide\", \"illegal\", \"illinois\", \"image\", \"image\", \"image\", \"imagine\", \"implement\", \"imply\", \"inc\", \"inc\", \"inc\", \"include\", \"include\", \"include\", \"include\", \"include\", \"info\", \"info\", \"info\", \"information\", \"information\", \"information\", \"information\", \"ins_cwru\", \"instal\", \"instal\", \"installation\", \"instance\", \"insurance\", \"int\", \"interactive\", \"internal\", \"international\", \"internet\", \"interview\", \"israel\", \"israeli\", \"issue\", \"issue\", \"issue\", \"issue\", \"jack\", \"jeff\", \"jew\", \"jewish\", \"jewish\", \"job\", \"ken\", \"key\", \"key_escrow\", \"kid\", \"kill\", \"kill\", \"king\", \"km\", \"know\", \"know\", \"know\", \"know\", \"know\", \"kurt\", \"la\", \"lamp\", \"land\", \"land\", \"lane\", \"laptop\", \"large\", \"large\", \"large\", \"large\", \"large\", \"large\", \"large\", \"large\", \"last_night\", \"lately\", \"laugh\", \"launch\", \"law\", \"law\", \"law_enforcement\", \"lawrence\", \"league\", \"lebanon\", \"legal\", \"legal\", \"legend\", \"lemieux\", \"lens\", \"let\", \"let\", \"let\", \"let\", \"level\", \"level\", \"level\", \"level\", \"level\", \"library\", \"libxmu\", \"life\", \"life\", \"life\", \"light\", \"light\", \"like\", \"like\", \"like\", \"limit\", \"line\", \"line\", \"list\", \"list\", \"list\", \"lock\", \"logical\", \"logo\", \"look\", \"look\", \"look\", \"lord\", \"lot\", \"lot\", \"love\", \"love\", \"love\", \"low\", \"low\", \"low\", \"low\", \"ltd\", \"lunar\", \"mac\", \"machine\", \"magazine\", \"magazine\", \"magic\", \"mail\", \"mailing_list\", \"make\", \"make\", \"make\", \"make\", \"man\", \"man\", \"man\", \"man\", \"man\", \"many\", \"many\", \"many\", \"many\", \"many\", \"mar\", \"march\", \"marriage\", \"married\", \"mass\", \"mass\", \"mass\", \"massacre\", \"master\", \"master\", \"material\", \"matthew\", \"max\", \"may\", \"may\", \"may\", \"may\", \"may\", \"mean\", \"mean\", \"mean\", \"mean\", \"mean\", \"medical\", \"medicine\", \"medium\", \"medium\", \"medium\", \"medium\", \"meg\", \"membership\", \"memory\", \"message\", \"message\", \"message\", \"metal\", \"mf\", \"mg\", \"mhz\", \"mid\", \"middle\", \"middle\", \"mike\", \"mike\", \"mike\", \"mile\", \"military\", \"military\", \"militia\", \"miller\", \"million\", \"min\", \"minnesota\", \"misc\", \"mission\", \"mit\", \"mode\", \"model\", \"model\", \"modem\", \"mon\", \"money\", \"money\", \"monitor\", \"monitor\", \"mont_pierce\", \"monthly\", \"moon\", \"moral\", \"mormon\", \"morning\", \"morris\", \"mother\", \"motif\", \"motor\", \"motorcycle\", \"mount\", \"mouse\", \"movement\", \"mr\", \"mr\", \"mr_stephanopoulo\", \"ms_window\", \"msg\", \"much\", \"much\", \"much\", \"multi\", \"multi\", \"must\", \"must\", \"must\", \"must\", \"must\", \"mutlu\", \"mystery\", \"nasa\", \"national\", \"national\", \"national\", \"nc\", \"nec\", \"need\", \"need\", \"need\", \"need\", \"need\", \"need\", \"neighbor\", \"network\", \"network\", \"neutral\", \"never\", \"never\", \"never\", \"never\", \"new\", \"new\", \"new\", \"new\", \"new\", \"new\", \"new\", \"new\", \"new_brunswick\", \"new_york\", \"new_york\", \"new_york\", \"news\", \"news\", \"news\", \"newsgroup\", \"newsletter\", \"nhl\", \"nice\", \"nick\", \"nntp_post\", \"normal\", \"not\", \"not\", \"not\", \"not\", \"nsa\", \"nt\", \"nt\", \"nyi\", \"nyr\", \"object\", \"obvious\", \"offer\", \"offer\", \"ohio\", \"oil\", \"ontario\", \"orbit\", \"org\", \"organization\", \"organization\", \"originator\", \"ott\", \"ought\", \"outlet\", \"package\", \"page\", \"page\", \"pain\", \"painful\", \"panel\", \"part\", \"part\", \"part\", \"part\", \"part\", \"party\", \"passage\", \"patient\", \"paul\", \"pay\", \"pay\", \"pc\", \"peace\", \"penguin\", \"penn_state\", \"people\", \"people\", \"people\", \"people\", \"perhaps\", \"perhaps\", \"period\", \"period\", \"period\", \"permit\", \"peter\", \"phi\", \"phone\", \"phone\", \"phone\", \"physical\", \"pick\", \"pick\", \"pin\", \"pipe\", \"pipe\", \"pit\", \"pitch\", \"pittsburgh\", \"pittsburgh\", \"plane\", \"plate\", \"play\", \"play\", \"play\", \"player\", \"playoff\", \"pm\", \"point\", \"point\", \"point\", \"point\", \"police\", \"policy\", \"pool\", \"pop\", \"population\", \"population\", \"population\", \"port\", \"portion\", \"post\", \"post\", \"post\", \"posting\", \"postscript\", \"power\", \"power\", \"power\", \"power\", \"power\", \"praise\", \"pray\", \"present\", \"present\", \"present\", \"president\", \"pressure\", \"pressure\", \"price\", \"price\", \"price\", \"principle\", \"printer\", \"privacy\", \"private\", \"private\", \"probe\", \"problem\", \"problem\", \"problem\", \"problem\", \"professional\", \"program\", \"program\", \"program\", \"program\", \"prohibit\", \"project\", \"project\", \"promise\", \"properly\", \"properly\", \"protect\", \"prove\", \"prove\", \"pub\", \"public\", \"public\", \"public\", \"pull\", \"pull\", \"punishment\", \"purchase\", \"pure\", \"qax\", \"question\", \"question\", \"question\", \"question\", \"quick\", \"radio\", \"ram\", \"ranger\", \"rat\", \"rather\", \"rather\", \"rating\", \"rd\", \"rd\", \"read\", \"read\", \"read\", \"read\", \"read\", \"read\", \"reader\", \"reason\", \"reason\", \"reason\", \"ref\", \"reference\", \"reference\", \"reference\", \"reference\", \"reference\", \"regulation\", \"relative\", \"relative\", \"relative\", \"religion\", \"reply\", \"reply\", \"reply\", \"reply\", \"reply\", \"report\", \"report\", \"report\", \"report\", \"research\", \"research\", \"research\", \"reserve\", \"reserve_university\", \"resource\", \"respect\", \"restriction\", \"return\", \"return\", \"return\", \"return\", \"return\", \"return\", \"return\", \"return\", \"return\", \"review\", \"richard\", \"richard\", \"rid\", \"ride\", \"right\", \"right\", \"right\", \"right\", \"rise\", \"risk\", \"road\", \"road\", \"road\", \"robert\", \"robert\", \"rocket\", \"rocket\", \"room\", \"room\", \"rough\", \"rule\", \"rule\", \"run\", \"run\", \"run\", \"run\", \"run\", \"run\", \"run\", \"russian\", \"s\", \"s\", \"safely\", \"sale\", \"sale\", \"san_francisco\", \"san_jose\", \"san_jose\", \"satan\", \"satellite\", \"say\", \"say\", \"say\", \"say\", \"scale\", \"scale\", \"schedule\", \"science\", \"science\", \"scientific\", \"scientific\", \"scoop\", \"score\", \"screen\", \"screw\", \"scripture\", \"scsi\", \"seal\", \"search\", \"season\", \"seat\", \"second\", \"second\", \"second\", \"second\", \"second\", \"secretary\", \"secure\", \"security\", \"security\", \"security\", \"see\", \"see\", \"see\", \"see\", \"seize\", \"sell\", \"sell\", \"sell\", \"sell\", \"senate\", \"send\", \"send\", \"send\", \"sense\", \"sense\", \"serdar_argic\", \"server\", \"service\", \"service\", \"service\", \"service\", \"service\", \"set\", \"set\", \"set\", \"set\", \"set\", \"set\", \"setup\", \"sex\", \"shape\", \"shell\", \"shell\", \"shift\", \"shift\", \"shipping\", \"shk\", \"should\", \"signal\", \"sin\", \"sinner\", \"site\", \"site\", \"size\", \"size\", \"size\", \"size\", \"size\", \"size\", \"slap\", \"slave\", \"smith\", \"smith\", \"software\", \"software\", \"soldier\", \"somewhere\", \"soon\", \"soon\", \"soon\", \"soul\", \"sound\", \"sound\", \"sound\", \"source\", \"source\", \"source\", \"source\", \"source\", \"soviet\", \"space\", \"spacecraft\", \"spank\", \"spanking\", \"speaker\", \"specifically\", \"stand\", \"standard\", \"standard\", \"standard\", \"start\", \"start\", \"start\", \"start\", \"stat\", \"state\", \"state\", \"state\", \"state\", \"statement\", \"station\", \"statistic\", \"stay\", \"steer\", \"stick\", \"stl\", \"string\", \"student\", \"student\", \"student\", \"study\", \"study\", \"stupid\", \"success\", \"suck\", \"sumgait\", \"summer\", \"sun\", \"sunday\", \"supply\", \"supply\", \"supply\", \"support\", \"support\", \"support\", \"support\", \"support\", \"switch\", \"system\", \"system\", \"system\", \"system\", \"system\", \"system\", \"table\", \"table\", \"take\", \"take\", \"take\", \"talk\", \"talk\", \"talk\", \"talk\", \"tampa_bay\", \"tank\", \"tap\", \"tape\", \"tax\", \"tax\", \"teach\", \"team\", \"technology\", \"technology\", \"technology\", \"tel\", \"tell\", \"tell\", \"tell\", \"tell\", \"tell\", \"term\", \"term\", \"terminal\", \"territory\", \"terrorist\", \"texas\", \"text\", \"text\", \"thank\", \"thank\", \"thank\", \"that\", \"that\", \"theory\", \"thing\", \"thing\", \"thing\", \"thing\", \"think\", \"think\", \"think\", \"think\", \"thinking\", \"thus\", \"thus\", \"thus\", \"ticket\", \"tiger\", \"time\", \"time\", \"time\", \"time\", \"time\", \"timeout\", \"timer\", \"tm\", \"today\", \"today\", \"today\", \"today\", \"today\", \"tomorrow\", \"tonight\", \"tor\", \"toronto_zoology\", \"total\", \"total\", \"total\", \"total\", \"trade\", \"trade\", \"trade\", \"train\", \"treatment\", \"tree\", \"trial\", \"true\", \"true\", \"true\", \"true\", \"truth\", \"truth\", \"try\", \"try\", \"try\", \"try\", \"turk\", \"turkey\", \"turkish\", \"unit\", \"unit\", \"unit\", \"univ\", \"univ\", \"university\", \"university\", \"university\", \"university\", \"university\", \"university\", \"upgrade\", \"urbana\", \"usa\", \"usa\", \"usa\", \"usa\", \"usa\", \"use\", \"use\", \"use\", \"use\", \"use\", \"use\", \"use\", \"useful\", \"usenet\", \"user\", \"user\", \"user\", \"value\", \"value\", \"value\", \"van\", \"vancouver\", \"vay\", \"vay\", \"vay\", \"vay\", \"verse\", \"version\", \"version\", \"vesa\", \"vesa_local\", \"vga\", \"video\", \"view\", \"view\", \"view\", \"vlb\", \"voice\", \"volt\", \"voltage\", \"vote\", \"vote\", \"vram\", \"wait\", \"wait\", \"wait\", \"wait\", \"wall\", \"want\", \"want\", \"want\", \"want\", \"washington\", \"washington\", \"water\", \"wave\", \"way\", \"way\", \"way\", \"weapon\", \"weekend\", \"well\", \"well\", \"well\", \"widget\", \"win\", \"win\", \"win\", \"wind\", \"window\", \"window_manager\", \"wing\", \"wing\", \"winnipeg_jet\", \"wire\", \"wiretap\", \"wiring\", \"woman\", \"woman\", \"wonder\", \"wonder\", \"word\", \"word\", \"word\", \"word\", \"work\", \"work\", \"work\", \"work\", \"work\", \"work\", \"work\", \"world\", \"world\", \"world\", \"world\", \"world\", \"worship\", \"would\", \"would\", \"would\", \"would\", \"write\", \"write\", \"write\", \"write\", \"xfree\", \"xga\", \"xlib\", \"xterm\", \"yalanci\", \"yalanci\", \"yalanci\", \"yalanci\", \"yalanci\", \"yalanci\", \"yalanci\", \"yalanci\", \"yalanci\", \"yalanci\", \"yalanci\", \"yalanci\", \"yalanci\", \"year\", \"year\", \"year\", \"year\", \"year\", \"year\", \"yesterday\", \"yet\", \"yet\", \"young\", \"young\", \"zoroastrian\"], \"Freq\": [0.9988933801651001, 0.8100728392601013, 0.17654000222682953, 0.012290759943425655, 0.9987496137619019, 0.998917281627655, 0.997613251209259, 0.9966035485267639, 0.8561169505119324, 0.14187081158161163, 0.18564718961715698, 0.8117514252662659, 0.9941960573196411, 0.9970265030860901, 0.9923424124717712, 0.9968984723091125, 0.2607056796550751, 0.3729691803455353, 0.05832439661026001, 0.06490233540534973, 0.20347759127616882, 0.01512926071882248, 0.02455764077603817, 0.9903757572174072, 0.30666086077690125, 0.1523839384317398, 0.5394959449768066, 0.9956039190292358, 0.9867261052131653, 0.2691064774990082, 0.7260797023773193, 0.9962093830108643, 0.9944377541542053, 0.9940710663795471, 0.9923257827758789, 0.0701725110411644, 0.891450822353363, 0.03725207597017288, 0.0008663273183628917, 0.9978566765785217, 0.9996636509895325, 0.9956690669059753, 0.998794436454773, 0.25218191742897034, 0.7464584708213806, 0.8934797644615173, 0.1040947288274765, 0.9969781637191772, 0.4366547763347626, 0.12053491175174713, 0.08755838125944138, 0.03638789802789688, 0.02729092352092266, 0.06367882341146469, 0.22628724575042725, 0.9981731176376343, 0.9950095415115356, 0.9993460178375244, 0.03274054080247879, 0.9635074138641357, 0.9982360005378723, 0.07977622002363205, 0.03589930012822151, 0.26725032925605774, 0.6142768859863281, 0.8877555727958679, 0.10268174856901169, 0.009358670562505722, 0.997509777545929, 0.9940748810768127, 0.9962681531906128, 0.9882160425186157, 0.07652390003204346, 0.07652390003204346, 0.845790445804596, 0.9983718991279602, 0.993059515953064, 0.9951415061950684, 0.9972521662712097, 0.9967812895774841, 0.9110532402992249, 0.08824662864208221, 0.013522430323064327, 0.9837568402290344, 0.014973009005188942, 0.9122018218040466, 0.07140973955392838, 0.9999759197235107, 0.9964649677276611, 0.994758665561676, 0.9944395422935486, 0.9923198223114014, 0.6208928227424622, 0.377338171005249, 0.9966828227043152, 0.9967589974403381, 0.9945647716522217, 0.9904798269271851, 0.46017783880233765, 0.5397116541862488, 0.9991310834884644, 0.3584038317203522, 0.37584441900253296, 0.2655327618122101, 0.9988510608673096, 0.9989320635795593, 0.1813514679670334, 0.06755037605762482, 0.42964476346969604, 0.320712149143219, 0.9883529543876648, 0.13127653300762177, 0.10559199750423431, 0.7619746923446655, 0.41488906741142273, 0.5839179754257202, 0.998531699180603, 0.01762545295059681, 0.9631051421165466, 0.01762545295059681, 0.9926550388336182, 0.9921702146530151, 0.38769808411598206, 0.31212982535362244, 0.22736193239688873, 0.07162557542324066, 0.997528612613678, 0.9969965815544128, 0.9956754446029663, 0.9887942671775818, 0.9902788400650024, 0.9677937626838684, 0.02888936549425125, 0.9914277195930481, 0.9959255456924438, 0.9950781464576721, 0.9944921731948853, 0.9886968731880188, 0.9965141415596008, 0.9923397302627563, 0.9951622486114502, 0.9931252002716064, 0.24935932457447052, 0.07423674315214157, 0.16560503840446472, 0.04663590341806412, 0.36928021907806396, 0.09422355890274048, 0.8789936900138855, 0.11871466040611267, 0.5662789344787598, 0.4294812083244324, 0.9970909953117371, 0.9974858164787292, 0.9995324015617371, 0.8919168710708618, 0.10710202902555466, 0.6018164753913879, 0.39622700214385986, 0.9939190149307251, 0.21980105340480804, 0.2540692687034607, 0.2468002438545227, 0.0034614340402185917, 0.24160809814929962, 0.03426819667220116, 0.9904454946517944, 0.0843592956662178, 0.660515308380127, 0.253077894449234, 0.997714638710022, 0.9922384023666382, 0.9914091229438782, 0.9944692254066467, 0.9995470643043518, 0.9694823026657104, 0.029814934358000755, 0.39406633377075195, 0.4156818091869354, 0.18955090641975403, 0.20059740543365479, 0.5840564966201782, 0.032413605600595474, 0.18225008249282837, 0.0006115774740464985, 0.9962260723114014, 0.9918165802955627, 0.991104006767273, 0.20854409039020538, 0.038554370403289795, 0.48280584812164307, 0.012267298996448517, 0.022782128304243088, 0.23483115434646606, 0.9954240322113037, 0.993757426738739, 0.22089651226997375, 0.5258297324180603, 0.25211015343666077, 0.9971761703491211, 0.9964663982391357, 0.9982638359069824, 0.6165253520011902, 0.3823554813861847, 0.9987947344779968, 0.9916298985481262, 0.9963433146476746, 0.9993967413902283, 0.9979116320610046, 0.997479259967804, 0.99677973985672, 0.997398316860199, 0.9923381805419922, 0.9977961182594299, 0.9894875884056091, 0.9936755299568176, 0.9341800212860107, 0.06546461582183838, 0.9964345097541809, 0.04171348363161087, 0.9564305543899536, 0.998248279094696, 0.9966399073600769, 0.9956473112106323, 0.9985054731369019, 0.9981515407562256, 0.9946531653404236, 0.4731079638004303, 0.2546660006046295, 0.2722291648387909, 0.994347095489502, 0.9988805055618286, 0.19490079581737518, 0.0041093542240560055, 0.6991772651672363, 0.016437416896224022, 0.08512233942747116, 0.9932051301002502, 0.1088966354727745, 0.8893225193023682, 0.07486864924430847, 0.9233800172805786, 0.9942127466201782, 0.9966877102851868, 0.5693667531013489, 0.4239080846309662, 0.9948651790618896, 0.9987019300460815, 0.9941283464431763, 0.9965980648994446, 0.9800277352333069, 0.017022814601659775, 0.992091178894043, 0.998070240020752, 0.9925934672355652, 0.02147747203707695, 0.9020538330078125, 0.07517115026712418, 0.9976152181625366, 0.169491246342659, 0.749065101146698, 0.05386374145746231, 0.027290962636470795, 0.997252345085144, 0.9935744404792786, 0.9977365732192993, 0.32754865288734436, 0.0853717252612114, 0.45473513007164, 0.13067100942134857, 0.9974831342697144, 0.13925358653068542, 0.3444134294986725, 0.045709189027547836, 0.08185134083032608, 0.008504034951329231, 0.1998448371887207, 0.1785847395658493, 0.9965155720710754, 0.992276668548584, 0.9965512752532959, 0.4364805519580841, 0.2508508861064911, 0.07525526732206345, 0.23579983413219452, 0.9969086647033691, 0.04921652749180794, 0.9494688510894775, 0.3392415940761566, 0.12078850716352463, 0.5226007103919983, 0.01741095632314682, 0.9963510632514954, 0.9951562881469727, 0.19972822070121765, 0.5318344831466675, 0.2670784294605255, 0.9964579939842224, 0.25070393085479736, 0.26723384857177734, 0.48074543476104736, 0.995952308177948, 0.9973788857460022, 0.9976556301116943, 0.9982126355171204, 0.9949167370796204, 0.9948168396949768, 0.9858441352844238, 0.0025459008757025003, 0.0025459008757025003, 0.0025459008757025003, 0.0025459008757025003, 0.005091801751405001, 0.0025459008757025003, 0.9750800132751465, 0.005091801751405001, 0.2840060293674469, 0.19234955310821533, 0.14329396188259125, 0.09940211474895477, 0.2788423001766205, 0.992113471031189, 0.9931638240814209, 0.9939661026000977, 0.991491436958313, 0.9911609888076782, 0.14215360581874847, 0.3827212452888489, 0.09112410992383957, 0.276106059551239, 0.10661520808935165, 0.09272084385156631, 0.3309782147407532, 0.23121526837348938, 0.04812094569206238, 0.29576775431632996, 0.9974238276481628, 0.05145197734236717, 0.7420140504837036, 0.008504458703100681, 0.06165732815861702, 0.13649655878543854, 0.9960997104644775, 0.9836503267288208, 0.4450531303882599, 0.4277542233467102, 0.12581007182598114, 0.997574508190155, 0.9948447942733765, 0.9930391907691956, 0.9959673285484314, 0.9946529269218445, 0.4147847294807434, 0.2722024917602539, 0.27868348360061646, 0.032405056059360504, 0.7599223852157593, 0.23747575283050537, 0.9067026376724243, 0.09252067655324936, 0.3990496098995209, 0.24921488761901855, 0.3501240015029907, 0.9961747527122498, 0.9932578802108765, 0.9884768724441528, 0.9960310459136963, 0.18565578758716583, 0.294332355260849, 0.518477737903595, 0.9964919090270996, 0.3000592291355133, 0.6981866359710693, 0.9976334571838379, 0.45244595408439636, 0.54662024974823, 0.9977753758430481, 0.988847017288208, 0.9974610805511475, 0.9972496032714844, 0.9585635662078857, 0.0393722802400589, 0.994864284992218, 0.9356645345687866, 0.06302403658628464, 0.9988478422164917, 0.9094088077545166, 0.08896390348672867, 0.9255239367485046, 0.0731114074587822, 0.8623979091644287, 0.023489437997341156, 0.04697887599468231, 0.06599413603544235, 0.9951774477958679, 0.18914857506752014, 0.20143094658851624, 0.6067492961883545, 0.20262764394283295, 0.002870079828426242, 0.7130234837532043, 0.0812232568860054, 0.0001913386513479054, 0.9975427389144897, 0.9963478446006775, 0.996019184589386, 0.9977647662162781, 0.9960367679595947, 0.9964955449104309, 0.9961599111557007, 0.9918784499168396, 0.9935153126716614, 0.32249486446380615, 0.6770449280738831, 0.18831351399421692, 0.8099620938301086, 0.9979701042175293, 0.3016515374183655, 0.29298338294029236, 0.4022020399570465, 0.9968133568763733, 0.9941818118095398, 0.9986591339111328, 0.9910740852355957, 0.9970260858535767, 0.9916797280311584, 0.9919362664222717, 0.9975705146789551, 0.6839925646781921, 0.31349658966064453, 0.34911540150642395, 0.5035989880561829, 0.1466284692287445, 0.9919142723083496, 0.9979329705238342, 0.9986306428909302, 0.9948944449424744, 0.997955858707428, 0.9984441995620728, 0.8460873365402222, 0.14766618609428406, 0.9945360422134399, 0.9355161190032959, 0.06050601974129677, 0.9957072734832764, 0.9837870001792908, 0.14332592487335205, 0.743503212928772, 0.10749443620443344, 0.24116134643554688, 0.46725010871887207, 0.013565326109528542, 0.2788428068161011, 0.9896837472915649, 0.9961134195327759, 0.994748592376709, 0.09977657347917557, 0.2707313299179077, 0.6256690621376038, 0.0009532793774269521, 0.002542078262194991, 0.8929384350776672, 0.08688615262508392, 0.019889602437615395, 0.9966089129447937, 0.9380440711975098, 0.06131527200341225, 0.9969105124473572, 0.33055776357650757, 0.6662404537200928, 0.2581847012042999, 0.7408778071403503, 0.9837422966957092, 0.014646288007497787, 0.7979840636253357, 0.20142218470573425, 0.9972657561302185, 0.9954814314842224, 0.9984225630760193, 0.11827762424945831, 0.8786337375640869, 0.995894730091095, 0.13466337323188782, 0.8468521237373352, 0.016659386456012726, 0.9939443469047546, 0.9912963509559631, 0.9965717792510986, 0.47295355796813965, 0.525503933429718, 0.9480195045471191, 0.05118415132164955, 0.31518781185150146, 0.06635533273220062, 0.6161566376686096, 0.9878183007240295, 0.9975746273994446, 0.9941043257713318, 0.30800434947013855, 0.1314328908920288, 0.5589216351509094, 0.9954107999801636, 0.9935827851295471, 0.2140645682811737, 0.32092395424842834, 0.21890608966350555, 0.03942384570837021, 0.023515978828072548, 0.05049018934369087, 0.08126845210790634, 0.04530284181237221, 0.005533171351999044, 0.9971787333488464, 0.10031385719776154, 0.7280844449996948, 0.16826839745044708, 0.6050021052360535, 0.06542184948921204, 0.22927658259868622, 0.060620248317718506, 0.039013031870126724, 0.9986521601676941, 0.6177448630332947, 0.03130463883280754, 0.34852495789527893, 0.2026098668575287, 0.7932690978050232, 0.9883633255958557, 0.006459890864789486, 0.9978126287460327, 0.9953188896179199, 0.9953418374061584, 0.9885041117668152, 0.9961791038513184, 0.9918164610862732, 0.9938972592353821, 0.993003785610199, 0.995012104511261, 0.9951772689819336, 0.9911647439002991, 0.10769448429346085, 0.16346484422683716, 0.7269377708435059, 0.9991489052772522, 0.9969236254692078, 0.9950887560844421, 0.9939076900482178, 0.989737331867218, 0.9950489401817322, 0.9963415861129761, 0.9703679084777832, 0.027080034837126732, 0.9950711131095886, 0.5468294620513916, 0.38381677865982056, 0.06917458772659302, 0.9910516738891602, 0.9948921799659729, 0.9956285953521729, 0.22956590354442596, 0.4055854082107544, 0.36485597491264343, 0.14457497000694275, 0.8424636721611023, 0.012923864647746086, 0.9979186654090881, 0.9994762539863586, 0.9887630939483643, 0.6043143272399902, 0.0683090016245842, 0.2767249345779419, 0.009915823116898537, 0.04058142378926277, 0.9959477186203003, 0.9943819642066956, 0.9243554472923279, 0.03550807759165764, 0.040089767426252365, 0.9931305646896362, 0.9868555068969727, 0.9864776730537415, 0.9989950656890869, 0.1999090611934662, 0.797439455986023, 0.2008126825094223, 0.1355077475309372, 0.6628451347351074, 0.5285406708717346, 0.13433095812797546, 0.32291096448898315, 0.013433095999062061, 0.9955427646636963, 0.21418970823287964, 0.7833223938941956, 0.9989025592803955, 0.9938527941703796, 0.9890143275260925, 0.9962339997291565, 0.9964807033538818, 0.9941514730453491, 0.9985337257385254, 0.007908309809863567, 0.9909112453460693, 0.9975944757461548, 0.9931321740150452, 0.995143473148346, 0.9982916116714478, 0.5000368356704712, 0.4996952712535858, 0.06709638983011246, 0.9297642111778259, 0.9983469843864441, 0.9982993006706238, 0.8348667025566101, 0.15965579450130463, 0.9887310266494751, 0.9949561953544617, 0.9987332224845886, 0.9948921799659729, 0.5561765432357788, 0.06266133487224579, 0.07729756087064743, 0.24012555181980133, 0.0635761022567749, 0.9899897575378418, 0.997061550617218, 0.9954400062561035, 0.4313650131225586, 0.061520177870988846, 0.07020537555217743, 0.06369147449731827, 0.03256950527429581, 0.03329327329993248, 0.06948161125183105, 0.23811927437782288, 0.9911388754844666, 0.33588579297065735, 0.3802480697631836, 0.282017320394516, 0.9876135587692261, 0.9984505772590637, 0.9960833787918091, 0.9955034255981445, 0.9965634942054749, 0.9977068901062012, 0.994050920009613, 0.9942611455917358, 0.9922778010368347, 0.9846747517585754, 0.014937866479158401, 0.3424280285835266, 0.6558674573898315, 0.3143540322780609, 0.4150092601776123, 0.027873756363987923, 0.2415725439786911, 0.17397499084472656, 0.7599577307701111, 0.06551359593868256, 0.9977923035621643, 0.6219425797462463, 0.3771619498729706, 0.9967993497848511, 0.9976553320884705, 0.9978224635124207, 0.995821475982666, 0.9958569407463074, 0.994782567024231, 0.9959695339202881, 0.23917905986309052, 0.7595155239105225, 0.0009762410772964358, 0.9974088072776794, 0.9928911328315735, 0.9979773759841919, 0.8138717412948608, 0.1818998157978058, 0.0031182824168354273, 0.1786791831254959, 0.78014075756073, 0.004398256540298462, 0.02199128270149231, 0.014844116754829884, 0.09802412241697311, 0.24871791899204254, 0.6525187492370605, 0.06376408785581589, 0.7437591552734375, 0.1605737954378128, 0.031183894723653793, 0.9938822984695435, 0.9634886384010315, 0.03499852120876312, 0.9929583072662354, 0.9950132369995117, 0.9964764714241028, 0.9876453876495361, 0.9910624623298645, 0.9971015453338623, 0.9969077110290527, 0.9987351894378662, 0.9908087849617004, 0.9978751540184021, 0.9988887906074524, 0.7945346832275391, 0.020504120737314224, 0.17172200977802277, 0.011960736475884914, 0.9970762133598328, 0.9957018494606018, 0.9971450567245483, 0.4761510491371155, 0.5216959118843079, 0.998002827167511, 0.9886594414710999, 0.9991344213485718, 0.9971578121185303, 0.998619019985199, 0.6386984586715698, 0.36040839552879333, 0.9972148537635803, 0.9939525723457336, 0.42953965067863464, 0.07776149362325668, 0.4609459936618805, 0.006720128934830427, 0.024686187505722046, 0.9932306408882141, 0.9972802400588989, 0.991527259349823, 0.18801027536392212, 0.808670699596405, 0.9896816611289978, 0.997864305973053, 0.26685085892677307, 0.2153131365776062, 0.11796411126852036, 0.01946980506181717, 0.07673393934965134, 0.011452826671302319, 0.04924715310335159, 0.24279992282390594, 0.9956923723220825, 0.9881589412689209, 0.9945006966590881, 0.9979760050773621, 0.3177299201488495, 0.6815076470375061, 0.9967584013938904, 0.9894280433654785, 0.9976591467857361, 0.9942313432693481, 0.9674694538116455, 0.02951601706445217, 0.9923706650733948, 0.9961749315261841, 0.9835279583930969, 0.16566058993339539, 0.03549869731068611, 0.7916209697723389, 0.007099739275872707, 0.17736704647541046, 0.37951329350471497, 0.06520847231149673, 0.327346533536911, 0.05086260661482811, 0.9986965656280518, 0.9941245913505554, 0.17824101448059082, 0.4112394452095032, 0.41012194752693176, 0.10730268061161041, 0.8912083506584167, 0.8946567177772522, 0.08278479427099228, 0.02033310756087303, 0.997455894947052, 0.9801672697067261, 0.019773058593273163, 0.8826619386672974, 0.037421610206365585, 0.07972430437803268, 0.9923524260520935, 0.9931938052177429, 0.9942657351493835, 0.609419584274292, 0.30762287974357605, 0.08273191750049591, 0.9961538314819336, 0.6135064959526062, 0.38556089997291565, 0.18059603869915009, 0.2944500744342804, 0.524121105670929, 0.44959500432014465, 0.03289719671010971, 0.23028036952018738, 0.2851090431213379, 0.9876583814620972, 0.9961080551147461, 0.9989078044891357, 0.998261570930481, 0.9011199474334717, 0.0959525853395462, 0.993955135345459, 0.9996410012245178, 0.9944004416465759, 0.24984200298786163, 0.3660842776298523, 0.38116246461868286, 0.0029805712401866913, 0.33194902539253235, 0.548892080783844, 0.013068859465420246, 0.0692649558186531, 0.03659280389547348, 0.10653285682201385, 0.610044538974762, 0.227821946144104, 0.0014396331971511245, 0.05398624390363693, 0.9958938956260681, 0.9968113303184509, 0.9953137040138245, 0.9899556040763855, 0.39447295665740967, 0.03782617300748825, 0.5673925876617432, 0.9961050152778625, 0.020311566069722176, 0.9749552011489868, 0.9983202815055847, 0.9985782504081726, 0.9997274875640869, 0.30315354466438293, 0.5848448872566223, 0.0726584792137146, 0.027498440816998482, 0.01184892188757658, 0.07791987806558609, 0.7078085541725159, 0.20720593631267548, 0.003047146135941148, 0.0034824528265744448, 0.9982016086578369, 0.9958987832069397, 0.16889728605747223, 0.1914169192314148, 0.033779457211494446, 0.6035262942314148, 0.9969875812530518, 0.9957323670387268, 0.9987555146217346, 0.19455835223197937, 0.4900287389755249, 0.314845472574234, 0.9948765635490417, 0.9946761131286621, 0.99370938539505, 0.9951580762863159, 0.9921044707298279, 0.30031973123550415, 0.6961957216262817, 0.09557407349348068, 0.6993224620819092, 0.20280352234840393, 0.9965498447418213, 0.19262778759002686, 0.8047560453414917, 0.9941657185554504, 0.9947310090065002, 0.9957046508789062, 0.9975656270980835, 0.9940599799156189, 0.9929206967353821, 0.9958864450454712, 0.9964391589164734, 0.9983221888542175, 0.6107608675956726, 0.38694167137145996, 0.9982696771621704, 0.9968582987785339, 0.908631443977356, 0.08995059877634048, 0.97039794921875, 0.027874985709786415, 0.9903941750526428, 0.9941241145133972, 0.9957574009895325, 0.9957854151725769, 0.9911520481109619, 0.9970927834510803, 0.9926868081092834, 0.9971065521240234, 0.9958887696266174, 0.9972840547561646, 0.9957720637321472, 0.9952517151832581, 0.9967691898345947, 0.9961531758308411, 0.8396195769309998, 0.15884694457054138, 0.9994634389877319, 0.9810536503791809, 0.9974123239517212, 0.5558250546455383, 0.15602727234363556, 0.2879959046840668, 0.1293047070503235, 0.8681886792182922, 0.086041159927845, 0.8099203705787659, 0.06852380186319351, 0.02215431071817875, 0.012880412861704826, 0.9928790926933289, 0.9937779903411865, 0.9968973994255066, 0.6944499015808105, 0.3042972981929779, 0.0010867760283872485, 0.9830276370048523, 0.9970308542251587, 0.5839356184005737, 0.09523019194602966, 0.06338472664356232, 0.13963012397289276, 0.016841351985931396, 0.100741907954216, 0.9959589242935181, 0.8553355932235718, 0.14427347481250763, 0.995272696018219, 0.17645739018917084, 0.04028940200805664, 0.7369390726089478, 0.045899320393800735, 0.4362032413482666, 0.1746087521314621, 0.0038235492538660765, 0.012426534667611122, 0.20105496048927307, 0.037279605865478516, 0.10642211884260178, 0.027720730751752853, 0.990803062915802, 0.3363073468208313, 0.4976571202278137, 0.1632937490940094, 0.4008362889289856, 0.3444938361644745, 0.25434592366218567, 0.9975301027297974, 0.9932061433792114, 0.9980868697166443, 0.9987861514091492, 0.9885438084602356, 0.9998393654823303, 0.9978991150856018, 0.24289953708648682, 0.02400144562125206, 0.7325658798217773, 0.0004296934057492763, 0.9938117861747742, 0.9756826758384705, 0.020613014698028564, 0.9954254627227783, 0.9933915138244629, 0.9973646998405457, 0.9980593323707581, 0.2647014260292053, 0.7347936034202576, 0.9954434037208557, 0.9988089799880981, 0.9959321022033691, 0.996125340461731, 0.9903922080993652, 0.9975468516349792, 0.0023334429133683443, 0.9964388608932495, 0.9920932650566101, 0.9870611429214478, 0.9970192313194275, 0.9982580542564392, 0.3431353271007538, 0.6556726098060608, 0.9954638481140137, 0.9918509721755981, 0.994630753993988, 0.13285018503665924, 0.6755306720733643, 0.12909027934074402, 0.05765196681022644, 0.00438656285405159, 0.9964081645011902, 0.9966467022895813, 0.9974706768989563, 0.9979089498519897, 0.5436342358589172, 0.45608267188072205, 0.9987727999687195, 0.997331440448761, 0.991802990436554, 0.9812319874763489, 0.3503974974155426, 0.5966066718101501, 0.034861478954553604, 0.018024969846010208, 0.17470014095306396, 0.8243663311004639, 0.39084261655807495, 0.07374389469623566, 0.5334141254425049, 0.9976809620857239, 0.9990938901901245, 0.9944064617156982, 0.2011777013540268, 0.6979884505271912, 0.09936215728521347, 0.9954656362533569, 0.35198697447776794, 0.6446502804756165, 0.99723219871521, 0.8992491364479065, 0.09383469820022583, 0.9964134693145752, 0.9931921362876892, 0.49783939123153687, 0.5004874467849731, 0.9945142269134521, 0.9922289252281189, 0.14741505682468414, 0.11869783699512482, 0.7332463264465332, 0.9988023042678833, 0.9965721964836121, 0.9965615272521973, 0.08306229114532471, 0.6516896486282349, 0.2123134285211563, 0.05239911004900932, 0.9989546537399292, 0.9984228610992432, 0.996361255645752, 0.9929872751235962, 0.155674010515213, 0.1525605320930481, 0.691192626953125, 0.9980381727218628, 0.9885844588279724, 0.36089685559272766, 0.3792864978313446, 0.2593706548213959, 0.9961578845977783, 0.9881561398506165, 0.33564454317092896, 0.17609752714633942, 0.08606269955635071, 0.35020899772644043, 0.05097559839487076, 0.9881617426872253, 0.9962092638015747, 0.9811127781867981, 0.001608381629921496, 0.016083816066384315, 0.9995424747467041, 0.04819071665406227, 0.9445380568504333, 0.1966000199317932, 0.0479273684322834, 0.7551005482673645, 0.997352123260498, 0.9961589574813843, 0.9966988563537598, 0.8556017279624939, 0.14213579893112183, 0.9967594742774963, 0.4055519998073578, 0.16202199459075928, 0.07720066606998444, 0.35485801100730896, 0.9932695627212524, 0.26775288581848145, 0.7152472734451294, 0.0037187901325523853, 0.012395966798067093, 0.992978572845459, 0.3206455707550049, 0.6775546073913574, 0.9980635046958923, 0.2029389888048172, 0.7935822606086731, 0.9987350702285767, 0.10016296803951263, 0.8974601626396179, 0.9961147904396057, 0.08133572340011597, 0.7558799982070923, 0.1615869700908661, 0.7426484823226929, 0.25497597455978394, 0.9971637725830078, 0.9976035952568054, 0.9849346876144409, 0.9910016655921936, 0.35890039801597595, 0.6321948170661926, 0.004656392615288496, 0.00394002441316843, 0.9953349232673645, 0.9979861378669739, 0.9972219467163086, 0.9931333065032959, 0.9919906258583069, 0.19710418581962585, 0.8022629022598267, 0.994868814945221, 0.9516061544418335, 0.043406594544649124, 0.393449604511261, 0.5060709714889526, 0.0613858737051487, 0.007733653299510479, 0.01305054035037756, 0.017400721088051796, 0.9973750114440918, 0.06333895027637482, 0.8272450566291809, 0.10812406241893768, 0.989582896232605, 0.5068575739860535, 0.14091061055660248, 0.04942387342453003, 0.2765633761882782, 0.02418615110218525, 0.9943251013755798, 0.08388476818799973, 0.8621490001678467, 0.04660264775156975, 0.9984080195426941, 0.9353801012039185, 0.010312479920685291, 0.005729155149310827, 0.025208283215761185, 0.02291662059724331, 0.3784860670566559, 0.26435795426368713, 0.050076618790626526, 0.30628255009651184, 0.25909292697906494, 0.4689464867115021, 0.2708165943622589, 0.9958011507987976, 0.995486319065094, 0.9933249354362488, 0.9982605576515198, 0.9926708340644836, 0.0909709706902504, 0.2053738534450531, 0.22191403806209564, 0.015161828137934208, 0.12267297506332397, 0.07029575109481812, 0.04824218153953552, 0.022053569555282593, 0.20261716842651367, 0.997859537601471, 0.13250663876533508, 0.8630837798118591, 0.995724081993103, 0.997470498085022, 0.17398564517498016, 0.11610131710767746, 0.4397878050804138, 0.26979419589042664, 0.997204601764679, 0.9944466948509216, 0.5229485630989075, 0.07292820513248444, 0.4019944667816162, 0.9969114661216736, 0.0016131254378706217, 0.8656699061393738, 0.1294805407524109, 0.506921648979187, 0.49140360951423645, 0.9931775331497192, 0.9820443987846375, 0.017113374546170235, 0.3459017276763916, 0.0772283524274826, 0.4194718897342682, 0.09104816615581512, 0.004471115302294493, 0.04227236285805702, 0.01869739033281803, 0.9976264238357544, 0.10923027992248535, 0.8904409408569336, 0.9871227145195007, 0.44420188665390015, 0.5550341606140137, 0.995311439037323, 0.9185880422592163, 0.07845591753721237, 0.9928024411201477, 0.9955539703369141, 0.0007240795530378819, 0.18348176777362823, 0.7507256865501404, 0.06487753242254257, 0.12284567952156067, 0.8746612668037415, 0.9979411959648132, 0.10126275569200516, 0.8976130485534668, 0.11246470361948013, 0.8850483298301697, 0.9905093312263489, 0.9981865286827087, 0.9990648031234741, 0.9953147172927856, 0.9945762753486633, 0.9974802136421204, 0.992599606513977, 0.9959486126899719, 0.9983368515968323, 0.9951205849647522, 0.4321690499782562, 0.33750346302986145, 0.05597618222236633, 0.014817224815487862, 0.1588735729455948, 0.9888843297958374, 0.9952356219291687, 0.11440280079841614, 0.7261075973510742, 0.15642832219600677, 0.19131803512573242, 0.23260483145713806, 0.5640272498130798, 0.012182988226413727, 0.9913818836212158, 0.1687961369752884, 0.07800427824258804, 0.04731407016515732, 0.7033172249794006, 0.9971590042114258, 0.00693342462182045, 0.14976197481155396, 0.8431044220924377, 0.9852542877197266, 0.011928018182516098, 0.9979207515716553, 0.9982472658157349, 0.005445896647870541, 0.14486084878444672, 0.7101449370384216, 0.10238286107778549, 0.0359429195523262, 0.20483776926994324, 0.18672285974025726, 0.4027082622051239, 0.08500070124864578, 0.012541087344288826, 0.10799270123243332, 0.9984065294265747, 0.9960306286811829, 0.9934176802635193, 0.12368804216384888, 0.8711940050125122, 0.12235450744628906, 0.8687170147895813, 0.9935916662216187, 0.9931644797325134, 0.9965749979019165, 0.9971393942832947, 0.9953516125679016, 0.9912897348403931, 0.9674254655838013, 0.03023204579949379, 0.5326908826828003, 0.005041238386183977, 0.04201032221317291, 0.09074229001998901, 0.1461959183216095, 0.18148458003997803, 0.9937232732772827, 0.993905246257782, 0.9680160880088806, 0.030062612146139145, 0.35771098732948303, 0.641165018081665, 0.9956133365631104, 0.9950017929077148, 0.46222659945487976, 0.08179318159818649, 0.45271575450897217, 0.99266517162323, 0.914641797542572, 0.05473446846008301, 0.028807615861296654, 0.7771615982055664, 0.06979364156723022, 0.0009431572980247438, 0.12449675798416138, 0.027351560071110725, 0.9909986853599548, 0.9994428753852844, 0.993617832660675, 0.9984487891197205, 0.9972012639045715, 0.9961868524551392, 0.9974323511123657, 0.9985765814781189, 0.33619576692581177, 0.5104222297668457, 0.15233871340751648, 0.1215287372469902, 0.7888707518577576, 0.07142478227615356, 0.017589686438441277, 0.9973211884498596, 0.2840353548526764, 0.2782387137413025, 0.39003103971481323, 0.047201208770275116, 0.998218834400177, 0.997916042804718, 0.9951187372207642, 0.9969293475151062, 0.9841448664665222, 0.9969775080680847, 0.9946630001068115, 0.9935939311981201, 0.1833156794309616, 0.7880193591117859, 0.02618795447051525, 0.27949100732803345, 0.7197255492210388, 0.995292067527771, 0.9972038865089417, 0.9930867552757263, 0.9968349933624268, 0.9956368207931519, 0.9985286593437195, 0.9964609146118164, 0.2609763741493225, 0.14540112018585205, 0.5890609622001648, 0.30725231766700745, 0.04242142289876938, 0.3405834436416626, 0.21453119814395905, 0.09393315017223358, 0.9984044432640076, 0.014494738541543484, 0.20115146040916443, 0.3804129362106323, 0.12660710513591766, 0.19730591773986816, 0.07986896485090256, 0.03794332593679428, 0.9561718106269836, 0.1504610925912857, 0.12212181836366653, 0.7271799445152283, 0.001572337350808084, 0.13993802666664124, 0.8372696042060852, 0.02044038474559784, 0.9917023777961731, 0.9984062910079956, 0.9958366751670837, 0.9957042336463928, 0.9367055892944336, 0.062447041273117065, 0.996196448802948, 0.9990317225456238, 0.3907817304134369, 0.45083504915237427, 0.15753115713596344, 0.9941052794456482, 0.13884197175502777, 0.052704885601997375, 0.8051261305809021, 0.0007866400992497802, 0.0023599204141646624, 0.9917395114898682, 0.006370917893946171, 0.99566251039505, 0.9926345348358154, 0.9954313039779663, 0.9965665936470032, 0.2358170747756958, 0.7617100477218628, 0.6690511703491211, 0.14384600520133972, 0.18691617250442505, 0.10219345986843109, 0.8966364860534668, 0.9977592825889587, 0.2989692986011505, 0.1962929666042328, 0.4895244538784027, 0.015099458396434784, 0.1825064867734909, 0.10611285269260406, 0.6789698600769043, 0.03219582140445709, 0.9910687208175659, 0.00521485973149538, 0.9508427977561951, 0.04171887785196304, 0.9963746666908264, 0.9916485548019409, 0.2970360815525055, 0.1846943199634552, 0.45159900188446045, 0.01878562569618225, 0.04761505126953125, 0.9930599927902222, 0.994952380657196, 0.9945176839828491, 0.2888481616973877, 0.38554948568344116, 0.10298065096139908, 0.05776963010430336, 0.1645178645849228, 0.9943283796310425, 0.9889700412750244, 0.9954371452331543, 0.9933133125305176, 0.10975221544504166, 0.11563179641962051, 0.7075098156929016, 0.06859513372182846, 0.6788200736045837, 0.08317558467388153, 0.2361113280057907, 0.9936711192131042, 0.9965220093727112, 0.9934019446372986, 0.9976171851158142, 0.05978875234723091, 0.8528901934623718, 0.025212125852704048, 0.06194979324936867, 0.20435716211795807, 0.7940289974212646, 0.4671163260936737, 0.18224981427192688, 0.2596169710159302, 0.09096305817365646, 0.9984865784645081, 0.9975716471672058, 0.9970415234565735, 0.016848500818014145, 0.41068220138549805, 0.5707429647445679, 0.03656645119190216, 0.961175262928009, 0.9221032857894897, 0.045747146010398865, 0.026851585134863853, 0.0023868074640631676, 0.001989006297662854, 0.000994503148831427, 0.9954771399497986, 0.9943345189094543, 0.6046949625015259, 0.018734095618128777, 0.3424176275730133, 0.015611746348440647, 0.01769331283867359, 0.27098363637924194, 0.16898418962955475, 0.2864249348640442, 0.041756708174943924, 0.033927325159311295, 0.15897996723651886, 0.038711950182914734, 0.9977809190750122, 0.9977853298187256, 0.13424883782863617, 0.7044604420661926, 0.1605450063943863, 0.4211699664592743, 0.0011570603819563985, 0.5762160420417786, 0.9982138872146606, 0.9952288269996643, 0.006363235414028168, 0.006363235414028168, 0.006363235414028168, 0.9608485698699951, 0.995358407497406, 0.4940812289714813, 0.5055714845657349, 0.9968137145042419, 0.990370512008667, 0.9966515302658081, 0.9975998401641846, 0.8948073387145996, 0.06898294389247894, 0.036462411284446716, 0.9967667460441589, 0.9971784353256226, 0.9970929622650146, 0.9906299710273743, 0.4219371974468231, 0.5766475200653076, 0.9902713894844055, 0.17875158786773682, 0.20302650332450867, 0.028688527643680573, 0.5848045945167542, 0.9958409667015076, 0.44047075510025024, 0.054338447749614716, 0.48547834157943726, 0.019759435206651688, 0.9538160562515259, 0.041890569031238556, 0.9954562187194824, 0.9948281049728394, 0.2557624876499176, 0.39034077525138855, 0.35366660356521606, 0.9977393746376038, 0.9957985877990723, 0.2118944227695465, 0.26947081089019775, 0.5181873440742493, 0.997110903263092, 0.30953270196914673, 0.0009157772292383015, 0.6886644959449768, 0.9929641485214233, 0.9994761347770691, 0.9937716722488403, 0.17795313894748688, 0.8194121718406677, 0.9847749471664429, 0.9989238977432251, 0.9987440705299377, 0.9984531402587891, 0.5519368648529053, 0.44639408588409424, 0.9684450030326843, 0.029545780271291733, 0.6341965794563293, 0.04918794706463814, 0.03344780206680298, 0.2833225727081299, 0.37911295890808105, 0.12043720483779907, 0.25561612844467163, 0.2161194086074829, 0.00472848117351532, 0.0208609476685524, 0.0027814595960080624, 0.6468731164932251, 0.24242959916591644, 0.012417125515639782, 0.07509404420852661, 0.021877793595194817, 0.9962356090545654, 0.4280907213687897, 0.1983441859483719, 0.37114211916923523, 0.002291524549946189, 0.8310489654541016, 0.13712722063064575, 0.013257011771202087, 0.018539102748036385, 0.9980180859565735, 0.9946393966674805, 0.9937672019004822, 0.9955807328224182, 0.005269673652946949, 0.02634836733341217, 0.005269673652946949, 0.010539347305893898, 0.005269673652946949, 0.005269673652946949, 0.005269673652946949, 0.005269673652946949, 0.010539347305893898, 0.005269673652946949, 0.9011141657829285, 0.005269673652946949, 0.005269673652946949, 0.034380923956632614, 0.42672795057296753, 0.14965814352035522, 0.20975252985954285, 0.14012393355369568, 0.039292484521865845, 0.9931302666664124, 0.9048792123794556, 0.09420979022979736, 0.9152945876121521, 0.0832085981965065, 0.9933350682258606]}, \"topic.order\": [8, 14, 19, 3, 16, 11, 18, 13, 6, 17, 7, 10, 15, 4, 9, 20, 12, 5, 1, 2], \"plot.opts\": {\"ylab\": \"PC2\", \"xlab\": \"PC1\"}, \"mdsDat\": {\"cluster\": [1, 1, 1, 1, 1, 1, 1, 1, 1, 1, 1, 1, 1, 1, 1, 1, 1, 1, 1, 1], \"y\": [-0.0011984885372825981, -0.00324431659569805, -0.12812249599580905, 0.2264468942757237, 0.22248675420102587, -0.11313554601027342, -0.1831793511039433, -0.03656619368763037, -0.021291035455737715, 0.21968084079544978, -0.01664685022715206, 0.13938389294845638, -0.0626777792909886, -0.11744035634303727, 0.003717909165123313, -0.02342733030550299, -0.11045882151317536, 0.001628972712920238, -0.02798311548700781, 0.03202641645454001], \"Freq\": [16.23977279663086, 15.221648216247559, 14.588356018066406, 6.161589622497559, 5.973033905029297, 4.344123840332031, 4.177513122558594, 3.6043453216552734, 3.3653883934020996, 3.271580457687378, 3.2221012115478516, 2.968343496322632, 2.739964008331299, 2.7310945987701416, 2.291428565979004, 2.1271259784698486, 2.077360153198242, 1.694270372390747, 1.6792001724243164, 1.5217578411102295], \"x\": [0.33683327693010784, 0.2910337406118316, 0.3288273632218474, 0.09178179509651371, 0.05963605297915816, -0.08500939683502694, 0.06071406590948632, -0.021420794608207547, -0.022882202799914104, -0.029246771048991836, -0.06305673942220368, -0.0628897878267242, -0.08889714569501163, -0.04774928703201604, -0.11144400238065215, -0.11370334035639938, -0.09243897121172154, -0.13421912064951988, -0.16422894273333355, -0.13163979214922109], \"topics\": [1, 2, 3, 4, 5, 6, 7, 8, 9, 10, 11, 12, 13, 14, 15, 16, 17, 18, 19, 20]}, \"R\": 30, \"tinfo\": {\"loglift\": [30.0, 29.0, 28.0, 27.0, 26.0, 25.0, 24.0, 23.0, 22.0, 21.0, 20.0, 19.0, 18.0, 17.0, 16.0, 15.0, 14.0, 13.0, 12.0, 11.0, 10.0, 9.0, 8.0, 7.0, 6.0, 5.0, 4.0, 3.0, 2.0, 1.0, 1.8174999952316284, 1.8173999786376953, 1.8171000480651855, 1.8169000148773193, 1.8163000345230103, 1.8162000179290771, 1.816100001335144, 1.816100001335144, 1.8157999515533447, 1.8154000043869019, 1.8152999877929688, 1.8152999877929688, 1.8152999877929688, 1.8152999877929688, 1.8151999711990356, 1.8150999546051025, 1.8148000240325928, 1.8148000240325928, 1.8147000074386597, 1.8147000074386597, 1.8147000074386597, 1.8145999908447266, 1.8145999908447266, 1.8143999576568604, 1.8141000270843506, 1.8141000270843506, 1.8141000270843506, 1.8138999938964844, 1.8138999938964844, 1.8138999938964844, 1.797700047492981, 1.802299976348877, 1.7365000247955322, 1.7510000467300415, 1.698699951171875, 1.7855000495910645, 1.632599949836731, 1.7278000116348267, 1.7404999732971191, 1.7069000005722046, 1.669700026512146, 1.3141000270843506, 1.6121000051498413, 1.2141000032424927, 1.4155000448226929, 1.32260000705719, 0.9692999720573425, 1.2797000408172607, 1.0414999723434448, 0.9728000164031982, 1.2301000356674194, 1.1246000528335571, 0.4025999903678894, 1.2311999797821045, 0.9975000023841858, 1.0563000440597534, 0.9879000186920166, 1.3295999765396118, 0.8478000164031982, 0.2214999943971634, 0.6039000153541565, 0.9151999950408936, 0.6240000128746033, 0.43059998750686646, 0.7365000247955322, 1.881600022315979, 1.88100004196167, 1.8808000087738037, 1.8805999755859375, 1.8804999589920044, 1.8803000450134277, 1.8801000118255615, 1.8799999952316284, 1.8799999952316284, 1.8799999952316284, 1.8798999786376953, 1.8798999786376953, 1.879699945449829, 1.8796000480651855, 1.8794000148773193, 1.8792999982833862, 1.8792999982833862, 1.8791999816894531, 1.8791999816894531, 1.87909996509552, 1.878999948501587, 1.878999948501587, 1.878999948501587, 1.8789000511169434, 1.8787000179290771, 1.8787000179290771, 1.878600001335144, 1.878600001335144, 1.878499984741211, 1.878499984741211, 1.8738000392913818, 1.864300012588501, 1.8629000186920166, 1.867400050163269, 1.8142000436782837, 1.8632999658584595, 1.8183000087738037, 1.8401999473571777, 1.8384000062942505, 1.8319000005722046, 1.767899990081787, 1.770799994468689, 1.7826000452041626, 1.7692999839782715, 1.7232999801635742, 1.6719000339508057, 1.6930999755859375, 1.657099962234497, 1.6619999408721924, 1.5369999408721924, 1.6526999473571777, 1.608299970626831, 1.3459999561309814, 1.4544999599456787, 1.5932999849319458, 1.4239000082015991, 1.6891000270843506, 1.3882999420166016, 1.4901000261306763, 1.447100043296814, 1.6718000173568726, 0.8774999976158142, 1.426900029182434, 0.8962000012397766, 0.8335999846458435, 1.3803000450134277, 0.9799000024795532, 0.2646999955177307, 0.9412999749183655, 1.20169997215271, 1.2448999881744385, 0.18719999492168427, -0.10450000315904617, 0.4237000048160553, 0.19339999556541443, 1.9240000247955322, 1.923699975013733, 1.9234999418258667, 1.9234000444412231, 1.923200011253357, 1.9229999780654907, 1.9227999448776245, 1.9220000505447388, 1.9219000339508057, 1.9219000339508057, 1.9219000339508057, 1.9218000173568726, 1.9218000173568726, 1.9214999675750732, 1.9213000535964966, 1.9213000535964966, 1.9213000535964966, 1.9212000370025635, 1.9210000038146973, 1.920699954032898, 1.9206000566482544, 1.9205000400543213, 1.9204000234603882, 1.920300006866455, 1.9199999570846558, 1.9198999404907227, 1.919800043106079, 1.9194999933242798, 1.9193999767303467, 1.9192999601364136, 1.9158999919891357, 1.909000039100647, 1.9144999980926514, 1.809000015258789, 1.753499984741211, 1.892899990081787, 1.8931000232696533, 1.8162000179290771, 1.8335000276565552, 1.613700032234192, 1.8294999599456787, 1.638200044631958, 1.5866999626159668, 1.7079999446868896, 1.8586000204086304, 1.7473000288009644, 1.6878000497817993, 1.6065000295639038, 1.6913000345230103, 1.5377999544143677, 1.6265000104904175, 1.5672999620437622, 1.6194000244140625, 1.8372000455856323, 1.408400058746338, 1.3082000017166138, 1.4560999870300293, 1.3522000312805176, 1.1505000591278076, 0.933899998664856, 1.2757999897003174, 1.1301000118255615, 0.9674999713897705, 1.2021000385284424, 1.267699956893921, 0.9603000283241272, 1.2107000350952148, 1.2310999631881714, 1.073099970817566, 1.1033999919891357, 0.6402999758720398, 2.786400079727173, 2.7857000827789307, 2.7857000827789307, 2.785399913787842, 2.785399913787842, 2.785399913787842, 2.7852001190185547, 2.7852001190185547, 2.7852001190185547, 2.7850000858306885, 2.784899950027466, 2.784899950027466, 2.7846999168395996, 2.784600019454956, 2.78439998626709, 2.7843000888824463, 2.7843000888824463, 2.7841999530792236, 2.7841999530792236, 2.78410005569458, 2.7839999198913574, 2.7839999198913574, 2.783900022506714, 2.783799886703491, 2.783799886703491, 2.7836999893188477, 2.7836999893188477, 2.783600091934204, 2.7834999561309814, 2.7832999229431152, 2.75600004196167, 2.7335000038146973, 2.7486000061035156, 2.756999969482422, 2.7495999336242676, 2.7207000255584717, 2.5764999389648438, 2.3970999717712402, 1.8205000162124634, 1.9182000160217285, 1.7509000301361084, 1.5365999937057495, 1.9427000284194946, 2.114799976348877, 2.100800037384033, 1.2554999589920044, 1.8769999742507935, 0.27570000290870667, 1.7101999521255493, 2.081700086593628, 1.3593000173568726, 2.8173999786376953, 2.8169000148773193, 2.816800117492676, 2.816699981689453, 2.8166000843048096, 2.8164000511169434, 2.8162999153137207, 2.8160998821258545, 2.8159000873565674, 2.8155999183654785, 2.815500020980835, 2.8153998851776123, 2.8152999877929688, 2.815200090408325, 2.815200090408325, 2.815200090408325, 2.8148999214172363, 2.8148999214172363, 2.81469988822937, 2.814500093460083, 2.814199924468994, 2.8141000270843506, 2.813800096511841, 2.813699960708618, 2.8136000633239746, 2.813499927520752, 2.8132998943328857, 2.813199996948242, 2.813199996948242, 2.812999963760376, 2.784899950027466, 2.724900007247925, 2.703900098800659, 2.6928000450134277, 2.647200107574463, 2.569499969482422, 2.5220999717712402, 2.6521999835968018, 2.660900115966797, 2.565700054168701, 2.4827001094818115, 2.5432000160217285, 2.509700059890747, 2.391200065612793, 2.373500108718872, 2.475600004196167, 2.5257999897003174, 2.395699977874756, 2.4672999382019043, 2.1052000522613525, 1.2254999876022339, 1.3974000215530396, 1.468000054359436, 1.6878000497817993, 1.2136000394821167, 3.1363000869750977, 3.1322999000549316, 3.1321001052856445, 3.1317999362945557, 3.1308000087738037, 3.130500078201294, 3.1301000118255615, 3.1298999786376953, 3.129199981689453, 3.129199981689453, 3.1289000511169434, 3.1285998821258545, 3.1280999183654785, 3.127500057220459, 3.126699924468994, 3.1266000270843506, 3.1259000301361084, 3.1252999305725098, 3.1250998973846436, 3.125, 3.1242001056671143, 3.124000072479248, 3.1226999759674072, 3.1215999126434326, 3.1205999851226807, 3.1205999851226807, 3.1205999851226807, 3.1205999851226807, 3.120300054550171, 3.1198999881744385, 3.1749000549316406, 3.174799919128418, 3.174099922180176, 3.1738998889923096, 3.1737000942230225, 3.1735000610351562, 3.1735000610351562, 3.1733999252319336, 3.17330002784729, 3.1730000972747803, 3.1728999614715576, 3.172600030899048, 3.1723999977111816, 3.172100067138672, 3.172100067138672, 3.1717000007629395, 3.171600103378296, 3.1714999675750732, 3.1714000701904297, 3.1714000701904297, 3.171299934387207, 3.171299934387207, 3.171099901199341, 3.170799970626831, 3.1707000732421875, 3.170599937438965, 3.1705000400543213, 3.1703999042510986, 3.1703999042510986, 3.170300006866455, 2.944200038909912, 2.5759999752044678, 2.5715999603271484, 2.5292999744415283, 2.2839999198913574, 2.996799945831299, 2.029099941253662, 1.8492000102996826, 2.213900089263916, 1.9134000539779663, 1.6956000328063965, 2.1998000144958496, 0.4404999911785126, 2.325900077819824, 0.7125999927520752, 2.370300054550171, 3.3203001022338867, 3.3203001022338867, 3.319999933242798, 3.319999933242798, 3.3199000358581543, 3.3199000358581543, 3.3197999000549316, 3.3197999000549316, 3.319700002670288, 3.3192999362945557, 3.3192999362945557, 3.319200038909912, 3.3190999031066895, 3.3189001083374023, 3.3187999725341797, 3.318700075149536, 3.3185999393463135, 3.31850004196167, 3.31820011138916, 3.318000078201294, 3.318000078201294, 3.3178999423980713, 3.317699909210205, 3.317500114440918, 3.3173999786376953, 3.316499948501587, 3.3164000511169434, 3.3164000511169434, 3.3162999153137207, 3.3162999153137207, 3.292799949645996, 3.2760000228881836, 3.274199962615967, 3.2112998962402344, 3.237499952316284, 2.9577999114990234, 2.9934000968933105, 3.0857999324798584, 2.594899892807007, 2.5669000148773193, 3.146199941635132, 2.8194000720977783, 1.4228999614715576, 2.2523000240325928, 2.6112000942230225, 1.9543999433517456, 1.3316999673843384, 2.7704999446868896, 0.2791000008583069, 3.390899896621704, 3.3901000022888184, 3.389899969100952, 3.389899969100952, 3.389400005340576, 3.3893001079559326, 3.38919997215271, 3.3889999389648438, 3.3889999389648438, 3.3889999389648438, 3.388400077819824, 3.3879001140594482, 3.387700080871582, 3.387700080871582, 3.387500047683716, 3.387399911880493, 3.3873000144958496, 3.386899948120117, 3.3866000175476074, 3.3863000869750977, 3.3861000537872314, 3.3861000537872314, 3.3856000900268555, 3.385499954223633, 3.3854000568389893, 3.3847999572753906, 3.3845999240875244, 3.384500026702881, 3.384500026702881, 3.3840999603271484, 3.312700033187866, 3.3592000007629395, 3.287899971008301, 3.3236000537872314, 3.1122000217437744, 3.008500099182129, 3.236299991607666, 2.7746999263763428, 2.450000047683716, 2.0820000171661377, 2.511699914932251, 2.2021000385284424, 2.5137999057769775, 1.6899000406265259, 2.2126998901367188, 2.0720999240875244, 3.419300079345703, 3.419100046157837, 3.418100118637085, 3.4179999828338623, 3.417799949645996, 3.4177000522613525, 3.4173998832702637, 3.4172000885009766, 3.4168999195098877, 3.416599988937378, 3.4165000915527344, 3.4163999557495117, 3.4163999557495117, 3.4163999557495117, 3.4158999919891357, 3.4156999588012695, 3.4156999588012695, 3.4154999256134033, 3.4154000282287598, 3.4154000282287598, 3.41510009765625, 3.4149999618530273, 3.414900064468384, 3.414799928665161, 3.414799928665161, 3.4147000312805176, 3.4144999980926514, 3.414400100708008, 3.414299964904785, 3.4142000675201416, 3.3403000831604004, 3.2643001079559326, 3.0597000122070312, 3.0606000423431396, 3.100100040435791, 3.1466000080108643, 2.6231000423431396, 2.2822000980377197, 1.7970000505447388, 1.5807000398635864, 2.2637999057769775, 3.0404999256134033, 2.13319993019104, 1.5921000242233276, 2.6314001083374023, 1.180299997329712, 1.1253000497817993, 3.4349000453948975, 3.433300018310547, 3.4323999881744385, 3.431999921798706, 3.43179988861084, 3.43179988861084, 3.4316000938415527, 3.43149995803833, 3.430999994277954, 3.430799961090088, 3.4307000637054443, 3.4305999279022217, 3.4300999641418457, 3.4300999641418457, 3.430000066757202, 3.430000066757202, 3.4296998977661133, 3.4296998977661133, 3.4296000003814697, 3.429500102996826, 3.4293999671936035, 3.42930006980896, 3.4291000366210938, 3.428999900817871, 3.428999900817871, 3.4289000034332275, 3.428800106048584, 3.428800106048584, 3.4286999702453613, 3.4286000728607178, 3.428100109100342, 3.4179000854492188, 3.3833999633789062, 3.408799886703491, 3.338599920272827, 3.153899908065796, 3.083899974822998, 3.3299999237060547, 3.289799928665161, 2.8459999561309814, 3.0880000591278076, 3.13919997215271, 3.021399974822998, 3.078000068664551, 2.9976000785827637, 2.6496999263763428, 1.8737000226974487, 3.0299999713897705, 3.0464000701904297, 2.788599967956543, 2.737299919128418, 2.4697000980377197, 3.5165998935699463, 3.514899969100952, 3.514699935913086, 3.51419997215271, 3.5141000747680664, 3.5137999057769775, 3.513700008392334, 3.513700008392334, 3.5136001110076904, 3.513400077819824, 3.5130999088287354, 3.513000011444092, 3.512500047683716, 3.512500047683716, 3.512399911880493, 3.512399911880493, 3.5123000144958496, 3.5123000144958496, 3.5116000175476074, 3.5114998817443848, 3.511399984359741, 3.5113000869750977, 3.5107998847961426, 3.5107998847961426, 3.510499954223633, 3.5102999210357666, 3.509999990463257, 3.5097999572753906, 3.5095999240875244, 3.509500026702881, 3.3736000061035156, 3.1071999073028564, 3.1268999576568604, 3.3808000087738037, 3.2012999057769775, 2.4672000408172607, 2.9565000534057617, 2.52020001411438, 2.0829999446868896, 2.949199914932251, 2.4001998901367188, 2.6084001064300537, 2.2636001110076904, 2.4690001010894775, 0.9908000230789185, 2.099600076675415, 2.566699981689453, 3.5957999229431152, 3.595400094985962, 3.594399929046631, 3.594099998474121, 3.593899965286255, 3.592900037765503, 3.592900037765503, 3.5927999019622803, 3.5927999019622803, 3.5927000045776367, 3.591900110244751, 3.5917000770568848, 3.5917000770568848, 3.5915000438690186, 3.5913000106811523, 3.5913000106811523, 3.591200113296509, 3.591200113296509, 3.5906999111175537, 3.59060001373291, 3.59060001373291, 3.5905001163482666, 3.590399980545044, 3.5901999473571777, 3.590100049972534, 3.590100049972534, 3.5896999835968018, 3.588900089263916, 3.5887999534606934, 3.58870005607605, 3.5585999488830566, 3.573499917984009, 3.479099988937378, 3.4291000366210938, 3.380000114440918, 3.3857998847961426, 3.431999921798706, 3.17549991607666, 3.2276999950408936, 2.5764999389648438, 2.9470999240875244, 2.414799928665161, 2.146899938583374, 2.1115000247955322, 3.300299882888794, 2.95169997215271, 1.7165000438690186, 2.298099994659424, 1.8760000467300415, 3.5998001098632812, 3.5998001098632812, 3.599299907684326, 3.5989999771118164, 3.5987000465393066, 3.5985000133514404, 3.598299980163574, 3.5980000495910645, 3.597899913787842, 3.5978000164031982, 3.5969998836517334, 3.5966999530792236, 3.596100091934204, 3.5959999561309814, 3.5959999561309814, 3.595900058746338, 3.5957999229431152, 3.5957999229431152, 3.595599889755249, 3.5952000617980957, 3.5947999954223633, 3.5947999954223633, 3.5947999954223633, 3.5947999954223633, 3.5947000980377197, 3.5945000648498535, 3.594399929046631, 3.5941998958587646, 3.5941998958587646, 3.5941998958587646, 3.526700019836426, 3.2901999950408936, 3.2272000312805176, 3.4007999897003174, 3.1150999069213867, 3.0996999740600586, 1.6346999406814575, 2.9727001190185547, 1.0921000242233276, 2.9035000801086426, 0.3977000117301941, 1.7590999603271484, 3.774199962615967, 3.773699998855591, 3.7734999656677246, 3.7734999656677246, 3.773400068283081, 3.7732999324798584, 3.7732999324798584, 3.772900104522705, 3.77239990234375, 3.7718000411987305, 3.7718000411987305, 3.771699905395508, 3.7716000080108643, 3.7715001106262207, 3.771399974822998, 3.771399974822998, 3.7713000774383545, 3.7709999084472656, 3.770699977874756, 3.770400047302246, 3.770400047302246, 3.77020001411438, 3.7699999809265137, 3.7699999809265137, 3.76990008354187, 3.7697999477386475, 3.7697999477386475, 3.769700050354004, 3.769700050354004, 3.769700050354004, 3.7362000942230225, 3.668600082397461, 3.6675000190734863, 3.505000114440918, 3.6760001182556152, 3.6535000801086426, 3.1196999549865723, 2.984999895095825, 2.491499900817871, 2.555999994277954, 2.4686999320983887, 3.081700086593628, 3.8485000133514404, 3.8485000133514404, 3.8478000164031982, 3.8471999168395996, 3.8471999168395996, 3.8469998836517334, 3.8469998836517334, 3.8466999530792236, 3.8461999893188477, 3.8461999893188477, 3.846100091934204, 3.8457999229431152, 3.8454999923706055, 3.844899892807007, 3.844899892807007, 3.8441998958587646, 3.8438000679016113, 3.8436999320983887, 3.8427999019622803, 3.842400074005127, 3.842400074005127, 3.841900110244751, 3.8417999744415283, 3.8417999744415283, 3.8417999744415283, 3.8415000438690186, 3.841399908065796, 3.8413000106811523, 3.841099977493286, 3.841099977493286, 3.8073999881744385, 3.735100030899048, 3.7941999435424805, 3.722399950027466, 3.702199935913086, 3.640199899673462, 3.619800090789795, 3.713099956512451, 3.269200086593628, 3.5492000579833984, 3.3157999515533447, 3.312000036239624, 3.3231000900268555, 3.4874000549316406, 2.7939000129699707, 3.873300075531006, 3.871799945831299, 3.871500015258789, 3.871500015258789, 3.871299982070923, 3.8710999488830566, 3.8696000576019287, 3.8696000576019287, 3.869499921798706, 3.869499921798706, 3.8694000244140625, 3.86929988861084, 3.8691999912261963, 3.8691000938415527, 3.86899995803833, 3.8684000968933105, 3.8684000968933105, 3.8675999641418457, 3.867500066757202, 3.867300033569336, 3.8671000003814697, 3.8666000366210938, 3.8666000366210938, 3.866499900817871, 3.8661999702453613, 3.865999937057495, 3.8659000396728516, 3.8659000396728516, 3.8654000759124756, 3.8652000427246094, 3.8322999477386475, 3.647900104522705, 3.76990008354187, 2.9632999897003174, 3.031399965286255, 2.0692999362945557, 0.6367999911308289, 0.781499981880188, 4.076600074768066, 4.075799942016602, 4.075500011444092, 4.075300216674805, 4.075200080871582, 4.074699878692627, 4.0746002197265625, 4.07450008392334, 4.073400020599365, 4.07289981842041, 4.072800159454346, 4.072700023651123, 4.071700096130371, 4.071300029754639, 4.071199893951416, 4.071199893951416, 4.071100234985352, 4.070400238037109, 4.070400238037109, 4.070099830627441, 4.070000171661377, 4.069900035858154, 4.069399833679199, 4.068900108337402, 4.06850004196167, 4.06850004196167, 4.068399906158447, 4.067800045013428, 4.067200183868408, 4.06689977645874, 3.948699951171875, 3.9342000484466553, 3.8025999069213867, 3.3461999893188477, 3.969599962234497, 3.7555999755859375, 3.5936999320983887, 3.8329999446868896, 3.154400110244751, 2.801500082015991, 2.6577999591827393, 2.1584999561309814, 2.634500026702881, 4.0858001708984375, 4.085700035095215, 4.08519983291626, 4.084000110626221, 4.084000110626221, 4.083799839019775, 4.082099914550781, 4.0817999839782715, 4.0808000564575195, 4.08050012588501, 4.0802001953125, 4.079800128936768, 4.079800128936768, 4.079400062561035, 4.0792999267578125, 4.07919979095459, 4.07889986038208, 4.078100204467773, 4.078000068664551, 4.077300071716309, 4.077199935913086, 4.076900005340576, 4.076499938964844, 4.075799942016602, 4.075500011444092, 4.074999809265137, 4.07480001449585, 4.074699878692627, 4.0742998123168945, 4.0742998123168945, 4.061200141906738, 4.072299957275391, 3.1106998920440674, 4.183300018310547, 4.183300018310547, 4.182600021362305, 4.182300090789795, 4.180300235748291, 4.179800033569336, 4.179599761962891, 4.1793999671936035, 4.1793999671936035, 4.179299831390381, 4.178800106048584, 4.177599906921387, 4.1774001121521, 4.177199840545654, 4.1768999099731445, 4.1768999099731445, 4.176499843597412, 4.176000118255615, 4.175600051879883, 4.175099849700928, 4.175099849700928, 4.174900054931641, 4.174600124359131, 4.174499988555908, 4.174200057983398, 4.173900127410889, 4.173600196838379, 4.172800064086914, 4.172100067138672, 4.171999931335449, 3.953200101852417, 3.8673999309539795, 4.046199798583984, 3.6333999633789062, 2.8838000297546387, 2.9077999591827393, 2.5905001163482666, 1.9571000337600708, 3.329900026321411, 2.8052000999450684, 2.4762001037597656, 1.8241000175476074], \"Term\": [\"ax\", \"line\", \"not\", \"organization\", \"max\", \"do\", \"write\", \"article\", \"be\", \"would\", \"say\", \"go\", \"nntp_post\", \"host\", \"get\", \"university\", \"space\", \"window\", \"s\", \"know\", \"year\", \"use\", \"game\", \"mail\", \"right\", \"christian\", \"government\", \"team\", \"system\", \"card\", \"nntp_post\", \"anyone\", \"car\", \"buy\", \"bike\", \"nice\", \"memory\", \"anybody\", \"display\", \"oil\", \"chicago\", \"door\", \"organization\", \"engine\", \"air\", \"robert\", \"stick\", \"engineering\", \"insurance\", \"originator\", \"dod\", \"advice\", \"battery\", \"limit\", \"internal\", \"auto\", \"motor\", \"hole\", \"texas\", \"wall\", \"line\", \"host\", \"university\", \"reply\", \"article\", \"wonder\", \"write\", \"sound\", \"distribution_usa\", \"like\", \"distribution_world\", \"good\", \"inc\", \"get\", \"thank\", \"look\", \"would\", \"need\", \"be\", \"know\", \"much\", \"have\", \"not\", \"help\", \"want\", \"try\", \"new\", \"lot\", \"work\", \"do\", \"time\", \"problem\", \"may\", \"make\", \"could\", \"president\", \"argument\", \"statement\", \"decision\", \"jew\", \"arab\", \"clearly\", \"attempt\", \"russian\", \"genocide\", \"respect\", \"discuss\", \"context\", \"atheist\", \"punishment\", \"theory\", \"msg\", \"authority\", \"german\", \"party\", \"imply\", \"concept\", \"instance\", \"principle\", \"promise\", \"physical\", \"posting\", \"establish\", \"deity\", \"worship\", \"term\", \"rule\", \"present\", \"sense\", \"claim\", \"concern\", \"exist\", \"discussion\", \"clear\", \"thus\", \"answer\", \"view\", \"yet\", \"example\", \"true\", \"must\", \"reason\", \"fact\", \"rather\", \"mean\", \"issue\", \"however\", \"may\", \"point\", \"consider\", \"question\", \"perhaps\", \"many\", \"part\", \"world\", \"accept\", \"make\", \"word\", \"also\", \"people\", \"follow\", \"give\", \"would\", \"way\", \"read\", \"group\", \"say\", \"write\", \"see\", \"time\", \"mr_stephanopoulo\", \"kid\", \"hell\", \"job\", \"drug\", \"stand\", \"matthew\", \"peace\", \"health\", \"doctor\", \"should\", \"imagine\", \"hate\", \"somewhere\", \"stay\", \"firearm\", \"trial\", \"hurt\", \"neighbor\", \"weekend\", \"stupid\", \"davidian\", \"laugh\", \"coverage\", \"last_night\", \"complain\", \"ohio\", \"statistic\", \"economic\", \"newsletter\", \"happen\", \"face\", \"forget\", \"s\", \"go\", \"boy\", \"smith\", \"that\", \"away\", \"not\", \"money\", \"say\", \"do\", \"tell\", \"tax\", \"talk\", \"start\", \"take\", \"let\", \"think\", \"day\", \"come\", \"never\", \"young\", \"people\", \"be\", \"even\", \"see\", \"know\", \"would\", \"could\", \"time\", \"get\", \"want\", \"well\", \"make\", \"thing\", \"have\", \"year\", \"right\", \"good\", \"window\", \"color\", \"graphic\", \"machine\", \"mode\", \"format\", \"video\", \"mac\", \"peter\", \"screen\", \"hd\", \"ram\", \"pc\", \"font\", \"vlb\", \"mouse\", \"scsi\", \"port\", \"setup\", \"xfree\", \"laptop\", \"tape\", \"meg\", \"client\", \"vesa\", \"controller\", \"modem\", \"vga\", \"ide\", \"gif\", \"card\", \"file\", \"board\", \"monitor\", \"instal\", \"disk\", \"driver\", \"drive\", \"system\", \"run\", \"problem\", \"use\", \"bit\", \"standard\", \"email\", \"work\", \"set\", \"do\", \"support\", \"version\", \"help\", \"mail\", \"internet\", \"advance\", \"server\", \"access\", \"sun\", \"package\", \"newsgroup\", \"library\", \"directory\", \"corporation\", \"mit\", \"pin\", \"illinois\", \"material\", \"motif\", \"moon\", \"upgrade\", \"pub\", \"purchase\", \"genoa\", \"ftp\", \"mailing_list\", \"brave\", \"quick\", \"speaker\", \"terminal\", \"editor\", \"urbana\", \"cpu\", \"site\", \"available\", \"ca\", \"list\", \"send\", \"include\", \"information\", \"fax\", \"network\", \"source\", \"program\", \"image\", \"offer\", \"info\", \"software\", \"service\", \"application\", \"page\", \"user\", \"message\", \"also\", \"call\", \"post\", \"group\", \"new\", \"ax\", \"nyi\", \"stl\", \"buffalo\", \"pool\", \"brian_kendig\", \"sunday\", \"finland\", \"espn\", \"lemieux\", \"qax\", \"chain\", \"harry\", \"canuck\", \"tiger\", \"mormon\", \"winnipeg_jet\", \"cirrus_logic\", \"org\", \"dear\", \"anaheim\", \"pure\", \"discharge\", \"lawrence\", \"final_standing\", \"praise\", \"new_brunswick\", \"sinner\", \"married\", \"penn_state\", \"christian\", \"god\", \"religion\", \"bible\", \"belief\", \"faith\", \"king\", \"church\", \"spank\", \"normal\", \"lord\", \"father\", \"moral\", \"verse\", \"christ\", \"gay\", \"christianity\", \"scripture\", \"marriage\", \"sex\", \"pain\", \"homosexual\", \"sin\", \"zoroastrian\", \"passage\", \"animal\", \"mystery\", \"honor\", \"soul\", \"satan\", \"truth\", \"man\", \"die\", \"love\", \"life\", \"heart\", \"law\", \"believe\", \"child\", \"word\", \"book\", \"human\", \"say\", \"death\", \"come\", \"woman\", \"march\", \"mission\", \"boston\", \"satellite\", \"schedule\", \"pray\", \"case_western\", \"reserve_university\", \"morning\", \"brother\", \"la\", \"gov\", \"hat\", \"medicine\", \"spacecraft\", \"estimate\", \"minnesota\", \"cleveland_ohio\", \"astronomy\", \"km\", \"san_francisco\", \"pitch\", \"morris\", \"frank\", \"mar\", \"hospital\", \"energy\", \"membership\", \"comet\", \"ins_cwru\", \"george\", \"washington\", \"rd\", \"april\", \"san_jose\", \"national\", \"study\", \"student\", \"center\", \"research\", \"mr\", \"medium\", \"year\", \"usa\", \"room\", \"news\", \"day\", \"vote\", \"time\", \"gun\", \"protect\", \"police\", \"criminal\", \"law_enforcement\", \"crime\", \"arrest\", \"policy\", \"weapon\", \"clipper_chip\", \"citizen\", \"discipline\", \"permit\", \"court\", \"federal\", \"constitution\", \"illegal\", \"cop\", \"implement\", \"hunt\", \"ban\", \"senate\", \"handgun\", \"regulation\", \"militia\", \"guard\", \"prohibit\", \"gun_control\", \"amendment\", \"restriction\", \"government\", \"legal\", \"congress\", \"ensure\", \"public\", \"law\", \"private\", \"american\", \"state\", \"right\", \"house\", \"national\", \"carry\", \"case\", \"fire\", \"country\", \"key\", \"chip\", \"encryption\", \"wiretap\", \"hang\", \"apple\", \"clipper\", \"algorithm\", \"spanking\", \"nec\", \"printer\", \"encrypt\", \"hard_drive\", \"secure\", \"crypto\", \"finger\", \"tap\", \"shape\", \"automatically\", \"nsa\", \"compatible\", \"clean\", \"friday\", \"default\", \"ticket\", \"key_escrow\", \"timeout\", \"magic\", \"broadcast\", \"tree\", \"communication\", \"agency\", \"phone\", \"device\", \"security\", \"block\", \"technology\", \"bit\", \"system\", \"use\", \"message\", \"electronic\", \"datum\", \"information\", \"contain\", \"new\", \"need\", \"max\", \"obvious\", \"mile\", \"ride\", \"dealer\", \"count\", \"hall\", \"stat\", \"dog\", \"summer\", \"dollar\", \"brake\", \"screw\", \"jack\", \"bolt\", \"risk\", \"jeff\", \"rough\", \"tm\", \"yesterday\", \"misc\", \"shipping\", \"damn\", \"chris\", \"seat\", \"mid\", \"rid\", \"cold\", \"rating\", \"capital\", \"alan\", \"average\", \"cost\", \"master\", \"distribution_na\", \"price\", \"sell\", \"magazine\", \"richard\", \"sale\", \"total\", \"pull\", \"canada\", \"mike\", \"pick\", \"pay\", \"year\", \"extra\", \"trade\", \"road\", \"new_york\", \"hit\", \"space\", \"launch\", \"switch\", \"radio\", \"mon\", \"orbit\", \"van\", \"nasa\", \"flight\", \"min\", \"station\", \"volt\", \"doc\", \"audio\", \"signal\", \"aerospace\", \"mount\", \"panel\", \"amp\", \"ott\", \"expand\", \"slap\", \"cylinder\", \"metal\", \"battery_charger\", \"frequency\", \"channel\", \"monthly\", \"conductor\", \"fuel\", \"rocket\", \"ground\", \"project\", \"scale\", \"fly\", \"power\", \"unit\", \"build\", \"high\", \"mass\", \"level\", \"earth\", \"low\", \"design\", \"system\", \"large\", \"model\", \"israel\", \"israeli\", \"international\", \"soldier\", \"chief\", \"civilian\", \"border\", \"privacy\", \"lebanon\", \"terrorist\", \"massacre\", \"anger\", \"movement\", \"tomorrow\", \"february\", \"plane\", \"million\", \"pm\", \"rat\", \"heavy\", \"soviet\", \"emergency\", \"captain\", \"lunar\", \"ref\", \"edward\", \"train\", \"bomb\", \"secretary\", \"territory\", \"army\", \"nt\", \"committee\", \"attack\", \"military\", \"land\", \"enjoy\", \"hour\", \"population\", \"kill\", \"jewish\", \"report\", \"center\", \"area\", \"equal\", \"fight\", \"standard\", \"department\", \"control\", \"game\", \"team\", \"player\", \"hockey\", \"season\", \"contact\", \"nhl\", \"goal\", \"fan\", \"score\", \"ice\", \"canadian\", \"vancouver\", \"gd\", \"devil\", \"pit\", \"playoff\", \"detroit\", \"nyr\", \"coach\", \"bos\", \"defenseman\", \"hockey_league\", \"tor\", \"excellent\", \"draft\", \"tampa_bay\", \"det\", \"ahl\", \"phi\", \"hawk\", \"play\", \"win\", \"wing\", \"final\", \"division\", \"year\", \"period\", \"first\", \"pittsburgh\", \"good\", \"second\", \"computer_science\", \"homeopathy\", \"review\", \"development\", \"object\", \"gordon_bank\", \"ibm\", \"medical\", \"search\", \"reader\", \"useful\", \"disease\", \"patient\", \"professional\", \"resource\", \"homeopathic\", \"demonstrate\", \"success\", \"gps\", \"treatment\", \"announcement\", \"logical\", \"tel\", \"edition\", \"comparison\", \"painful\", \"thinking\", \"background\", \"fox\", \"installation\", \"univ\", \"science\", \"prove\", \"text\", \"description\", \"scientific\", \"develop\", \"soon\", \"reference\", \"david\", \"research\", \"pittsburgh\", \"rise\", \"paul\", \"edge\", \"water\", \"teach\", \"mother\", \"girl\", \"mhz\", \"wave\", \"reserve\", \"button\", \"probe\", \"widget\", \"cool\", \"miller\", \"frame\", \"seal\", \"lamp\", \"darren\", \"slave\", \"heat\", \"pop\", \"ken\", \"seize\", \"wind\", \"window_manager\", \"france\", \"bottle\", \"ltd\", \"tonight\", \"table\", \"light\", \"pressure\", \"building\", \"relative\", \"ago\", \"foot\", \"shell\", \"fire\", \"eye\", \"wait\", \"blood\", \"supply\", \"middle\", \"food\", \"armenian\", \"league\", \"turk\", \"turkish\", \"baseball\", \"serdar_argic\", \"cal\", \"hug\", \"sumgait\", \"chi\", \"turkey\", \"azerbaijani\", \"apartment\", \"suck\", \"ranger\", \"ham\", \"armenia\", \"xterm\", \"czar\", \"crowd\", \"mutlu\", \"logo\", \"darin\", \"interview\", \"plate\", \"penguin\", \"gold\", \"hill\", \"hitter\", \"bounce\", \"vay\", \"greek\", \"yalanci\", \"road\", \"burn\", \"today\", \"year\", \"first\", \"wire\", \"circuit\", \"connect\", \"wiring\", \"voice\", \"outlet\", \"neutral\", \"conference\", \"usenet\", \"lock\", \"computing\", \"timer\", \"gfci\", \"voltage\", \"mont_pierce\", \"annual\", \"div\", \"construction\", \"helmet\", \"familiar\", \"breaker\", \"gene\", \"postscript\", \"legend\", \"firm\", \"civil\", \"kurt\", \"cell\", \"portion\", \"ought\", \"faq\", \"multi\", \"depend\", \"cover\", \"pipe\", \"analysis\", \"art\", \"guide\", \"cable\", \"current\", \"house\", \"email\", \"copy\", \"_\", \"blue\", \"tank\", \"eg\", \"gas\", \"hi\", \"henry_spencer\", \"cigarette\", \"xlib\", \"fd\", \"mf\", \"xga\", \"toronto_zoology\", \"henry\", \"dress\", \"bay\", \"bitmap\", \"ontario\", \"fp\", \"shk\", \"gr\", \"gq\", \"mg\", \"cc\", \"eeg\", \"interactive\", \"lens\", \"ep\", \"nc\", \"lately\", \"cubs_suck\", \"csa\", \"band\", \"bus\", \"specifically\", \"associate\", \"motorcycle\", \"confuse\", \"entry\", \"detect\", \"brand\", \"ease\", \"string\", \"bag\", \"vesa_local\", \"guru\", \"countersteer\", \"bradley\", \"lane\", \"forum\", \"int\", \"scoop\", \"vram\", \"enjoyment\", \"nick\", \"libxmu\", \"callback\", \"ati\", \"safely\", \"detector\", \"drawing\", \"ms_window\", \"steer\", \"properly\", \"function\", \"shift\", \"value\", \"code\", \"error\", \"return\", \"set\", \"compile\", \"character\", \"size\", \"build\"], \"Total\": [57084.0, 12491.0, 16290.0, 11142.0, 3844.0, 10452.0, 9655.0, 7586.0, 8046.0, 11782.0, 6905.0, 5803.0, 4407.0, 4083.0, 6852.0, 5027.0, 1863.0, 2294.0, 3735.0, 7291.0, 3461.0, 4598.0, 1540.0, 1948.0, 3005.0, 1685.0, 1746.0, 1464.0, 3380.0, 2012.0, 4407.7080078125, 2750.92529296875, 1503.6810302734375, 1199.5609130859375, 708.7568969726562, 633.769287109375, 607.75634765625, 590.26513671875, 515.5940551757812, 415.494873046875, 405.4326477050781, 401.4067077636719, 11142.333984375, 393.80499267578125, 381.13330078125, 619.9146118164062, 336.0155944824219, 331.5157775878906, 317.11737060546875, 317.12933349609375, 316.25897216796875, 308.73687744140625, 306.9949645996094, 294.7498779296875, 269.7819519042969, 266.7329406738281, 264.7189636230469, 254.1427764892578, 253.87164306640625, 252.04827880859375, 12491.7451171875, 4083.581787109375, 5027.63623046875, 2618.18701171875, 7586.5478515625, 609.2240600585938, 9655.267578125, 694.2608642578125, 601.8212890625, 688.5322265625, 894.0188598632812, 5445.84130859375, 962.0680541992188, 6852.2275390625, 2391.4462890625, 3432.7744140625, 11782.548828125, 3265.77099609375, 8046.88916015625, 7291.52685546875, 2826.428955078125, 2927.784423828125, 16290.685546875, 2186.356201171875, 3643.828857421875, 3089.166259765625, 3138.4453125, 1592.485107421875, 3595.234619140625, 10452.6708984375, 5376.451171875, 3018.108642578125, 4472.98095703125, 5703.6044921875, 3675.846435546875, 1074.4915771484375, 684.2500610351562, 568.01171875, 520.2619018554688, 484.38287353515625, 440.3305969238281, 409.71771240234375, 400.6523132324219, 398.9469299316406, 389.4246826171875, 378.6586608886719, 381.04803466796875, 355.895751953125, 340.26983642578125, 316.8988037109375, 304.6827087402344, 302.78350830078125, 298.45001220703125, 295.4562683105469, 291.0453796386719, 280.5674743652344, 276.942138671875, 276.37823486328125, 268.7115173339844, 256.4967041015625, 256.1615295410156, 251.9680938720703, 247.96372985839844, 246.9960479736328, 245.92576599121094, 470.8897705078125, 759.6397705078125, 621.7429809570312, 419.1811218261719, 1527.5428466796875, 411.2128601074219, 1255.8045654296875, 660.3630981445312, 671.2457885742188, 575.2791137695312, 1154.298095703125, 1014.7435913085938, 859.7832641601562, 955.2730102539062, 1388.220947265625, 1940.9315185546875, 1563.019287109375, 1817.078857421875, 1227.777099609375, 2297.2314453125, 1170.4964599609375, 1373.7606201171875, 4472.98095703125, 2576.379638671875, 1392.40234375, 2791.86083984375, 915.85498046875, 2778.485595703125, 1595.782470703125, 1691.212646484375, 894.9812622070312, 5703.6044921875, 1524.7637939453125, 4560.69873046875, 5048.55224609375, 1666.1099853515625, 3510.974365234375, 11782.548828125, 3135.7216796875, 2068.8798828125, 1935.51806640625, 6905.318359375, 9655.267578125, 4432.41015625, 5376.451171875, 986.5293579101562, 760.0496215820312, 680.8624877929688, 622.2427368164062, 563.1431274414062, 492.7013244628906, 457.6506652832031, 326.8722839355469, 316.538330078125, 313.1436462402344, 313.072265625, 312.810546875, 312.533935546875, 279.396484375, 265.81622314453125, 265.2171325683594, 263.628173828125, 261.6134033203125, 242.98190307617188, 227.95774841308594, 225.0595703125, 217.5604705810547, 211.16123962402344, 209.8494110107422, 194.83929443359375, 193.9961395263672, 189.86514282226562, 176.86331176757812, 174.01243591308594, 172.16969299316406, 1264.49267578125, 819.3202514648438, 309.6027526855469, 3735.22802734375, 5803.2177734375, 346.14813232421875, 332.63909912109375, 1125.316650390625, 868.2289428710938, 16290.685546875, 767.0877075195312, 6905.318359375, 10452.6708984375, 2542.458740234375, 480.4070739746094, 1271.99169921875, 1876.0994873046875, 3422.811767578125, 1690.202880859375, 5249.12841796875, 2351.70751953125, 3406.861328125, 1960.8133544921875, 528.79150390625, 5048.55224609375, 8046.88916015625, 3147.03125, 4432.41015625, 7291.52685546875, 11782.548828125, 3675.846435546875, 5376.451171875, 6852.2275390625, 3643.828857421875, 2987.336669921875, 5703.6044921875, 3311.376953125, 2927.784423828125, 3461.2216796875, 3005.9951171875, 5445.84130859375, 2294.201904296875, 862.966064453125, 824.8289184570312, 683.1876831054688, 672.127685546875, 658.4402465820312, 596.4315185546875, 594.6494750976562, 577.5233154296875, 529.4951782226562, 498.8245544433594, 497.3817443847656, 458.562744140625, 427.5762939453125, 394.2747802734375, 383.2381591796875, 378.95489501953125, 369.725341796875, 360.5745544433594, 356.70697021484375, 340.7276916503906, 335.44097900390625, 329.99407958984375, 321.3989562988281, 314.00048828125, 311.0839538574219, 310.5373229980469, 299.0011901855469, 287.1898498535156, 272.3913269042969, 2012.414306640625, 1797.431396484375, 794.3057861328125, 573.9913330078125, 485.7348327636719, 618.8115234375, 934.6116333007812, 2058.947509765625, 3380.537109375, 2460.236328125, 3018.108642578125, 4598.0634765625, 1643.218017578125, 1142.191650390625, 1145.7529296875, 3595.234619140625, 1435.2822265625, 10452.6708984375, 1650.109619140625, 1044.3626708984375, 2186.356201171875, 1948.6995849609375, 924.1688842773438, 874.9473266601562, 762.336181640625, 719.900146484375, 635.9356689453125, 594.0347900390625, 539.3320922851562, 469.61212158203125, 406.90521240234375, 397.22796630859375, 385.37225341796875, 359.99639892578125, 356.4366149902344, 350.5888977050781, 349.4366149902344, 315.3378601074219, 313.41754150390625, 302.17401123046875, 283.6798095703125, 256.268798828125, 251.21153259277344, 231.29515075683594, 227.2516632080078, 222.0358123779297, 218.83444213867188, 208.9061279296875, 205.61146545410156, 205.16233825683594, 196.5150909423828, 463.08477783203125, 1609.1265869140625, 1111.090087890625, 1229.2362060546875, 1442.2886962890625, 1818.9024658203125, 2148.544921875, 720.3146362304688, 679.2655639648438, 1060.2685546875, 1613.427978515625, 1024.337158203125, 910.4597778320312, 1367.010498046875, 1252.40771484375, 918.1224365234375, 793.0783081054688, 915.0908203125, 722.538818359375, 1238.702880859375, 4560.69873046875, 2888.97607421875, 2610.1640625, 1935.51806640625, 3138.4453125, 57084.375, 239.09375, 228.21800231933594, 210.44677734375, 173.63180541992188, 165.57717895507812, 154.5469512939453, 149.8836669921875, 135.39678955078125, 134.5145263671875, 129.16224670410156, 125.57462310791016, 117.80908966064453, 109.85263061523438, 99.83375549316406, 98.87483978271484, 92.40689849853516, 87.67172241210938, 85.8245849609375, 85.39620208740234, 80.062744140625, 78.17777252197266, 70.78951263427734, 65.69451904296875, 61.75224685668945, 61.73078536987305, 61.566219329833984, 61.53599548339844, 60.60877990722656, 59.1093635559082, 1685.0164794921875, 1577.826416015625, 714.1369018554688, 641.7373046875, 543.4722290039062, 507.3873291015625, 490.3657531738281, 483.21807861328125, 451.70068359375, 393.827392578125, 377.4517517089844, 344.4139099121094, 322.3586120605469, 292.35699462890625, 291.0643310546875, 257.26348876953125, 252.52737426757812, 245.3306121826172, 238.11587524414062, 237.94448852539062, 232.05262756347656, 231.37648010253906, 221.0274200439453, 210.40231323242188, 204.68637084960938, 199.10748291015625, 195.21463012695312, 192.10244750976562, 191.40391540527344, 188.35569763183594, 641.0345458984375, 1530.35546875, 976.9122314453125, 1018.8484497070312, 1789.7115478515625, 300.64678955078125, 1737.3245849609375, 2293.502197265625, 1093.2235107421875, 1524.7637939453125, 1521.802734375, 800.717041015625, 6905.318359375, 635.879150390625, 3406.861328125, 577.9646606445312, 357.1387939453125, 350.4415588378906, 321.3898620605469, 315.40228271484375, 311.6416015625, 311.1795959472656, 304.1478271484375, 297.34210205078125, 290.8455505371094, 259.25421142578125, 256.6981506347656, 255.43504333496094, 249.21029663085938, 232.9553985595703, 229.4644775390625, 221.16140747070312, 218.29669189453125, 215.724853515625, 199.18016052246094, 193.1681671142578, 192.90444946289062, 188.28179931640625, 183.34080505371094, 174.062255859375, 170.70091247558594, 148.1439971923828, 146.74923706054688, 146.62574768066406, 144.9851531982422, 143.88021850585938, 443.1308898925781, 310.3323669433594, 299.49365234375, 576.3980712890625, 305.9042663574219, 920.1527709960938, 690.541015625, 420.0404357910156, 1141.2454833984375, 852.9757690429688, 264.40545654296875, 444.056884765625, 3461.2216796875, 960.8150024414062, 579.9713134765625, 1242.4024658203125, 2351.70751953125, 426.603759765625, 5376.451171875, 1315.443603515625, 634.802978515625, 567.5933227539062, 549.9830322265625, 427.3854064941406, 414.97283935546875, 400.70684814453125, 368.581298828125, 366.8292541503906, 366.67779541015625, 301.6648254394531, 261.6643371582031, 246.57180786132812, 244.86732482910156, 233.80152893066406, 228.62818908691406, 221.1538543701172, 204.7059783935547, 193.3746795654297, 179.5747528076172, 174.33895874023438, 173.49288940429688, 158.92950439453125, 157.8960418701172, 155.9096221923828, 141.63128662109375, 136.961669921875, 135.8350067138672, 135.30218505859375, 127.93767547607422, 1746.08154296875, 304.919189453125, 279.36248779296875, 214.8546600341797, 922.1040649414062, 1737.3245849609375, 358.8117980957031, 1056.541748046875, 2415.1923828125, 3005.9951171875, 645.7687377929688, 920.1527709960938, 601.4215698242188, 1635.1158447265625, 753.2361450195312, 861.1702270507812, 1506.3038330078125, 1182.4251708984375, 547.7500610351562, 496.62371826171875, 448.6578674316406, 431.5202331542969, 389.5822448730469, 354.0982360839844, 320.8981018066406, 290.8636169433594, 280.0757751464844, 273.5654602050781, 271.6534729003906, 271.29254150390625, 240.24522399902344, 229.5567626953125, 226.94483947753906, 219.4444580078125, 215.6942596435547, 215.33251953125, 201.66798400878906, 196.7013397216797, 191.95745849609375, 189.97938537597656, 187.68040466308594, 185.5272979736328, 177.22998046875, 174.0521240234375, 171.3123016357422, 170.1224822998047, 320.5614013671875, 408.8226623535156, 815.19970703125, 683.1984252929688, 428.3111877441406, 350.40533447265625, 1148.97900390625, 1643.218017578125, 3380.537109375, 4598.0634765625, 1238.702880859375, 350.8810119628906, 1097.4044189453125, 2148.544921875, 573.9605102539062, 3138.4453125, 3265.77099609375, 3844.047607421875, 534.036376953125, 353.2186584472656, 309.7835998535156, 290.131591796875, 289.05474853515625, 272.0244445800781, 267.7171630859375, 232.5197296142578, 222.97286987304688, 216.85946655273438, 214.87550354003906, 192.90380859375, 192.56301879882812, 189.3910675048828, 189.0498504638672, 179.77268981933594, 177.20899963378906, 174.9591827392578, 172.18284606933594, 169.1977996826172, 167.07064819335938, 159.9652099609375, 158.3251953125, 157.7698211669922, 155.2255859375, 153.6570281982422, 151.8584442138672, 149.76849365234375, 149.282470703125, 159.21923828125, 295.8048095703125, 975.2821044921875, 196.93212890625, 303.4938659667969, 1022.38037109375, 782.0084228515625, 239.70172119140625, 279.2312927246094, 1145.8753662109375, 510.2402648925781, 403.9596252441406, 557.1407470703125, 428.98663330078125, 505.7005310058594, 982.278076171875, 3461.2216796875, 390.2494812011719, 372.7055358886719, 562.19677734375, 514.410400390625, 631.1669311523438, 1863.0379638671875, 430.8720703125, 392.62646484375, 323.65179443359375, 313.9864501953125, 286.10858154296875, 280.5010070800781, 275.8558654785156, 271.7667236328125, 255.62228393554688, 239.4990997314453, 234.68223571777344, 209.51483154296875, 208.44671630859375, 203.58236694335938, 201.6850128173828, 200.95419311523438, 200.07424926757812, 172.75946044921875, 171.3548583984375, 169.52374267578125, 164.02957153320312, 153.20828247070312, 152.78277587890625, 145.79241943359375, 140.9863739013672, 135.84803771972656, 131.7742919921875, 129.02040100097656, 127.1231689453125, 270.3108825683594, 612.5111083984375, 523.9429931640625, 203.50735473632812, 309.03009033203125, 1510.526611328125, 474.8197021484375, 1050.692626953125, 1381.6605224609375, 370.1141052246094, 766.7715454101562, 576.8245239257812, 911.9318237304688, 654.0540161132812, 3380.537109375, 873.1469116210938, 527.2112426757812, 670.424560546875, 517.5751342773438, 345.0670471191406, 310.3614501953125, 294.5113220214844, 224.41932678222656, 261.6466369628906, 219.725341796875, 219.26486206054688, 212.97300720214844, 180.70384216308594, 174.66207885742188, 173.66807556152344, 167.9525604248047, 164.43115234375, 162.8936004638672, 160.69021606445312, 159.54859924316406, 149.19496154785156, 146.74012756347656, 146.31704711914062, 143.15753173828125, 141.7841796875, 138.5391845703125, 136.42111206054688, 136.13265991210938, 127.80888366699219, 115.90753173828125, 114.27018737792969, 113.83847045898438, 213.8022003173828, 145.53912353515625, 385.6868591308594, 496.576904296875, 467.2223205566406, 441.4652404785156, 250.56515502929688, 551.9407958984375, 321.1839904785156, 1095.9788818359375, 483.0400085449219, 858.6842041015625, 1141.2454833984375, 879.4132690429688, 223.26736450195312, 323.4989929199219, 1142.191650390625, 617.1876220703125, 940.7298583984375, 1540.3109130859375, 1464.41796875, 838.003662109375, 686.06298828125, 568.9462280273438, 500.13201904296875, 455.87213134765625, 388.8092346191406, 376.59405517578125, 365.6631164550781, 281.1748962402344, 260.5955505371094, 225.07386779785156, 219.3362579345703, 218.5171356201172, 213.7666778564453, 211.7257537841797, 207.82484436035156, 202.33714294433594, 186.99986267089844, 174.524169921875, 174.21266174316406, 173.68023681640625, 171.78382873535156, 169.57504272460938, 164.6322021484375, 161.33872985839844, 156.59902954101562, 155.9048614501953, 155.8718719482422, 312.9825744628906, 1044.66943359375, 1091.9686279296875, 241.6366424560547, 421.9706115722656, 407.08740234375, 3461.2216796875, 406.8133544921875, 2891.65087890625, 377.6318359375, 5445.84130859375, 1214.8023681640625, 529.6875610351562, 424.9745178222656, 388.832275390625, 382.3412780761719, 373.9855651855469, 361.4647521972656, 356.7768859863281, 309.55670166015625, 268.08612060546875, 232.610595703125, 228.507080078125, 225.15634155273438, 218.55279541015625, 217.463623046875, 212.41790771484375, 209.720703125, 207.107421875, 193.54116821289062, 181.24505615234375, 174.60728454589844, 173.02586364746094, 168.14442443847656, 160.94874572753906, 160.4320068359375, 158.91970825195312, 157.2816925048828, 156.39682006835938, 153.80615234375, 153.71603393554688, 153.0779266357422, 382.8646240234375, 799.8992309570312, 499.1864929199219, 479.1849670410156, 216.1678924560547, 204.50860595703125, 441.6775817871094, 525.7161865234375, 950.9574584960938, 852.0198364257812, 852.9757690429688, 377.6318359375, 515.4408569335938, 510.06658935546875, 375.5035095214844, 306.3921813964844, 299.1377868652344, 283.82122802734375, 281.2293701171875, 260.2601623535156, 232.20091247558594, 228.9613800048828, 225.56712341308594, 211.68597412109375, 198.57369995117188, 177.36988830566406, 176.9322509765625, 156.5983428955078, 146.0810546875, 145.23049926757812, 127.12364959716797, 121.74198913574219, 121.36769104003906, 114.80509948730469, 113.28471374511719, 112.97361755371094, 112.7936019897461, 109.68314361572266, 107.88286590576172, 107.2012710571289, 104.28707122802734, 104.14875793457031, 263.55096435546875, 670.9990844726562, 207.50885009765625, 395.90728759765625, 214.580078125, 274.7146301269531, 291.2000427246094, 185.95169067382812, 753.2361450195312, 267.25054931640625, 453.142822265625, 325.38818359375, 268.2235107421875, 219.76577758789062, 479.1622314453125, 1341.8775634765625, 433.01361083984375, 381.5774841308594, 378.11865234375, 356.1815185546875, 331.6896667480469, 218.32765197753906, 216.47792053222656, 211.66993713378906, 210.5946807861328, 208.50633239746094, 202.71661376953125, 199.8656005859375, 195.3505096435547, 191.31369018554688, 172.60745239257812, 171.85765075683594, 149.66139221191406, 149.0187225341797, 143.73062133789062, 138.98973083496094, 130.749755859375, 130.10702514648438, 128.17811584472656, 123.96332550048828, 120.99176788330078, 119.34102630615234, 119.05496215820312, 112.39213562011719, 110.07000732421875, 157.1527557373047, 455.20697021484375, 189.76507568359375, 562.19677734375, 314.3327331542969, 796.26611328125, 3461.2216796875, 2891.65087890625, 720.775634765625, 465.2103271484375, 405.9681396484375, 364.5639343261719, 361.0186462402344, 300.89691162109375, 292.3821716308594, 281.5433044433594, 214.47499084472656, 191.4642333984375, 191.12220764160156, 184.9334716796875, 155.39048767089844, 146.3715057373047, 145.3966522216797, 145.11363220214844, 141.6832733154297, 129.83425903320312, 129.66229248046875, 124.5628433227539, 122.38331604003906, 121.24429321289062, 114.35440063476562, 107.82261657714844, 103.66524505615234, 103.08365631103516, 101.68836212158203, 95.85270690917969, 91.03926086425781, 88.14043426513672, 473.46234130859375, 162.40708923339844, 252.65737915039062, 725.9559326171875, 127.88446807861328, 196.9480743408203, 250.70127868652344, 163.4065399169922, 535.0468139648438, 774.6314086914062, 645.7687377929688, 1145.7529296875, 597.9647827148438, 917.0147705078125, 792.1631469726562, 569.9082641601562, 325.79150390625, 324.99981689453125, 300.36968994140625, 193.56878662109375, 181.58474731445312, 151.94705200195312, 145.8834228515625, 138.73863220214844, 131.70602416992188, 130.8751220703125, 124.24371337890625, 122.79629516601562, 121.15340423583984, 116.35519409179688, 105.42887115478516, 104.19784545898438, 97.66761016845703, 96.30223083496094, 93.22540283203125, 89.56340789794922, 83.68482971191406, 81.6584701538086, 78.70341491699219, 77.27284240722656, 76.23601531982422, 74.2603759765625, 73.874755859375, 392.78826904296875, 79.12001037597656, 291.51568603515625, 480.3974914550781, 465.1944580078125, 356.88873291015625, 316.33746337890625, 189.40281677246094, 172.7415313720703, 168.13357543945312, 161.7963409423828, 161.5146942138672, 160.02513122558594, 145.81077575683594, 124.1959457397461, 120.32181549072266, 118.5743408203125, 113.97704315185547, 113.1677017211914, 108.5079345703125, 102.263427734375, 98.93899536132812, 93.91365051269531, 93.51094055175781, 92.05459594726562, 89.5260009765625, 88.84890747070312, 86.01358032226562, 84.08275604248047, 81.94425201416016, 76.6222915649414, 72.37117004394531, 72.14385223388672, 330.14849853515625, 519.989501953125, 163.45944213867188, 864.2591552734375, 910.9971313476562, 663.4562377929688, 725.5061645507812, 1435.2822265625, 240.61819458007812, 416.484619140625, 595.0918579101562, 1050.692626953125], \"logprob\": [30.0, 29.0, 28.0, 27.0, 26.0, 25.0, 24.0, 23.0, 22.0, 21.0, 20.0, 19.0, 18.0, 17.0, 16.0, 15.0, 14.0, 13.0, 12.0, 11.0, 10.0, 9.0, 8.0, 7.0, 6.0, 5.0, 4.0, 3.0, 2.0, 1.0, -4.08489990234375, -4.556399822235107, -5.160699844360352, -5.386899948120117, -5.913599967956543, -6.025599956512451, -6.067599773406982, -6.096799850463867, -6.2322998046875, -6.448599815368652, -6.473199844360352, -6.4832000732421875, -3.1596999168395996, -6.502399921417236, -6.535099983215332, -6.048799991607666, -6.661499977111816, -6.675000190734863, -6.7195000648498535, -6.7195000648498535, -6.722300052642822, -6.746399879455566, -6.752099990844727, -6.792900085449219, -6.881700038909912, -6.893099784851074, -6.900700092315674, -6.941699981689453, -6.942699909210205, -6.949999809265137, -3.062999963760376, -4.176400184631348, -4.034200191497803, -4.672299861907959, -3.660599946975708, -6.095799922943115, -3.485599994659424, -6.022799968719482, -6.15310001373291, -6.052000045776367, -5.828000068664551, -4.376699924468994, -5.812300205230713, -4.247000217437744, -5.098299980163574, -4.829699993133545, -3.9498000144958496, -4.922500133514404, -4.258900165557861, -4.426199913024902, -5.116600036621094, -5.186800003051758, -4.192500114440918, -5.372300148010254, -5.095200061798096, -5.201499938964844, -5.2540998458862305, -5.590799808502197, -5.258299827575684, -4.817399978637695, -5.099800109863281, -5.365900039672852, -5.263599872589111, -5.214000225067139, -5.347400188446045, -5.432300090789795, -5.884099960327148, -6.0706000328063965, -6.1585001945495605, -6.230100154876709, -6.325699806213379, -6.397900104522705, -6.420300006866455, -6.424600124359131, -6.448800086975098, -6.476900100708008, -6.470600128173828, -6.539100170135498, -6.584099769592285, -6.6554999351501465, -6.694900035858154, -6.701200008392334, -6.715700149536133, -6.725800037384033, -6.740900039672852, -6.777599811553955, -6.7906999588012695, -6.792699813842773, -6.821000099182129, -6.867700099945068, -6.86899995803833, -6.885499954223633, -6.901599884033203, -6.905600070953369, -6.909900188446045, -6.265100002288818, -5.796299934387207, -5.9980998039245605, -6.387700080871582, -5.147900104522705, -6.410999774932861, -5.339600086212158, -5.9604997634887695, -5.945899963378906, -6.1066999435424805, -5.474400043487549, -5.600299835205078, -5.7540998458862305, -5.662199974060059, -5.334400177001953, -5.050600051879883, -5.245999813079834, -5.131400108337402, -5.518499851226807, -5.017000198364258, -5.575500011444092, -5.45989990234375, -4.541600227355957, -4.984799861907959, -5.461400032043457, -4.935100078582764, -5.784599781036377, -4.975500106811523, -5.428299903869629, -5.413099765777588, -5.824900150299072, -4.767099857330322, -5.536900043487549, -4.972099781036377, -4.933000087738037, -5.494900226593018, -5.149899959564209, -4.654399871826172, -5.301499843597412, -5.456999778747559, -5.480500221252441, -5.266300201416016, -5.222700119018555, -5.473100185394287, -5.510300159454346, -5.475299835205078, -5.736400127410889, -5.84660005569458, -5.936699867248535, -6.0366997718811035, -6.170599937438965, -6.244500160217285, -6.581900119781494, -6.614099979400635, -6.625, -6.625199794769287, -6.625999927520752, -6.6269001960754395, -6.7393999099731445, -6.789400100708008, -6.791600227355957, -6.797699928283691, -6.8053998947143555, -6.879499912261963, -6.943600177764893, -6.956500053405762, -6.990499973297119, -7.020500183105469, -7.026800155639648, -7.10129976272583, -7.1057000160217285, -7.127299785614014, -7.198599815368652, -7.215000152587891, -7.2256999015808105, -5.235199928283691, -5.676000118255615, -6.643700122833252, -4.258900165557861, -3.873800039291382, -6.553699970245361, -6.593299865722656, -5.451399803161621, -5.69350004196167, -2.9814000129699707, -5.821300029754639, -3.815200090408325, -3.4521000385284424, -4.74459981918335, -6.260200023651123, -5.397799968719482, -5.068699836730957, -4.548799991607666, -5.169600009918213, -4.189899921417236, -4.904099941253662, -4.592700004577637, -5.0929999351501465, -6.185699939727783, -4.3582000732421875, -3.9921998977661133, -4.783199787139893, -4.544600009918213, -4.248499870300293, -3.9851999282836914, -4.80810022354126, -4.573599815368652, -4.49370002746582, -4.890500068664551, -5.023600101470947, -4.6844000816345215, -4.977700233459473, -5.080399990081787, -5.071000099182129, -5.181700229644775, -5.05049991607666, -3.768899917602539, -4.747399806976318, -4.792600154876709, -4.981299877166748, -4.997600078582764, -5.018199920654297, -5.117300033569336, -5.120299816131592, -5.149499893188477, -5.236499786376953, -5.296299934387207, -5.299200057983398, -5.3805999755859375, -5.450699806213379, -5.5320000648498535, -5.560500144958496, -5.571800231933594, -5.596499919891357, -5.621600151062012, -5.632400035858154, -5.678400039672852, -5.6940999031066895, -5.7104997634887695, -5.7368998527526855, -5.760300159454346, -5.769700050354004, -5.771399974822998, -5.8094000816345215, -5.849800109863281, -5.902900218963623, -3.9303998947143555, -4.065800189971924, -4.867400169372559, -5.183800220489502, -5.3582000732421875, -5.144999980926514, -4.8769001960754395, -4.266499996185303, -4.3471999168396, -4.567299842834473, -4.530099868774414, -4.323500156402588, -4.946400165557861, -5.138000011444092, -5.148900032043457, -4.850599765777588, -5.14739990234375, -4.763199806213379, -5.174699783325195, -5.2606000900268555, -5.244200229644775, -3.901099920272827, -4.64769983291626, -4.702499866485596, -4.840400218963623, -4.897799968719482, -5.021999835968018, -5.090199947357178, -5.186999797821045, -5.325699806213379, -5.469299793243408, -5.493500232696533, -5.523799896240234, -5.592100143432617, -5.602099895477295, -5.61870002746582, -5.622000217437744, -5.724899768829346, -5.731100082397461, -5.7677001953125, -5.831099987030029, -5.93310022354126, -5.953100204467773, -6.035999774932861, -6.053699970245361, -6.077000141143799, -6.091599941253662, -6.138299942016602, -6.154200077056885, -6.156400203704834, -6.199699878692627, -5.370699882507324, -4.185200214385986, -4.576399803161621, -4.486599922180176, -4.372300148010254, -4.2179999351501465, -4.098800182342529, -5.061500072479248, -5.111599922180176, -4.761499881744385, -4.424600124359131, -4.81850004196167, -4.969799995422363, -4.6819000244140625, -4.787199974060059, -4.99560022354126, -5.091700077056885, -5.078700065612793, -5.2434000968933105, -5.066500186920166, -4.6427001953125, -4.9274001121521, -4.9583001136779785, -5.037600040435791, -5.02839994430542, -0.20489999651908875, -5.684299945831299, -5.730999946594238, -5.8125, -6.00570011138916, -6.053500175476074, -6.122900009155273, -6.15369987487793, -6.256100177764893, -6.262599945068359, -6.303500175476074, -6.331900119781494, -6.396299839019775, -6.466800212860107, -6.563300132751465, -6.5731000900268555, -6.64139986038208, -6.6946001052856445, -6.716100215911865, -6.721199989318848, -6.786399841308594, -6.810500144958496, -6.911099910736084, -6.9868998527526855, -7.049699783325195, -7.050099849700928, -7.052800178527832, -7.053299903869629, -7.068699836730957, -7.094200134277344, -3.6891000270843506, -3.7548000812530518, -4.548299789428711, -4.655300140380859, -4.821800231933594, -4.890699863433838, -4.924799919128418, -4.939599990844727, -5.0071001052856445, -5.144599914550781, -5.187099933624268, -5.2789998054504395, -5.345399856567383, -5.443399906158447, -5.447800159454346, -5.571700096130371, -5.5903000831604, -5.6194000244140625, -5.6493000984191895, -5.650100231170654, -5.67519998550415, -5.678199768066406, -5.724100112915039, -5.773600101470947, -5.801300048828125, -5.829100131988525, -5.848899841308594, -5.864999771118164, -5.86870002746582, -5.884799957275391, -4.886199951171875, -4.384200096130371, -4.837500095367432, -4.837699890136719, -4.519700050354004, -5.590700149536133, -4.804299831390381, -4.706399917602539, -5.082600116729736, -5.0503997802734375, -5.270199775695801, -5.408199787139893, -5.012899875640869, -5.512499809265137, -5.447299957275391, -5.563600063323975, -5.09499979019165, -5.113999843597412, -5.200799942016602, -5.219699859619141, -5.2316999435424805, -5.2332000732421875, -5.256100177764893, -5.278800010681152, -5.301000118255615, -5.416399955749512, -5.426300048828125, -5.431300163269043, -5.455999851226807, -5.523799896240234, -5.538899898529053, -5.575900077819824, -5.589000225067139, -5.600900173187256, -5.681099891662598, -5.711900234222412, -5.7133002281188965, -5.737599849700928, -5.764400005340576, -5.8165998458862305, -5.83620023727417, -5.978799819946289, -5.98829984664917, -5.989200115203857, -6.000500202178955, -6.008200168609619, -4.906899929046631, -5.279799938201904, -5.317200183868408, -4.725399971008301, -5.332699775695801, -4.511199951171875, -4.762599945068359, -5.167300224304199, -4.658699989318848, -4.977799892425537, -5.569799900054932, -5.3780999183654785, -4.721199989318848, -5.173299789428711, -5.319300174713135, -5.214200019836426, -5.19890022277832, -5.467100143432617, -5.424600124359131, -3.720599889755249, -4.449999809265137, -4.562099933624268, -4.593699932098389, -4.846399784088135, -4.875899791717529, -4.910999774932861, -4.994800090789795, -4.999599933624268, -5.0, -5.195700168609619, -5.338500022888184, -5.398099899291992, -5.405099868774414, -5.451499938964844, -5.473999977111816, -5.507299900054932, -5.585000038146973, -5.642199993133545, -5.716599941253662, -5.746399879455566, -5.751299858093262, -5.839399814605713, -5.8460001945495605, -5.858799934387207, -5.955399990081787, -5.989200115203857, -5.997499942779541, -6.001500129699707, -6.057799816131592, -3.5155999660491943, -5.214200019836426, -5.3730998039245605, -5.599899768829346, -4.354599952697754, -3.824899911880493, -5.174300193786621, -4.556000232696533, -4.053899765014648, -4.203100204467773, -5.311299800872803, -5.2667999267578125, -5.38040018081665, -5.204100131988525, -5.456399917602539, -5.463099956512451, -3.55679988861084, -3.799099922180176, -4.569499969482422, -4.667699813842773, -4.769400119781494, -4.808499813079834, -4.910999774932861, -5.006700038909912, -5.105400085449219, -5.203999996185303, -5.2418999671936035, -5.265500068664551, -5.272600173950195, -5.273900032043457, -5.395899772644043, -5.4415998458862305, -5.453100204467773, -5.4868998527526855, -5.504199981689453, -5.505799770355225, -5.571700096130371, -5.596799850463867, -5.621300220489502, -5.631700038909912, -5.644000053405762, -5.655600070953369, -5.701499938964844, -5.719699859619141, -5.7357001304626465, -5.742700099945068, -5.18310022354126, -5.015900135040283, -4.530300140380859, -4.706099987030029, -5.133500099182129, -5.287700176239014, -4.623700141906738, -4.606900215148926, -4.370699882507324, -4.279399871826172, -4.907800197601318, -5.392499923706055, -5.1595001220703125, -5.028900146484375, -5.309500217437744, -5.061699867248535, -5.076900005340576, -2.604300022125244, -4.579699993133545, -4.99399995803833, -5.1255998611450195, -5.191299915313721, -5.195099830627441, -5.25600004196167, -5.271999835968018, -5.41349983215332, -5.455599784851074, -5.48360013961792, -5.492800235748291, -5.601200103759766, -5.60290002822876, -5.61959981918335, -5.621399879455566, -5.671999931335449, -5.686500072479248, -5.6992998123168945, -5.715400218963623, -5.732999801635742, -5.745699882507324, -5.789400100708008, -5.799799919128418, -5.803299903869629, -5.819699764251709, -5.829899787902832, -5.841800212860107, -5.8557000160217285, -5.859000205993652, -5.795000076293945, -5.185800075531006, -4.027400016784668, -5.601799964904785, -5.239500045776367, -4.20959997177124, -4.547699928283691, -5.484099864959717, -5.371699810028076, -4.403600215911865, -4.970600128173828, -5.152900218963623, -4.94920015335083, -5.1539998054504395, -5.070000171661377, -4.753900051116943, -4.270299911499023, -5.296599864959717, -5.326300144195557, -5.173099994659424, -5.313199996948242, -5.376200199127197, -3.2469000816345215, -4.712699890136719, -4.8059000968933105, -4.999599933624268, -5.03000020980835, -5.123300075531006, -5.143199920654297, -5.159900188446045, -5.174900054931641, -5.236400127410889, -5.301799774169922, -5.322199821472168, -5.436100006103516, -5.441299915313721, -5.465000152587891, -5.474400043487549, -5.478000164031982, -5.482500076293945, -5.630000114440918, -5.638199806213379, -5.64900016784668, -5.682199954986572, -5.750800132751465, -5.753600120544434, -5.80079984664917, -5.834499835968018, -5.8719000816345215, -5.902599811553955, -5.923900127410889, -5.938799858093262, -5.320300102233887, -4.768700122833252, -4.905200004577637, -5.59689998626709, -5.358699798583984, -4.506100177764893, -5.174099922180176, -4.815999984741211, -4.979400157928467, -5.4303998947143555, -5.251100063323975, -5.327499866485596, -5.214300155639648, -5.341300010681152, -5.176799774169922, -5.421800136566162, -5.459099769592285, -4.189799785614014, -4.448999881744385, -4.855299949645996, -4.961599826812744, -5.014200210571289, -5.2870001792907715, -5.133600234985352, -5.308300018310547, -5.310400009155273, -5.339600086212158, -5.504700183868408, -5.538899898529053, -5.5447001457214355, -5.5782999992370605, -5.599599838256836, -5.609099864959717, -5.622799873352051, -5.630000114440918, -5.697500228881836, -5.714200019836426, -5.717100143432617, -5.739099979400635, -5.748799800872803, -5.77209997177124, -5.787600040435791, -5.789700031280518, -5.853300094604492, -5.9517998695373535, -5.96619987487793, -5.96999979019165, -5.369800090789795, -5.739500045776367, -4.859399795532227, -4.656700134277344, -4.76669979095459, -4.817599773406982, -5.337699890136719, -4.804500102996826, -5.293799877166748, -4.71750020980835, -5.166200160980225, -5.123300075531006, -5.1066999435424805, -5.402699947357178, -5.584799766540527, -5.562600135803223, -5.536300182342529, -5.570199966430664, -5.570799827575684, -3.3538999557495117, -3.4045000076293945, -3.963099956512451, -4.16349983215332, -4.350900173187256, -4.480100154876709, -4.57289981842041, -4.732399940490723, -4.764400005340576, -4.794000148773193, -5.057499885559082, -5.133800029754639, -5.280900001525879, -5.3069000244140625, -5.3105998039245605, -5.332699775695801, -5.342299938201904, -5.361000061035156, -5.387899875640869, -5.467100143432617, -5.536600112915039, -5.538400173187256, -5.541399955749512, -5.552499771118164, -5.565499782562256, -5.595200061798096, -5.615600109100342, -5.645599842071533, -5.650000095367432, -5.650300025939941, -5.020699977874756, -4.051799774169922, -4.070499897003174, -5.405200004577637, -5.133399963378906, -5.184700012207031, -4.509399890899658, -5.312399864196777, -5.231800079345703, -5.455999851226807, -5.293099880218506, -5.432000160217285, -4.247000217437744, -4.467700004577637, -4.55679988861084, -4.573699951171875, -4.595799922943115, -4.630000114440918, -4.643099784851074, -4.7855000495910645, -4.929800033569336, -5.072299957275391, -5.090099811553955, -5.105000019073486, -5.134900093078613, -5.139900207519531, -5.16349983215332, -5.176300048828125, -5.188899993896484, -5.256999969482422, -5.322999954223633, -5.360499858856201, -5.36959981918335, -5.398399829864502, -5.442399978637695, -5.4456000328063965, -5.4552001953125, -5.46560001373291, -5.47130012512207, -5.488100051879883, -5.488699913024902, -5.4928998947143555, -4.609600067138672, -3.9403998851776123, -4.413000106811523, -4.616300106048584, -5.241399765014648, -5.319300174713135, -5.083199977874756, -5.043799877166748, -4.944499969482422, -4.9899001121521, -5.076000213623047, -5.277900218963623, -4.199900150299072, -4.210400104522705, -4.517399787902832, -4.721399784088135, -4.7453999519348145, -4.798099994659424, -4.807300090789795, -4.8850998878479, -4.999599933624268, -5.013800144195557, -5.02869987487793, -5.09250020980835, -5.156799793243408, -5.270299911499023, -5.272799968719482, -5.395599842071533, -5.46560001373291, -5.471399784088135, -5.605500221252441, -5.649099826812744, -5.652200222015381, -5.7083001136779785, -5.721700191497803, -5.7245001792907715, -5.726099967956543, -5.754300117492676, -5.770999908447266, -5.777400016784668, -5.805200099945068, -5.806600093841553, -4.911799907684326, -4.049600124359131, -5.164100170135498, -4.589900016784668, -5.222599983215332, -5.037499904632568, -4.99970006942749, -5.354899883270264, -4.399899959564209, -5.156099796295166, -4.861499786376953, -5.196499824523926, -5.378600120544434, -5.41349983215332, -5.327499866485596, -3.2183001041412354, -4.350900173187256, -4.47760009765625, -4.486800193786621, -4.5467000007629395, -4.618100166320801, -5.037799835205078, -5.04640007019043, -5.068999767303467, -5.074100017547607, -5.084099769592285, -5.112400054931641, -5.1265997886657715, -5.149600028991699, -5.170599937438965, -5.27400016784668, -5.27839994430542, -5.417500019073486, -5.421899795532227, -5.458199977874756, -5.492000102996826, -5.553599834442139, -5.558499813079834, -5.573599815368652, -5.6072998046875, -5.631700038909912, -5.645599842071533, -5.6479997634887695, -5.706099987030029, -5.727099895477295, -5.403900146484375, -4.524799823760986, -5.2778000831604, -4.998300075531006, -5.511600017547607, -5.5441999435424805, -5.507199764251709, -5.542399883270264, -3.6366000175476074, -4.075099945068359, -4.211699962615967, -4.319499969482422, -4.3292999267578125, -4.51200008392334, -4.540800094604492, -4.578700065612793, -4.851900100708008, -4.96589994430542, -4.967700004577637, -5.000800132751465, -5.175899982452393, -5.236000061035156, -5.242800235748291, -5.244699954986572, -5.268799781799316, -5.356800079345703, -5.358099937438965, -5.398499965667725, -5.416299819946289, -5.4257001876831055, -5.4847002029418945, -5.544099807739258, -5.583799839019775, -5.589399814605713, -5.6031999588012695, -5.662899971008301, -5.714900016784668, -5.747600078582764, -4.184700012207031, -5.269199848175049, -4.958799839019775, -4.359799861907959, -5.472799777984619, -5.254899978637695, -5.17549991607666, -5.364299774169922, -4.8566999435424805, -4.839600086212158, -5.165200233459473, -5.091100215911865, -5.265399932861328, -3.3864998817443848, -3.5329999923706055, -3.862799882888794, -4.4232001304626465, -4.425600051879883, -4.504700183868408, -4.945799827575684, -5.010000228881836, -5.189199924468994, -5.230199813842773, -5.280700206756592, -5.333099842071533, -5.3394999504089355, -5.3917999267578125, -5.403600215911865, -5.417200088500977, -5.457900047302246, -5.557400226593018, -5.569200038909912, -5.6346001625061035, -5.648799896240234, -5.681600093841553, -5.7220001220703125, -5.7906999588012695, -5.815400123596191, -5.852700233459473, -5.871300220489502, -5.885000228881836, -5.911600112915039, -5.916800022125244, -4.258999824523926, -5.850200176239014, -5.507599830627441, -3.935499906539917, -3.9677999019622803, -4.233399868011475, -4.354400157928467, -4.86929988861084, -4.961900234222412, -4.989099979400635, -5.027699947357178, -5.0295000076293945, -5.03879976272583, -5.132400035858154, -5.294000148773193, -5.325900077819824, -5.340700149536133, -5.3805999755859375, -5.387700080871582, -5.430200099945068, -5.489999771118164, -5.5233001708984375, -5.576000213623047, -5.5802998542785645, -5.596199989318848, -5.624300003051758, -5.631999969482422, -5.66480016708374, -5.687699794769287, -5.713799953460693, -5.781799793243408, -5.839600086212158, -5.842800140380859, -4.540800094604492, -4.1722002029418945, -5.150700092315674, -3.898200035095215, -4.595099925994873, -4.888199806213379, -5.116099834442139, -5.067299842834473, -5.480400085449219, -5.456399917602539, -5.428500175476074, -5.512199878692627], \"Category\": [\"Default\", \"Default\", \"Default\", \"Default\", \"Default\", \"Default\", \"Default\", \"Default\", \"Default\", \"Default\", \"Default\", \"Default\", \"Default\", \"Default\", \"Default\", \"Default\", \"Default\", \"Default\", \"Default\", \"Default\", \"Default\", \"Default\", \"Default\", \"Default\", \"Default\", \"Default\", \"Default\", \"Default\", \"Default\", \"Default\", \"Topic1\", \"Topic1\", \"Topic1\", \"Topic1\", \"Topic1\", \"Topic1\", \"Topic1\", \"Topic1\", \"Topic1\", \"Topic1\", \"Topic1\", \"Topic1\", \"Topic1\", \"Topic1\", \"Topic1\", \"Topic1\", \"Topic1\", \"Topic1\", \"Topic1\", \"Topic1\", \"Topic1\", \"Topic1\", \"Topic1\", \"Topic1\", \"Topic1\", \"Topic1\", \"Topic1\", \"Topic1\", \"Topic1\", \"Topic1\", \"Topic1\", \"Topic1\", \"Topic1\", \"Topic1\", \"Topic1\", \"Topic1\", \"Topic1\", \"Topic1\", \"Topic1\", \"Topic1\", \"Topic1\", \"Topic1\", \"Topic1\", \"Topic1\", \"Topic1\", \"Topic1\", \"Topic1\", \"Topic1\", \"Topic1\", \"Topic1\", \"Topic1\", \"Topic1\", \"Topic1\", \"Topic1\", \"Topic1\", \"Topic1\", \"Topic1\", \"Topic1\", \"Topic1\", \"Topic1\", \"Topic1\", \"Topic1\", \"Topic1\", \"Topic1\", \"Topic1\", \"Topic2\", \"Topic2\", \"Topic2\", \"Topic2\", \"Topic2\", \"Topic2\", \"Topic2\", \"Topic2\", \"Topic2\", \"Topic2\", \"Topic2\", \"Topic2\", \"Topic2\", \"Topic2\", \"Topic2\", \"Topic2\", \"Topic2\", \"Topic2\", \"Topic2\", \"Topic2\", \"Topic2\", \"Topic2\", \"Topic2\", \"Topic2\", \"Topic2\", \"Topic2\", \"Topic2\", \"Topic2\", \"Topic2\", \"Topic2\", \"Topic2\", \"Topic2\", \"Topic2\", \"Topic2\", \"Topic2\", \"Topic2\", \"Topic2\", \"Topic2\", \"Topic2\", \"Topic2\", \"Topic2\", \"Topic2\", \"Topic2\", \"Topic2\", \"Topic2\", \"Topic2\", \"Topic2\", \"Topic2\", \"Topic2\", \"Topic2\", \"Topic2\", \"Topic2\", \"Topic2\", \"Topic2\", \"Topic2\", \"Topic2\", \"Topic2\", \"Topic2\", \"Topic2\", \"Topic2\", \"Topic2\", \"Topic2\", \"Topic2\", \"Topic2\", \"Topic2\", \"Topic2\", \"Topic2\", \"Topic2\", \"Topic2\", \"Topic2\", \"Topic2\", \"Topic2\", \"Topic2\", \"Topic2\", \"Topic2\", \"Topic3\", \"Topic3\", \"Topic3\", \"Topic3\", \"Topic3\", \"Topic3\", \"Topic3\", \"Topic3\", \"Topic3\", \"Topic3\", \"Topic3\", \"Topic3\", \"Topic3\", \"Topic3\", \"Topic3\", \"Topic3\", \"Topic3\", \"Topic3\", \"Topic3\", \"Topic3\", \"Topic3\", \"Topic3\", \"Topic3\", \"Topic3\", \"Topic3\", \"Topic3\", \"Topic3\", \"Topic3\", \"Topic3\", \"Topic3\", \"Topic3\", \"Topic3\", \"Topic3\", \"Topic3\", \"Topic3\", \"Topic3\", \"Topic3\", \"Topic3\", \"Topic3\", \"Topic3\", \"Topic3\", \"Topic3\", \"Topic3\", \"Topic3\", \"Topic3\", \"Topic3\", \"Topic3\", \"Topic3\", \"Topic3\", \"Topic3\", \"Topic3\", \"Topic3\", \"Topic3\", \"Topic3\", \"Topic3\", \"Topic3\", \"Topic3\", \"Topic3\", \"Topic3\", \"Topic3\", \"Topic3\", \"Topic3\", \"Topic3\", \"Topic3\", \"Topic3\", \"Topic3\", \"Topic3\", \"Topic3\", \"Topic3\", \"Topic3\", \"Topic3\", \"Topic4\", \"Topic4\", \"Topic4\", \"Topic4\", \"Topic4\", \"Topic4\", \"Topic4\", \"Topic4\", \"Topic4\", \"Topic4\", \"Topic4\", \"Topic4\", \"Topic4\", \"Topic4\", \"Topic4\", \"Topic4\", \"Topic4\", \"Topic4\", \"Topic4\", \"Topic4\", \"Topic4\", \"Topic4\", \"Topic4\", \"Topic4\", \"Topic4\", \"Topic4\", \"Topic4\", \"Topic4\", \"Topic4\", \"Topic4\", \"Topic4\", \"Topic4\", \"Topic4\", \"Topic4\", \"Topic4\", \"Topic4\", \"Topic4\", \"Topic4\", \"Topic4\", \"Topic4\", \"Topic4\", \"Topic4\", \"Topic4\", \"Topic4\", \"Topic4\", \"Topic4\", \"Topic4\", \"Topic4\", \"Topic4\", \"Topic4\", \"Topic4\", \"Topic5\", \"Topic5\", \"Topic5\", \"Topic5\", \"Topic5\", \"Topic5\", \"Topic5\", \"Topic5\", \"Topic5\", \"Topic5\", \"Topic5\", \"Topic5\", \"Topic5\", \"Topic5\", \"Topic5\", \"Topic5\", \"Topic5\", \"Topic5\", \"Topic5\", \"Topic5\", \"Topic5\", \"Topic5\", \"Topic5\", \"Topic5\", \"Topic5\", \"Topic5\", \"Topic5\", \"Topic5\", \"Topic5\", \"Topic5\", \"Topic5\", \"Topic5\", \"Topic5\", \"Topic5\", \"Topic5\", \"Topic5\", \"Topic5\", \"Topic5\", \"Topic5\", \"Topic5\", \"Topic5\", \"Topic5\", \"Topic5\", \"Topic5\", \"Topic5\", \"Topic5\", \"Topic5\", \"Topic5\", \"Topic5\", \"Topic5\", \"Topic5\", \"Topic5\", \"Topic5\", \"Topic5\", \"Topic5\", \"Topic6\", \"Topic6\", \"Topic6\", \"Topic6\", \"Topic6\", \"Topic6\", \"Topic6\", \"Topic6\", \"Topic6\", \"Topic6\", \"Topic6\", \"Topic6\", \"Topic6\", \"Topic6\", \"Topic6\", \"Topic6\", \"Topic6\", \"Topic6\", \"Topic6\", \"Topic6\", \"Topic6\", \"Topic6\", \"Topic6\", \"Topic6\", \"Topic6\", \"Topic6\", \"Topic6\", \"Topic6\", \"Topic6\", \"Topic6\", \"Topic7\", \"Topic7\", \"Topic7\", \"Topic7\", \"Topic7\", \"Topic7\", \"Topic7\", \"Topic7\", \"Topic7\", \"Topic7\", \"Topic7\", \"Topic7\", \"Topic7\", \"Topic7\", \"Topic7\", \"Topic7\", \"Topic7\", \"Topic7\", \"Topic7\", \"Topic7\", \"Topic7\", \"Topic7\", \"Topic7\", \"Topic7\", \"Topic7\", \"Topic7\", \"Topic7\", \"Topic7\", \"Topic7\", \"Topic7\", \"Topic7\", \"Topic7\", \"Topic7\", \"Topic7\", \"Topic7\", \"Topic7\", \"Topic7\", \"Topic7\", \"Topic7\", \"Topic7\", \"Topic7\", \"Topic7\", \"Topic7\", \"Topic7\", \"Topic7\", \"Topic7\", \"Topic8\", \"Topic8\", \"Topic8\", \"Topic8\", \"Topic8\", \"Topic8\", \"Topic8\", \"Topic8\", \"Topic8\", \"Topic8\", \"Topic8\", \"Topic8\", \"Topic8\", \"Topic8\", \"Topic8\", \"Topic8\", \"Topic8\", \"Topic8\", \"Topic8\", \"Topic8\", \"Topic8\", \"Topic8\", \"Topic8\", \"Topic8\", \"Topic8\", \"Topic8\", \"Topic8\", \"Topic8\", \"Topic8\", \"Topic8\", \"Topic8\", \"Topic8\", \"Topic8\", \"Topic8\", \"Topic8\", \"Topic8\", \"Topic8\", \"Topic8\", \"Topic8\", \"Topic8\", \"Topic8\", \"Topic8\", \"Topic8\", \"Topic8\", \"Topic8\", \"Topic8\", \"Topic8\", \"Topic8\", \"Topic8\", \"Topic9\", \"Topic9\", \"Topic9\", \"Topic9\", \"Topic9\", \"Topic9\", \"Topic9\", \"Topic9\", \"Topic9\", \"Topic9\", \"Topic9\", \"Topic9\", \"Topic9\", \"Topic9\", \"Topic9\", \"Topic9\", \"Topic9\", \"Topic9\", \"Topic9\", \"Topic9\", \"Topic9\", \"Topic9\", \"Topic9\", \"Topic9\", \"Topic9\", \"Topic9\", \"Topic9\", \"Topic9\", \"Topic9\", \"Topic9\", \"Topic9\", \"Topic9\", \"Topic9\", \"Topic9\", \"Topic9\", \"Topic9\", \"Topic9\", \"Topic9\", \"Topic9\", \"Topic9\", \"Topic9\", \"Topic9\", \"Topic9\", \"Topic9\", \"Topic9\", \"Topic9\", \"Topic10\", \"Topic10\", \"Topic10\", \"Topic10\", \"Topic10\", \"Topic10\", \"Topic10\", \"Topic10\", \"Topic10\", \"Topic10\", \"Topic10\", \"Topic10\", \"Topic10\", \"Topic10\", \"Topic10\", \"Topic10\", \"Topic10\", \"Topic10\", \"Topic10\", \"Topic10\", \"Topic10\", \"Topic10\", \"Topic10\", \"Topic10\", \"Topic10\", \"Topic10\", \"Topic10\", \"Topic10\", \"Topic10\", \"Topic10\", \"Topic10\", \"Topic10\", \"Topic10\", \"Topic10\", \"Topic10\", \"Topic10\", \"Topic10\", \"Topic10\", \"Topic10\", \"Topic10\", \"Topic10\", \"Topic10\", \"Topic10\", \"Topic10\", \"Topic10\", \"Topic10\", \"Topic10\", \"Topic11\", \"Topic11\", \"Topic11\", \"Topic11\", \"Topic11\", \"Topic11\", \"Topic11\", \"Topic11\", \"Topic11\", \"Topic11\", \"Topic11\", \"Topic11\", \"Topic11\", \"Topic11\", \"Topic11\", \"Topic11\", \"Topic11\", \"Topic11\", \"Topic11\", \"Topic11\", \"Topic11\", \"Topic11\", \"Topic11\", \"Topic11\", \"Topic11\", \"Topic11\", \"Topic11\", \"Topic11\", \"Topic11\", \"Topic11\", \"Topic11\", \"Topic11\", \"Topic11\", \"Topic11\", \"Topic11\", \"Topic11\", \"Topic11\", \"Topic11\", \"Topic11\", \"Topic11\", \"Topic11\", \"Topic11\", \"Topic11\", \"Topic11\", \"Topic11\", \"Topic11\", \"Topic11\", \"Topic11\", \"Topic11\", \"Topic11\", \"Topic11\", \"Topic11\", \"Topic12\", \"Topic12\", \"Topic12\", \"Topic12\", \"Topic12\", \"Topic12\", \"Topic12\", \"Topic12\", \"Topic12\", \"Topic12\", \"Topic12\", \"Topic12\", \"Topic12\", \"Topic12\", \"Topic12\", \"Topic12\", \"Topic12\", \"Topic12\", \"Topic12\", \"Topic12\", \"Topic12\", \"Topic12\", \"Topic12\", \"Topic12\", \"Topic12\", \"Topic12\", \"Topic12\", \"Topic12\", \"Topic12\", \"Topic12\", \"Topic12\", \"Topic12\", \"Topic12\", \"Topic12\", \"Topic12\", \"Topic12\", \"Topic12\", \"Topic12\", \"Topic12\", \"Topic12\", \"Topic12\", \"Topic12\", \"Topic12\", \"Topic12\", \"Topic12\", \"Topic12\", \"Topic12\", \"Topic13\", \"Topic13\", \"Topic13\", \"Topic13\", \"Topic13\", \"Topic13\", \"Topic13\", \"Topic13\", \"Topic13\", \"Topic13\", \"Topic13\", \"Topic13\", \"Topic13\", \"Topic13\", \"Topic13\", \"Topic13\", \"Topic13\", \"Topic13\", \"Topic13\", \"Topic13\", \"Topic13\", \"Topic13\", \"Topic13\", \"Topic13\", \"Topic13\", \"Topic13\", \"Topic13\", \"Topic13\", \"Topic13\", \"Topic13\", \"Topic13\", \"Topic13\", \"Topic13\", \"Topic13\", \"Topic13\", \"Topic13\", \"Topic13\", \"Topic13\", \"Topic13\", \"Topic13\", \"Topic13\", \"Topic13\", \"Topic13\", \"Topic13\", \"Topic13\", \"Topic13\", \"Topic13\", \"Topic13\", \"Topic13\", \"Topic14\", \"Topic14\", \"Topic14\", \"Topic14\", \"Topic14\", \"Topic14\", \"Topic14\", \"Topic14\", \"Topic14\", \"Topic14\", \"Topic14\", \"Topic14\", \"Topic14\", \"Topic14\", \"Topic14\", \"Topic14\", \"Topic14\", \"Topic14\", \"Topic14\", \"Topic14\", \"Topic14\", \"Topic14\", \"Topic14\", \"Topic14\", \"Topic14\", \"Topic14\", \"Topic14\", \"Topic14\", \"Topic14\", \"Topic14\", \"Topic14\", \"Topic14\", \"Topic14\", \"Topic14\", \"Topic14\", \"Topic14\", \"Topic14\", \"Topic14\", \"Topic14\", \"Topic14\", \"Topic14\", \"Topic14\", \"Topic15\", \"Topic15\", \"Topic15\", \"Topic15\", \"Topic15\", \"Topic15\", \"Topic15\", \"Topic15\", \"Topic15\", \"Topic15\", \"Topic15\", \"Topic15\", \"Topic15\", \"Topic15\", \"Topic15\", \"Topic15\", \"Topic15\", \"Topic15\", \"Topic15\", \"Topic15\", \"Topic15\", \"Topic15\", \"Topic15\", \"Topic15\", \"Topic15\", \"Topic15\", \"Topic15\", \"Topic15\", \"Topic15\", \"Topic15\", \"Topic15\", \"Topic15\", \"Topic15\", \"Topic15\", \"Topic15\", \"Topic15\", \"Topic15\", \"Topic15\", \"Topic15\", \"Topic15\", \"Topic15\", \"Topic15\", \"Topic16\", \"Topic16\", \"Topic16\", \"Topic16\", \"Topic16\", \"Topic16\", \"Topic16\", \"Topic16\", \"Topic16\", \"Topic16\", \"Topic16\", \"Topic16\", \"Topic16\", \"Topic16\", \"Topic16\", \"Topic16\", \"Topic16\", \"Topic16\", \"Topic16\", \"Topic16\", \"Topic16\", \"Topic16\", \"Topic16\", \"Topic16\", \"Topic16\", \"Topic16\", \"Topic16\", \"Topic16\", \"Topic16\", \"Topic16\", \"Topic16\", \"Topic16\", \"Topic16\", \"Topic16\", \"Topic16\", \"Topic16\", \"Topic16\", \"Topic16\", \"Topic16\", \"Topic16\", \"Topic16\", \"Topic16\", \"Topic16\", \"Topic16\", \"Topic16\", \"Topic17\", \"Topic17\", \"Topic17\", \"Topic17\", \"Topic17\", \"Topic17\", \"Topic17\", \"Topic17\", \"Topic17\", \"Topic17\", \"Topic17\", \"Topic17\", \"Topic17\", \"Topic17\", \"Topic17\", \"Topic17\", \"Topic17\", \"Topic17\", \"Topic17\", \"Topic17\", \"Topic17\", \"Topic17\", \"Topic17\", \"Topic17\", \"Topic17\", \"Topic17\", \"Topic17\", \"Topic17\", \"Topic17\", \"Topic17\", \"Topic17\", \"Topic17\", \"Topic17\", \"Topic17\", \"Topic17\", \"Topic17\", \"Topic17\", \"Topic17\", \"Topic18\", \"Topic18\", \"Topic18\", \"Topic18\", \"Topic18\", \"Topic18\", \"Topic18\", \"Topic18\", \"Topic18\", \"Topic18\", \"Topic18\", \"Topic18\", \"Topic18\", \"Topic18\", \"Topic18\", \"Topic18\", \"Topic18\", \"Topic18\", \"Topic18\", \"Topic18\", \"Topic18\", \"Topic18\", \"Topic18\", \"Topic18\", \"Topic18\", \"Topic18\", \"Topic18\", \"Topic18\", \"Topic18\", \"Topic18\", \"Topic18\", \"Topic18\", \"Topic18\", \"Topic18\", \"Topic18\", \"Topic18\", \"Topic18\", \"Topic18\", \"Topic18\", \"Topic18\", \"Topic18\", \"Topic18\", \"Topic18\", \"Topic19\", \"Topic19\", \"Topic19\", \"Topic19\", \"Topic19\", \"Topic19\", \"Topic19\", \"Topic19\", \"Topic19\", \"Topic19\", \"Topic19\", \"Topic19\", \"Topic19\", \"Topic19\", \"Topic19\", \"Topic19\", \"Topic19\", \"Topic19\", \"Topic19\", \"Topic19\", \"Topic19\", \"Topic19\", \"Topic19\", \"Topic19\", \"Topic19\", \"Topic19\", \"Topic19\", \"Topic19\", \"Topic19\", \"Topic19\", \"Topic19\", \"Topic19\", \"Topic19\", \"Topic20\", \"Topic20\", \"Topic20\", \"Topic20\", \"Topic20\", \"Topic20\", \"Topic20\", \"Topic20\", \"Topic20\", \"Topic20\", \"Topic20\", \"Topic20\", \"Topic20\", \"Topic20\", \"Topic20\", \"Topic20\", \"Topic20\", \"Topic20\", \"Topic20\", \"Topic20\", \"Topic20\", \"Topic20\", \"Topic20\", \"Topic20\", \"Topic20\", \"Topic20\", \"Topic20\", \"Topic20\", \"Topic20\", \"Topic20\", \"Topic20\", \"Topic20\", \"Topic20\", \"Topic20\", \"Topic20\", \"Topic20\", \"Topic20\", \"Topic20\", \"Topic20\", \"Topic20\", \"Topic20\", \"Topic20\"], \"Freq\": [57084.0, 12491.0, 16290.0, 11142.0, 3844.0, 10452.0, 9655.0, 7586.0, 8046.0, 11782.0, 6905.0, 5803.0, 4407.0, 4083.0, 6852.0, 5027.0, 1863.0, 2294.0, 3735.0, 7291.0, 3461.0, 4598.0, 1540.0, 1948.0, 3005.0, 1685.0, 1746.0, 1464.0, 3380.0, 2012.0, 4406.74365234375, 2749.96142578125, 1502.716552734375, 1198.596435546875, 707.7925415039062, 632.804931640625, 606.7919921875, 589.30078125, 514.6296997070312, 414.5304870605469, 404.46826171875, 400.44232177734375, 11115.458984375, 392.8406066894531, 380.1689147949219, 618.2761840820312, 335.05120849609375, 330.5513916015625, 316.1529846191406, 316.1649475097656, 315.2945861816406, 307.7724914550781, 306.03057861328125, 293.7854919433594, 268.81756591796875, 265.7685546875, 263.75457763671875, 253.17837524414062, 252.90724182128906, 251.08387756347656, 12243.95703125, 4021.30517578125, 4635.68994140625, 2449.15234375, 6735.3447265625, 589.9349365234375, 8023.6640625, 634.5866088867188, 557.0790405273438, 616.2955932617188, 771.0303344726562, 3291.31396484375, 783.2948608398438, 3747.1591796875, 1599.570068359375, 2092.38525390625, 5044.28125, 1906.919677734375, 3702.921630859375, 3132.43505859375, 1570.505615234375, 1464.006103515625, 3957.1923828125, 1216.1817626953125, 1604.5675048828125, 1442.6754150390625, 1368.8018798828125, 977.4427490234375, 1363.0596923828125, 2118.370849609375, 1597.080078125, 1224.0289306640625, 1355.803955078125, 1424.732666015625, 1246.836181640625, 1073.52734375, 683.285888671875, 567.0475463867188, 519.2977294921875, 483.41864013671875, 439.3663635253906, 408.75347900390625, 399.6880798339844, 397.9826965332031, 388.46044921875, 377.6944274902344, 380.0765075683594, 354.9315185546875, 339.30560302734375, 315.9345703125, 303.7184753417969, 301.81927490234375, 297.48577880859375, 294.4920349121094, 290.0811462402344, 279.6032409667969, 275.9779052734375, 275.41400146484375, 267.7472839355469, 255.53250122070312, 255.19732666015625, 251.00387573242188, 246.99951171875, 246.03182983398438, 244.9615478515625, 466.8121032714844, 745.9722900390625, 609.6953735351562, 412.9258728027344, 1426.742919921875, 403.4271240234375, 1177.802490234375, 633.0302124023438, 642.3160400390625, 546.9241943359375, 1029.3162841796875, 907.5225830078125, 778.1182861328125, 853.0716552734375, 1183.9566650390625, 1572.4932861328125, 1293.3284912109375, 1450.4757080078125, 984.8677368164062, 1626.20703125, 930.275634765625, 1044.3067626953125, 2615.94677734375, 1679.3729248046875, 1042.737060546875, 1765.07470703125, 754.8101196289062, 1695.1734619140625, 1077.8497314453125, 1094.307373046875, 724.9571533203125, 2087.818603515625, 966.8936157226562, 1700.9766845703125, 1768.7626953125, 1008.364013671875, 1423.7989501953125, 2337.024169921875, 1223.5499267578125, 1047.3101806640625, 1023.0471801757812, 1267.44091796875, 1323.858154296875, 1030.6656494140625, 993.0201416015625, 985.5620727539062, 759.0823364257812, 679.8952026367188, 621.2754516601562, 562.1758422851562, 491.7339172363281, 456.6832580566406, 325.9048767089844, 315.5709228515625, 312.1762390136719, 312.1048583984375, 311.8431396484375, 311.5665283203125, 278.4290771484375, 264.84881591796875, 264.2497253417969, 262.6607666015625, 260.64599609375, 242.01451110839844, 226.9903564453125, 224.09217834472656, 216.59307861328125, 210.19384765625, 208.88201904296875, 193.8719024658203, 193.02874755859375, 188.8977508544922, 175.8959197998047, 173.0450439453125, 171.20230102539062, 1253.096435546875, 806.3665161132812, 306.376708984375, 3326.1865234375, 4888.71923828125, 335.23101806640625, 322.21661376953125, 1009.4046630859375, 792.3900146484375, 11933.8603515625, 697.2766723632812, 5183.7998046875, 7453.15966796875, 2046.6422119140625, 449.57525634765625, 1065.0093994140625, 1480.039794921875, 2489.28076171875, 1337.9774169921875, 3563.99462890625, 1744.926513671875, 2382.3681640625, 1444.5067138671875, 484.3453674316406, 3011.841552734375, 4343.048828125, 1969.1005859375, 2499.708251953125, 3361.14794921875, 4373.4970703125, 1920.621826171875, 2428.275146484375, 2630.2978515625, 1768.68359375, 1548.264404296875, 2173.66259765625, 1621.0401611328125, 1462.8602294921875, 1476.60498046875, 1321.9224853515625, 1507.1617431640625, 2293.2421875, 862.005859375, 823.8687133789062, 682.2274780273438, 671.16748046875, 657.4800415039062, 595.4713134765625, 593.6892700195312, 576.5631103515625, 528.5349731445312, 497.8642578125, 496.42144775390625, 457.6024475097656, 426.6159973144531, 393.3144836425781, 382.2778625488281, 377.9945983886719, 368.7650451660156, 359.6142578125, 355.7466735839844, 339.76739501953125, 334.4806823730469, 329.0337829589844, 320.43865966796875, 313.0401916503906, 310.1236572265625, 309.5770263671875, 298.0408935546875, 286.22955322265625, 271.4310302734375, 1951.2598876953125, 1704.100341796875, 764.53466796875, 557.125, 467.963134765625, 579.2064819335938, 757.2896728515625, 1394.32666015625, 1286.166015625, 1032.106201171875, 1071.1484375, 1317.0216064453125, 706.4627075195312, 583.2643432617188, 576.9627685546875, 777.4666137695312, 577.8314819335938, 848.5001220703125, 562.253173828125, 515.9546508789062, 524.5054321289062, 1947.7425537109375, 923.2119140625, 873.9903564453125, 761.3792114257812, 718.9431762695312, 634.9786987304688, 593.0778198242188, 538.3751220703125, 468.6550598144531, 405.9481506347656, 396.2709045410156, 384.4151916503906, 359.0393371582031, 355.47955322265625, 349.6318359375, 348.47955322265625, 314.38079833984375, 312.4604797363281, 301.2169494628906, 282.7227478027344, 255.31175231933594, 250.25448608398438, 230.33810424804688, 226.29461669921875, 221.07876586914062, 217.8773956298828, 207.94908142089844, 204.6544189453125, 204.20529174804688, 195.55804443359375, 448.03900146484375, 1466.138916015625, 991.40478515625, 1084.623046875, 1215.92724609375, 1418.83837890625, 1598.341796875, 610.3439331054688, 580.5537719726562, 823.8787841796875, 1153.95361328125, 778.2776489257812, 668.9511108398438, 892.1351928710938, 803.0383911132812, 651.9490356445312, 592.1941528320312, 599.9500732421875, 508.8438415527344, 607.3257446289062, 927.7960205078125, 697.9257202148438, 676.7446899414062, 625.1378173828125, 630.9213256835938, 57083.41015625, 238.13082885742188, 227.2550811767578, 209.48385620117188, 172.66888427734375, 164.6142578125, 153.5840301513672, 148.92074584960938, 134.43386840820312, 133.55160522460938, 128.19932556152344, 124.61172485351562, 116.84619140625, 108.88973236083984, 98.87085723876953, 97.91194152832031, 91.44400024414062, 86.70882415771484, 84.86168670654297, 84.43330383300781, 79.09980010986328, 77.21487426757812, 69.82661437988281, 64.73162078857422, 60.78929138183594, 60.76789474487305, 60.603328704833984, 60.57310485839844, 59.64588928222656, 58.1464729309082, 1684.0465087890625, 1576.8564453125, 713.1670532226562, 640.7674560546875, 542.5023803710938, 506.4173889160156, 489.39581298828125, 482.2481384277344, 450.7307434082031, 392.8574523925781, 376.4818115234375, 343.4439697265625, 321.388671875, 291.3870544433594, 290.0943908691406, 256.2935485839844, 251.55743408203125, 244.3606719970703, 237.14593505859375, 236.97454833984375, 231.0826873779297, 230.4065399169922, 220.05747985839844, 209.432373046875, 203.7164306640625, 198.13754272460938, 194.24468994140625, 191.13250732421875, 190.43397521972656, 187.38575744628906, 508.6614685058594, 840.3238525390625, 534.0748291015625, 533.9539794921875, 733.86474609375, 251.47206115722656, 552.0850830078125, 608.8570556640625, 417.9521484375, 431.63018798828125, 346.4781188964844, 301.8165283203125, 448.14349365234375, 271.910888671875, 290.2373352050781, 258.3740539550781, 356.1722412109375, 349.4750061035156, 320.4233093261719, 314.43572998046875, 310.675048828125, 310.2130432128906, 303.1812744140625, 296.37554931640625, 289.8789978027344, 258.28765869140625, 255.7316131591797, 254.46852111816406, 248.2437744140625, 231.98887634277344, 228.49795532226562, 220.19488525390625, 217.33016967773438, 214.75833129882812, 198.21363830566406, 192.20164489746094, 191.93792724609375, 187.31527709960938, 182.37428283691406, 173.09573364257812, 169.73439025878906, 147.17747497558594, 145.78271484375, 145.6592254638672, 144.0186309814453, 142.9136962890625, 429.91546630859375, 296.089111328125, 285.21563720703125, 515.46826171875, 280.8303527832031, 638.6051025390625, 496.61358642578125, 331.3338928222656, 551.0025024414062, 400.467529296875, 221.54864501953125, 268.3541564941406, 517.6211547851562, 329.3432312011719, 284.6097412109375, 316.1439208984375, 321.0400085449219, 245.5190887451172, 256.18206787109375, 1314.4820556640625, 633.8416748046875, 566.6320190429688, 549.021728515625, 426.4239501953125, 414.0113830566406, 399.7453918457031, 367.6198425292969, 365.8677978515625, 365.7163391113281, 300.703369140625, 260.702880859375, 245.61036682128906, 243.9058837890625, 232.840087890625, 227.666748046875, 220.19241333007812, 203.74453735351562, 192.41323852539062, 178.61331176757812, 173.3775177001953, 172.5314483642578, 157.9680633544922, 156.93460083007812, 154.94818115234375, 140.6698455810547, 136.00022888183594, 134.87356567382812, 134.3407440185547, 126.97624206542969, 1613.613525390625, 295.2031555175781, 251.83535766601562, 200.72596740722656, 697.3006591796875, 1184.3212890625, 307.204833984375, 570.1307373046875, 941.9407958984375, 811.3533325195312, 267.8712463378906, 280.0597229003906, 250.00718688964844, 298.185302734375, 231.70701599121094, 230.16136169433594, 1505.3453369140625, 1181.4666748046875, 546.7916870117188, 495.66522216796875, 447.6993713378906, 430.5617370605469, 388.6237487792969, 353.1397399902344, 319.9396057128906, 289.9051208496094, 279.1172790527344, 272.6069641113281, 270.6949768066406, 270.33404541015625, 239.28672790527344, 228.5982666015625, 225.98634338378906, 218.4859619140625, 214.7357635498047, 214.3740234375, 200.70948791503906, 195.7428436279297, 190.99896240234375, 189.02088928222656, 186.72190856933594, 184.5688018798828, 176.271484375, 173.0936279296875, 170.3538055419922, 169.1639862060547, 296.0229187011719, 349.9242858886719, 568.6333618164062, 476.9741516113281, 311.0794982910156, 266.62091064453125, 517.9393310546875, 526.7215576171875, 667.0676879882812, 730.8585815429688, 389.8402099609375, 240.09573364257812, 303.0962219238281, 345.4020080566406, 260.88360595703125, 334.24749755859375, 329.1891174316406, 3843.0810546875, 533.0699462890625, 352.2521667480469, 308.8171081542969, 289.16510009765625, 288.0882568359375, 271.0579528808594, 266.75067138671875, 231.55322265625, 222.00636291503906, 215.89295959472656, 213.90899658203125, 191.9373016357422, 191.5965118408203, 188.424560546875, 188.08334350585938, 178.80618286132812, 176.24249267578125, 173.99267578125, 171.21633911132812, 168.23129272460938, 166.10414123535156, 158.9987030029297, 157.3586883544922, 156.80331420898438, 154.2590789794922, 152.69052124023438, 150.89193725585938, 148.80198669433594, 148.3159637451172, 158.1100311279297, 290.75897216796875, 926.0943603515625, 191.80935668945312, 275.5677795410156, 771.7814331054688, 550.4122924804688, 215.7728729248047, 241.45486450195312, 635.716064453125, 360.5783996582031, 300.4825134277344, 368.3836669921875, 300.1607666015625, 326.4783020019531, 447.8515930175781, 726.3193969726562, 260.2635192871094, 252.65817260742188, 294.49951171875, 255.99278259277344, 240.35118103027344, 1862.0716552734375, 429.90576171875, 391.66015625, 322.68548583984375, 313.0201416015625, 285.14227294921875, 279.5346984863281, 274.8895568847656, 270.8004150390625, 254.6559600830078, 238.53277587890625, 233.71591186523438, 208.5485076904297, 207.4803924560547, 202.6160430908203, 200.71868896484375, 199.9878692626953, 199.10792541503906, 171.7931365966797, 170.38853454589844, 168.5574188232422, 163.06324768066406, 152.24195861816406, 151.8164520263672, 144.8260955810547, 140.02005004882812, 134.8817138671875, 130.80796813964844, 128.0540771484375, 126.15686798095703, 234.16998291015625, 406.4936218261719, 354.62957763671875, 177.57208251953125, 225.34115600585938, 528.5840454101562, 271.0359802246094, 387.71588134765625, 329.2660217285156, 209.7373504638672, 250.9483642578125, 232.47183227539062, 260.3412170410156, 229.30239868164062, 270.28033447265625, 211.5605010986328, 203.806396484375, 669.46044921875, 516.6110229492188, 344.10284423828125, 309.3972473144531, 293.547119140625, 223.45513916015625, 260.5120544433594, 218.7611541748047, 218.30067443847656, 212.00881958007812, 179.73965454101562, 173.69789123535156, 172.70388793945312, 166.98837280273438, 163.4669647216797, 161.92941284179688, 159.7260284423828, 158.58441162109375, 148.23077392578125, 145.77593994140625, 145.3528594970703, 142.19334411621094, 140.8199920654297, 137.5749969482422, 135.45692443847656, 135.16847229003906, 126.84471130371094, 114.943359375, 113.30601501464844, 112.87429809570312, 205.71096801757812, 142.12542724609375, 342.69903564453125, 419.7206726074219, 375.99395751953125, 357.3273620605469, 212.41305541992188, 362.0413513183594, 221.95677185058594, 394.9349365234375, 252.14422607421875, 263.2103271484375, 267.6053466796875, 199.05007934570312, 165.90513610839844, 169.64199829101562, 174.15504455566406, 168.35458374023438, 168.24293518066406, 1539.3333740234375, 1463.4404296875, 837.0260620117188, 685.0853881835938, 567.9686279296875, 499.1543884277344, 454.8945007324219, 387.83160400390625, 375.6164245605469, 364.68548583984375, 280.197265625, 259.617919921875, 224.09622192382812, 218.35861206054688, 217.53948974609375, 212.78903198242188, 210.74810791015625, 206.84719848632812, 201.3594970703125, 186.022216796875, 173.54652404785156, 173.23501586914062, 172.7025909423828, 170.80618286132812, 168.59739685058594, 163.65455627441406, 160.361083984375, 155.6213836669922, 154.92721557617188, 154.89422607421875, 290.7168273925781, 766.0250854492188, 751.8104248046875, 197.8997802734375, 259.7152099609375, 246.73057556152344, 484.7493591308594, 217.14369201660156, 235.38796997070312, 188.10446166992188, 221.3800048828125, 192.67529296875, 528.7215576171875, 424.00848388671875, 387.8662414550781, 381.375244140625, 373.01953125, 360.49871826171875, 355.81085205078125, 308.5906677246094, 267.1200866699219, 231.64456176757812, 227.54104614257812, 224.1903076171875, 217.58676147460938, 216.49758911132812, 211.45187377929688, 208.75466918945312, 206.14138793945312, 192.57513427734375, 180.27902221679688, 173.64125061035156, 172.05982971191406, 167.1783905029297, 159.9827117919922, 159.46597290039062, 157.95367431640625, 156.31565856933594, 155.4307861328125, 152.84011840820312, 152.75, 152.1118927001953, 367.91156005859375, 718.4343872070312, 447.8497009277344, 365.4530944824219, 195.6028594970703, 180.9334716796875, 229.12167358398438, 238.34632873535156, 263.2249450683594, 251.5309295654297, 230.77268981933594, 188.59693908691406, 514.4737548828125, 509.0995178222656, 374.53643798828125, 305.42510986328125, 298.17071533203125, 282.8541564941406, 280.2622985839844, 259.2930908203125, 231.2338409423828, 227.9943084716797, 224.6000518798828, 210.71890258789062, 197.60662841796875, 176.40281677246094, 175.96517944335938, 155.6312713623047, 145.11398315429688, 144.263427734375, 126.15657043457031, 120.77490997314453, 120.4006118774414, 113.83802032470703, 112.31763458251953, 112.00653839111328, 111.82652282714844, 108.716064453125, 106.91578674316406, 106.23419189453125, 103.31999206542969, 103.18167877197266, 252.46253967285156, 597.9105834960938, 196.177001953125, 348.33074951171875, 185.02427673339844, 222.64337158203125, 231.22279357910156, 162.09230041503906, 421.24267578125, 197.7372283935547, 265.4886474609375, 189.914306640625, 158.30279541015625, 152.86817932128906, 166.59605407714844, 1340.908203125, 432.04425048828125, 380.6081237792969, 377.1492919921875, 355.212158203125, 330.7203063964844, 217.3582763671875, 215.508544921875, 210.7005615234375, 209.62530517578125, 207.53695678710938, 201.7472381591797, 198.89622497558594, 194.38113403320312, 190.3443145751953, 171.63807678222656, 170.88827514648438, 148.6920166015625, 148.04934692382812, 142.76124572753906, 138.02035522460938, 129.78038024902344, 129.1376495361328, 127.20875549316406, 122.99394989013672, 120.02239227294922, 118.37165069580078, 118.08558654785156, 111.42276000976562, 109.10063171386719, 150.7249755859375, 363.07110595703125, 170.9863739013672, 226.13272094726562, 135.34422302246094, 130.994140625, 135.9315185546875, 131.2316436767578, 719.8088989257812, 464.24365234375, 405.00146484375, 363.5972595214844, 360.0519714355469, 299.93023681640625, 291.4154968261719, 280.5766296386719, 213.50828552246094, 190.49752807617188, 190.15550231933594, 183.96676635742188, 154.4237823486328, 145.40480041503906, 144.42994689941406, 144.1469268798828, 140.71656799316406, 128.8675537109375, 128.69558715820312, 123.59613800048828, 121.41661071777344, 120.277587890625, 113.3876953125, 106.85591125488281, 102.69853973388672, 102.11695098876953, 100.7216567993164, 94.88600158691406, 90.07255554199219, 87.1737289428711, 416.0542907714844, 140.66392517089844, 191.85369873046875, 349.23779296875, 114.75436401367188, 142.68165588378906, 154.47189331054688, 127.9061050415039, 212.4847869873047, 216.1448974609375, 156.07272338867188, 168.07958984375, 141.1970977783203, 916.09130859375, 791.2396850585938, 568.9848022460938, 324.8680725097656, 324.0763854980469, 299.4462585449219, 192.6453399658203, 180.6613006591797, 151.0236053466797, 144.95997619628906, 137.815185546875, 130.78257751464844, 129.95167541503906, 123.32026672363281, 121.87284851074219, 120.2299575805664, 115.43174743652344, 104.50542449951172, 103.27439880371094, 96.74336242675781, 95.3787841796875, 92.30195617675781, 88.63996124267578, 82.76138305664062, 80.73502349853516, 77.77996826171875, 76.34939575195312, 75.31256866455078, 73.33692932128906, 72.95130920410156, 382.8371276855469, 77.97758483886719, 109.83432006835938, 479.445556640625, 464.2425231933594, 355.9367980957031, 315.3855285644531, 188.4508819580078, 171.7895965576172, 167.181640625, 160.8444061279297, 160.56275939941406, 159.0731964111328, 144.8588409423828, 123.2440185546875, 119.36988830566406, 117.6224136352539, 113.02511596679688, 112.21577453613281, 107.5560073852539, 101.3115005493164, 97.98706817626953, 92.96172332763672, 92.55901336669922, 91.10266876220703, 88.5740737915039, 87.89698028564453, 85.06165313720703, 83.13082885742188, 80.99232482910156, 75.67036437988281, 71.41924285888672, 71.19192504882812, 261.7496643066406, 378.3877258300781, 142.23277282714844, 497.66265869140625, 247.90391540527344, 184.92591857910156, 147.234130859375, 154.61135864257812, 102.28986358642578, 104.76582336425781, 107.73307800292969, 99.0870361328125]}};\n",
       "\n",
       "function LDAvis_load_lib(url, callback){\n",
       "  var s = document.createElement('script');\n",
       "  s.src = url;\n",
       "  s.async = true;\n",
       "  s.onreadystatechange = s.onload = callback;\n",
       "  s.onerror = function(){console.warn(\"failed to load library \" + url);};\n",
       "  document.getElementsByTagName(\"head\")[0].appendChild(s);\n",
       "}\n",
       "\n",
       "if(typeof(LDAvis) !== \"undefined\"){\n",
       "   // already loaded: just create the visualization\n",
       "   !function(LDAvis){\n",
       "       new LDAvis(\"#\" + \"ldavis_el441620119205323684133331101\", ldavis_el441620119205323684133331101_data);\n",
       "   }(LDAvis);\n",
       "}else if(typeof define === \"function\" && define.amd){\n",
       "   // require.js is available: use it to load d3/LDAvis\n",
       "   require.config({paths: {d3: \"https://cdnjs.cloudflare.com/ajax/libs/d3/3.5.5/d3.min\"}});\n",
       "   require([\"d3\"], function(d3){\n",
       "      window.d3 = d3;\n",
       "      LDAvis_load_lib(\"https://cdn.rawgit.com/bmabey/pyLDAvis/files/ldavis.v1.0.0.js\", function(){\n",
       "        new LDAvis(\"#\" + \"ldavis_el441620119205323684133331101\", ldavis_el441620119205323684133331101_data);\n",
       "      });\n",
       "    });\n",
       "}else{\n",
       "    // require.js not available: dynamically load d3 & LDAvis\n",
       "    LDAvis_load_lib(\"https://cdnjs.cloudflare.com/ajax/libs/d3/3.5.5/d3.min.js\", function(){\n",
       "         LDAvis_load_lib(\"https://cdn.rawgit.com/bmabey/pyLDAvis/files/ldavis.v1.0.0.js\", function(){\n",
       "                 new LDAvis(\"#\" + \"ldavis_el441620119205323684133331101\", ldavis_el441620119205323684133331101_data);\n",
       "            })\n",
       "         });\n",
       "}\n",
       "</script>"
      ],
      "text/plain": [
       "PreparedData(topic_coordinates=            Freq  cluster  topics         x         y\n",
       "topic                                                \n",
       "7      16.239773        1       1  0.336833 -0.001198\n",
       "13     15.221648        1       2  0.291034 -0.003244\n",
       "18     14.588356        1       3  0.328827 -0.128122\n",
       "2       6.161590        1       4  0.091782  0.226447\n",
       "15      5.973034        1       5  0.059636  0.222487\n",
       "10      4.344124        1       6 -0.085009 -0.113136\n",
       "17      4.177513        1       7  0.060714 -0.183179\n",
       "12      3.604345        1       8 -0.021421 -0.036566\n",
       "5       3.365388        1       9 -0.022882 -0.021291\n",
       "16      3.271580        1      10 -0.029247  0.219681\n",
       "6       3.222101        1      11 -0.063057 -0.016647\n",
       "9       2.968343        1      12 -0.062890  0.139384\n",
       "14      2.739964        1      13 -0.088897 -0.062678\n",
       "3       2.731095        1      14 -0.047749 -0.117440\n",
       "8       2.291429        1      15 -0.111444  0.003718\n",
       "19      2.127126        1      16 -0.113703 -0.023427\n",
       "11      2.077360        1      17 -0.092439 -0.110459\n",
       "4       1.694270        1      18 -0.134219  0.001629\n",
       "0       1.679200        1      19 -0.164229 -0.027983\n",
       "1       1.521758        1      20 -0.131640  0.032026, topic_info=      Category          Freq          Term         Total  loglift  logprob\n",
       "term                                                                      \n",
       "58974  Default  57084.000000            ax  57084.000000  30.0000  30.0000\n",
       "50035  Default  12491.000000          line  12491.000000  29.0000  29.0000\n",
       "3119   Default  16290.000000           not  16290.000000  28.0000  28.0000\n",
       "5951   Default  11142.000000  organization  11142.000000  27.0000  27.0000\n",
       "62146  Default   3844.000000           max   3844.000000  26.0000  26.0000\n",
       "30601  Default  10452.000000            do  10452.000000  25.0000  25.0000\n",
       "23211  Default   9655.000000         write   9655.000000  24.0000  24.0000\n",
       "5339   Default   7586.000000       article   7586.000000  23.0000  23.0000\n",
       "37371  Default   8046.000000            be   8046.000000  22.0000  22.0000\n",
       "65832  Default  11782.000000         would  11782.000000  21.0000  21.0000\n",
       "39150  Default   6905.000000           say   6905.000000  20.0000  20.0000\n",
       "63353  Default   5803.000000            go   5803.000000  19.0000  19.0000\n",
       "40779  Default   4407.000000     nntp_post   4407.000000  18.0000  18.0000\n",
       "36239  Default   4083.000000          host   4083.000000  17.0000  17.0000\n",
       "38228  Default   6852.000000           get   6852.000000  16.0000  16.0000\n",
       "17778  Default   5027.000000    university   5027.000000  15.0000  15.0000\n",
       "32058  Default   1863.000000         space   1863.000000  14.0000  14.0000\n",
       "48102  Default   2294.000000        window   2294.000000  13.0000  13.0000\n",
       "33661  Default   3735.000000             s   3735.000000  12.0000  12.0000\n",
       "60576  Default   7291.000000          know   7291.000000  11.0000  11.0000\n",
       "52514  Default   3461.000000          year   3461.000000  10.0000  10.0000\n",
       "40213  Default   4598.000000           use   4598.000000   9.0000   9.0000\n",
       "36322  Default   1540.000000          game   1540.000000   8.0000   8.0000\n",
       "70022  Default   1948.000000          mail   1948.000000   7.0000   7.0000\n",
       "47172  Default   3005.000000         right   3005.000000   6.0000   6.0000\n",
       "20102  Default   1685.000000     christian   1685.000000   5.0000   5.0000\n",
       "65033  Default   1746.000000    government   1746.000000   4.0000   4.0000\n",
       "52133  Default   1464.000000          team   1464.000000   3.0000   3.0000\n",
       "21941  Default   3380.000000        system   3380.000000   2.0000   2.0000\n",
       "38200  Default   2012.000000          card   2012.000000   1.0000   1.0000\n",
       "...        ...           ...           ...           ...      ...      ...\n",
       "28185  Topic20    119.369888          guru    120.321815   4.1774  -5.3259\n",
       "40363  Topic20    117.622414  countersteer    118.574341   4.1772  -5.3407\n",
       "71609  Topic20    113.025116       bradley    113.977043   4.1769  -5.3806\n",
       "14846  Topic20    112.215775          lane    113.167702   4.1769  -5.3877\n",
       "17681  Topic20    107.556007         forum    108.507935   4.1765  -5.4302\n",
       "37937  Topic20    101.311501           int    102.263428   4.1760  -5.4900\n",
       "11461  Topic20     97.987068         scoop     98.938995   4.1756  -5.5233\n",
       "4743   Topic20     92.961723          vram     93.913651   4.1751  -5.5760\n",
       "8906   Topic20     92.559013     enjoyment     93.510941   4.1751  -5.5803\n",
       "39089  Topic20     91.102669          nick     92.054596   4.1749  -5.5962\n",
       "69091  Topic20     88.574074        libxmu     89.526001   4.1746  -5.6243\n",
       "36526  Topic20     87.896980      callback     88.848907   4.1745  -5.6320\n",
       "4249   Topic20     85.061653           ati     86.013580   4.1742  -5.6648\n",
       "59044  Topic20     83.130829        safely     84.082756   4.1739  -5.6877\n",
       "36307  Topic20     80.992325      detector     81.944252   4.1736  -5.7138\n",
       "61711  Topic20     75.670364       drawing     76.622292   4.1728  -5.7818\n",
       "3116   Topic20     71.419243     ms_window     72.371170   4.1721  -5.8396\n",
       "14178  Topic20     71.191925         steer     72.143852   4.1720  -5.8428\n",
       "70953  Topic20    261.749664      properly    330.148499   3.9532  -4.5408\n",
       "58069  Topic20    378.387726      function    519.989502   3.8674  -4.1722\n",
       "56139  Topic20    142.232773         shift    163.459442   4.0462  -5.1507\n",
       "3034   Topic20    497.662659         value    864.259155   3.6334  -3.8982\n",
       "50116  Topic20    247.903915          code    910.997131   2.8838  -4.5951\n",
       "32397  Topic20    184.925919         error    663.456238   2.9078  -4.8882\n",
       "56488  Topic20    147.234131        return    725.506165   2.5905  -5.1161\n",
       "62820  Topic20    154.611359           set   1435.282227   1.9571  -5.0673\n",
       "52969  Topic20    102.289864       compile    240.618195   3.3299  -5.4804\n",
       "7064   Topic20    104.765823     character    416.484619   2.8052  -5.4564\n",
       "54907  Topic20    107.733078          size    595.091858   2.4762  -5.4285\n",
       "71090  Topic20     99.087036         build   1050.692627   1.8241  -5.5122\n",
       "\n",
       "[998 rows x 6 columns], token_table=       Topic      Freq         Term\n",
       "term                               \n",
       "25962     19  0.998893            _\n",
       "49628      2  0.810073       accept\n",
       "49628      7  0.176540       accept\n",
       "49628     20  0.012291       accept\n",
       "21960      5  0.998750       access\n",
       "20283      5  0.998917      advance\n",
       "10885      1  0.997613       advice\n",
       "37043     12  0.996604    aerospace\n",
       "18527     10  0.856117       agency\n",
       "18527     13  0.141871       agency\n",
       "45602      8  0.185647          ago\n",
       "45602     16  0.811751          ago\n",
       "34525     14  0.994196          ahl\n",
       "60739      1  0.997027          air\n",
       "27704     11  0.992342         alan\n",
       "14772     10  0.996898    algorithm\n",
       "50956      1  0.260706         also\n",
       "50956      2  0.372969         also\n",
       "50956      3  0.058324         also\n",
       "50956      4  0.064902         also\n",
       "50956      5  0.203478         also\n",
       "50956      7  0.015129         also\n",
       "50956     12  0.024558         also\n",
       "66697      9  0.990376    amendment\n",
       "1748       3  0.306661     american\n",
       "1748       8  0.152384     american\n",
       "1748       9  0.539496     american\n",
       "56041     12  0.995604          amp\n",
       "19827      6  0.986726      anaheim\n",
       "71161      9  0.269106     analysis\n",
       "...      ...       ...          ...\n",
       "23211      7  0.018539        write\n",
       "58734      4  0.998018        xfree\n",
       "2107      19  0.994639          xga\n",
       "66751     19  0.993767         xlib\n",
       "8037      17  0.995581        xterm\n",
       "17168      1  0.005270      yalanci\n",
       "17168      2  0.026348      yalanci\n",
       "17168      3  0.005270      yalanci\n",
       "17168      5  0.010539      yalanci\n",
       "17168      7  0.005270      yalanci\n",
       "17168      8  0.005270      yalanci\n",
       "17168      9  0.005270      yalanci\n",
       "17168     11  0.005270      yalanci\n",
       "17168     13  0.010539      yalanci\n",
       "17168     15  0.005270      yalanci\n",
       "17168     17  0.901114      yalanci\n",
       "17168     18  0.005270      yalanci\n",
       "17168     20  0.005270      yalanci\n",
       "52514      2  0.034381         year\n",
       "52514      3  0.426728         year\n",
       "52514      8  0.149658         year\n",
       "52514     11  0.209753         year\n",
       "52514     14  0.140124         year\n",
       "52514     17  0.039292         year\n",
       "60368     11  0.993130    yesterday\n",
       "53638      2  0.904879          yet\n",
       "53638      4  0.094210          yet\n",
       "31042      3  0.915295        young\n",
       "31042     14  0.083209        young\n",
       "70518      7  0.993335  zoroastrian\n",
       "\n",
       "[1605 rows x 3 columns], R=30, lambda_step=0.01, plot_opts={'ylab': 'PC2', 'xlab': 'PC1'}, topic_order=[8, 14, 19, 3, 16, 11, 18, 13, 6, 17, 7, 10, 15, 4, 9, 20, 12, 5, 1, 2])"
      ]
     },
     "execution_count": 69,
     "metadata": {},
     "output_type": "execute_result"
    }
   ],
   "source": [
    "# Visualize the topics\n",
    "pyLDAvis.enable_notebook()\n",
    "vis = pyLDAvis.gensim.prepare(lda_model, corpus, id2word)\n",
    "vis"
   ]
  },
  {
   "cell_type": "markdown",
   "metadata": {},
   "source": [
    "원이 클수록 그 토픽이 더 일반적이다.  \n",
    "즉, 특성화 하지 않고 여러 단어가 등장한다는 의미이다.  \n",
    "좋은 토픽모델은 하나의 사분면에 모두 군집화 되지 않고 차트 전체적으로 흩어진 상태가 가장 좋다."
   ]
  }
 ],
 "metadata": {
  "kernelspec": {
   "display_name": "text3.5",
   "language": "python",
   "name": "text3.5"
  },
  "language_info": {
   "codemirror_mode": {
    "name": "ipython",
    "version": 3
   },
   "file_extension": ".py",
   "mimetype": "text/x-python",
   "name": "python",
   "nbconvert_exporter": "python",
   "pygments_lexer": "ipython3",
   "version": "3.5.5"
  }
 },
 "nbformat": 4,
 "nbformat_minor": 2
}
