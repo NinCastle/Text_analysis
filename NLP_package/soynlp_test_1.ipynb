{
 "cells": [
  {
   "cell_type": "markdown",
   "metadata": {},
   "source": [
    "[lovit_soynlp](https://github.com/lovit/soynlp)  \n",
    "[soynlp_tutorials_wordextractor_lecture](https://github.com/lovit/soynlp/blob/master/tutorials/wordextractor_lecture.ipynb)  \n",
    "하기 내용은 상기 링크를 정리한 것이다."
   ]
  },
  {
   "cell_type": "markdown",
   "metadata": {},
   "source": [
    "# Soynlp"
   ]
  },
  {
   "cell_type": "markdown",
   "metadata": {},
   "source": [
    "## Word Extraction\n",
    "**Konlpy**"
   ]
  },
  {
   "cell_type": "code",
   "execution_count": 1,
   "metadata": {},
   "outputs": [
    {
     "data": {
      "text/plain": [
       "[('test', 'Alpha'),\n",
       " ('를', 'Noun'),\n",
       " ('위', 'Noun'),\n",
       " ('한', 'Josa'),\n",
       " ('문장', 'Noun'),\n",
       " ('연습', 'Noun')]"
      ]
     },
     "execution_count": 1,
     "metadata": {},
     "output_type": "execute_result"
    }
   ],
   "source": [
    "from konlpy.tag import Okt\n",
    "\n",
    "okt = Okt()\n",
    "okt.pos('test를 위한 문장 연습')"
   ]
  },
  {
   "cell_type": "markdown",
   "metadata": {},
   "source": [
    "**Soynlp**\n",
    "* Branching Entropy"
   ]
  },
  {
   "cell_type": "code",
   "execution_count": 4,
   "metadata": {},
   "outputs": [
    {
     "data": {
      "text/plain": [
       "223357"
      ]
     },
     "execution_count": 4,
     "metadata": {},
     "output_type": "execute_result"
    }
   ],
   "source": [
    "# Data optain\n",
    "from soynlp.utils import DoublespaceLineCorpus\n",
    "corpus_fname = '2016-10-20.txt'\n",
    "sentences = DoublespaceLineCorpus(corpus_fname, iter_sent=True)\n",
    "len(sentences)"
   ]
  },
  {
   "cell_type": "code",
   "execution_count": 13,
   "metadata": {},
   "outputs": [
    {
     "data": {
      "text/plain": [
       "<soynlp.utils.utils.DoublespaceLineCorpus at 0x1e869ab2f98>"
      ]
     },
     "execution_count": 13,
     "metadata": {},
     "output_type": "execute_result"
    }
   ],
   "source": [
    "sentences"
   ]
  },
  {
   "cell_type": "code",
   "execution_count": 16,
   "metadata": {},
   "outputs": [
    {
     "name": "stdout",
     "output_type": "stream",
     "text": [
      "training was done. used memory 0.909 Gb\n",
      "all cohesion probabilities was computed. # words = 16942\n",
      "all branching entropies was computed # words = 355061\n",
      "all accessor variety was computed # words = 355061\n",
      "Wall time: 59.4 s\n"
     ]
    }
   ],
   "source": [
    "%%time\n",
    "\n",
    "# word Extractor 1\n",
    "from soynlp.word import WordExtractor\n",
    "\n",
    "word_extractor = WordExtractor(\n",
    "    min_frequency=100,\n",
    "    min_cohesion_forward=0.05,\n",
    "    min_right_branching_entropy=0.0\n",
    ")\n",
    "\n",
    "word_extractor.train(sentences)\n",
    "words = word_extractor.extract()"
   ]
  },
  {
   "cell_type": "code",
   "execution_count": 17,
   "metadata": {},
   "outputs": [
    {
     "data": {
      "text/plain": [
       "14325"
      ]
     },
     "execution_count": 17,
     "metadata": {},
     "output_type": "execute_result"
    }
   ],
   "source": [
    "len(words)"
   ]
  },
  {
   "cell_type": "code",
   "execution_count": 18,
   "metadata": {},
   "outputs": [
    {
     "data": {
      "text/plain": [
       "Scores(cohesion_forward=0.3777062571897579, cohesion_backward=0.06670645182680193, left_branching_entropy=4.614528213943505, right_branching_entropy=4.537764625151406, left_accessor_variety=262, right_accessor_variety=396, leftside_frequency=29222, rightside_frequency=4024)"
      ]
     },
     "execution_count": 18,
     "metadata": {},
     "output_type": "execute_result"
    }
   ],
   "source": [
    "words['기자']"
   ]
  },
  {
   "cell_type": "markdown",
   "metadata": {},
   "source": [
    "## Tokenizer"
   ]
  },
  {
   "cell_type": "code",
   "execution_count": 25,
   "metadata": {},
   "outputs": [
    {
     "name": "stdout",
     "output_type": "stream",
     "text": [
      "[('데이터마이닝', '을'), ('공부', '한다')]\n",
      "\n",
      "['데이터마이닝을', '공부한다']\n"
     ]
    }
   ],
   "source": [
    "# LTokenizer\n",
    "from soynlp.tokenizer import LTokenizer\n",
    "\n",
    "scores = {'데이':0.5, '데이터':0.5, '데이터마이닝':0.5, '공부':0.5, '공부중':0.45}\n",
    "tokenizer = LTokenizer(scores=scores)\n",
    "\n",
    "sent = '데이터마이닝을 공부한다'\n",
    "print(tokenizer.tokenize(sent, flatten=False))\n",
    "print()\n",
    "tokenizer2 = LTokenizer()\n",
    "print(tokenizer2.tokenize(sent))"
   ]
  },
  {
   "cell_type": "code",
   "execution_count": 29,
   "metadata": {},
   "outputs": [
    {
     "name": "stdout",
     "output_type": "stream",
     "text": [
      "['난', '파스타', '가', '좋아', '요']\n",
      "\n",
      "['난파스타가좋아요']\n"
     ]
    }
   ],
   "source": [
    "# MaxScoreTokenizer\n",
    "from soynlp.tokenizer import MaxScoreTokenizer\n",
    "scores = {'파스':0.3, '파스타':0.7, '좋아요':0.2, '좋아':0.5}\n",
    "tokenizer = MaxScoreTokenizer(scores=scores)\n",
    "tokenizer2 = MaxScoreTokenizer()\n",
    "print(tokenizer.tokenize('난파스타가좋아요'))\n",
    "print()\n",
    "print(tokenizer2.tokenize('난파스타가좋아요'))"
   ]
  },
  {
   "cell_type": "code",
   "execution_count": 30,
   "metadata": {},
   "outputs": [
    {
     "name": "stdout",
     "output_type": "stream",
     "text": [
      "['이렇게연속된문장은잘리지않습니다만']\n",
      "\n",
      "['숫자', '123', '이영어', 'abc', '에섞여있으면', 'ㅋㅋ', '잘리겠죠']\n"
     ]
    }
   ],
   "source": [
    "# RegexTokenizer\n",
    "from soynlp.tokenizer import RegexTokenizer\n",
    "\n",
    "tokenizer = RegexTokenizer()\n",
    "print(tokenizer.tokenize('이렇게연속된문장은잘리지않습니다만'))\n",
    "print()\n",
    "print(tokenizer.tokenize('숫자123이영어abc에섞여있으면ㅋㅋ잘리겠죠'))"
   ]
  },
  {
   "cell_type": "markdown",
   "metadata": {},
   "source": [
    "## Noun Extractor"
   ]
  },
  {
   "cell_type": "code",
   "execution_count": 34,
   "metadata": {},
   "outputs": [
    {
     "name": "stdout",
     "output_type": "stream",
     "text": [
      "[Noun Extractor] used default noun predictor; Sejong corpus predictor\n",
      "[Noun Extractor] used noun_predictor_sejong\n",
      "[Noun Extractor] All 2398 r features was loaded\n",
      "[Noun Extractor] scanning was done (L,R) has (160030, 81637) tokens\n",
      "[Noun Extractor] building L-R graph was done\n",
      "[Noun Extractor] 26634 nouns are extracted\n",
      "Wall time: 1min 3s\n"
     ]
    }
   ],
   "source": [
    "%%time\n",
    "from soynlp.noun import LRNounExtractor\n",
    "noun_extractor = LRNounExtractor()\n",
    "nouns = noun_extractor.train_extract(sentences)"
   ]
  },
  {
   "cell_type": "code",
   "execution_count": 49,
   "metadata": {},
   "outputs": [
    {
     "data": {
      "text/plain": [
       "NounScore_v1(frequency=2171, score=0.982745708955224, known_r_ratio=0.7153024911032029)"
      ]
     },
     "execution_count": 49,
     "metadata": {},
     "output_type": "execute_result"
    }
   ],
   "source": [
    "nouns['독자']"
   ]
  },
  {
   "cell_type": "code",
   "execution_count": 48,
   "metadata": {},
   "outputs": [
    {
     "data": {
      "text/plain": [
       "2171"
      ]
     },
     "execution_count": 48,
     "metadata": {},
     "output_type": "execute_result"
    }
   ],
   "source": [
    "nouns['독자'].frequency"
   ]
  },
  {
   "cell_type": "code",
   "execution_count": 52,
   "metadata": {},
   "outputs": [],
   "source": [
    "nouns_soy = {}\n",
    "for i in nouns:\n",
    "    nouns_soy.update({i:nouns[i].frequency})"
   ]
  },
  {
   "cell_type": "code",
   "execution_count": 54,
   "metadata": {},
   "outputs": [
    {
     "data": {
      "text/plain": [
       "26634"
      ]
     },
     "execution_count": 54,
     "metadata": {},
     "output_type": "execute_result"
    }
   ],
   "source": [
    "len(nouns)"
   ]
  },
  {
   "cell_type": "code",
   "execution_count": 53,
   "metadata": {},
   "outputs": [
    {
     "data": {
      "text/plain": [
       "26634"
      ]
     },
     "execution_count": 53,
     "metadata": {},
     "output_type": "execute_result"
    }
   ],
   "source": [
    "len(nouns_soy)"
   ]
  },
  {
   "cell_type": "code",
   "execution_count": 61,
   "metadata": {},
   "outputs": [],
   "source": [
    "sort_word= sorted(nouns_soy.items(), key = lambda x : x[1])"
   ]
  },
  {
   "cell_type": "code",
   "execution_count": 64,
   "metadata": {},
   "outputs": [],
   "source": [
    "sort_word.reverse()"
   ]
  },
  {
   "cell_type": "code",
   "execution_count": 66,
   "metadata": {},
   "outputs": [
    {
     "data": {
      "text/plain": [
       "[('기자', 27179),\n",
       " ('무단', 21563),\n",
       " ('20일', 20850),\n",
       " ('재배포', 20443),\n",
       " ('금지', 19878),\n",
       " ('지난', 12564),\n",
       " ('뉴시스', 9950),\n",
       " ('함께', 7939),\n",
       " ('진행', 7818),\n",
       " ('오후', 7686),\n",
       " ('저작권자', 7556),\n",
       " ('때문', 6773),\n",
       " ('이번', 6693),\n",
       " ('미국', 6535),\n",
       " ('이날', 6339),\n",
       " ('관련', 6297),\n",
       " ('참석', 5722),\n",
       " ('제공', 5676),\n",
       " ('우리', 5604),\n",
       " ('예정', 5575),\n",
       " ('19일', 5567),\n",
       " ('이라고', 5559),\n",
       " ('방송', 5497),\n",
       " ('오전', 5277),\n",
       " ('영상', 4952),\n",
       " ('사람', 4912),\n",
       " ('공감', 4780),\n",
       " ('한국', 4757),\n",
       " ('최근', 4729),\n",
       " ('연합뉴스', 4678),\n",
       " ('이상', 4618),\n",
       " ('모습', 4614),\n",
       " ('공개', 4557),\n",
       " ('시작', 4461),\n",
       " ('하고', 4456),\n",
       " ('사랑', 4447),\n",
       " ('같은', 4425),\n",
       " ('문제', 4360),\n",
       " ('가장', 4326),\n",
       " ('이후', 4321),\n",
       " ('경우', 4301),\n",
       " ('라고', 4298),\n",
       " ('현재', 4181),\n",
       " ('하지', 4167),\n",
       " ('제보', 4164),\n",
       " ('정부', 4160),\n",
       " ('중국', 4115),\n",
       " ('북한', 4112),\n",
       " ('자신', 4096),\n",
       " ('국내', 4048),\n",
       " ('시장', 3989),\n",
       " ('기업', 3982),\n",
       " ('다양', 3976),\n",
       " ('생각', 3915),\n",
       " ('지역', 3814),\n",
       " ('사업', 3767),\n",
       " ('상황', 3757),\n",
       " ('세계', 3747),\n",
       " ('의혹', 3604),\n",
       " ('관계자', 3553),\n",
       " ('계획', 3544),\n",
       " ('확인', 3506),\n",
       " ('투자', 3478),\n",
       " ('국회', 3458),\n",
       " ('조사', 3432),\n",
       " ('한편', 3393),\n",
       " ('있다고', 3370),\n",
       " ('기록', 3347),\n",
       " ('설명', 3346),\n",
       " ('발표', 3341),\n",
       " ('당시', 3252),\n",
       " ('모두', 3166),\n",
       " ('이에', 3142),\n",
       " ('운영', 3102),\n",
       " ('결과', 3092),\n",
       " ('필요', 3077),\n",
       " ('행사', 3015),\n",
       " ('판단', 2998),\n",
       " ('사용', 2968),\n",
       " ('이들', 2922),\n",
       " ('국민', 2914),\n",
       " ('경제', 2900),\n",
       " ('서비스', 2900),\n",
       " ('제품', 2864),\n",
       " ('출연', 2841),\n",
       " ('일본', 2833),\n",
       " ('현장', 2823),\n",
       " ('뉴스1', 2809),\n",
       " ('사실', 2790),\n",
       " ('없는', 2752),\n",
       " ('남자', 2738),\n",
       " ('발생', 2729),\n",
       " ('기대', 2716),\n",
       " ('이런', 2715),\n",
       " ('프로그램', 2715),\n",
       " ('기사', 2710),\n",
       " ('가능', 2683),\n",
       " ('이용', 2672),\n",
       " ('지금', 2663),\n",
       " ('주장', 2658)]"
      ]
     },
     "execution_count": 66,
     "metadata": {},
     "output_type": "execute_result"
    }
   ],
   "source": [
    "sort_word[:100]"
   ]
  },
  {
   "cell_type": "code",
   "execution_count": 68,
   "metadata": {},
   "outputs": [
    {
     "data": {
      "text/plain": [
       "['를', '위', '문장', '연습']"
      ]
     },
     "execution_count": 68,
     "metadata": {},
     "output_type": "execute_result"
    }
   ],
   "source": [
    "# konlpy\n",
    "okt.nouns('test를 위한 문장 연습')"
   ]
  },
  {
   "cell_type": "code",
   "execution_count": 70,
   "metadata": {},
   "outputs": [
    {
     "data": {
      "text/plain": [
       "['문장', '연습']"
      ]
     },
     "execution_count": 70,
     "metadata": {},
     "output_type": "execute_result"
    }
   ],
   "source": [
    "from konlpy.tag import Kkma\n",
    "kkma = Kkma()\n",
    "kkma.nouns('test를 위한 문장 연습')"
   ]
  }
 ],
 "metadata": {
  "kernelspec": {
   "display_name": "text3.5",
   "language": "python",
   "name": "text3.5"
  },
  "language_info": {
   "codemirror_mode": {
    "name": "ipython",
    "version": 3
   },
   "file_extension": ".py",
   "mimetype": "text/x-python",
   "name": "python",
   "nbconvert_exporter": "python",
   "pygments_lexer": "ipython3",
   "version": "3.5.6"
  }
 },
 "nbformat": 4,
 "nbformat_minor": 2
}
