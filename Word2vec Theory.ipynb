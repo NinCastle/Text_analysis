{
 "cells": [
  {
   "cell_type": "markdown",
   "metadata": {},
   "source": [
    "[한국어와 NLTK, Gensim의 만남](https://www.slideshare.net/lucypark/nltk-gensim)  \n",
    "[데이터 사이언스 스쿨 * ](https://datascienceschool.net/view-notebook/6927b0906f884a67b0da9310d3a581ee/)  \n",
    "하기 내용은 상기 링크를 정리한것이다.  "
   ]
  },
  {
   "cell_type": "markdown",
   "metadata": {},
   "source": [
    "# Word2Vec"
   ]
  },
  {
   "cell_type": "markdown",
   "metadata": {},
   "source": [
    "컴퓨터에게 사람의 언어를 이해 시키는 방법은 사람이 언어를 배우는 방법과 유사하다.  \n",
    "> 텍스트를 의미를 이해 $\\approx$ 유사한 의미를 가진 텍스트 모음 \n",
    "<br>\n",
    "<br>\n",
    "{단어, 문서} $\\subset$ 텍스트  \n",
    "  \n",
    "를 의미한다.  \n",
    "위의 의미를 가진 단어를 컴퓨터 언어로 표현하기 위해서는 선행적으로 알아야 할 것이 있다.  \n"
   ]
  },
  {
   "cell_type": "markdown",
   "metadata": {},
   "source": [
    "## 단어 임베딩(Word embedding)\n",
    "즉, 단어를 수치화 하는것인데.  \n",
    "텍스트 분석에서 많이 적용되고 있다. "
   ]
  },
  {
   "cell_type": "markdown",
   "metadata": {},
   "source": [
    "가장 쉽게 표현하는 방법은 이진(Binary)를 사용하는 것이다.\n",
    "$$\n",
    "I(w^1) = \\begin{bmatrix} \n",
    "1 \\\\ \n",
    "0 \\\\ \n",
    "0 \\\\ \n",
    "\\vdots \\\\ \n",
    "0 \n",
    "\\end{bmatrix}  \\quad\n",
    "am(w^2) = \\begin{bmatrix}\n",
    "0 \\\\\n",
    "1 \\\\\n",
    "0 \\\\\n",
    "\\vdots \\\\\n",
    "0\n",
    "\\end{bmatrix}\n",
    "\\quad\n",
    "\\ldots\n",
    "\\quad\n",
    "n(w^i) = \n",
    "\\begin{bmatrix}\n",
    "0 \\\\\n",
    "0 \\\\\n",
    "0 \\\\\n",
    "\\vdots \\\\\n",
    "1\n",
    "\\end{bmatrix}\n",
    "$$\n",
    "\n",
    "* 위의 $w^i$는 $i$번 단에 대한 벡터 표현이다.  \n",
    "* 각 벡터의 크기는 모든 단어의 set인 전체 사전의 크키 $|V|$와 같다. (이와 같은 이유로 많은 비용를 소비한다.)\n",
    "* 위와 같이 벡터로 표현하는 방법을 One-hot vector, One-hot encoding이라고 한다.  \n",
    "* 어떤 사람들은 이런 방식의 인코딩을 1 - of - V 코딩이라고 하기도 한다.  \n",
    "  "
   ]
  },
  {
   "cell_type": "markdown",
   "metadata": {},
   "source": [
    "https://www.slideshare.net/lucypark/nltk-gensim"
   ]
  },
  {
   "cell_type": "markdown",
   "metadata": {},
   "source": [
    "아래는 단어 각각에 index 정수를 지정하여 단어를 수치로 표현하는 방법이다.  \n",
    "```\n",
    "'아버지': 0\n",
    "'가':1\n",
    "'가방':2\n",
    "'에':3\n",
    "'들어':4\n",
    "'가신다':5\n",
    "```"
   ]
  }
 ],
 "metadata": {
  "kernelspec": {
   "display_name": "text3.5",
   "language": "python",
   "name": "text3.5"
  },
  "language_info": {
   "codemirror_mode": {
    "name": "ipython",
    "version": 3
   },
   "file_extension": ".py",
   "mimetype": "text/x-python",
   "name": "python",
   "nbconvert_exporter": "python",
   "pygments_lexer": "ipython3",
   "version": "3.5.5"
  }
 },
 "nbformat": 4,
 "nbformat_minor": 2
}
