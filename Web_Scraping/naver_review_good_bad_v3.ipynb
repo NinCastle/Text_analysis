{
 "cells": [
  {
   "cell_type": "code",
   "execution_count": 2,
   "metadata": {},
   "outputs": [],
   "source": [
    "import time\n",
    "import requests\n",
    "from bs4 import BeautifulSoup\n",
    "from selenium import webdriver\n",
    "\n",
    "from selenium.webdriver import Chrome"
   ]
  },
  {
   "cell_type": "markdown",
   "metadata": {},
   "source": [
    "# 뉴스 검색"
   ]
  },
  {
   "cell_type": "code",
   "execution_count": 4,
   "metadata": {},
   "outputs": [],
   "source": [
    "def news_search(query='\"삼성전자\"+-주가+-배구+-농구', page=1, maxpage=2, s_day='', e_day=''):\n",
    "#     query = ''\n",
    "    in_page = 1\n",
    "    in_maxpage = 2\n",
    "   \n",
    "    s_day = '2020.02.01'\n",
    "    e_day = '2020.02.02'\n",
    "    maxpage_t = (int(in_maxpage)-1)*10+1\n",
    "    start_day = s_day.replace('.', '')\n",
    "    end_day = e_day.replace('.', '')\n",
    "#     link_list = []\n",
    "#     title_list = []\n",
    "    time_s = 0.5\n",
    "    news_info_list = {}\n",
    "    while in_page <= maxpage_t:\n",
    "        link = 'https://search.naver.com/search.naver?&where=news&query='+query+'&sm=tab_pge&sort=0&photo=0&field=0&reporter_article=&pd=3&ds='+start_day+'&de='+end_day+'&docid=&nso=so:r,p:from20190107to20190131,a:all&mynews=0&cluster_rank=41&start='+str(page)+'&refresh_start=0'\n",
    "        print(link)\n",
    "        time.sleep(time_s)\n",
    "        res = requests.get(link)\n",
    "        html = res.text\n",
    "        \n",
    "        soup = BeautifulSoup(html, 'html.parser')\n",
    "        main_list = soup.findAll('ul',{'class':'type01'})[0].findAll('li')\n",
    "        \n",
    "        info_list = {}\n",
    "        end_news = len(main_list)\n",
    "        for i in main_list:\n",
    "            if [] != i.findAll('a', {\"class\":\"_sp_each_url\"}) and i.findAll('a', {\"class\":\"_sp_each_title\"}) != [] and 'https://news.naver.com/' in i.findAll('a', {\"class\":\"_sp_each_url\"})[0]['href']:\n",
    "                info_list[i.findAll('a', {\"class\":\"_sp_each_url\"})[0]['href']]= {'title':i.findAll('a', {\"class\":\"_sp_each_title\"})[0].text, \n",
    "                                  'news_comp':i.findAll('span', {'class':'_sp_each_source'})[0].text, \n",
    "                                  'link':i.findAll('a', {\"class\":\"_sp_each_url\"})[0]['href']}\n",
    "        news_info_list.update(info_list)\n",
    "        in_page += 10\n",
    "    return soup, news_info_list"
   ]
  },
  {
   "cell_type": "code",
   "execution_count": 5,
   "metadata": {},
   "outputs": [
    {
     "name": "stdout",
     "output_type": "stream",
     "text": [
      "https://search.naver.com/search.naver?&where=news&query=\"삼성전자\"+-주가+-배구+-농구&sm=tab_pge&sort=0&photo=0&field=0&reporter_article=&pd=3&ds=20200201&de=20200202&docid=&nso=so:r,p:from20190107to20190131,a:all&mynews=0&cluster_rank=41&start=1&refresh_start=0\n",
      "https://search.naver.com/search.naver?&where=news&query=\"삼성전자\"+-주가+-배구+-농구&sm=tab_pge&sort=0&photo=0&field=0&reporter_article=&pd=3&ds=20200201&de=20200202&docid=&nso=so:r,p:from20190107to20190131,a:all&mynews=0&cluster_rank=41&start=1&refresh_start=0\n"
     ]
    }
   ],
   "source": [
    "test, news_info_list = news_search()\n",
    "# test"
   ]
  },
  {
   "cell_type": "code",
   "execution_count": 6,
   "metadata": {},
   "outputs": [],
   "source": [
    "# max_news_ = test.findAll('div', {'class':'title_desc all_my'})[0].text.split('/')[1]\n",
    "# int(int(re.findall(r'[0-9]+', max_news_)[0])/9)+1"
   ]
  },
  {
   "cell_type": "code",
   "execution_count": 7,
   "metadata": {},
   "outputs": [
    {
     "data": {
      "text/plain": [
       "{'https://news.naver.com/main/read.nhn?mode=LSD&mid=sec&sid1=101&oid=001&aid=0011371549': {'link': 'https://news.naver.com/main/read.nhn?mode=LSD&mid=sec&sid1=101&oid=001&aid=0011371549',\n",
       "  'news_comp': '연합뉴스',\n",
       "  'title': '\"크고 비싼 게 잘 팔린다\"…삼성, 국내 프리미엄TV 시장 견인'},\n",
       " 'https://news.naver.com/main/read.nhn?mode=LSD&mid=sec&sid1=101&oid=029&aid=0002584859': {'link': 'https://news.naver.com/main/read.nhn?mode=LSD&mid=sec&sid1=101&oid=029&aid=0002584859',\n",
       "  'news_comp': '디지털타임스',\n",
       "  'title': '삼성·SK·LG, 변화 감지… `분사 - 사명변경` 움직임'},\n",
       " 'https://news.naver.com/main/read.nhn?mode=LSD&mid=sec&sid1=101&oid=277&aid=0004616476': {'link': 'https://news.naver.com/main/read.nhn?mode=LSD&mid=sec&sid1=101&oid=277&aid=0004616476',\n",
       "  'news_comp': '아시아경제',\n",
       "  'title': '삼성·LG, 생활가전 실적 호조 ‘프리미엄 제품 전략’으로 이어간다'},\n",
       " 'https://news.naver.com/main/read.nhn?mode=LSD&mid=sec&sid1=101&oid=437&aid=0000230163': {'link': 'https://news.naver.com/main/read.nhn?mode=LSD&mid=sec&sid1=101&oid=437&aid=0000230163',\n",
       "  'news_comp': 'JTBC언론사 선정',\n",
       "  'title': \"삼성화재도 68년 만에 '노조'…'무노조 경영' 변화 생길까\"},\n",
       " 'https://news.naver.com/main/read.nhn?mode=LSD&mid=sec&sid1=105&oid=014&aid=0004366425': {'link': 'https://news.naver.com/main/read.nhn?mode=LSD&mid=sec&sid1=105&oid=014&aid=0004366425',\n",
       "  'news_comp': '파이낸셜뉴스',\n",
       "  'title': '글로벌 IT업체 양자컴퓨팅 성과 급물살… 삼성도 투자 나서'},\n",
       " 'https://news.naver.com/main/read.nhn?mode=LSD&mid=sec&sid1=105&oid=015&aid=0004282558': {'link': 'https://news.naver.com/main/read.nhn?mode=LSD&mid=sec&sid1=105&oid=015&aid=0004282558',\n",
       "  'news_comp': '한국경제언론사 선정',\n",
       "  'title': \"삼성폰 꺾고 1위 탈환한 애플, '신종 코로나'에 기세 꺾이나\"},\n",
       " 'https://news.naver.com/main/read.nhn?mode=LSD&mid=sec&sid1=105&oid=018&aid=0004566972': {'link': 'https://news.naver.com/main/read.nhn?mode=LSD&mid=sec&sid1=105&oid=018&aid=0004566972',\n",
       "  'news_comp': '이데일리',\n",
       "  'title': '삼성전자·SK하이닉스, 실적 반등 기대↑..‘신종 코로나’가 변수로'},\n",
       " 'https://news.naver.com/main/read.nhn?mode=LSD&mid=sec&sid1=105&oid=030&aid=0002865168': {'link': 'https://news.naver.com/main/read.nhn?mode=LSD&mid=sec&sid1=105&oid=030&aid=0002865168',\n",
       "  'news_comp': '전자신문언론사 선정',\n",
       "  'title': \"美 '슈퍼볼' 삼성 TV로 보세요\"},\n",
       " 'https://news.naver.com/main/read.nhn?mode=LSD&mid=sec&sid1=105&oid=468&aid=0000621894': {'link': 'https://news.naver.com/main/read.nhn?mode=LSD&mid=sec&sid1=105&oid=468&aid=0000621894',\n",
       "  'news_comp': '스포츠서울',\n",
       "  'title': \"LG 상대로 공격 수위 높이는 삼성…TV·건조기 이어 의류관리기 비방 광고 '여...\"}}"
      ]
     },
     "execution_count": 7,
     "metadata": {},
     "output_type": "execute_result"
    }
   ],
   "source": [
    "news_info_list"
   ]
  },
  {
   "cell_type": "markdown",
   "metadata": {},
   "source": [
    "# 뉴스 데이터 추출"
   ]
  },
  {
   "cell_type": "code",
   "execution_count": 8,
   "metadata": {},
   "outputs": [],
   "source": [
    "addr = \"https://news.naver.com/main/read.nhn?mode=LSD&mid=sec&sid1=103&oid=366&aid=0000448680\"\n",
    "addr ='https://news.naver.com/main/read.nhn?mode=LSD&mid=sec&sid1=101&oid=011&aid=0003569092'\n",
    "def make_det(addr):\n",
    "    chrome_ = 'D:\\chromedriver_win32\\chromedriver.exe'\n",
    "    driver = webdriver.Chrome(chrome_)\n",
    "    # driver = Chrome()\n",
    "    driver.get(addr)\n",
    "    date = driver.find_element_by_class_name('t11').text[:10]\n",
    "    good_and_bad = driver.find_element_by_class_name('end_btn').text\n",
    "    title = driver.find_element_by_class_name('tts_head').text\n",
    "    content = driver.find_element_by_class_name('_article_body_contents').text\n",
    "    time.sleep(0.5)\n",
    "    comp = driver.find_element_by_class_name('changecmt_p').text.replace('이 기사의 댓글 정책은 ', '').replace('가 결정합니다.', '').replace('안내','')\n",
    "    try:\n",
    "        time.sleep(1)\n",
    "        driver.find_element_by_xpath('//*[@id=\"cbox_module\"]/div[2]/div[9]/a').click()\n",
    "        while True:\n",
    "            try:\n",
    "                time.sleep(1)\n",
    "                driver.find_element_by_xpath('//*[@id=\"cbox_module\"]/div[2]/div[9]/a/span').click()\n",
    "            except:\n",
    "                break\n",
    "            reviews_number = int(driver.find_element_by_class_name('u_cbox_count').text)\n",
    "            reviews = [driver.find_element_by_xpath('//*[@id=\"cbox_module\"]/div[2]/div[8]/ul/li['+str(j)+']/div[1]/div/div[3]/span[1]').text[:10] for j in range(1, reviews_number+1)]\n",
    "            init_date = {}\n",
    "            for k in reviews:\n",
    "                init_date[k] = 0\n",
    "            for k in reviews:\n",
    "                init_date[k] += 1\n",
    "    except:\n",
    "        pass\n",
    "    driver.close()\n",
    "    try:\n",
    "        output = {'title':title, 'review_count':init_date, 'date':date, 'content':content, 'news_comp':comp, 'good_bad':good_and_bad, 'link':addr}\n",
    "    except:\n",
    "        output = {'title':title, 'review_count':None, 'date':date, 'content':content, 'news_comp':comp, 'good_bad':good_and_bad, 'link':addr}\n",
    "    return output"
   ]
  },
  {
   "cell_type": "code",
   "execution_count": 9,
   "metadata": {},
   "outputs": [
    {
     "name": "stdout",
     "output_type": "stream",
     "text": [
      "https://news.naver.com/main/read.nhn?mode=LSD&mid=sec&sid1=105&oid=015&aid=0004282558\n",
      "{'https://news.naver.com/main/read.nhn?mode=LSD&mid=sec&sid1=105&oid=015&aid=0004282558': {'title': \"삼성폰 꺾고 1위 탈환한 애플, '신종 코로나'에 기세 꺾이나\", 'news_comp': '한국경제언론사 선정', 'link': 'https://news.naver.com/main/read.nhn?mode=LSD&mid=sec&sid1=105&oid=015&aid=0004282558', 'good_bad': '좋아요\\n149\\n훈훈해요\\n4\\n슬퍼요\\n10\\n화나요\\n16\\n후속기사 원해요\\n19\\n이 기사를 추천합니다 28\\n안내\\n보내기', 'date': '2020.02.02', 'content': '애플 전체 매출 20%가량 차지하는 애플 최대 시장인 中\\n애플, 오는 9일까지 중국 모든 매장 임시 폐장\\n중국 위치한 대만 폭스콘 등 생산 체인에 악영향 가능성까지\\n신종 코로나 우려에 애플 CEO, 직접 \\'차이나리스크\\' 거론\\n사진=연합뉴스(로이터)\\n\\n지난해 4분기 스마트폰 판매량 1위 자리에 올라선 애플이 올해 연초부터 신종 코로나 바이러스 감염증(우한 폐렴) 확산이라는 뜻밖의 암초를 만났다. 애플이 중국 본토의 모든 매장을 임시 폐쇄한다고 밝히며 최대 시장인 중국의 스마트폰 수요가 줄어드는 데다, 중국 현지에 핵심 생산 체인이 모두 밀집돼 있어 아이폰 생산까지도 차질을 빚을 것이라는 전망이 나온다.\\n\\n시장조사업체 카운터포인트는 지난해 4분기 애플의 스마트폰 판매량이 7290만대, 전체 시장 점유율을 18%를 기록해 7000만대를 판매한 2위 삼성전자를 근소하게 앞질렀다고 지난 31일(현지시간) 밝혔다. 분기 기준 애플이 삼성을 꺾은 건 2년 만이다. 지난해 9월 출시한 \\'아이폰 11\\' 시리즈의 흥행이 컸다.\\n\\n그러나 애플이 호실적을 이어갈 지는 미지수다. 업계는 신종 코로나 사태가 애플의 중국 시장 아이폰 판매에 악영향을 끼칠 것이라고 보고 있다.\\n\\n중국은 애플 전체 매출의 20% 가량을 차지하는 최대 시장이다. 지난해 12월 애플은 중국에서 전년 동기 대비 18% 이상 늘어난 318만대의 아이폰을 출하, 아이폰 자체 월별 중국 판매량 최대 기록을 세우기도 했다. 중국에서의 선전에 힘입어 애플은 지난해 4분기 918억2000만 달러의 매출을 올리며 \\'깜짝 실적\\'을 거둘 수 있었다.\\n\\n지난달 29일 지난해 4분기(미국 회계기준으론 1분기) 애플 실적을 발표하고 난 후 팀 쿡 애플 CEO가 컨퍼런스 콜에서 대답을 하고 있다/사진=로이터\\n\\n애플은 직접 올해 1분기 실적이 신종 코로나로 발생할 수 있는 \\'차이나 리스크\\' 때문에 좋지 않을 가능성이 높다고 전망했다. 애플은 올 1분기 매출액 전망치를 630억~670억달러로 크게 낮춰 잡았다. 전 분기 대비 35%나 급감한 수치다.\\n\\n팀 쿡 애플 최고경영자(CEO)는 지난달 28일 애플 분기 실적발표 후 이어진 컨퍼런스콜에서 \"최근 몇 주간 신종 코로나 애플 소매 판매량에 일부 영향을 미치고 있다\"고 설명했다.\\n\\n실제로 애플은 오는 9일까지 중국 본토 모든 매장을 임시 폐쇄하기로 했다. 애플은 1일 성명을 내고 \"코로나 바이러스의 영향을 가장 직접적으로 받은 사람들과 바이러스 연구 및 억제를 위해 밤낮으로 일하는 사람들과 마음을 함께 한다\"며 \"중국 내 매장뿐만 아니라 사무실과 고객센터의 문을 닫는다\"고 설명했다.\\n\\n또 애플은 자사 매뉴얼대로 중국 내 직원들 이동을 제한하고, 타 매장들 영업 시간을 단축하는 등 조치를 취하고 있는 것으로 알려졌다. 애플은 중국 전역에 1만명에 이르는 직원을 두고 있다.\\n\\n아울러 애플은 직원들의 중국 출장을 \\'경영 활동에 매우 중요한 상황\\'으로 제한하고, 매장 청소와 직원들의 체온 점검도 강화한다고 밝혔다.\\n\\n더 큰 우려는 신종 코로나의 발원지인 후베이성 부근에 밀집된 애플의 핵심 공급 체인에 바이러스가 덮쳐 아이폰 생산에 차질을 빚는 경우다. 이 지역에는 애플의 주요 생산 공장인 대만 폭스콘 등이 있다.\\n\\n이미 중국 정부의 권고에 따라 우한 지역의 애플의 몇몇 부품 공급업체와 우한 외 지역 생산시설의 조업이 중단된 것으로 알려졌다.\\n\\n애플 전문 분석가 궈밍치 애널리스트는 \"애플 제품을 양산하는 중국 공장들이 신종 코로나로 대규모 생산 위험에 직면할 수 있다\"고 경고했다.\\n\\n일각에선 애플이 4년 만에 새롭게 출시할 보급형 스마트폰 \\'아이폰SE\\'의 후속작인 \\'아이폰SE2(혹은 아이폰9)\\' 예정 출시일이 당초 알려진 3월에서 미뤄질 것으로 보고 있다. 최악의 상황으로는 올해 하반기에 출시될 예정인 아이폰11 시리즈 후속 플래그십에도 악영향을 끼칠 것이라는 전망까지 나오고 있다.\\n\\n이에 쿡 CEO는 \"애플은 우한 지역에 몇몇 공급업체를 두고 있다. 상황이 급박하게 돌아가고 있기에 면밀히 모니터링해 대책을 추가로 강구할 것\"이라고 말했다.\\n\\n반면 삼성전자의 경우 신종 코로나 영향이 크지 않을 것으로 보인다. 삼성은 이미 전부터 중국서 스마트폰 생산을 중단했을 뿐더러 갤럭시의 실적에서도 중국 시장 비중이 높은 편이 아니기 때문이다.\\n\\n배성수 한경닷컴 기자 baebae@hankyung.com\\n\\n\\n\\n▶ 네이버에서 한국경제 뉴스를 받아보세요\\n▶ 한경닷컴 바로가기 ▶ 모바일한경 구독신청\\n\\nⓒ 한국경제 & hankyung.com, 무단전재 및 재배포 금지', 'review_count': None}}\n"
     ]
    }
   ],
   "source": [
    "count = 0\n",
    "for i in news_info_list:\n",
    "    if count == 1:\n",
    "        break\n",
    "    count+=1\n",
    "    \n",
    "    print(i)\n",
    "#     print()\n",
    "    new_dict = {}\n",
    "    new_dict[i] = make_det(i)\n",
    "    new_dict[i].update(news_info_list[i])\n",
    "    print(new_dict)"
   ]
  },
  {
   "cell_type": "code",
   "execution_count": 7,
   "metadata": {},
   "outputs": [
    {
     "data": {
      "text/plain": [
       "{'content': \"中 부품사 입찰 전면개방 이어\\n국내시장도 수익성 방어 주문\\n내달 출시 소형SUV 셀토스 등\\n한국·금호타이어 적용모델 늘릴듯\\n\\n[서울경제] 정의선 현대자동차그룹 총괄수석부회장이 “국내 시장에서도 원가경쟁력을 높이라”고 주문한 것으로 파악됐다. 올해 고고도미사일방어체계(THAAD·사드) 사태 이후 판매실적 회복이 더딘 중국 법인에 현지 부품사들의 입찰을 전면 개방한 데 이어 내수시장도 수익성을 방어하라는 의미다. 원가 경쟁력 개선 주문으로 국내 자동차부품 시장에서 국산 타이어 채용이 확대될 조짐에 따라 타이어업계의 기대감도 커지고 있다.\\n\\n12일 자동차업계의 한 고위관계자는 “정 수석부회장이 내부에 원가경쟁력과 수익성을 개선하라는 방침을 내렸다”며 “특히 소형 스포츠유틸리티차량(SUV) 등의 상품성도 높여 제품 경쟁력과 이익률 모두 방어하라는 의미”라고 설명했다.\\n\\n현대·기아자동차는 최근 몇 년간 미국 시장에서 SUV 라인업 부족으로 부진을 겪은 데 이어 중국 시장에서 사드 사태를 맞으며 판매량이 179만대에서 116만대까지 하락한 상황이다. 지난 2011년 10%를 넘던 영업이익률은 지난해 2%대까지 추락했다. 이에 지난해부터 주주들이 수익성을 개선하라는 요구를 공개적으로 했다. 최병철 현대차 부사장은 올 4월 열린 콘퍼런스콜에서 “원가 절감을 통해 올해 4% 이상 영업이익률을 기록할 수 있도록 집중하겠다”고 발표했다. 이와 함께 현대·기아차는 “중국 법인의 경우 현지 부품업체들의 입찰을 전면 개방하겠다”고 밝혔다. 꼭 글로벌 부품기업이나 한국 업체가 아니라도 엄격한 품질 기준을 맞추면 중국 부품도 채용해 이익률을 높이겠다는 것이다. 한 완성차 업체 관계자는 “미중 무역전쟁으로 주요 시장과 신흥국이 불안해지면서 이익률을 회복하지 않고는 장기전에 돌입하기 힘든 상황이 됐다”며 “주주들의 요구가 아니라도 2%대의 이익률로는 살아남기 힘들다”고 말했다.\\n\\n현대·기아차는 미국 시장에서는 팰리세이드와 텔루라이드 등 대형 SUV, 신형 싼타페, 신형 쏘나타 등의 출시에 따른 SUV 라인업 강화와 신차 효과로 8개월 연속 판매가 늘었다. 보통 신차가 나오면 인센티브가 줄고 판매량이 늘어 이익률이 개선된다. 중국 시장은 현지 부품 채용 확대를 이익률 개선의 전략으로 잡았다. 한국 시장까지 이익률이 개선되면 현대차가 공언한 대로 올해 이익률 4% 달성이 가능할 수 있다. 현대차는 올해 1·4분기 영업이익률이 3.4%, 기아차는 4.8%로 개선 추세다. 국내 시장에서도 이익률이 개선되면 4%가 아니라 올해 5%대 회복도 바라볼 수 있다.\\n\\n정 수석부회장이 국내 시장에서도 원가 경쟁력을 개선하라는 것 역시 이 같은 전략의 연장선으로 풀이된다. 이에 현대·기아차는 국산 타이어의 적용을 확대하는 방안을 내부적으로 추진 중인 것으로 파악됐다. 이를 반영하듯 기아차가 오는 7월 국내 시장에 내놓을 신형 소형 SUV 셀토스는 금호타이어(073240)를 기본 타이어로 장착한다. 현대·기아차는 플래그십 모델(팰리세이드·모하비 등)을 제외한 모델들에 글로벌 시장에서도 기술력을 인정받는 한국타이어(161390)와 금호타이어의 적용을 늘리는 쪽으로 방향을 잡는 것이다. 같은 품질이라도 국내 생산 타이어는 물류비가 적어 가격 경쟁력이 높다. 타이어 업계의 한 관계자는 “타이어는 자동차 가운데 가장 비싼 부품으로 꼽힌다”며 “한대당 짝당 단가를 2만~3만원 낮춰도 가격 경쟁력이 생긴다”고 설명했다.\\n\\n무엇보다 현대차가 국내 시장에서 원가를 개선해 이익만 높이는 것이 아니라 가격을 합리화하는 데 주력하고 있다는 평가도 나온다. 7월 출시되는 셀토스의 가격이 생각보다 낮은 수준에서 책정될 것이라는 전망도 있다. 셀토스가 투입되는 소형 SUV 시장은 코나와 쌍용 티볼리, 르노삼성 QM3, 쉐보레 트랙스 등이 경합하고 있다. 시장 규모가 지난해 국내 내수 승용차판매(약 152만대)의 10%인 15만대 수준인데 최근 시장이 확대되고 있다. 경쟁 모델인 티볼리와 QM3 등은 현대·기아차의 코나보다 가격이 트림별로 약 200만원가량 낮은 편이다. 원가경쟁력을 개선한 현대·기아차가 가격을 낮추고 판매를 늘리는 방식으로 이 시장을 장악하는 전략을 펼 것이라는 관측이다. /구경우기자 bluesquare@sedaily.com\\n\\n[서울경제 바로가기]\\n▶ 내가 살 아파트, 실거래가 News봇으로 | ▶ 네이버TV로 서울경제썸 구독하기\\n▶ 네이버 메인에서 'No. 1 뉴스' 서울경제를 만나보세요\\n\\n\\n저작권자 ⓒ 서울경제, 무단 전재 및 재배포 금지\",\n",
       " 'date': '2019.06.12',\n",
       " 'good_bad': '좋아요\\n10\\n훈훈해요\\n0\\n슬퍼요\\n0\\n화나요\\n6\\n후속기사 원해요\\n1\\n이 기사를 추천합니다 1\\n안내\\n보내기',\n",
       " 'link': 'https://news.naver.com/main/read.nhn?mode=LSD&mid=sec&sid1=101&oid=011&aid=0003569092',\n",
       " 'news_comp': '서울경제',\n",
       " 'review_count': {'2019.06.12': 5,\n",
       "  '2019.06.13': 14,\n",
       "  '2019.06.15': 1,\n",
       "  '2019.06.17': 2,\n",
       "  '2019.07.21': 1,\n",
       "  '2019.07.27': 1,\n",
       "  '2019.11.04': 1},\n",
       " 'title': '현대차 원가절감 선언에···국산타이어 희색'}"
      ]
     },
     "execution_count": 7,
     "metadata": {},
     "output_type": "execute_result"
    }
   ],
   "source": [
    "output"
   ]
  }
 ],
 "metadata": {
  "kernelspec": {
   "display_name": "python3.5",
   "language": "python",
   "name": "python3.5"
  },
  "language_info": {
   "codemirror_mode": {
    "name": "ipython",
    "version": 3
   },
   "file_extension": ".py",
   "mimetype": "text/x-python",
   "name": "python",
   "nbconvert_exporter": "python",
   "pygments_lexer": "ipython3",
   "version": "3.5.6"
  }
 },
 "nbformat": 4,
 "nbformat_minor": 2
}
