{
 "cells": [
  {
   "cell_type": "markdown",
   "metadata": {},
   "source": [
    "https://github.com/lovit/textmining-tutorial/blob/master/topics/topic1_from_text_to_vector/ngram.pdf\n",
    "    \n",
    "https://mrseo.co.kr/n-gram-%EC%9D%B8%EB%8D%B1%EC%8A%A4-%EB%B0%A9%EC%8B%9D/  \n",
    "  \n",
    "http://jiisonline.evehost.co.kr/files/DLA/20180401181820_JIIS-2018-24(1)_9.pdf?PHPSESSID=e599a4de79e4b9f2c41a84793ae9f545  \n",
    "  \n",
    "https://datascienceschool.net/view-notebook/a0c848e1e2d343d685e6077c35c4203b/  \n",
    "하기 내용은 상기 내용을 요약한것"
   ]
  },
  {
   "cell_type": "markdown",
   "metadata": {},
   "source": [
    "## Unigram"
   ]
  },
  {
   "cell_type": "markdown",
   "metadata": {},
   "source": [
    "* 독립된 하나의 단어를 unigram이라한다."
   ]
  },
  {
   "cell_type": "markdown",
   "metadata": {},
   "source": [
    "## Bigram  \n",
    "* unigram + unigram\n",
    "* 두개의 단어 조합을 하나의 단어로 취급한다.\n",
    "* 단어의 연결은 '-'로 표기한다.\n",
    "* bigram은 문맥의 표현력이 좋다.\n",
    " - '재미'라는 단어 만으로는 이 문장의 긍/부정을 알기 어렵다.  \n",
    " - '있는'만으로는 어떤 의미인지 알기 어렵다.\n",
    " - '재미-있는'은 긍정적인 문맥을 표현한다.  \n",
    "  \n",
    "* document classification은 bigram + linear model이면 충분하다.  \n",
    " - 많은 연구들에서도 sentiment/category classification에서는 bigram features이면 logistic regression과 같은 모델이어도 분류가 잘된다 알려졌다.\n",
    " - unigram 보다는 bigram을 이용하것이 큰 도움이 된다.  \n",
    "   \n",
    "## N-Gram \n",
    "* n-gram은 새 개 이상의 단어 조합을 하나의 단어로 취급한다. \n",
    "* 추출 방법은 다양하고 가장 좋은 방법은 아직 없다. 하지만 계산 과정에서 많은 메모리가 필요할 수 있다. \n",
    "* 가장 간단한 방법은 모든 n-gram에 대하여 빈도수를 계산하는 것이다.  \n",
    "* 'Josa + Verb + Noun'과 같은 형태의 n-gram이 추출 될수도 있다.  "
   ]
  },
  {
   "cell_type": "markdown",
   "metadata": {},
   "source": [
    "```python\n",
    "[(('열린/Verb', '영화/Noun'), 476), \n",
    " (('에서/Noun', '열린/Verb', '영화/Noun'),288),\n",
    " (('코미디/Noun','영화/Noun'),204),\n",
    " (('국제/Noun', '영화제/Noun'), 200),\n",
    " (('에서/Josa','열린/Verb','영화/Noun'), 185)]\n",
    "```\n",
    " \n",
    " <마지막 단어가 '영화'인 bi/trigram>\n",
    " "
   ]
  },
  {
   "cell_type": "markdown",
   "metadata": {},
   "source": [
    "```python\n",
    "[(('재/Noun', '배포/Noun', '금지/Noun'), 20436),\n",
    " (('및/Noun', '열린/Verb', '영화/Noun'), 14687),\n",
    " (('전재/Noun', '및/Noun', '재/Noun'), 14340),\n",
    " (('무단/Noun', '전재/Noun', '및/Noun'), 14340),\n",
    " (('무단/Noun', '전재/Noun', '재/Noun'), 5178)\n",
    "```\n",
    "\n",
    "<뉴스기사의 빈도수 상위 5개의 trigram>"
   ]
  },
  {
   "cell_type": "markdown",
   "metadata": {},
   "source": [
    "## Origin PMI  \n",
    "**Bigram score**\n",
    "$$PMI(A, B) = log( \\frac{p(A \\cap B)}{p(A)p(B)}) = log(\\frac{nz}{ab})$$\n",
    "> $p(A)$와 $p(B)$는 A와 B가 등장할 확률이고, $p(A\\cap B)$는 A와 B가 동시에 등장할 확률이다.   \n",
    "전체 문헌의 토큰 개수를 n이라고 하고,   \n",
    "A가 등장할 횟수를 a,  \n",
    "B가 등장할 횟수를 b,  \n",
    "A와 B가 동시에 등장할 횟수를 z이라고 한다.  \n",
    "  \n",
    "  \n",
    "\n",
    "**N-Gram score**\n",
    "$$PMI(A, B, C) = log( \\frac{p(A \\cap B \\cap C)}{p(A)p(B)p(C)}) = log(\\frac{n^2z}{abc})$$"
   ]
  },
  {
   "cell_type": "markdown",
   "metadata": {},
   "source": [
    "---"
   ]
  },
  {
   "cell_type": "code",
   "execution_count": 9,
   "metadata": {},
   "outputs": [],
   "source": [
    "testset_1 = \"\"\"동해물과 백두산이 마르고 닳도록 \n",
    "하느님이 보우하사 우리나라 만세.  \n",
    "무궁화 삼천리 화려강산 \n",
    "대한 사람, 대한으로 길이 보전하세. \n",
    "\n",
    "남산[11] 위에 저 소나무, 철갑을 두른 듯  \n",
    "바람서리[12] 불변함은 우리 기상일세. \n",
    "무궁화 삼천리 화려강산 \n",
    "대한 사람, 대한으로 길이 보전하세. \n",
    "\n",
    "가을 하늘 공활한데 높고 구름 없이  \n",
    "밝은 달은 우리 가슴 일편단심일세. \n",
    "무궁화 삼천리 화려강산 \n",
    "대한 사람, 대한으로 길이 보전하세. \n",
    "\n",
    "이 기상과 이 맘으로 충성을 다하여 \n",
    "괴로우나 즐거우나 나라 사랑하세. \n",
    "무궁화 삼천리 화려강산 \n",
    "대한 사람, 대한으로 길이 보전하세. \"\"\""
   ]
  },
  {
   "cell_type": "code",
   "execution_count": 10,
   "metadata": {},
   "outputs": [
    {
     "name": "stdout",
     "output_type": "stream",
     "text": [
      "gram에 적용할 문장 :  ['대한', '사람', '대한', '으로', '길이', '보전', '하세']\n",
      "전체 단어 길이 :  109\n"
     ]
    }
   ],
   "source": [
    "import re\n",
    "import collections\n",
    "from konlpy.tag import Twitter; tw = Twitter()\n",
    "# s = '1234 안녕하세요'\n",
    "\n",
    "hangul = re.compile('[^ \\u3131-\\u3163\\uac00-\\ud7a3]+')\n",
    "result = hangul.sub(\"\", testset_1)\n",
    "# print(result)\n",
    "\n",
    "song = tw.morphs(result)\n",
    "\n",
    "nouns_count = collections.Counter(song)\n",
    "denominator = collections.Counter(song)\n",
    "print(\"gram에 적용할 문장 : \", song[18:25])\n",
    "print(\"전체 단어 길이 : \", len(song))"
   ]
  },
  {
   "cell_type": "markdown",
   "metadata": {},
   "source": [
    "## Bigram 점수\n",
    "by Point Mutual Information (PMI) - like\n",
    "* Mikolov의 PMI"
   ]
  },
  {
   "cell_type": "markdown",
   "metadata": {},
   "source": [
    "$$\n",
    "score(w_i, w_j) = \\frac{count(w_i, w_j)-\\delta}{count(w_i) \\times count(w_j)}\n",
    "$$"
   ]
  },
  {
   "cell_type": "code",
   "execution_count": 11,
   "metadata": {},
   "outputs": [],
   "source": [
    "# print(song[18], nouns_count[song[18]])\n",
    "# print(song[19], nouns_count[song[19]])\n",
    "# nouns_count[song[19]] * nouns_count[song[20]]"
   ]
  },
  {
   "cell_type": "markdown",
   "metadata": {},
   "source": [
    "# 코드 n-gram은 순차로 만들지 말고 순서에 상관 없이 생성해야 한다."
   ]
  },
  {
   "cell_type": "code",
   "execution_count": 12,
   "metadata": {},
   "outputs": [
    {
     "data": {
      "text/plain": [
       "{('가슴', '일편단심'): 1.0,\n",
       " ('가을', '하늘'): 1.0,\n",
       " ('강산', '대한'): 0.125,\n",
       " ('공활', '한'): 1.0,\n",
       " ('과', '백두산'): 0.5,\n",
       " ('과', '이'): 0.125,\n",
       " ('괴로', '우'): 0.5,\n",
       " ('구름', '없이'): 1.0,\n",
       " ('기상', '과'): 0.25,\n",
       " ('기상', '일'): 0.25,\n",
       " ('길이', '보전'): 0.25,\n",
       " ('나', '나라'): 0.5,\n",
       " ('나', '즐거'): 0.5,\n",
       " ('나라', '사랑하세'): 1.0,\n",
       " ('남산', '위'): 1.0,\n",
       " ('높고', '구름'): 1.0,\n",
       " ('다하여', '괴로'): 1.0,\n",
       " ('달', '은'): 0.5,\n",
       " ('닳', '도록'): 1.0,\n",
       " ('대한', '사람'): 0.125,\n",
       " ('대한', '으로'): 0.1,\n",
       " ('데', '높고'): 1.0,\n",
       " ('도록', '하느님'): 1.0,\n",
       " ('동해', '물'): 1.0,\n",
       " ('두른', '듯'): 1.0,\n",
       " ('듯', '바람'): 1.0,\n",
       " ('마르고', '닳'): 1.0,\n",
       " ('만세', '무궁화'): 0.25,\n",
       " ('맘', '으로'): 0.2,\n",
       " ('무궁화', '삼천리'): 0.25,\n",
       " ('물', '과'): 0.5,\n",
       " ('바람', '서리'): 1.0,\n",
       " ('밝은', '달'): 1.0,\n",
       " ('백두산', '이'): 0.25,\n",
       " ('보우', '하사'): 1.0,\n",
       " ('보전', '하세'): 0.25,\n",
       " ('불변', '함'): 1.0,\n",
       " ('사람', '대한'): 0.125,\n",
       " ('사랑하세', '무궁화'): 0.25,\n",
       " ('삼천리', '화려'): 0.25,\n",
       " ('서리', '불변'): 1.0,\n",
       " ('세', '무궁화'): 0.25,\n",
       " ('소나무', '철갑'): 1.0,\n",
       " ('없이', '밝은'): 1.0,\n",
       " ('에', '저'): 1.0,\n",
       " ('우', '나'): 0.5,\n",
       " ('우리', '가슴'): 0.5,\n",
       " ('우리', '기상'): 0.25,\n",
       " ('우리나라', '만세'): 1.0,\n",
       " ('위', '에'): 1.0,\n",
       " ('으로', '길이'): 0.2,\n",
       " ('으로', '충성'): 0.2,\n",
       " ('은', '우리'): 0.5,\n",
       " ('을', '다하여'): 0.5,\n",
       " ('을', '두른'): 0.5,\n",
       " ('이', '기상'): 0.125,\n",
       " ('이', '마르고'): 0.25,\n",
       " ('이', '맘'): 0.25,\n",
       " ('이', '보우'): 0.25,\n",
       " ('일', '세'): 0.5,\n",
       " ('일편단심', '일'): 0.5,\n",
       " ('저', '소나무'): 1.0,\n",
       " ('즐거', '우'): 0.5,\n",
       " ('철갑', '을'): 0.5,\n",
       " ('충성', '을'): 0.5,\n",
       " ('하느님', '이'): 0.25,\n",
       " ('하늘', '공활'): 1.0,\n",
       " ('하사', '우리나라'): 1.0,\n",
       " ('하세', '가을'): 0.25,\n",
       " ('하세', '남산'): 0.25,\n",
       " ('하세', '이'): 0.0625,\n",
       " ('한', '데'): 1.0,\n",
       " ('함', '은'): 0.5,\n",
       " ('화려', '강산'): 0.25}"
      ]
     },
     "execution_count": 12,
     "metadata": {},
     "output_type": "execute_result"
    }
   ],
   "source": [
    "gram_dict = {}\n",
    "for i in range(len(song)):\n",
    "    if i != len(song)-1:\n",
    "        gram_dict[song[i], song[i+1]] = 0\n",
    "\n",
    "for i in range(len(song)):\n",
    "    if i != len(song)-1:\n",
    "        gram_dict[song[i], song[i+1]] += 1\n",
    "bigram_point = {}\n",
    "for i in range(len(song)):\n",
    "    if i != len(song)-1:\n",
    "#         print(song[i], song[i+1], \":\" ,song[i], song[i+1])\n",
    "        bigram_point[song[i], song[i+1]] = gram_dict[song[i], song[i+1]] / (nouns_count[song[i]] * nouns_count[song[i+1]])\n",
    "# gram_dict\n",
    "# print(song[16], song[17],\":\" ,gram_dict[song[16], song[17]] / (nouns_count[song[16]] * nouns_count[song[17]]))\n",
    "# print(song[17], song[18],\":\" ,gram_dict[song[17], song[18]] / (nouns_count[song[17]] * nouns_count[song[18]]))\n",
    "# print(song[18], song[19],\":\" ,gram_dict[song[18], song[19]] / (nouns_count[song[18]] * nouns_count[song[19]]))\n",
    "# print(song[19], song[20],\":\" ,gram_dict[song[19], song[20]] / (nouns_count[song[19]] * nouns_count[song[20]]))\n",
    "bigram_point"
   ]
  },
  {
   "cell_type": "code",
   "execution_count": 13,
   "metadata": {},
   "outputs": [
    {
     "data": {
      "text/plain": [
       "4"
      ]
     },
     "execution_count": 13,
     "metadata": {},
     "output_type": "execute_result"
    }
   ],
   "source": [
    "gram_dict[song[16], song[17]]"
   ]
  },
  {
   "cell_type": "code",
   "execution_count": 14,
   "metadata": {},
   "outputs": [
    {
     "data": {
      "text/plain": [
       "16"
      ]
     },
     "execution_count": 14,
     "metadata": {},
     "output_type": "execute_result"
    }
   ],
   "source": [
    "nouns_count[song[16]] * nouns_count[song[17]]"
   ]
  },
  {
   "cell_type": "code",
   "execution_count": 15,
   "metadata": {},
   "outputs": [
    {
     "data": {
      "text/plain": [
       "0.25"
      ]
     },
     "execution_count": 15,
     "metadata": {},
     "output_type": "execute_result"
    }
   ],
   "source": [
    "4/16"
   ]
  },
  {
   "cell_type": "code",
   "execution_count": 16,
   "metadata": {},
   "outputs": [],
   "source": [
    "import ngram"
   ]
  },
  {
   "cell_type": "code",
   "execution_count": 17,
   "metadata": {},
   "outputs": [
    {
     "name": "stdout",
     "output_type": "stream",
     "text": [
      "[('동해', 0.16666666666666666), ('이', 0.08333333333333333), ('없이', 0.07692307692307693), ('길이', 0.07692307692307693), ('백두산', 0.07142857142857142)]\n",
      "[('동해', 0.13333333333333333), ('이', 0.06666666666666667), ('없이', 0.0625), ('길이', 0.0625), ('백두산', 0.058823529411764705)]\n"
     ]
    }
   ],
   "source": [
    "G = ngram.NGram(song)\n",
    "print(G.search('동해물과백두산이'))\n",
    "print(G.search('동해물 과 백두산 이'))"
   ]
  },
  {
   "cell_type": "markdown",
   "metadata": {},
   "source": [
    "## N-Gram 점수\n",
    "Extending Point Mutual Information(PMI)\n",
    "* PMI는 2개의 items에 대해 정의되어 있다.\n",
    "* n 개의 items에 대한 확장방법은 다양하며, 절대적인 정답은 없다.\n",
    "* bigram이 더 정확한 문맥을 나타내므로, 이를 이용하여 PMI를 확장한다.  "
   ]
  },
  {
   "cell_type": "markdown",
   "metadata": {},
   "source": [
    "$$score(w_i, w_j, w_k) = \\frac{count(w_i, w_j, w_k)-\\delta}{count(w_i, w_j) \\times count(w_j, w_k)}$$"
   ]
  },
  {
   "cell_type": "markdown",
   "metadata": {},
   "source": [
    "## N-gram 사용범위"
   ]
  },
  {
   "cell_type": "markdown",
   "metadata": {},
   "source": [
    "* 한국어에서 최소한의 의미를 지니는 품사정보를 이용해야 좋다.  \n",
    "* \"있는 - 영화\"는 유의미한 n-gram이 아니다.  \n",
    "* 첫 단어가 명사이거나, 조사/어미가 아닌 n-gram을 선택 할 수 있다.\n",
    "* \"재미 - 있는\"  \n",
    "  \n",
    "ex)    \n",
    "tokenize('라라랜드는 재미있는 영화입니다')  \n",
    "```라라랜드, 는, 재미, 있는, 영화, 입니다```"
   ]
  },
  {
   "cell_type": "markdown",
   "metadata": {},
   "source": [
    "---\n",
    "* 의미있는 N-gram을 추출하기 위해서 templates을 이용해도 좋다.\n",
    "  - (명사, 조사)/(명사, 명사)처럼 미리 정의한 templates에 품사가 매칭되는 n-grams을 추출 할 수 있다.  \n",
    "\n",
    "ex)  \n",
    "tokenize(\"라라랜드는 재미잇는 영화입니다\")  \n",
    "```라라랜드/명사, 는/조사, 재미/명사, 있는/형용사, 영화/명사, 입니다/형용사```"
   ]
  },
  {
   "cell_type": "markdown",
   "metadata": {},
   "source": [
    "---\n",
    "* 조사/어미를 skip하는 templates도 유용하다.\n",
    "  - (명사, [조사], 명사)를 이용하면 아래 두문장에서 모두 \"라라랜드 - 개봉\"을 추출할 수 있다.\n",
    "  \n",
    "ex)  \n",
    "tokenize('라라랜드가 개봉 했습니다.')  \n",
    "```**라라랜드/명사**, 가/조사, **개봉/명사**, 했습니다/동사```  \n",
    "  \n",
    "tokenize('진짜? 라라랜드 개봉 했어?')  \n",
    "```진짜/부사, ?/기호, **라라랜드/명사**, **개봉/명사**, 했어/동사, ?/기호```"
   ]
  },
  {
   "cell_type": "markdown",
   "metadata": {},
   "source": [
    "## N-Gram의 단점\n",
    "* 검색 노이즈가 크다\n",
    "* 데이터베이스 용량이 커진다"
   ]
  },
  {
   "cell_type": "code",
   "execution_count": 18,
   "metadata": {},
   "outputs": [],
   "source": [
    "from matplotlib import font_manager, rc\n",
    "\n",
    "font_name = font_manager.FontProperties(fname=\"c:/Windows/Fonts/malgun.ttf\").get_name()\n",
    "rc('font', family=font_name)"
   ]
  },
  {
   "cell_type": "code",
   "execution_count": 19,
   "metadata": {},
   "outputs": [],
   "source": [
    "from nltk import bigrams, word_tokenize\n",
    "from nltk.util import ngrams\n",
    "\n",
    "testset_1 = \"\"\"동해물과 백두산이 마르고 닳도록 \n",
    "하느님이 보우하사 우리나라 만세.  \n",
    "무궁화 삼천리 화려강산 \n",
    "대한 사람, 대한으로 길이 보전하세. \n",
    "\n",
    "남산[11] 위에 저 소나무, 철갑을 두른 듯  \n",
    "바람서리[12] 불변함은 우리 기상일세. \n",
    "무궁화 삼천리 화려강산 \n",
    "대한 사람, 대한으로 길이 보전하세. \n",
    "\n",
    "가을 하늘 공활한데 높고 구름 없이  \n",
    "밝은 달은 우리 가슴 일편단심일세. \n",
    "무궁화 삼천리 화려강산 \n",
    "대한 사람, 대한으로 길이 보전하세. \n",
    "\n",
    "이 기상과 이 맘으로 충성을 다하여 \n",
    "괴로우나 즐거우나 나라 사랑하세. \n",
    "무궁화 삼천리 화려강산 \n",
    "대한 사람, 대한으로 길이 보전하세. \"\"\"\n",
    "\n",
    "# hangul = re.compile('[^ \\u3131-\\u3163\\uac00-\\ud7a3]+')\n",
    "# result = hangul.sub(\"\", testset_1)\n",
    "\n",
    "song = tw.morphs(testset_1)\n",
    "\n",
    "bigram = bigrams(song)\n",
    "trigram = ngrams(song, 3)"
   ]
  },
  {
   "cell_type": "code",
   "execution_count": 20,
   "metadata": {},
   "outputs": [
    {
     "name": "stdout",
     "output_type": "stream",
     "text": [
      "('동해', '물')\n",
      "('물', '과')\n",
      "('과', '백두산')\n",
      "('백두산', '이')\n",
      "('이', '마르고')\n",
      "('마르고', '닳')\n",
      "('닳', '도록')\n",
      "('도록', '하느님')\n",
      "('하느님', '이')\n",
      "('이', '보우')\n",
      "('보우', '하사')\n",
      "('하사', '우리나라')\n",
      "('우리나라', '만세')\n",
      "('만세', '.')\n",
      "('.', '무궁화')\n",
      "('무궁화', '삼천리')\n",
      "('삼천리', '화려')\n",
      "('화려', '강산')\n",
      "('강산', '대한')\n",
      "('대한', '사람')\n",
      "('사람', ',')\n",
      "(',', '대한')\n",
      "('대한', '으로')\n",
      "('으로', '길이')\n",
      "('길이', '보전')\n",
      "('보전', '하세')\n",
      "('하세', '.')\n",
      "('.', '남산')\n",
      "('남산', '[')\n",
      "('[', '11')\n",
      "('11', ']')\n",
      "(']', '위')\n",
      "('위', '에')\n",
      "('에', '저')\n",
      "('저', '소나무')\n",
      "('소나무', ',')\n",
      "(',', '철갑')\n",
      "('철갑', '을')\n",
      "('을', '두른')\n",
      "('두른', '듯')\n",
      "('듯', '바람')\n",
      "('바람', '서리')\n",
      "('서리', '[')\n",
      "('[', '12')\n",
      "('12', ']')\n",
      "(']', '불변')\n",
      "('불변', '함')\n",
      "('함', '은')\n",
      "('은', '우리')\n",
      "('우리', '기상')\n",
      "('기상', '일')\n",
      "('일', '세')\n",
      "('세', '.')\n",
      "('.', '무궁화')\n",
      "('무궁화', '삼천리')\n",
      "('삼천리', '화려')\n",
      "('화려', '강산')\n",
      "('강산', '대한')\n",
      "('대한', '사람')\n",
      "('사람', ',')\n",
      "(',', '대한')\n",
      "('대한', '으로')\n",
      "('으로', '길이')\n",
      "('길이', '보전')\n",
      "('보전', '하세')\n",
      "('하세', '.')\n",
      "('.', '가을')\n",
      "('가을', '하늘')\n",
      "('하늘', '공활')\n",
      "('공활', '한')\n",
      "('한', '데')\n",
      "('데', '높고')\n",
      "('높고', '구름')\n",
      "('구름', '없이')\n",
      "('없이', '밝은')\n",
      "('밝은', '달')\n",
      "('달', '은')\n",
      "('은', '우리')\n",
      "('우리', '가슴')\n",
      "('가슴', '일편단심')\n",
      "('일편단심', '일')\n",
      "('일', '세')\n",
      "('세', '.')\n",
      "('.', '무궁화')\n",
      "('무궁화', '삼천리')\n",
      "('삼천리', '화려')\n",
      "('화려', '강산')\n",
      "('강산', '대한')\n",
      "('대한', '사람')\n",
      "('사람', ',')\n",
      "(',', '대한')\n",
      "('대한', '으로')\n",
      "('으로', '길이')\n",
      "('길이', '보전')\n",
      "('보전', '하세')\n",
      "('하세', '.')\n",
      "('.', '이')\n",
      "('이', '기상')\n",
      "('기상', '과')\n",
      "('과', '이')\n",
      "('이', '맘')\n",
      "('맘', '으로')\n",
      "('으로', '충성')\n",
      "('충성', '을')\n",
      "('을', '다하여')\n",
      "('다하여', '괴로')\n",
      "('괴로', '우')\n",
      "('우', '나')\n",
      "('나', '즐거')\n",
      "('즐거', '우')\n",
      "('우', '나')\n",
      "('나', '나라')\n",
      "('나라', '사랑하세')\n",
      "('사랑하세', '.')\n",
      "('.', '무궁화')\n",
      "('무궁화', '삼천리')\n",
      "('삼천리', '화려')\n",
      "('화려', '강산')\n",
      "('강산', '대한')\n",
      "('대한', '사람')\n",
      "('사람', ',')\n",
      "(',', '대한')\n",
      "('대한', '으로')\n",
      "('으로', '길이')\n",
      "('길이', '보전')\n",
      "('보전', '하세')\n",
      "('하세', '.')\n"
     ]
    }
   ],
   "source": [
    "for t in bigram:\n",
    "    print(t)"
   ]
  },
  {
   "cell_type": "code",
   "execution_count": 21,
   "metadata": {},
   "outputs": [
    {
     "name": "stdout",
     "output_type": "stream",
     "text": [
      "('동해', '물', '과')\n",
      "('물', '과', '백두산')\n",
      "('과', '백두산', '이')\n",
      "('백두산', '이', '마르고')\n",
      "('이', '마르고', '닳')\n",
      "('마르고', '닳', '도록')\n",
      "('닳', '도록', '하느님')\n",
      "('도록', '하느님', '이')\n",
      "('하느님', '이', '보우')\n",
      "('이', '보우', '하사')\n",
      "('보우', '하사', '우리나라')\n",
      "('하사', '우리나라', '만세')\n",
      "('우리나라', '만세', '.')\n",
      "('만세', '.', '무궁화')\n",
      "('.', '무궁화', '삼천리')\n",
      "('무궁화', '삼천리', '화려')\n",
      "('삼천리', '화려', '강산')\n",
      "('화려', '강산', '대한')\n",
      "('강산', '대한', '사람')\n",
      "('대한', '사람', ',')\n",
      "('사람', ',', '대한')\n",
      "(',', '대한', '으로')\n",
      "('대한', '으로', '길이')\n",
      "('으로', '길이', '보전')\n",
      "('길이', '보전', '하세')\n",
      "('보전', '하세', '.')\n",
      "('하세', '.', '남산')\n",
      "('.', '남산', '[')\n",
      "('남산', '[', '11')\n",
      "('[', '11', ']')\n",
      "('11', ']', '위')\n",
      "(']', '위', '에')\n",
      "('위', '에', '저')\n",
      "('에', '저', '소나무')\n",
      "('저', '소나무', ',')\n",
      "('소나무', ',', '철갑')\n",
      "(',', '철갑', '을')\n",
      "('철갑', '을', '두른')\n",
      "('을', '두른', '듯')\n",
      "('두른', '듯', '바람')\n",
      "('듯', '바람', '서리')\n",
      "('바람', '서리', '[')\n",
      "('서리', '[', '12')\n",
      "('[', '12', ']')\n",
      "('12', ']', '불변')\n",
      "(']', '불변', '함')\n",
      "('불변', '함', '은')\n",
      "('함', '은', '우리')\n",
      "('은', '우리', '기상')\n",
      "('우리', '기상', '일')\n",
      "('기상', '일', '세')\n",
      "('일', '세', '.')\n",
      "('세', '.', '무궁화')\n",
      "('.', '무궁화', '삼천리')\n",
      "('무궁화', '삼천리', '화려')\n",
      "('삼천리', '화려', '강산')\n",
      "('화려', '강산', '대한')\n",
      "('강산', '대한', '사람')\n",
      "('대한', '사람', ',')\n",
      "('사람', ',', '대한')\n",
      "(',', '대한', '으로')\n",
      "('대한', '으로', '길이')\n",
      "('으로', '길이', '보전')\n",
      "('길이', '보전', '하세')\n",
      "('보전', '하세', '.')\n",
      "('하세', '.', '가을')\n",
      "('.', '가을', '하늘')\n",
      "('가을', '하늘', '공활')\n",
      "('하늘', '공활', '한')\n",
      "('공활', '한', '데')\n",
      "('한', '데', '높고')\n",
      "('데', '높고', '구름')\n",
      "('높고', '구름', '없이')\n",
      "('구름', '없이', '밝은')\n",
      "('없이', '밝은', '달')\n",
      "('밝은', '달', '은')\n",
      "('달', '은', '우리')\n",
      "('은', '우리', '가슴')\n",
      "('우리', '가슴', '일편단심')\n",
      "('가슴', '일편단심', '일')\n",
      "('일편단심', '일', '세')\n",
      "('일', '세', '.')\n",
      "('세', '.', '무궁화')\n",
      "('.', '무궁화', '삼천리')\n",
      "('무궁화', '삼천리', '화려')\n",
      "('삼천리', '화려', '강산')\n",
      "('화려', '강산', '대한')\n",
      "('강산', '대한', '사람')\n",
      "('대한', '사람', ',')\n",
      "('사람', ',', '대한')\n",
      "(',', '대한', '으로')\n",
      "('대한', '으로', '길이')\n",
      "('으로', '길이', '보전')\n",
      "('길이', '보전', '하세')\n",
      "('보전', '하세', '.')\n",
      "('하세', '.', '이')\n",
      "('.', '이', '기상')\n",
      "('이', '기상', '과')\n",
      "('기상', '과', '이')\n",
      "('과', '이', '맘')\n",
      "('이', '맘', '으로')\n",
      "('맘', '으로', '충성')\n",
      "('으로', '충성', '을')\n",
      "('충성', '을', '다하여')\n",
      "('을', '다하여', '괴로')\n",
      "('다하여', '괴로', '우')\n",
      "('괴로', '우', '나')\n",
      "('우', '나', '즐거')\n",
      "('나', '즐거', '우')\n",
      "('즐거', '우', '나')\n",
      "('우', '나', '나라')\n",
      "('나', '나라', '사랑하세')\n",
      "('나라', '사랑하세', '.')\n",
      "('사랑하세', '.', '무궁화')\n",
      "('.', '무궁화', '삼천리')\n",
      "('무궁화', '삼천리', '화려')\n",
      "('삼천리', '화려', '강산')\n",
      "('화려', '강산', '대한')\n",
      "('강산', '대한', '사람')\n",
      "('대한', '사람', ',')\n",
      "('사람', ',', '대한')\n",
      "(',', '대한', '으로')\n",
      "('대한', '으로', '길이')\n",
      "('으로', '길이', '보전')\n",
      "('길이', '보전', '하세')\n",
      "('보전', '하세', '.')\n"
     ]
    }
   ],
   "source": [
    "for t in trigram:\n",
    "    print(t)"
   ]
  },
  {
   "cell_type": "code",
   "execution_count": 29,
   "metadata": {},
   "outputs": [],
   "source": [
    "from nltk import ConditionalFreqDist\n",
    "\n",
    "bigram = ngrams(song, 2, pad_left=True, pad_right=True, left_pad_symbol=\"SS\", right_pad_symbol=\"SE\")\n",
    "cfd = ConditionalFreqDist([(t[0], t[1]) for t in bigram])"
   ]
  },
  {
   "cell_type": "code",
   "execution_count": 30,
   "metadata": {},
   "outputs": [
    {
     "data": {
      "text/plain": [
       "['화려',\n",
       " '무궁화',\n",
       " '이',\n",
       " '길이',\n",
       " '12',\n",
       " '을',\n",
       " '즐거',\n",
       " ']',\n",
       " '저',\n",
       " '함',\n",
       " '만세',\n",
       " '맘',\n",
       " '우리나라',\n",
       " ',',\n",
       " '도록',\n",
       " '밝은',\n",
       " '과',\n",
       " '하세',\n",
       " '괴로',\n",
       " '우',\n",
       " '백두산',\n",
       " '높고',\n",
       " '물',\n",
       " '구름',\n",
       " '보우',\n",
       " '공활',\n",
       " '사랑하세',\n",
       " '에',\n",
       " '.',\n",
       " '동해',\n",
       " 'SS',\n",
       " '사람',\n",
       " '으로',\n",
       " '소나무',\n",
       " '가을',\n",
       " '서리',\n",
       " '두른',\n",
       " '바람',\n",
       " '하사',\n",
       " '11',\n",
       " '세',\n",
       " '우리',\n",
       " '가슴',\n",
       " '한',\n",
       " '듯',\n",
       " '일',\n",
       " '삼천리',\n",
       " '닳',\n",
       " '보전',\n",
       " '대한',\n",
       " '나',\n",
       " '다하여',\n",
       " '일편단심',\n",
       " '하느님',\n",
       " '위',\n",
       " '달',\n",
       " '강산',\n",
       " '데',\n",
       " '불변',\n",
       " '하늘',\n",
       " '철갑',\n",
       " '충성',\n",
       " '[',\n",
       " '없이',\n",
       " '마르고',\n",
       " '은',\n",
       " '나라',\n",
       " '기상',\n",
       " '남산']"
      ]
     },
     "execution_count": 30,
     "metadata": {},
     "output_type": "execute_result"
    }
   ],
   "source": [
    "cfd.conditions()"
   ]
  },
  {
   "cell_type": "markdown",
   "metadata": {},
   "source": [
    "다음은 nltk 패키지의 샘플 코퍼스인 movie_reviews의 텍스트로부터 바이그램 확률을 추정하는 예제이다."
   ]
  },
  {
   "cell_type": "code",
   "execution_count": 66,
   "metadata": {},
   "outputs": [],
   "source": [
    "# import nltk\n",
    "# # nltk.download('movie_reviews')\n",
    "# # nltk.download('punkt')\n",
    "# # from nltk.corpus import movie_reviews\n",
    "\n",
    "# sentences = []\n",
    "# for tokens in movie_reviews.sents():\n",
    "#     bigram = ngrams(song, 2, pad_left=True, pad_right=True, left_pad_symbol=\"SS\", right_pad_symbol=\"SE\")\n",
    "#     sentences += [t for t in bigram]\n",
    "\n",
    "# sentences[:20]"
   ]
  },
  {
   "cell_type": "markdown",
   "metadata": {},
   "source": [
    "문장의 처음(SS 문맥), i라는 단어 다음, 마침표 다음에 나오는 단어의 빈도는 다음과 같다."
   ]
  },
  {
   "cell_type": "code",
   "execution_count": 26,
   "metadata": {},
   "outputs": [],
   "source": [
    "cfd = ConditionalFreqDist(sentences)"
   ]
  },
  {
   "cell_type": "markdown",
   "metadata": {},
   "source": [
    "우리나라 다음에 올 수 있는 단어들"
   ]
  },
  {
   "cell_type": "code",
   "execution_count": 31,
   "metadata": {},
   "outputs": [
    {
     "data": {
      "text/plain": [
       "[('맘', 1), ('기상', 1), ('보우', 1), ('마르고', 1)]"
      ]
     },
     "execution_count": 31,
     "metadata": {},
     "output_type": "execute_result"
    }
   ],
   "source": [
    "cfd[\"이\"].most_common(5)"
   ]
  },
  {
   "cell_type": "markdown",
   "metadata": {},
   "source": [
    "사람 다음에 올 수 있는 단어들"
   ]
  },
  {
   "cell_type": "code",
   "execution_count": 32,
   "metadata": {},
   "outputs": [
    {
     "data": {
      "text/plain": [
       "[('무궁화', 4), ('이', 1), ('SE', 1), ('가을', 1), ('남산', 1)]"
      ]
     },
     "execution_count": 32,
     "metadata": {},
     "output_type": "execute_result"
    }
   ],
   "source": [
    "cfd[\".\"].most_common(5)"
   ]
  },
  {
   "cell_type": "code",
   "execution_count": 65,
   "metadata": {},
   "outputs": [
    {
     "data": {
      "image/png": "[encoded data removed]",
      "text/plain": [
       "<Figure size 432x288 with 1 Axes>"
      ]
     },
     "metadata": {},
     "output_type": "display_data"
    },
    {
     "data": {
      "image/png": "[encoded data removed]",
      "text/plain": [
       "<Figure size 432x288 with 1 Axes>"
      ]
     },
     "metadata": {},
     "output_type": "display_data"
    },
    {
     "data": {
      "image/png": "[encoded data removed]",
      "text/plain": [
       "<Figure size 432x288 with 1 Axes>"
      ]
     },
     "metadata": {},
     "output_type": "display_data"
    }
   ],
   "source": [
    "import matplotlib.pyplot as plt\n",
    "plt.subplot(311)\n",
    "cfd[\"SS\"].plot(5, title=\"문장의 첫단어 분포\")\n",
    "plt.subplot(312)\n",
    "cfd[\",\"].plot(5, title=\", 다음 단어의 분포\")\n",
    "plt.subplot(313)\n",
    "cfd[\".\"].plot(5, title=\". 다음 단어의 분포\")"
   ]
  },
  {
   "cell_type": "code",
   "execution_count": 36,
   "metadata": {},
   "outputs": [],
   "source": [
    "from nltk.probability import ConditionalProbDist, MLEProbDist\n",
    "cpd = ConditionalProbDist(cfd, MLEProbDist)"
   ]
  },
  {
   "cell_type": "markdown",
   "metadata": {},
   "source": [
    "빈도를 추정하면 각각의 조건부 확률은 기본적으로 다음과 같이 추정할 수 있다.\n",
    "$$\n",
    "P(w|wc)=\\frac{C((wc,w))}{C((wc))}\n",
    "$$ \n",
    "위 식에서  $C(w_c,w)$ 은 전체 말뭉치에서  $(w_c,w)$ 라는 바이그램이 나타나는 횟수이고  $C(w_c)$ 은 전체 말뭉치에서  $(w_c)$ 라는 유니그램(단어)이 나타나는 횟수이다.\n",
    "\n",
    "NLTK의 ConditionalProbDist 클래스에 MLEProbDist 클래스 팩토리를 인수로 넣어 위와 같이 빈도를 추정할 수 있다."
   ]
  },
  {
   "cell_type": "code",
   "execution_count": 37,
   "metadata": {},
   "outputs": [],
   "source": [
    "from nltk.probability import ConditionalProbDist, MLEProbDist\n",
    "cpd = ConditionalProbDist(cfd, MLEProbDist)"
   ]
  },
  {
   "cell_type": "markdown",
   "metadata": {},
   "source": [
    "트레이닝이 끝나면 조건부 확률의 값을 보거나 샘플 문장을 입력해서 문장의 로그 확률을 구할 수 있다."
   ]
  },
  {
   "cell_type": "code",
   "execution_count": 38,
   "metadata": {},
   "outputs": [
    {
     "data": {
      "text/plain": [
       "0.0"
      ]
     },
     "execution_count": 38,
     "metadata": {},
     "output_type": "execute_result"
    }
   ],
   "source": [
    "cpd[\".\"].prob(\"동\")"
   ]
  },
  {
   "cell_type": "code",
   "execution_count": 39,
   "metadata": {},
   "outputs": [
    {
     "data": {
      "text/plain": [
       "0.5"
      ]
     },
     "execution_count": 39,
     "metadata": {},
     "output_type": "execute_result"
    }
   ],
   "source": [
    "cpd[\".\"].prob(\"무궁화\")"
   ]
  },
  {
   "cell_type": "code",
   "execution_count": 40,
   "metadata": {},
   "outputs": [
    {
     "data": {
      "text/plain": [
       "0.125"
      ]
     },
     "execution_count": 40,
     "metadata": {},
     "output_type": "execute_result"
    }
   ],
   "source": [
    "cpd[\".\"].prob(\"가을\")"
   ]
  },
  {
   "cell_type": "markdown",
   "metadata": {},
   "source": [
    "## 바이그램 언어 모형 \n",
    "조건부 확률을 알게 되면 각 문장의 확률을 구할 수 있다.\n",
    "\n",
    "다음으로 이 토큰열을 N-그램형태로 분해한다. 바이그램 모형에서는 전체 문장의 확률은 다음과 같이 조건부 확률의 곱으로 나타난다.\n",
    "\n",
    "P(SS I am a boy SE)=P(I|SS)⋅P(am|I)⋅P(a|am)⋅P(boy|a)⋅P(.|boy)⋅P(SE|.)\n",
    " \n",
    "우선 다음과 같이 문장(단어 리스트)의 리스트를 만든다."
   ]
  },
  {
   "cell_type": "code",
   "execution_count": 41,
   "metadata": {},
   "outputs": [],
   "source": [
    "import numpy as np\n",
    "\n",
    "def sentence_score(s):\n",
    "    p = 0.0\n",
    "    for i in range(len(s) - 1):\n",
    "        c = s[i]\n",
    "        w = s[i + 1]\n",
    "        p += np.log(cpd[c].prob(w) + np.finfo(float).eps)\n",
    "    return np.exp(p)"
   ]
  },
  {
   "cell_type": "code",
   "execution_count": 42,
   "metadata": {},
   "outputs": [
    {
     "data": {
      "text/plain": [
       "2.4308653429145333e-63"
      ]
     },
     "execution_count": 42,
     "metadata": {},
     "output_type": "execute_result"
    }
   ],
   "source": [
    "test_sentence = [\"i\", \"like\", \"the\", \"movie\", \".\"]\n",
    "sentence_score(test_sentence)"
   ]
  },
  {
   "cell_type": "code",
   "execution_count": 43,
   "metadata": {},
   "outputs": [
    {
     "data": {
      "text/plain": [
       "2.4308653429145333e-63"
      ]
     },
     "execution_count": 43,
     "metadata": {},
     "output_type": "execute_result"
    }
   ],
   "source": [
    "test_sentence = [\"like\", \"i\", \"the\", \".\", \"movie\"]\n",
    "sentence_score(test_sentence)"
   ]
  },
  {
   "cell_type": "markdown",
   "metadata": {},
   "source": [
    "이 모형을 기반으로 임의의 랜덤한 문장을 생성할 수 있다."
   ]
  },
  {
   "cell_type": "code",
   "execution_count": 48,
   "metadata": {},
   "outputs": [],
   "source": [
    "# def generate_sentence(seed=None):\n",
    "#     if seed is not None:\n",
    "#         import random\n",
    "#         random.seed(seed)\n",
    "#     c = \"SS\"\n",
    "#     sentence = []\n",
    "#     while True:\n",
    "#         if c not in cpd:\n",
    "#             break\n",
    "#         w = cpd[c].generate()\n",
    "\n",
    "#         if w == \"SE\":\n",
    "#             break\n",
    "#         elif w in [\"i\", \"ii\", \"iii\"]:\n",
    "#             w2 = w.upper()\n",
    "#         elif w in [\"mr\", \"luc\", \"i\", \"robin\", \"williams\", \"cindy\", \"crawford\"]:\n",
    "#             w2 = w.title()\n",
    "#         else:\n",
    "#             w2 = w\n",
    "\n",
    "#         if c == \"SS\":\n",
    "#             sentence.append(w2.title())\n",
    "#         elif c in [\"`\", \"\\\"\", \"'\", \"(\"]:\n",
    "#             sentence.append(w2)\n",
    "#         elif w in [\"'\", \".\", \",\", \")\", \":\", \";\", \"?\"]:\n",
    "#             sentence.append(w2)\n",
    "#         else:\n",
    "#             sentence.append(\" \" + w2)\n",
    "\n",
    "#         c = w\n",
    "#     return \"\".join(sentence)"
   ]
  },
  {
   "cell_type": "code",
   "execution_count": 49,
   "metadata": {},
   "outputs": [
    {
     "data": {
      "text/plain": [
       "150000"
      ]
     },
     "execution_count": 49,
     "metadata": {},
     "output_type": "execute_result"
    }
   ],
   "source": [
    "with open('ratings_train.txt', 'r', encoding='utf-8') as f:\n",
    "    data = [line.split('\\t') for line in f.read().splitlines()]\n",
    "    data = data[1:]   # header 제외\n",
    "len(data)"
   ]
  },
  {
   "cell_type": "code",
   "execution_count": 50,
   "metadata": {},
   "outputs": [
    {
     "data": {
      "text/plain": [
       "150000"
      ]
     },
     "execution_count": 50,
     "metadata": {},
     "output_type": "execute_result"
    }
   ],
   "source": [
    "reviews = [i[1] for i in data] # 댓글만 뽑는다.\n",
    "len(reviews)"
   ]
  },
  {
   "cell_type": "code",
   "execution_count": 51,
   "metadata": {},
   "outputs": [],
   "source": [
    "from konlpy.tag import Twitter; tw = Twitter()\n",
    "# review = tw.morphs(movie_review)"
   ]
  },
  {
   "cell_type": "code",
   "execution_count": 52,
   "metadata": {},
   "outputs": [],
   "source": [
    "def tokenize(doc):\n",
    "    tokens = ['/'.join(t) for t in tw.pos(doc)]\n",
    "    return tokens"
   ]
  },
  {
   "cell_type": "code",
   "execution_count": 53,
   "metadata": {},
   "outputs": [],
   "source": [
    "from tqdm import tqdm\n",
    "import nltk\n",
    "from nltk import bigrams, word_tokenize\n",
    "from nltk.util import ngrams"
   ]
  },
  {
   "cell_type": "code",
   "execution_count": 55,
   "metadata": {},
   "outputs": [
    {
     "name": "stderr",
     "output_type": "stream",
     "text": [
      "100%|██████████| 150000/150000 [02:39<00:00, 942.25it/s]\n"
     ]
    }
   ],
   "source": [
    "sentences = []\n",
    "for d in tqdm(reviews):\n",
    "    tokens = tokenize(d)\n",
    "    bigram = ngrams(tokens, 2, pad_left=True, pad_right=True, left_pad_symbol=\"SS\", right_pad_symbol=\"SE\")\n",
    "    sentences += [t for t in bigram]"
   ]
  },
  {
   "cell_type": "code",
   "execution_count": 56,
   "metadata": {},
   "outputs": [
    {
     "data": {
      "text/plain": [
       "[('SS', '아/Exclamation'),\n",
       " ('아/Exclamation', '더빙/Noun'),\n",
       " ('더빙/Noun', '../Punctuation'),\n",
       " ('../Punctuation', '진짜/Noun'),\n",
       " ('진짜/Noun', '짜증/Noun'),\n",
       " ('짜증/Noun', '나네/Verb'),\n",
       " ('나네/Verb', '요/Eomi'),\n",
       " ('요/Eomi', '목소리/Noun'),\n",
       " ('목소리/Noun', 'SE'),\n",
       " ('SS', '흠/Noun'),\n",
       " ('흠/Noun', '.../Punctuation'),\n",
       " ('.../Punctuation', '포스터/Noun'),\n",
       " ('포스터/Noun', '보고/Noun'),\n",
       " ('보고/Noun', '초딩/Noun'),\n",
       " ('초딩/Noun', '영화/Noun'),\n",
       " ('영화/Noun', '줄/Noun'),\n",
       " ('줄/Noun', '..../Punctuation'),\n",
       " ('..../Punctuation', '오버/Noun'),\n",
       " ('오버/Noun', '연기/Noun'),\n",
       " ('연기/Noun', '조차/Josa'),\n",
       " ('조차/Josa', '가볍/Adjective'),\n",
       " ('가볍/Adjective', '지/Eomi'),\n",
       " ('지/Eomi', '않구/Verb'),\n",
       " ('않구/Verb', '나/Eomi'),\n",
       " ('나/Eomi', 'SE'),\n",
       " ('SS', '너무/Noun'),\n",
       " ('너무/Noun', '재/Noun'),\n",
       " ('재/Noun', '밓었/Noun'),\n",
       " ('밓었/Noun', '다/Josa'),\n",
       " ('다/Josa', '그래서/Adverb')]"
      ]
     },
     "execution_count": 56,
     "metadata": {},
     "output_type": "execute_result"
    }
   ],
   "source": [
    "sentences[:30]"
   ]
  },
  {
   "cell_type": "code",
   "execution_count": 57,
   "metadata": {},
   "outputs": [],
   "source": [
    "cfd = ConditionalFreqDist(sentences)\n",
    "cpd = ConditionalProbDist(cfd, MLEProbDist)"
   ]
  },
  {
   "cell_type": "code",
   "execution_count": 58,
   "metadata": {},
   "outputs": [],
   "source": [
    "def korean_most_common(c, n, pos=None):\n",
    "    if pos is None:\n",
    "        return cfd[tokenize(c)[0]].most_common(n)\n",
    "    else:\n",
    "        return cfd[\"/\".join([c, pos])].most_common(n)"
   ]
  },
  {
   "cell_type": "code",
   "execution_count": 59,
   "metadata": {},
   "outputs": [
    {
     "data": {
      "text/plain": [
       "[('는/Josa', 1006),\n",
       " ('의/Josa', 338),\n",
       " ('만/Josa', 213),\n",
       " ('에게/Josa', 148),\n",
       " ('에겐/Josa', 84),\n",
       " ('랑/Josa', 81),\n",
       " ('한테/Josa', 50),\n",
       " ('이/Determiner', 44),\n",
       " ('참/Verb', 44),\n",
       " ('와도/Josa', 42)]"
      ]
     },
     "execution_count": 59,
     "metadata": {},
     "output_type": "execute_result"
    }
   ],
   "source": [
    "korean_most_common(\"나\", 10)"
   ]
  },
  {
   "cell_type": "code",
   "execution_count": 60,
   "metadata": {},
   "outputs": [
    {
     "data": {
      "text/plain": [
       "[('영화/Noun', 19),\n",
       " ('연기/Noun', 17),\n",
       " ('구심/Noun', 12),\n",
       " ('모습/Noun', 9),\n",
       " ('감독/Noun', 8),\n",
       " ('그/Noun', 7),\n",
       " ('감동/Noun', 7),\n",
       " ('흐름/Noun', 6),\n",
       " ('매력/Noun', 6),\n",
       " ('이야기/Noun', 6)]"
      ]
     },
     "execution_count": 60,
     "metadata": {},
     "output_type": "execute_result"
    }
   ],
   "source": [
    "korean_most_common(\"의\", 10)"
   ]
  },
  {
   "cell_type": "code",
   "execution_count": 61,
   "metadata": {},
   "outputs": [],
   "source": [
    "def korean_bigram_prob(c, w):\n",
    "    context = tokenize(c)[0]\n",
    "    word = tokenize(w)[0]\n",
    "    return cpd[context].prob(word)"
   ]
  },
  {
   "cell_type": "code",
   "execution_count": 62,
   "metadata": {},
   "outputs": [
    {
     "data": {
      "text/plain": [
       "0.379334665569531"
      ]
     },
     "execution_count": 62,
     "metadata": {},
     "output_type": "execute_result"
    }
   ],
   "source": [
    "korean_bigram_prob(\"이\", \"영화\")"
   ]
  },
  {
   "cell_type": "code",
   "execution_count": 63,
   "metadata": {},
   "outputs": [
    {
     "data": {
      "text/plain": [
       "0.00023398654577361802"
      ]
     },
     "execution_count": 63,
     "metadata": {},
     "output_type": "execute_result"
    }
   ],
   "source": [
    "korean_bigram_prob(\"영화\", \"이\")"
   ]
  },
  {
   "cell_type": "code",
   "execution_count": 64,
   "metadata": {},
   "outputs": [],
   "source": [
    "def korean_generate_sentence(seed=None, debug=False):\n",
    "    if seed is not None:\n",
    "        import random\n",
    "        random.seed(seed)\n",
    "    c = \"SS\"\n",
    "    sentence = []\n",
    "    while True:\n",
    "        if c not in cpd:\n",
    "            break\n",
    "            \n",
    "        w = cpd[c].generate()\n",
    "\n",
    "        if w == \"SE\":\n",
    "            break\n",
    "\n",
    "        w2 = w.split(\"/\")[0]\n",
    "        pos = w.split(\"/\")[1]\n",
    "\n",
    "        if c == \"SS\":\n",
    "            sentence.append(w2.title())\n",
    "        elif c in [\"`\", \"\\\"\", \"'\", \"(\"]:\n",
    "            sentence.append(w2)\n",
    "        elif w2 in [\"'\", \".\", \",\", \")\", \":\", \";\", \"?\"]:\n",
    "            sentence.append(w2)\n",
    "        elif pos in [\"Josa\", \"Punctuation\", \"Suffix\"]:\n",
    "            sentence.append(w2)\n",
    "        elif w in [\"임/Noun\", \"것/Noun\", \"는걸/Noun\", \"릴때/Noun\",\n",
    "                   \"되다/Verb\", \"이다/Verb\", \"하다/Verb\", \"이다/Adjective\"]:\n",
    "            sentence.append(w2)\n",
    "        else:\n",
    "            sentence.append(\" \" + w2)\n",
    "        c = w\n",
    "\n",
    "        if debug:\n",
    "            print(w)\n",
    "\n",
    "    return \"\".join(sentence)"
   ]
  },
  {
   "cell_type": "markdown",
   "metadata": {},
   "source": [
    "모형을 기반으로 임의의 랜덤한 문장을 생성할 수 있다."
   ]
  },
  {
   "cell_type": "code",
   "execution_count": 67,
   "metadata": {},
   "outputs": [
    {
     "data": {
      "text/plain": [
       "'리미라는 사회적한 결말이 너무 준영화 ㅎㅎ'"
      ]
     },
     "execution_count": 67,
     "metadata": {},
     "output_type": "execute_result"
    }
   ],
   "source": [
    "korean_generate_sentence(0)"
   ]
  },
  {
   "cell_type": "code",
   "execution_count": 68,
   "metadata": {},
   "outputs": [
    {
     "data": {
      "text/plain": [
       "'굳 굳 굳~ 이 딴 놈들은 별로다.'"
      ]
     },
     "execution_count": 68,
     "metadata": {},
     "output_type": "execute_result"
    }
   ],
   "source": [
    "korean_generate_sentence(1)"
   ]
  },
  {
   "cell_type": "code",
   "execution_count": 69,
   "metadata": {},
   "outputs": [
    {
     "data": {
      "text/plain": [
       "'딴 엔... 지루했 으나 많이 되셨네요,^-^'"
      ]
     },
     "execution_count": 69,
     "metadata": {},
     "output_type": "execute_result"
    }
   ],
   "source": [
    "korean_generate_sentence(2)"
   ]
  },
  {
   "cell_type": "code",
   "execution_count": 70,
   "metadata": {},
   "outputs": [
    {
     "data": {
      "text/plain": [
       "'ㅋ'"
      ]
     },
     "execution_count": 70,
     "metadata": {},
     "output_type": "execute_result"
    }
   ],
   "source": [
    "korean_generate_sentence(3)"
   ]
  },
  {
   "cell_type": "code",
   "execution_count": 71,
   "metadata": {},
   "outputs": [
    {
     "data": {
      "text/plain": [
       "'미국의 답답한 마음이 작에 남는 건 여주 인공은 왜일케 낮지?'"
      ]
     },
     "execution_count": 71,
     "metadata": {},
     "output_type": "execute_result"
    }
   ],
   "source": [
    "korean_generate_sentence(5)"
   ]
  }
 ],
 "metadata": {
  "kernelspec": {
   "display_name": "text3.5",
   "language": "python",
   "name": "text3.5"
  },
  "language_info": {
   "codemirror_mode": {
    "name": "ipython",
    "version": 3
   },
   "file_extension": ".py",
   "mimetype": "text/x-python",
   "name": "python",
   "nbconvert_exporter": "python",
   "pygments_lexer": "ipython3",
   "version": "3.5.5"
  }
 },
 "nbformat": 4,
 "nbformat_minor": 2
}
