{
 "cells": [
  {
   "cell_type": "markdown",
   "metadata": {},
   "source": [
    "https://github.com/lovit/textmining-tutorial/blob/master/topics/topic1_from_text_to_vector/ngram.pdf\n",
    "    \n",
    "https://mrseo.co.kr/n-gram-%EC%9D%B8%EB%8D%B1%EC%8A%A4-%EB%B0%A9%EC%8B%9D/  \n",
    "하기 내용은 상기 내용을 요약한것"
   ]
  },
  {
   "cell_type": "markdown",
   "metadata": {},
   "source": [
    "## Unigram"
   ]
  },
  {
   "cell_type": "markdown",
   "metadata": {},
   "source": [
    "* 독립된 하나의 단어를 unigram이라한다."
   ]
  },
  {
   "cell_type": "markdown",
   "metadata": {},
   "source": [
    "## Bigram  \n",
    "* unigram + unigram\n",
    "* 두개의 단어 조합을 하나의 단어로 취급한다.\n",
    "* 단어의 연결은 '-'로 표기한다.\n",
    "* bigram은 문맥의 표현력이 좋다.\n",
    " - '재미'라는 단어 만으로는 이 문장의 긍/부정을 알기 어렵다.  \n",
    " - '있는'만으로는 어떤 의미인지 알기 어렵다.\n",
    " - '재미-있는'은 긍정적인 문맥을 표현한다.  \n",
    "  \n",
    "* document classification은 bigram + linear model이면 충분하다.  \n",
    " - 많은 연구들에서도 sentiment/category classification에서는 bigram features이면 logistic regression과 같은 모델이어도 분류가 잘된다 알려졌다.\n",
    " - unigram 보다는 bigram을 이용하것이 큰 도움이 된다.  \n",
    "   \n",
    "## N-Gram \n",
    "* n-gram은 새 개 이상의 단어 조합을 하나의 단어로 취급한다. \n",
    "* 추출 방법은 다양하고 가장 좋은 방법은 아직 없다. 하지만 계산 과정에서 많은 메모리가 필요할 수 있다. \n",
    "* 가장 간단한 방법은 모든 n-gram에 대하여 빈도수를 계산하는 것이다.  \n",
    "* 'Josa + Verb + Noun'과 같은 형태의 n-gram이 추출 될수도 있다.  "
   ]
  },
  {
   "cell_type": "markdown",
   "metadata": {},
   "source": [
    "```python\n",
    "[(('열린/Verb', '영화/Noun'), 476), \n",
    " (('에서/Noun', '열린/Verb', '영화/Noun'),288),\n",
    " (('코미디/Noun','영화/Noun'),204),\n",
    " (('국제/Noun', '영화제/Noun'), 200),\n",
    " (('에서/Josa','열린/Verb','영화/Noun'), 185)]\n",
    "```\n",
    " \n",
    " <마지막 단어가 '영화'인 bi/trigram>\n",
    " "
   ]
  },
  {
   "cell_type": "markdown",
   "metadata": {},
   "source": [
    "```python\n",
    "[(('재/Noun', '배포/Noun', '금지/Noun'), 20436),\n",
    " (('및/Noun', '열린/Verb', '영화/Noun'), 14687),\n",
    " (('전재/Noun', '및/Noun', '재/Noun'), 14340),\n",
    " (('무단/Noun', '전재/Noun', '및/Noun'), 14340),\n",
    " (('무단/Noun', '전재/Noun', '재/Noun'), 5178)\n",
    "```\n",
    "\n",
    "<뉴스기사의 빈도수 상위 5개의 trigram>"
   ]
  },
  {
   "cell_type": "markdown",
   "metadata": {},
   "source": [
    "## Bigram 점수\n",
    "by Point Mutual Information (PMI) - like\n",
    "* Mikolov의 PMI"
   ]
  },
  {
   "cell_type": "markdown",
   "metadata": {},
   "source": [
    "$$\n",
    "score(w_i, w_j) = \\frac{count(w_i, w_j)-\\delta}{count(w_i) \\times count(w_j)}\n",
    "$$"
   ]
  },
  {
   "cell_type": "markdown",
   "metadata": {},
   "source": [
    "## N-Gram 점수\n",
    "Extending Point Mutual Information(PMI)\n",
    "* PMI는 2개의 items에 대해 정의되어 있다.\n",
    "* n 개의 items에 대한 확장방법은 다양하며, 절대적인 정답은 없다.\n",
    "* bigram이 더 정확한 문맥을 나타내므로, 이를 이용하여 PMI를 확장한다.  "
   ]
  },
  {
   "cell_type": "markdown",
   "metadata": {},
   "source": [
    "$$score(w_i, w_j, w_k) = \\frac{count(w_i, w_j, w_k)-\\delta}{count(w_i, w_j) \\times count(w_j, w_k)}$$"
   ]
  },
  {
   "cell_type": "markdown",
   "metadata": {},
   "source": [
    "## N-gram 사용범위"
   ]
  },
  {
   "cell_type": "markdown",
   "metadata": {},
   "source": [
    "* 한국어에서 최소한의 의미를 지니는 품사정보를 이용해야 좋다.  \n",
    "* \"있는 - 영화\"는 유의미한 n-gram이 아니다.  \n",
    "* 첫 단어가 명사이거나, 조사/어미가 아닌 n-gram을 선택 할 수 있다.\n",
    "* \"재미 - 있는\"  \n",
    "  \n",
    "ex)    \n",
    "tokenize('라라랜드는 재미있는 영화입니다')  \n",
    "```라라랜드, 는, 재미, 있는, 영화, 입니다```"
   ]
  },
  {
   "cell_type": "markdown",
   "metadata": {},
   "source": [
    "---\n",
    "* 의미있는 N-gram을 추출하기 위해서 templates을 이용해도 좋다.\n",
    "  - (명사, 조사)/(명사, 명사)처럼 미리 정의한 templates에 품사가 매칭되는 n-grams을 추출 할 수 있다.  \n",
    "\n",
    "ex)  \n",
    "tokenize(\"라라랜드는 재미잇는 영화입니다\")  \n",
    "```라라랜드/명사, 는/조사, 재미/명사, 있는/형용사, 영화/명사, 입니다/형용사```"
   ]
  },
  {
   "cell_type": "markdown",
   "metadata": {},
   "source": [
    "---\n",
    "* 조사/어미를 skip하는 templates도 유용하다.\n",
    "  - (명사, [조사], 명사)를 이용하면 아래 두문장에서 모두 \"라라랜드 - 개봉\"을 추출할 수 있다.\n",
    "  \n",
    "ex)  \n",
    "tokenize('라라랜드가 개봉 했습니다.')  \n",
    "```**라라랜드/명사**, 가/조사, **개봉/명사**, 했습니다/동사```  \n",
    "  \n",
    "tokenize('진짜? 라라랜드 개봉 했어?')  \n",
    "```진짜/부사, ?/기호, **라라랜드/명사**, **개봉/명사**, 했어/동사, ?/기호```"
   ]
  },
  {
   "cell_type": "markdown",
   "metadata": {},
   "source": [
    "## N-Gram의 단점\n",
    "* 검색 노이즈가 크다\n",
    "* 데이터베이스 용량이 커진다"
   ]
  }
 ],
 "metadata": {
  "kernelspec": {
   "display_name": "Python [conda env:text3.5]",
   "language": "python",
   "name": "conda-env-text3.5-py"
  },
  "language_info": {
   "codemirror_mode": {
    "name": "ipython",
    "version": 3
   },
   "file_extension": ".py",
   "mimetype": "text/x-python",
   "name": "python",
   "nbconvert_exporter": "python",
   "pygments_lexer": "ipython3",
   "version": "3.5.5"
  }
 },
 "nbformat": 4,
 "nbformat_minor": 2
}
